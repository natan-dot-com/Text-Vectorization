{
 "cells": [
  {
   "cell_type": "code",
   "execution_count": 18,
   "metadata": {},
   "outputs": [],
   "source": [
    "import pandas as pd\n",
    "import numpy as np\n",
    "import matplotlib.pyplot as plt\n",
    "import seaborn as sns"
   ]
  },
  {
   "cell_type": "code",
   "execution_count": 8,
   "metadata": {},
   "outputs": [
    {
     "data": {
      "text/html": [
       "<div>\n",
       "<style scoped>\n",
       "    .dataframe tbody tr th:only-of-type {\n",
       "        vertical-align: middle;\n",
       "    }\n",
       "\n",
       "    .dataframe tbody tr th {\n",
       "        vertical-align: top;\n",
       "    }\n",
       "\n",
       "    .dataframe thead th {\n",
       "        text-align: right;\n",
       "    }\n",
       "</style>\n",
       "<table border=\"1\" class=\"dataframe\">\n",
       "  <thead>\n",
       "    <tr style=\"text-align: right;\">\n",
       "      <th></th>\n",
       "      <th>date_posted</th>\n",
       "      <th>funny</th>\n",
       "      <th>helpful</th>\n",
       "      <th>hour_played</th>\n",
       "      <th>is_early_access_review</th>\n",
       "      <th>recommendation</th>\n",
       "      <th>review</th>\n",
       "      <th>title</th>\n",
       "    </tr>\n",
       "  </thead>\n",
       "  <tbody>\n",
       "    <tr>\n",
       "      <th>0</th>\n",
       "      <td>2019-02-10</td>\n",
       "      <td>2</td>\n",
       "      <td>4</td>\n",
       "      <td>578</td>\n",
       "      <td>False</td>\n",
       "      <td>Recommended</td>\n",
       "      <td>&amp;gt Played as German Reich&amp;gt Declare war on B...</td>\n",
       "      <td>Expansion - Hearts of Iron IV: Man the Guns</td>\n",
       "    </tr>\n",
       "    <tr>\n",
       "      <th>1</th>\n",
       "      <td>2019-02-10</td>\n",
       "      <td>0</td>\n",
       "      <td>0</td>\n",
       "      <td>184</td>\n",
       "      <td>False</td>\n",
       "      <td>Recommended</td>\n",
       "      <td>yes.</td>\n",
       "      <td>Expansion - Hearts of Iron IV: Man the Guns</td>\n",
       "    </tr>\n",
       "    <tr>\n",
       "      <th>2</th>\n",
       "      <td>2019-02-07</td>\n",
       "      <td>0</td>\n",
       "      <td>0</td>\n",
       "      <td>892</td>\n",
       "      <td>False</td>\n",
       "      <td>Recommended</td>\n",
       "      <td>Very good game although a bit overpriced in my...</td>\n",
       "      <td>Expansion - Hearts of Iron IV: Man the Guns</td>\n",
       "    </tr>\n",
       "    <tr>\n",
       "      <th>3</th>\n",
       "      <td>2018-06-14</td>\n",
       "      <td>126</td>\n",
       "      <td>1086</td>\n",
       "      <td>676</td>\n",
       "      <td>False</td>\n",
       "      <td>Recommended</td>\n",
       "      <td>Out of all the reviews I wrote This one is pro...</td>\n",
       "      <td>Dead by Daylight</td>\n",
       "    </tr>\n",
       "    <tr>\n",
       "      <th>4</th>\n",
       "      <td>2017-06-20</td>\n",
       "      <td>85</td>\n",
       "      <td>2139</td>\n",
       "      <td>612</td>\n",
       "      <td>False</td>\n",
       "      <td>Recommended</td>\n",
       "      <td>Disclaimer I survivor main. I play games for f...</td>\n",
       "      <td>Dead by Daylight</td>\n",
       "    </tr>\n",
       "    <tr>\n",
       "      <th>5</th>\n",
       "      <td>2016-12-12</td>\n",
       "      <td>4</td>\n",
       "      <td>55</td>\n",
       "      <td>2694</td>\n",
       "      <td>False</td>\n",
       "      <td>Recommended</td>\n",
       "      <td>ENGLISH After playing for more than two years ...</td>\n",
       "      <td>Dead by Daylight</td>\n",
       "    </tr>\n",
       "    <tr>\n",
       "      <th>6</th>\n",
       "      <td>2017-09-17</td>\n",
       "      <td>12</td>\n",
       "      <td>228</td>\n",
       "      <td>48</td>\n",
       "      <td>False</td>\n",
       "      <td>Recommended</td>\n",
       "      <td>Out of all the reviews I wrote This one is pro...</td>\n",
       "      <td>Dead by Daylight</td>\n",
       "    </tr>\n",
       "    <tr>\n",
       "      <th>7</th>\n",
       "      <td>2018-12-24</td>\n",
       "      <td>295</td>\n",
       "      <td>219</td>\n",
       "      <td>71</td>\n",
       "      <td>False</td>\n",
       "      <td>Recommended</td>\n",
       "      <td>I have never been told to kill myself more tha...</td>\n",
       "      <td>Dead by Daylight</td>\n",
       "    </tr>\n",
       "    <tr>\n",
       "      <th>8</th>\n",
       "      <td>2018-09-21</td>\n",
       "      <td>2</td>\n",
       "      <td>54</td>\n",
       "      <td>400</td>\n",
       "      <td>False</td>\n",
       "      <td>Recommended</td>\n",
       "      <td>Any longtime Dead by Daylight player knows tha...</td>\n",
       "      <td>Dead by Daylight</td>\n",
       "    </tr>\n",
       "    <tr>\n",
       "      <th>9</th>\n",
       "      <td>2018-12-05</td>\n",
       "      <td>380</td>\n",
       "      <td>271</td>\n",
       "      <td>414</td>\n",
       "      <td>False</td>\n",
       "      <td>Recommended</td>\n",
       "      <td>if you think cs go is toxic try this game</td>\n",
       "      <td>Dead by Daylight</td>\n",
       "    </tr>\n",
       "  </tbody>\n",
       "</table>\n",
       "</div>"
      ],
      "text/plain": [
       "  date_posted  funny  helpful  hour_played  is_early_access_review  \\\n",
       "0  2019-02-10      2        4          578                   False   \n",
       "1  2019-02-10      0        0          184                   False   \n",
       "2  2019-02-07      0        0          892                   False   \n",
       "3  2018-06-14    126     1086          676                   False   \n",
       "4  2017-06-20     85     2139          612                   False   \n",
       "5  2016-12-12      4       55         2694                   False   \n",
       "6  2017-09-17     12      228           48                   False   \n",
       "7  2018-12-24    295      219           71                   False   \n",
       "8  2018-09-21      2       54          400                   False   \n",
       "9  2018-12-05    380      271          414                   False   \n",
       "\n",
       "  recommendation                                             review  \\\n",
       "0    Recommended  &gt Played as German Reich&gt Declare war on B...   \n",
       "1    Recommended                                               yes.   \n",
       "2    Recommended  Very good game although a bit overpriced in my...   \n",
       "3    Recommended  Out of all the reviews I wrote This one is pro...   \n",
       "4    Recommended  Disclaimer I survivor main. I play games for f...   \n",
       "5    Recommended  ENGLISH After playing for more than two years ...   \n",
       "6    Recommended  Out of all the reviews I wrote This one is pro...   \n",
       "7    Recommended  I have never been told to kill myself more tha...   \n",
       "8    Recommended  Any longtime Dead by Daylight player knows tha...   \n",
       "9    Recommended          if you think cs go is toxic try this game   \n",
       "\n",
       "                                         title  \n",
       "0  Expansion - Hearts of Iron IV: Man the Guns  \n",
       "1  Expansion - Hearts of Iron IV: Man the Guns  \n",
       "2  Expansion - Hearts of Iron IV: Man the Guns  \n",
       "3                             Dead by Daylight  \n",
       "4                             Dead by Daylight  \n",
       "5                             Dead by Daylight  \n",
       "6                             Dead by Daylight  \n",
       "7                             Dead by Daylight  \n",
       "8                             Dead by Daylight  \n",
       "9                             Dead by Daylight  "
      ]
     },
     "execution_count": 8,
     "metadata": {},
     "output_type": "execute_result"
    }
   ],
   "source": [
    "df = pd.read_csv('data/steam_reviews.csv')\n",
    "df.head(10)"
   ]
  },
  {
   "cell_type": "code",
   "execution_count": 6,
   "metadata": {},
   "outputs": [
    {
     "data": {
      "text/plain": [
       "date_posted               object\n",
       "funny                      int64\n",
       "helpful                    int64\n",
       "hour_played                int64\n",
       "is_early_access_review      bool\n",
       "recommendation            object\n",
       "review                    object\n",
       "title                     object\n",
       "dtype: object"
      ]
     },
     "execution_count": 6,
     "metadata": {},
     "output_type": "execute_result"
    }
   ],
   "source": [
    "df.dtypes"
   ]
  },
  {
   "cell_type": "code",
   "execution_count": 9,
   "metadata": {},
   "outputs": [
    {
     "data": {
      "text/plain": [
       "date_posted                  0\n",
       "funny                        0\n",
       "helpful                      0\n",
       "hour_played                  0\n",
       "is_early_access_review       0\n",
       "recommendation               0\n",
       "review                    1516\n",
       "title                        0\n",
       "dtype: int64"
      ]
     },
     "execution_count": 9,
     "metadata": {},
     "output_type": "execute_result"
    }
   ],
   "source": [
    "df.isna().sum()"
   ]
  },
  {
   "cell_type": "code",
   "execution_count": 12,
   "metadata": {},
   "outputs": [
    {
     "data": {
      "text/plain": [
       "date_posted               0\n",
       "funny                     0\n",
       "helpful                   0\n",
       "hour_played               0\n",
       "is_early_access_review    0\n",
       "recommendation            0\n",
       "review                    0\n",
       "title                     0\n",
       "dtype: int64"
      ]
     },
     "execution_count": 12,
     "metadata": {},
     "output_type": "execute_result"
    }
   ],
   "source": [
    "df = df.dropna(axis='rows')\n",
    "df.isna().sum()"
   ]
  },
  {
   "cell_type": "code",
   "execution_count": 14,
   "metadata": {},
   "outputs": [
    {
     "data": {
      "text/plain": [
       "array(['Expansion - Hearts of Iron IV: Man the Guns', 'Dead by Daylight',\n",
       "       'Wargroove', 'Wallpaper Engine', 'Factorio',\n",
       "       'Insurgency: Sandstorm', 'Cold Waters', 'Tannenberg',\n",
       "       'Pathfinder: Kingmaker', 'MONSTER HUNTER: WORLD',\n",
       "       'Divinity: Original Sin 2 - Definitive Edition',\n",
       "       'Football Manager 2019', \"Garry's Mod\", 'Survivor Pass: Vikendi',\n",
       "       'Moonlighter', 'Terraria', 'GOD EATER 3',\n",
       "       'Sid Meier’s Civilization® VI', 'Rocket League®',\n",
       "       'Subnautica: Below Zero', \"Tom Clancy's Rainbow Six® Siege\",\n",
       "       'ASTRONEER', 'Sid Meier’s Civilization® VI: Rise and Fall',\n",
       "       'Kenshi', 'Euro Truck Simulator 2', 'Grand Theft Auto V',\n",
       "       'RimWorld', 'NBA 2K19', 'RESIDENT EVIL 2 / BIOHAZARD RE:2',\n",
       "       'Slay the Spire', 'My Time At Portia', 'Foundation', 'Beat Saber',\n",
       "       \"Sid Meier's Civilization® VI: Gathering Storm\", 'Stardew Valley',\n",
       "       'Farming Simulator 19', \"PLAYERUNKNOWN'S BATTLEGROUNDS\",\n",
       "       'Overcooked! 2', \"Don't Starve Together\", 'Rust', 'Subnautica',\n",
       "       'ACE COMBAT™ 7: SKIES UNKNOWN', 'Left 4 Dead 2',\n",
       "       'ARK: Survival Evolved', 'Battlefleet Gothic: Armada 2',\n",
       "       'The Elder Scrolls V: Skyrim Special Edition', 'Human: Fall Flat',\n",
       "       'Warhammer 40,000: Mechanicus'], dtype=object)"
      ]
     },
     "execution_count": 14,
     "metadata": {},
     "output_type": "execute_result"
    }
   ],
   "source": [
    "df['title'].unique()"
   ]
  },
  {
   "cell_type": "code",
   "execution_count": 15,
   "metadata": {},
   "outputs": [
    {
     "data": {
      "text/html": [
       "<div>\n",
       "<style scoped>\n",
       "    .dataframe tbody tr th:only-of-type {\n",
       "        vertical-align: middle;\n",
       "    }\n",
       "\n",
       "    .dataframe tbody tr th {\n",
       "        vertical-align: top;\n",
       "    }\n",
       "\n",
       "    .dataframe thead th {\n",
       "        text-align: right;\n",
       "    }\n",
       "</style>\n",
       "<table border=\"1\" class=\"dataframe\">\n",
       "  <thead>\n",
       "    <tr style=\"text-align: right;\">\n",
       "      <th></th>\n",
       "      <th>title</th>\n",
       "      <th>recommendation</th>\n",
       "      <th>count</th>\n",
       "    </tr>\n",
       "  </thead>\n",
       "  <tbody>\n",
       "    <tr>\n",
       "      <th>0</th>\n",
       "      <td>ACE COMBAT™ 7: SKIES UNKNOWN</td>\n",
       "      <td>Recommended</td>\n",
       "      <td>10</td>\n",
       "    </tr>\n",
       "    <tr>\n",
       "      <th>1</th>\n",
       "      <td>ARK: Survival Evolved</td>\n",
       "      <td>Not Recommended</td>\n",
       "      <td>161</td>\n",
       "    </tr>\n",
       "    <tr>\n",
       "      <th>2</th>\n",
       "      <td>ARK: Survival Evolved</td>\n",
       "      <td>Recommended</td>\n",
       "      <td>33</td>\n",
       "    </tr>\n",
       "    <tr>\n",
       "      <th>3</th>\n",
       "      <td>ASTRONEER</td>\n",
       "      <td>Not Recommended</td>\n",
       "      <td>88</td>\n",
       "    </tr>\n",
       "    <tr>\n",
       "      <th>4</th>\n",
       "      <td>ASTRONEER</td>\n",
       "      <td>Recommended</td>\n",
       "      <td>2570</td>\n",
       "    </tr>\n",
       "    <tr>\n",
       "      <th>...</th>\n",
       "      <td>...</td>\n",
       "      <td>...</td>\n",
       "      <td>...</td>\n",
       "    </tr>\n",
       "    <tr>\n",
       "      <th>69</th>\n",
       "      <td>Tom Clancy's Rainbow Six® Siege</td>\n",
       "      <td>Recommended</td>\n",
       "      <td>10</td>\n",
       "    </tr>\n",
       "    <tr>\n",
       "      <th>70</th>\n",
       "      <td>Wallpaper Engine</td>\n",
       "      <td>Recommended</td>\n",
       "      <td>169</td>\n",
       "    </tr>\n",
       "    <tr>\n",
       "      <th>71</th>\n",
       "      <td>Wargroove</td>\n",
       "      <td>Not Recommended</td>\n",
       "      <td>1</td>\n",
       "    </tr>\n",
       "    <tr>\n",
       "      <th>72</th>\n",
       "      <td>Wargroove</td>\n",
       "      <td>Recommended</td>\n",
       "      <td>9</td>\n",
       "    </tr>\n",
       "    <tr>\n",
       "      <th>73</th>\n",
       "      <td>Warhammer 40,000: Mechanicus</td>\n",
       "      <td>Recommended</td>\n",
       "      <td>10</td>\n",
       "    </tr>\n",
       "  </tbody>\n",
       "</table>\n",
       "<p>74 rows × 3 columns</p>\n",
       "</div>"
      ],
      "text/plain": [
       "                              title   recommendation  count\n",
       "0      ACE COMBAT™ 7: SKIES UNKNOWN      Recommended     10\n",
       "1             ARK: Survival Evolved  Not Recommended    161\n",
       "2             ARK: Survival Evolved      Recommended     33\n",
       "3                         ASTRONEER  Not Recommended     88\n",
       "4                         ASTRONEER      Recommended   2570\n",
       "..                              ...              ...    ...\n",
       "69  Tom Clancy's Rainbow Six® Siege      Recommended     10\n",
       "70                 Wallpaper Engine      Recommended    169\n",
       "71                        Wargroove  Not Recommended      1\n",
       "72                        Wargroove      Recommended      9\n",
       "73     Warhammer 40,000: Mechanicus      Recommended     10\n",
       "\n",
       "[74 rows x 3 columns]"
      ]
     },
     "execution_count": 15,
     "metadata": {},
     "output_type": "execute_result"
    }
   ],
   "source": [
    "reviews_per_title = df.groupby(['title', 'recommendation'])['review'].count() \\\n",
    "    .reset_index() \\\n",
    "    .rename(columns = {'review': 'count'})\n",
    "reviews_per_title"
   ]
  },
  {
   "cell_type": "code",
   "execution_count": 19,
   "metadata": {},
   "outputs": [
    {
     "data": {
      "text/plain": [
       "<AxesSubplot:xlabel='count', ylabel='title'>"
      ]
     },
     "execution_count": 19,
     "metadata": {},
     "output_type": "execute_result"
    },
    {
     "data": {
      "image/png": "[encoded data removed]",
      "text/plain": [
       "<Figure size 1296x576 with 1 Axes>"
      ]
     },
     "metadata": {
      "needs_background": "light"
     },
     "output_type": "display_data"
    }
   ],
   "source": [
    "plt.figure(figsize=(18,8))\n",
    "sns.barplot(data=reviews_per_title, y = 'title', x = 'count', hue='recommendation')"
   ]
  }
 ],
 "metadata": {
  "interpreter": {
   "hash": "916dbcbb3f70747c44a77c7bcd40155683ae19c65e1c03b4aa3499c5328201f1"
  },
  "kernelspec": {
   "display_name": "Python 3.8.10 64-bit",
   "name": "python3"
  },
  "language_info": {
   "codemirror_mode": {
    "name": "ipython",
    "version": 3
   },
   "file_extension": ".py",
   "mimetype": "text/x-python",
   "name": "python",
   "nbconvert_exporter": "python",
   "pygments_lexer": "ipython3",
   "version": "3.8.10"
  },
  "orig_nbformat": 4
 },
 "nbformat": 4,
 "nbformat_minor": 2
}
