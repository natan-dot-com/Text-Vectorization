{
 "cells": [
  {
   "cell_type": "markdown",
   "metadata": {},
   "source": [
    "## Projeto Final - Álgebra Linear e Aplicações (SME0142)\n",
    "Projeto confeccionado por Natan Sanches (11795680) e Álvaro José Lopes (10873365).\n",
    "\n",
    "- **Objetivo e tematização:** A temática utilizada para confecção do projeto foi a de construção de um _pipeline_ dentro do contexto de Processamento de Linguagem Natural. Um texto bruto pôde ser analisado, permitindo um estudo sobre cada palavra individualmente e sua relação com os contextos em sua vizinhança; técnica usualmente chamada de _Word Embedding_. A partir desse estudo, é possível vetorizar palavras e utilizar técnicas de Álgebra Linear para manipulá-las."
   ]
  },
  {
   "cell_type": "markdown",
   "metadata": {},
   "source": [
    "### 0. Bibliotecas utilizadas"
   ]
  },
  {
   "cell_type": "code",
   "execution_count": 1,
   "metadata": {},
   "outputs": [],
   "source": [
    "import warnings\n",
    "warnings.simplefilter(action='ignore', category=FutureWarning)\n",
    "from string import punctuation\n",
    "\n",
    "import nltk\n",
    "nltk.download('stopwords')\n",
    "\n",
    "from nltk.corpus import stopwords\n",
    "from collections import Counter\n",
    "from scipy import sparse\n",
    "import numpy as np\n",
    "import pandas as pd\n",
    "import matplotlib.pyplot as plt"
   ]
  },
  {
   "cell_type": "markdown",
   "metadata": {},
   "source": [
    "### 1. Leitura do texto central\n",
    "Neste exemplo, utilizamos o romance Memórias Póstumas de Brás Cubas (clássico de Machado de Assis) e um conjunto de dados do fórum Hard News, que contém os principais títulos de notícias. Os textos foram carregados a partir de arquivos em disco, criando um _corpus_ (lista) de parágrafos disponíveis para manipulação."
   ]
  },
  {
   "cell_type": "code",
   "execution_count": 2,
   "metadata": {
    "scrolled": false
   },
   "outputs": [],
   "source": [
    "inputFile = \"data/memorias-postumas-bras-cubas.txt\"\n",
    "with open(inputFile) as f:\n",
    "    corpus = f.readlines()\n",
    "    \n",
    "cleanedCorpus = []\n",
    "fullSentence = ''\n",
    "for sentence in corpus:\n",
    "    if sentence == '\\n':\n",
    "        if 'CAPÍTULO' not in fullSentence:\n",
    "            cleanedCorpus.append(fullSentence.replace('\\n', ''))\n",
    "        fullSentence = ''\n",
    "    \n",
    "    fullSentence += ' ' + sentence\n",
    "corpusBrasCubas = cleanedCorpus"
   ]
  },
  {
   "cell_type": "code",
   "execution_count": 3,
   "metadata": {},
   "outputs": [],
   "source": [
    "inputFile = \"data/HN_posts_year_to_Sep_26_2016.csv\"\n",
    "df = pd.read_csv(inputFile)\n",
    "corpusHN = df['title']"
   ]
  },
  {
   "cell_type": "code",
   "execution_count": 4,
   "metadata": {},
   "outputs": [
    {
     "data": {
      "text/plain": [
       "(293119, 7)"
      ]
     },
     "execution_count": 4,
     "metadata": {},
     "output_type": "execute_result"
    }
   ],
   "source": [
    "df.shape"
   ]
  },
  {
   "cell_type": "markdown",
   "metadata": {},
   "source": [
    "### 2. Pré-processamento do texto"
   ]
  },
  {
   "cell_type": "markdown",
   "metadata": {},
   "source": [
    "Como em todo projeto envolvendo processamento de língua natural, é necessário que seja feito um pré-processamento que permite consistência na hora da análise textual. Dentre as técnicas de processamento realizadas, estão:\n",
    "\n",
    "- Eliminação de conflitos case-sensitive, isto é, transformando todas as letras maiúsculas em minúsculas.\n",
    "- Eliminação de caracteres não UTF-8, como uma maneira de preservar a consistência do texto.\n",
    "- Eliminação de pontuações e objetos textuais de sinalização, uma vez que estes não serão importantes para a análise.\n",
    "- Eliminação de _stop words_, ou palavras de parada (preposições, conjunções, etc), que não possuem contexto isolado."
   ]
  },
  {
   "cell_type": "code",
   "execution_count": 5,
   "metadata": {},
   "outputs": [],
   "source": [
    "punctranslation = str.maketrans(dict.fromkeys(punctuation))\n",
    "\n",
    "# Realiza a tokenização e tratamento dos parágrafos do texto\n",
    "def tokenize(corpus : str, language : str) -> list:\n",
    "    setStopwords = set(stopwords.words(language))\n",
    "    corpusTokenized = []\n",
    "    for paragraph in corpus:\n",
    "        paragraph = paragraph.lower()                                       # Tratamento de case-sensitive\n",
    "        paragraph = paragraph.encode('utf8', 'ignore').decode()             # Eliminação de caracteres fora de UTF-8\n",
    "        paragraph = paragraph.translate(punctranslation)                    # Eliminação de pontuações\n",
    "        tokens = [token for token in paragraph.split()                      # Eliminação de stopwords\n",
    "                  if token not in setStopwords and token != '']\n",
    "        corpusTokenized.append(list(filter(None, tokens)))\n",
    "        \n",
    "    return corpusTokenized\n",
    "    \n",
    "corpusTokenizedBrasCubas = tokenize(corpusBrasCubas, 'portuguese')\n",
    "corpusTokenizedHN = tokenize(corpusHN, 'english')"
   ]
  },
  {
   "cell_type": "markdown",
   "metadata": {},
   "source": [
    "### 3. Contagem de unigramas do texto"
   ]
  },
  {
   "cell_type": "markdown",
   "metadata": {},
   "source": [
    "Realiza, para cada parágrafo, a contagem de frequência de cada _token_ do texto."
   ]
  },
  {
   "cell_type": "code",
   "execution_count": 6,
   "metadata": {},
   "outputs": [],
   "source": [
    "def getUnigrams(corpusTokenized : str) -> Counter():\n",
    "    unigrams = Counter()\n",
    "    for paragraph in corpusTokenized:\n",
    "        for token in paragraph:\n",
    "            unigrams[token] += 1\n",
    "            \n",
    "    return unigrams"
   ]
  },
  {
   "cell_type": "code",
   "execution_count": 7,
   "metadata": {},
   "outputs": [],
   "source": [
    "unigramsBrasCubas = getUnigrams(corpusTokenizedBrasCubas)\n",
    "\n",
    "# Mapeamento de acesso (Token <-> Índice representativo) para o romance de Assis\n",
    "token2indexBrasCubas = {token: index for index, token in enumerate(unigramsBrasCubas.keys())}\n",
    "index2tokenBrasCubas = {index: token for token, index in token2indexBrasCubas.items()}\n",
    "\n",
    "unigramsHN = getUnigrams(corpusTokenizedHN)\n",
    "\n",
    "# Mapeamento de acesso (Token <-> Índice representativo) para os dados do fórum Hard News\n",
    "token2indexHN = {token: index for index, token in enumerate(unigramsHN.keys())}\n",
    "index2tokenHN = {index: token for token, index in token2indexHN.items()}"
   ]
  },
  {
   "cell_type": "markdown",
   "metadata": {},
   "source": [
    "### 4. Contagem de bigramas do texto"
   ]
  },
  {
   "cell_type": "markdown",
   "metadata": {},
   "source": [
    "Realiza, para cada parágrafo, a contagem dos bigramas presentes. Um bigrama representa a ocorrência de um par palavra-contexto, de maneira com que o contexto esteja dentro da janela de contexto. Nesse caso, o _range_ da janela de contexto foi de três palavras (para frente e para trás)."
   ]
  },
  {
   "cell_type": "code",
   "execution_count": 8,
   "metadata": {},
   "outputs": [],
   "source": [
    "def getSkipGrams(corpusTokenized : str, token2index : dict, gap = 3) -> Counter():\n",
    "    # Contador de bigramas, considerando uma determinada janela de contexto (nesse caso, 'gap'\n",
    "    # palavras antes e 'gap' palavras depois)\n",
    "    skipgrams = Counter()\n",
    "\n",
    "    for paragraph in corpusTokenized:\n",
    "        tokens = [token2index[tok] for tok in paragraph]\n",
    "\n",
    "        # Para cada palavra no parágrafo, realiza a análise dos contextos da vizinhança\n",
    "        for indexWord, word in enumerate(paragraph):\n",
    "            indexContextMin = max(0, indexWord - gap)\n",
    "            indexContextMax = min(len(paragraph)-1, indexWord + gap)\n",
    "\n",
    "            # Para cada contexto da vizinhança, crie um bigrama com a palavra central\n",
    "            indexContexts = [index for index in range(indexContextMin, indexContextMax + 1) if index != indexWord]\n",
    "            for indexContext in indexContexts:\n",
    "                skipgram = (tokens[indexWord], tokens[indexContext])\n",
    "                skipgrams[skipgram] += 1\n",
    "    \n",
    "    return skipgrams"
   ]
  },
  {
   "cell_type": "code",
   "execution_count": 9,
   "metadata": {},
   "outputs": [],
   "source": [
    "skipgramsBrasCubas = getSkipGrams(corpusTokenizedBrasCubas, token2indexBrasCubas)\n",
    "skipgramsHN = getSkipGrams(corpusTokenizedHN, token2indexHN)"
   ]
  },
  {
   "cell_type": "markdown",
   "metadata": {},
   "source": [
    "Também é prudente que os unigramas muito frequentes ou muito raros sejam removidos, uma vez que, dentro do contexto de mineração de texto, esses unigramas atrapalhariam na análise feita devida a sua frequência bruta."
   ]
  },
  {
   "cell_type": "code",
   "execution_count": 10,
   "metadata": {},
   "outputs": [],
   "source": [
    "def removeUnigrams(\n",
    "    minCount : int, maxCount : int, token2index : dict, index2token : dict, \n",
    "    unigrams : Counter(), skipgrams : Counter()\n",
    "):\n",
    "    \n",
    "    # Remoção de tokens muito frequentes ou muito raros\n",
    "    updatedtoken2index = token2index.copy()\n",
    "    updatedindex2token = index2token.copy()\n",
    "\n",
    "    for token in list(unigrams.keys()):\n",
    "        if unigrams[token] < minCount or unigrams[token] > maxCount:\n",
    "            del unigrams[token]\n",
    "            index = token2index[token]\n",
    "            del updatedtoken2index[token]\n",
    "            del updatedindex2token[index]\n",
    "    \n",
    "    for word, context in list(skipgrams.keys()):\n",
    "        if index2token[word] not in unigrams or index2token[context] not in unigrams:\n",
    "            del skipgrams[(word, context)]\n",
    "    \n",
    "    return updatedindex2token, updatedtoken2index"
   ]
  },
  {
   "cell_type": "code",
   "execution_count": 11,
   "metadata": {},
   "outputs": [],
   "source": [
    "minCount, maxCount = (1 / 1000) * len(corpusHN), (1 / 50) * len(corpusHN)\n",
    "index2tokenHN, token2indexHN = removeUnigrams(minCount, maxCount, token2indexHN, index2tokenHN,\n",
    "                                              unigramsHN, skipgramsHN)"
   ]
  },
  {
   "cell_type": "markdown",
   "metadata": {},
   "source": [
    "### 5. Criação da matriz de frequência termo-a-termo"
   ]
  },
  {
   "cell_type": "markdown",
   "metadata": {},
   "source": [
    "Criação da matriz que relaciona dois _tokens_ (um bigrama) ao seu devido número de ocorrências. Essa matriz é uma matriz esparça, que requer que utilizemos metodos especiais de armazenamento (devido também à dimensão de seu tamanho)."
   ]
  },
  {
   "cell_type": "code",
   "execution_count": 12,
   "metadata": {},
   "outputs": [],
   "source": [
    "def getCountMatrix(skipgrams : Counter()) -> sparse.csr_matrix:\n",
    "    # Mapeamento das entradas da matriz esparça de frequência entre os bigramas do texto\n",
    "    rowsMatrix = []\n",
    "    columnsMatrix = []\n",
    "    dataMatrix = []\n",
    "\n",
    "    for (token1, token2), skipgramCount in skipgrams.items():\n",
    "        rowsMatrix.append(token1)\n",
    "        columnsMatrix.append(token2)\n",
    "        dataMatrix.append(skipgramCount)\n",
    "\n",
    "    return sparse.csr_matrix((dataMatrix, (rowsMatrix, columnsMatrix)))"
   ]
  },
  {
   "cell_type": "code",
   "execution_count": 13,
   "metadata": {},
   "outputs": [],
   "source": [
    "wwMatrixBrasCubas = getCountMatrix(skipgramsBrasCubas)\n",
    "wwMatrixHN = getCountMatrix(skipgramsHN)"
   ]
  },
  {
   "cell_type": "markdown",
   "metadata": {},
   "source": [
    "### 6. Criação da matriz PPMI"
   ]
  },
  {
   "cell_type": "markdown",
   "metadata": {},
   "source": [
    "O PMI (Pointwise Mutual Information) é uma métrica que relaciona a probabilidade de ocorrência de uma palavra em conjunto com certo contexto, quando comparada à ocorrência de ambos isolados. Dessa forma, para uma palavra $w$ relacionada a um contexto $c$, o PMI dentre elas é dado pela relação\n",
    "\n",
    "$$pmi(w, c) = \\log{\\left(\\dfrac{P(w, c)}{P(w)P(c)}\\right)}$$\n",
    "\n",
    "onde $P(w, c)$ representa a probabilidade de ocorrência de determinada palavra em determinado contexto, $P(w)$ representa a probabilidade de ocorrência de determinada palavra no texto e $P(c)$ representa a probabilidade de ocorrência de determinado contexto no texto. Munidos dessa informação, podemos eliminar a possibilidade de $pmi(w, c)$ assumir valores negativos utilizando sua variação denominada de PPMI (Positive Pointwise Mutual Information), dada por\n",
    "\n",
    "$$ppmi(w,c) = \\textrm{max}(0,\\ pmi(w, c)).$$\n",
    "\n",
    "A matriz PPMI $[M]_{n \\times n}$ é uma matriz quadrada que relaciona uma palavra $w$ e um contexto $c$ ao seu valor PPMI, de tal forma que $M(w, c) = ppmi(w, c)$."
   ]
  },
  {
   "cell_type": "code",
   "execution_count": 14,
   "metadata": {},
   "outputs": [],
   "source": [
    "def getPPMImatrix(wwMatrix : sparse.csr_matrix, skipgrams : Counter()) -> sparse.csr_matrix:\n",
    "    # Número total de bigramas presente na matriz de frequência\n",
    "    numSkipgrams = wwMatrix.sum()\n",
    "\n",
    "    # Mapeamento das entradas da matriz PPMI\n",
    "    rowsIndex = []\n",
    "    columnsIndex = []\n",
    "    ppmiData = []\n",
    "\n",
    "    # Vetor de frequência total de cada palavra em todos os possíveis contextos\n",
    "    sumWords = np.array(wwMatrix.sum(axis=0)).flatten()\n",
    "\n",
    "    # Vetor de frequência total de cada contexto para todas as possíveis palavras\n",
    "    sumContexts = np.array(wwMatrix.sum(axis=1)).flatten()\n",
    "\n",
    "    for (tokenWord, tokenContext), skipgramCount in skipgrams.items():\n",
    "\n",
    "        # Frequência de determinada palavra em determinado contexto\n",
    "        # [#(w,c)]\n",
    "        freqWordContext = skipgramCount\n",
    "\n",
    "        # Frequência de determinada palavra em todos os contextos possíveis\n",
    "        # [#(w)]\n",
    "        freqWord = sumContexts[tokenWord]\n",
    "\n",
    "        # Frequência de determinado contexto para todas as palavras possíveis\n",
    "        # [#(c)]\n",
    "        freqContext = sumWords[tokenContext]\n",
    "\n",
    "        # Probabilidade de ocorrência de determinada palavra em determinado contexto\n",
    "        # [P(w,c)]\n",
    "        probWordContext = freqWordContext / numSkipgrams\n",
    "\n",
    "        # Probabilidade de ocorrência de determinada palavra individualmente\n",
    "        # [P(w)]\n",
    "        probWord = freqWord / numSkipgrams\n",
    "\n",
    "        # Probabilidade de ocorrência de determinado contexto individualmente\n",
    "        # [P(c)]\n",
    "        probContext = freqContext / numSkipgrams\n",
    "\n",
    "        # Cálculo PPMI (Positive Pointwise Mutual Information)\n",
    "        # [PPMI = max(0, log( P(w,c)/(P(w)P(c)) ))]\n",
    "        PPMI = max(np.log2(probWordContext / (probWord * probContext)), 0)\n",
    "\n",
    "        rowsIndex.append(tokenWord)\n",
    "        columnsIndex.append(tokenContext)\n",
    "        ppmiData.append(PPMI)\n",
    "\n",
    "    return sparse.csr_matrix((ppmiData, (rowsIndex, columnsIndex)))"
   ]
  },
  {
   "cell_type": "code",
   "execution_count": 15,
   "metadata": {},
   "outputs": [],
   "source": [
    "ppmiMatrixBrasCubas = getPPMImatrix(wwMatrixBrasCubas, skipgramsBrasCubas)\n",
    "ppmiMatrixHN = getPPMImatrix(wwMatrixHN, skipgramsHN)"
   ]
  },
  {
   "cell_type": "markdown",
   "metadata": {},
   "source": [
    "### 7. Fatoração matricial usando SVD (Singular Value Decomposition)"
   ]
  },
  {
   "cell_type": "markdown",
   "metadata": {},
   "source": [
    "A Decomposição por Valor Singular (SVD) é uma maneira possível de fatorarmos a matriz esparça de PPMI, de maneira que possamos deixá-la mais densa. Uma matriz $[M]_{m \\times n}$ pode ser fatorada da forma\n",
    "\n",
    "$$M = U \\Sigma V^*$$\n",
    "\n",
    "onde $[U]_{m \\times m}$ é uma matriz unitária, $[\\Sigma]_{m \\times n}$ é uma matriz retangular diagonal e $[V^*]_{n \\times n}$ é uma matriz unitária (dita conjugada transposta de $V$). As entradas diagonais de $\\Sigma$ são os ditos valores singulares de $M$, enquanto o espaço-coluna de $U$ e $V$ contém os ditos vetores singulares à esquerda e à direita de $M$, respectivamente. "
   ]
  },
  {
   "cell_type": "code",
   "execution_count": 16,
   "metadata": {},
   "outputs": [],
   "source": [
    "from scipy.sparse.linalg import svds as SVD\n",
    "\n",
    "def getWordVecs(ppmiMatrix : sparse.csr_matrix, embeddingSize = 50) -> np.ndarray:\n",
    "    # Dimensão proposta da matriz de valores singulares produzida pelo SVD\n",
    "    # [Hiperparâmetro]\n",
    "    embeddingSize = 50\n",
    "\n",
    "    U, D, V = SVD(ppmiMatrix, embeddingSize)\n",
    "\n",
    "    # Normalização das matrizes de vetores singulares produzidas pelo SVD\n",
    "    Unorm = U / np.sqrt(np.sum(U*U, axis=1, keepdims=True))\n",
    "    Vnorm = V / np.sqrt(np.sum(V*V, axis=1, keepdims=True))\n",
    "\n",
    "    return Unorm"
   ]
  },
  {
   "cell_type": "markdown",
   "metadata": {},
   "source": [
    "A matriz retornada é uma das matrizes singulares da fatoração feita utilizando a decomposição por valor singular, representando uma matriz mais densa do que a matriz de PPMI anteriormente construída e, ao mesmo tempo, mantendo as informações relativas a cada par."
   ]
  },
  {
   "cell_type": "code",
   "execution_count": 17,
   "metadata": {},
   "outputs": [],
   "source": [
    "wordVecsBrasCubas = getWordVecs(ppmiMatrixBrasCubas)\n",
    "wordVecsHN = getWordVecs(ppmiMatrixHN)"
   ]
  },
  {
   "cell_type": "markdown",
   "metadata": {},
   "source": [
    "### 8. Visualização de palavras similares por similaridade por cosseno"
   ]
  },
  {
   "cell_type": "markdown",
   "metadata": {},
   "source": [
    "A similaridade por cosseno é uma métrica de similaridade entre vetores que consiste em comparar o ângulo entre eles. Para dois vetores $u$ e $v$, a similaridade por cosseno pode ser descrita pela relação\n",
    "\n",
    "$$cos(\\theta) = \\dfrac{u \\cdot v}{||u||\\ ||v||} = \\dfrac{\\sum_{i=1}^n u_i v_i}{\\sqrt{\\sum_{i=1}^n u_i^{\\ 2}}\\ \\sqrt{\\sum_{i=1}^n v_i^{\\ 2}}}$$\n",
    "\n",
    "de tal forma que $\\theta$ descreve o ângulo entre esses vetores e $u \\cdot v$ é o produto escalar entre eles. Essa métrica de similiadade pode ser utilizada, em palavras vetorizadas, para medir o índice de relação entre uma palavra e um contexto, coisa que faremos a partir da matriz densa adquirida após fatoração por SVD.\n"
   ]
  },
  {
   "cell_type": "code",
   "execution_count": 18,
   "metadata": {},
   "outputs": [],
   "source": [
    "from sklearn.metrics.pairwise import cosine_similarity\n",
    "\n",
    "# Cálculo dos 10 contextos mais similares a dada palavra utilizando a matriz de Word Embedding\n",
    "def wordsSimilarity(word : str, matrix : np.ndarray, token2index : dict, index2token : dict, n : int) -> list:\n",
    "    wordIndex = token2index[word]\n",
    "\n",
    "    # Resgate do vetor representante de determinada palavra\n",
    "    if isinstance(matrix, sparse.csr_matrix):\n",
    "        wordVec = matrix.getrow(wordIndex)\n",
    "    else:\n",
    "        wordVec = matrix[wordIndex:wordIndex+1, :]\n",
    "        \n",
    "\n",
    "    # Cálculo da similidade (similaridade de vetores por cosseno)\n",
    "    similarity = cosine_similarity(matrix, wordVec).flatten()\n",
    "    sortedIndexes = np.argsort(-similarity)\n",
    "\n",
    "    # Retorno dos n contextos mais similares a dada palavra\n",
    "    similarityContextScores = [(index2token[sortedIndex], similarity[sortedIndex]) \n",
    "                                for sortedIndex in sortedIndexes[:n+1] \n",
    "                                if index2token[sortedIndex] != word]\n",
    "\n",
    "    return similarityContextScores\n",
    "\n",
    "# Produz uma resenha sobre os contextos mais relacionados a determinada palavra\n",
    "def wordSimilarityReport(\n",
    "    word : str, matrix : np.ndarray, unigrams : Counter(), \n",
    "    token2index : dict, index2token : dict, n=5\n",
    "):\n",
    "    \n",
    "    print(f'\\'{word}\\'\\t Frequência total: {unigrams[word]}', end='\\n\\t')\n",
    "\n",
    "    similarityContextScores = wordsSimilarity(word, matrix, token2index, index2token, n)\n",
    "    for context, similarity in similarityContextScores:\n",
    "        print(f'(\\'{context}\\', {similarity})', end='\\t')\n",
    "\n",
    "# Expande a lista de contextos similares para determinada palavra\n",
    "def getExamplesSimilarity(\n",
    "    examples : list, wordVecs : np.ndarray, unigrams : Counter(), token2index : dict, index2token : dict\n",
    "):\n",
    "    for word in examples:\n",
    "        wordSimilarityReport(word, wordVecs, unigrams, token2index, index2token)\n",
    "        print('\\n'+'---'*20)\n",
    "    "
   ]
  },
  {
   "cell_type": "markdown",
   "metadata": {},
   "source": [
    "#### 8.1. Contextos mais similares para determinadas palavras do romance de Machado de Assis"
   ]
  },
  {
   "cell_type": "code",
   "execution_count": 19,
   "metadata": {},
   "outputs": [
    {
     "name": "stdout",
     "output_type": "stream",
     "text": [
      "'defunto'\t Frequência total: 6\n",
      "\t('campa', 0.6746168068468186)\t('autor', 0.6151385979010779)\t('lorpa', 0.6095057883956855)\t('propriamente', 0.5407653053434001)\t('consular', 0.5360443966781012)\t\n",
      "------------------------------------------------------------\n",
      "'autor'\t Frequência total: 6\n",
      "\t('conhece', 0.789200094114813)\t('campa', 0.7156197176322138)\t('prejuízo', 0.7086163766598012)\t('bibliômano', 0.6943374900763779)\t('dr', 0.6887019978540381)\t\n",
      "------------------------------------------------------------\n",
      "'brás'\t Frequência total: 30\n",
      "\t('cubas', 0.9769073553454316)\t('adotei', 0.9669953696673037)\t('palerma', 0.9634145212019593)\t('tejadilho', 0.9586951536105883)\t('mouriscas', 0.9562553264272469)\t\n",
      "------------------------------------------------------------\n",
      "'coimbra'\t Frequência total: 5\n",
      "\t('primou', 0.8059552908746227)\t('matérias', 0.7878930538847297)\t('esperavame', 0.7732384578162014)\t('estudou', 0.7216044372472821)\t('cursar', 0.7033942649042229)\t\n",
      "------------------------------------------------------------\n",
      "'flagelos'\t Frequência total: 3\n",
      "\t('radicalmente', 0.664232916062501)\t('supostos', 0.5950821737691394)\t('venham', 0.5837803007765716)\t('envolta', 0.5710167445122342)\t('complicavase', 0.5709318883051664)\t\n",
      "------------------------------------------------------------\n",
      "'alegria'\t Frequência total: 15\n",
      "\t('desabrochavam', 0.8366937225652024)\t('extensos', 0.8356663880161046)\t('paciente', 0.8176558039190395)\t('salpicada', 0.8085781294661754)\t('irmãmente', 0.7974800549061107)\t\n",
      "------------------------------------------------------------\n",
      "'shakespeare'\t Frequência total: 3\n",
      "\t('retalhinho', 0.7705108714866744)\t('trágica', 0.6580211033893703)\t('viciosa', 0.6544594785151372)\t('lodo', 0.6174110181589795)\t('garatujado', 0.6173857305400905)\t\n",
      "------------------------------------------------------------\n",
      "'homem'\t Frequência total: 106\n",
      "\t('contará', 0.9057737463860615)\t('armavase', 0.8999463573603248)\t('desarmado', 0.8977994911553979)\t('apanhar', 0.880565921546622)\t('culta', 0.8739600664617491)\t\n",
      "------------------------------------------------------------\n",
      "'luxo'\t Frequência total: 1\n",
      "\t('clássico', 0.9874664367393269)\t('índias', 0.9636252011656808)\t('papado', 0.9619223235743204)\t('mandeime', 0.9601542932432451)\t('andassem', 0.9518052813876268)\t\n",
      "------------------------------------------------------------\n",
      "'filósofo'\t Frequência total: 14\n",
      "\t('admiravalhe', 0.7622102157243711)\t('mecânico', 0.7510152932603585)\t('elevado', 0.7362555413770903)\t('declaroume', 0.7047463116554659)\t('equivalia', 0.7037796579762666)\t\n",
      "------------------------------------------------------------\n",
      "'festa'\t Frequência total: 5\n",
      "\t('amanhecer', 0.642777725861784)\t('igrejas', 0.5716399389877275)\t('perdi', 0.5602501670089817)\t('deixassem', 0.5513786429696051)\t('magra', 0.5458235866146683)\t\n",
      "------------------------------------------------------------\n",
      "'olhos'\t Frequência total: 138\n",
      "\t('desfeito', 0.8729325668258063)\t('fundas', 0.8578614101006434)\t('rolavam', 0.8483980827247851)\t('moles', 0.8410996382787183)\t('visual', 0.8406253311423862)\t\n",
      "------------------------------------------------------------\n",
      "'guerra'\t Frequência total: 5\n",
      "\t('derramado', 0.7665906781941869)\t('eliminadas', 0.760208763352691)\t('insurreição', 0.7232860409910371)\t('apetites', 0.692150800547079)\t('carne', 0.644032712380279)\t\n",
      "------------------------------------------------------------\n",
      "'ensino'\t Frequência total: 1\n",
      "\t('emenda', 0.928122776601076)\t('disseste', 0.8124747495982282)\t('liberdade', 0.7860885528333706)\t('reconheço', 0.780693030088428)\t('pai', 0.7638529524012091)\t\n",
      "------------------------------------------------------------\n",
      "'borba'\t Frequência total: 70\n",
      "\t('quincas', 0.996735852355844)\t('demonstroume', 0.9470009883229566)\t('condão', 0.9351653153531798)\t('censura', 0.9346826456206075)\t('rejeitoua', 0.9332789248915199)\t\n",
      "------------------------------------------------------------\n",
      "'autor'\t Frequência total: 6\n",
      "\t('conhece', 0.789200094114813)\t('campa', 0.7156197176322138)\t('prejuízo', 0.7086163766598012)\t('bibliômano', 0.6943374900763779)\t('dr', 0.6887019978540381)\t\n",
      "------------------------------------------------------------\n",
      "'leitor'\t Frequência total: 38\n",
      "\t('enegreceu', 0.9106215716703406)\t('exponho', 0.9037889048037012)\t('envelheceu', 0.8994890743063926)\t('realço', 0.8989861010889673)\t('decida', 0.8614229557004017)\t\n",
      "------------------------------------------------------------\n"
     ]
    }
   ],
   "source": [
    "examples = ['defunto', 'autor', 'brás', 'coimbra', 'flagelos', 'alegria', 'shakespeare', 'homem', 'luxo',\n",
    "    'filósofo', 'festa', 'olhos', 'guerra', 'ensino', 'borba', 'autor', 'leitor']\n",
    "getExamplesSimilarity(\n",
    "    examples, wordVecsBrasCubas, unigramsBrasCubas, token2indexBrasCubas, index2tokenBrasCubas)"
   ]
  },
  {
   "cell_type": "markdown",
   "metadata": {},
   "source": [
    "#### 8.2. Contextos mais similares para o conjunto de dados do fórum Hard News"
   ]
  },
  {
   "cell_type": "code",
   "execution_count": 20,
   "metadata": {},
   "outputs": [
    {
     "name": "stdout",
     "output_type": "stream",
     "text": [
      "'facebook'\t Frequência total: 2853\n",
      "\t('messenger', 0.7481192811378354)\t('snapchat', 0.6929861114171034)\t('twitter', 0.6820202347044038)\t('instagram', 0.6459948113726345)\t('whatsapp', 0.6265137742726805)\t\n",
      "------------------------------------------------------------\n",
      "'twitter'\t Frequência total: 1641\n",
      "\t('facebook', 0.6820202347044035)\t('linkedin', 0.6148361240418154)\t('instagram', 0.59142725448504)\t('yahoo', 0.5233872340348628)\t('snapchat', 0.4805978668475303)\t\n",
      "------------------------------------------------------------\n",
      "'instagram'\t Frequência total: 391\n",
      "\t('facebook', 0.6459948113726345)\t('twitter', 0.5914272544850401)\t('users', 0.5464186689508803)\t('snapchat', 0.5379379942689114)\t('whatsapp', 0.5371825681171153)\t\n",
      "------------------------------------------------------------\n",
      "'messenger'\t Frequência total: 374\n",
      "\t('chat', 0.8039849360455708)\t('bot', 0.7811380387402994)\t('messaging', 0.7494799883230409)\t('facebook', 0.7481192811378354)\t('bots', 0.7132258704674771)\t\n",
      "------------------------------------------------------------\n",
      "'hack'\t Frequência total: 881\n",
      "\t('hacked', 0.7166427004480737)\t('hackers', 0.6612225651441122)\t('hacking', 0.6609890156270223)\t('malware', 0.6184393389584086)\t('attack', 0.6077955732690045)\t\n",
      "------------------------------------------------------------\n",
      "'security'\t Frequência total: 2425\n",
      "\t('vulnerability', 0.5211967780341937)\t('management', 0.47204348837855703)\t('attacks', 0.46878856140724484)\t('devops', 0.395187340277548)\t('attack', 0.3911350362071794)\t\n",
      "------------------------------------------------------------\n",
      "'deep'\t Frequência total: 1375\n",
      "\t('learning', 0.9359106041310358)\t('neural', 0.8994931156206075)\t('machine', 0.8457446847585072)\t('tensorflow', 0.8361486993915535)\t('networks', 0.8147043492509686)\t\n",
      "------------------------------------------------------------\n",
      "'encryption'\t Frequência total: 967\n",
      "\t('crypto', 0.7187875152304157)\t('calls', 0.5416587925412768)\t('fbi', 0.49098263611546444)\t('fight', 0.49061762404465037)\t('surveillance', 0.4486513773957399)\t\n",
      "------------------------------------------------------------\n",
      "'command'\t Frequência total: 593\n",
      "\t('cli', 0.9230701616629947)\t('line', 0.8982568960061204)\t('shell', 0.7247884860730918)\t('git', 0.6236724061335743)\t('tool', 0.6217416871434488)\t\n",
      "------------------------------------------------------------\n",
      "'venture'\t Frequência total: 393\n",
      "\t('capital', 0.9243264041686713)\t('vc', 0.7753574408495217)\t('funding', 0.7465237538798004)\t('fund', 0.6687978957915727)\t('investors', 0.62089933147279)\t\n",
      "------------------------------------------------------------\n",
      "'bitcoin'\t Frequência total: 1427\n",
      "\t('blockchain', 0.7643091698016927)\t('ethereum', 0.7140404923534487)\t('banks', 0.5324454740542028)\t('bank', 0.5181996581369337)\t('financial', 0.48579493453582445)\t\n",
      "------------------------------------------------------------\n",
      "'github'\t Frequência total: 1419\n",
      "\t('git', 0.6326100398732128)\t('npm', 0.6018145533498042)\t('status', 0.5195539767076437)\t('extension', 0.5028553676416876)\t('pages', 0.4777555417669571)\t\n",
      "------------------------------------------------------------\n",
      "'opensource'\t Frequência total: 706\n",
      "\t('source', 0.7618623415748982)\t('open', 0.6385059409668005)\t('management', 0.5197597171926782)\t('introducing', 0.4846617289593729)\t('simple', 0.46324965036579696)\t\n",
      "------------------------------------------------------------\n",
      "'linux'\t Frequência total: 1803\n",
      "\t('windows', 0.8025297226593076)\t('ubuntu', 0.7973397444240259)\t('os', 0.7595304758112642)\t('x', 0.6894342845151304)\t('mac', 0.6754202570519151)\t\n",
      "------------------------------------------------------------\n",
      "'microsoft'\t Frequência total: 1856\n",
      "\t('ibm', 0.6946729322254636)\t('core', 0.6128125095965662)\t('google', 0.5251532401249714)\t('yahoo', 0.5089525772897286)\t('intel', 0.48686226117105413)\t\n",
      "------------------------------------------------------------\n",
      "'tensorflow'\t Frequência total: 302\n",
      "\t('deep', 0.8361486993915535)\t('learning', 0.8042833195551216)\t('neural', 0.7849535837875165)\t('machine', 0.7023197701636512)\t('networks', 0.6824526635216046)\t\n",
      "------------------------------------------------------------\n",
      "'whatsapp'\t Frequência total: 323\n",
      "\t('messenger', 0.6911793975370129)\t('facebook', 0.6265137742726805)\t('messaging', 0.5956965058474717)\t('chat', 0.5836985517816209)\t('snapchat', 0.5415690561619568)\t\n",
      "------------------------------------------------------------\n",
      "'kernel'\t Frequência total: 359\n",
      "\t('linux', 0.6323121916215462)\t('vulnerability', 0.5360207109387096)\t('postgresql', 0.4664261314627324)\t('memory', 0.44491171406268615)\t('windows', 0.4412952454414672)\t\n",
      "------------------------------------------------------------\n",
      "'bill'\t Frequência total: 745\n",
      "\t('calls', 0.5536319801234826)\t('obama', 0.5091827321703718)\t('surveillance', 0.5055891992388714)\t('eu', 0.47115016961662265)\t('government', 0.4603966796326935)\t\n",
      "------------------------------------------------------------\n",
      "'elon'\t Frequência total: 486\n",
      "\t('musk', 0.9881233960995668)\t('tesla', 0.7432849870137229)\t('spacex', 0.5973742936115666)\t('electric', 0.5293259027792976)\t('full', 0.49664182757407965)\t\n",
      "------------------------------------------------------------\n",
      "'silicon'\t Frequência total: 1382\n",
      "\t('valley', 0.9586465341421762)\t('tech', 0.5376975618191177)\t('housing', 0.4567694468881427)\t('whats', 0.45654103188092815)\t('investors', 0.4276441258681892)\t\n",
      "------------------------------------------------------------\n",
      "'course'\t Frequência total: 416\n",
      "\t('introduction', 0.611768905176161)\t('tutorial', 0.6092825762555837)\t('book', 0.5343485047069185)\t('science', 0.47979297030509305)\t('learn', 0.4422452351527766)\t\n",
      "------------------------------------------------------------\n",
      "'startup'\t Frequência total: 3849\n",
      "\t('founders', 0.7444563214129292)\t('startups', 0.6824870549818747)\t('fund', 0.6162294165355987)\t('company', 0.5828414622443449)\t('yc', 0.5627029547147571)\t\n",
      "------------------------------------------------------------\n",
      "'blog'\t Frequência total: 590\n",
      "\t('post', 0.6667498152368557)\t('site', 0.6506628210491915)\t('wordpress', 0.6145299788432066)\t('static', 0.6139017511374296)\t('website', 0.5515867500750865)\t\n",
      "------------------------------------------------------------\n"
     ]
    }
   ],
   "source": [
    "examples = ['facebook', 'twitter', 'instagram', 'messenger', 'hack', 'security', \n",
    "          'deep', 'encryption', 'command', 'venture' , 'bitcoin', 'github', 'opensource',\n",
    "          'linux', 'microsoft', 'tensorflow', 'whatsapp', 'kernel', 'bill', 'elon', 'silicon', 'course',\n",
    "           'startup', 'blog']\n",
    "getExamplesSimilarity(examples, wordVecsHN, unigramsHN, token2indexHN, index2tokenHN)"
   ]
  },
  {
   "cell_type": "markdown",
   "metadata": {},
   "source": [
    "### 9. Visualizando as palavras através de um ScatterPlot interativo"
   ]
  },
  {
   "cell_type": "markdown",
   "metadata": {},
   "source": [
    "Para que seja possível plotar as palavras é preciso realizar uma redução de dimensionalidade nos dados, uma vez que a dimensão dos vetores de *embedding* é maior do que dois e, por isso, não poderia ser visualizado em um espaço plano.\n",
    "\n",
    "Serão testados dois métodos de redução de dimensionalidade:\n",
    "* PCA (*Principal Component Analysis*): Promove uma transformação linear ortogonal nos dados, projetando-os em uma nova base que preserva o máximo possível da variância dos dados. Dessa forma, ao longo da primeira coordenada (primeira componente) tem-se a maior variância e, analogamente, ao longo da segunda coordenada (segunda componente) tem-se a segunda maior variância.\n",
    "\n",
    "* t-SNE (*T-distributed Stochastic Neighbor Embedding*): Método estatístico que estabelece uma distribuição de probabilidade para todos os pares de pontos de tal forma que para pontos similares (pontos próximos a partir de uma dada métrica) serão atribuídas uma alta probabilidade, enquanto para pontos dissimilares (pontos distantes) serão atribuídas uma baixa probabilidade. A métrica escolhida será o cosseno.\n",
    "\n",
    "Após a redução de dimensionalidade será possível plotar as palavras em um espaço euclideano de duas dimensões, em que cada ponto representa uma palavra."
   ]
  },
  {
   "cell_type": "markdown",
   "metadata": {},
   "source": [
    "#### 9.1 Redução de dimensionalidade utilizando PCA"
   ]
  },
  {
   "cell_type": "code",
   "execution_count": 21,
   "metadata": {},
   "outputs": [],
   "source": [
    "def createWordVecsDataFrame(reducedWordVecs, token2index):\n",
    "    # Criando um dicionário para cada palavra e seu respectivo vetor após redução de dimensionalidade\n",
    "    dictReducedWordVecs = {}\n",
    "    for word, index in token2index.items():\n",
    "        dictReducedWordVecs[word] = reducedWordVecs[index]\n",
    "\n",
    "    # Instanciando o dataframe a partir do dicionario criado acima\n",
    "    dfWordVecs = pd.DataFrame.from_dict(\n",
    "        data = dictReducedWordVecs,\n",
    "        orient = 'index',\n",
    "        columns = ['x', 'y']\n",
    "    )\n",
    "    dfWordVecs['word'] = dfWordVecs.index\n",
    "    \n",
    "    return dfWordVecs"
   ]
  },
  {
   "cell_type": "code",
   "execution_count": 22,
   "metadata": {},
   "outputs": [
    {
     "data": {
      "text/html": [
       "\n",
       "    <div class=\"bk-root\">\n",
       "        <a href=\"https://bokeh.org\" target=\"_blank\" class=\"bk-logo bk-logo-small bk-logo-notebook\"></a>\n",
       "        <span id=\"1002\">Loading BokehJS ...</span>\n",
       "    </div>"
      ]
     },
     "metadata": {},
     "output_type": "display_data"
    },
    {
     "data": {
      "application/javascript": "\n(function(root) {\n  function now() {\n    return new Date();\n  }\n\n  const force = true;\n\n  if (typeof root._bokeh_onload_callbacks === \"undefined\" || force === true) {\n    root._bokeh_onload_callbacks = [];\n    root._bokeh_is_loading = undefined;\n  }\n\n  const JS_MIME_TYPE = 'application/javascript';\n  const HTML_MIME_TYPE = 'text/html';\n  const EXEC_MIME_TYPE = 'application/vnd.bokehjs_exec.v0+json';\n  const CLASS_NAME = 'output_bokeh rendered_html';\n\n  /**\n   * Render data to the DOM node\n   */\n  function render(props, node) {\n    const script = document.createElement(\"script\");\n    node.appendChild(script);\n  }\n\n  /**\n   * Handle when an output is cleared or removed\n   */\n  function handleClearOutput(event, handle) {\n    const cell = handle.cell;\n\n    const id = cell.output_area._bokeh_element_id;\n    const server_id = cell.output_area._bokeh_server_id;\n    // Clean up Bokeh references\n    if (id != null && id in Bokeh.index) {\n      Bokeh.index[id].model.document.clear();\n      delete Bokeh.index[id];\n    }\n\n    if (server_id !== undefined) {\n      // Clean up Bokeh references\n      const cmd_clean = \"from bokeh.io.state import curstate; print(curstate().uuid_to_server['\" + server_id + \"'].get_sessions()[0].document.roots[0]._id)\";\n      cell.notebook.kernel.execute(cmd_clean, {\n        iopub: {\n          output: function(msg) {\n            const id = msg.content.text.trim();\n            if (id in Bokeh.index) {\n              Bokeh.index[id].model.document.clear();\n              delete Bokeh.index[id];\n            }\n          }\n        }\n      });\n      // Destroy server and session\n      const cmd_destroy = \"import bokeh.io.notebook as ion; ion.destroy_server('\" + server_id + \"')\";\n      cell.notebook.kernel.execute(cmd_destroy);\n    }\n  }\n\n  /**\n   * Handle when a new output is added\n   */\n  function handleAddOutput(event, handle) {\n    const output_area = handle.output_area;\n    const output = handle.output;\n\n    // limit handleAddOutput to display_data with EXEC_MIME_TYPE content only\n    if ((output.output_type != \"display_data\") || (!Object.prototype.hasOwnProperty.call(output.data, EXEC_MIME_TYPE))) {\n      return\n    }\n\n    const toinsert = output_area.element.find(\".\" + CLASS_NAME.split(' ')[0]);\n\n    if (output.metadata[EXEC_MIME_TYPE][\"id\"] !== undefined) {\n      toinsert[toinsert.length - 1].firstChild.textContent = output.data[JS_MIME_TYPE];\n      // store reference to embed id on output_area\n      output_area._bokeh_element_id = output.metadata[EXEC_MIME_TYPE][\"id\"];\n    }\n    if (output.metadata[EXEC_MIME_TYPE][\"server_id\"] !== undefined) {\n      const bk_div = document.createElement(\"div\");\n      bk_div.innerHTML = output.data[HTML_MIME_TYPE];\n      const script_attrs = bk_div.children[0].attributes;\n      for (let i = 0; i < script_attrs.length; i++) {\n        toinsert[toinsert.length - 1].firstChild.setAttribute(script_attrs[i].name, script_attrs[i].value);\n        toinsert[toinsert.length - 1].firstChild.textContent = bk_div.children[0].textContent\n      }\n      // store reference to server id on output_area\n      output_area._bokeh_server_id = output.metadata[EXEC_MIME_TYPE][\"server_id\"];\n    }\n  }\n\n  function register_renderer(events, OutputArea) {\n\n    function append_mime(data, metadata, element) {\n      // create a DOM node to render to\n      const toinsert = this.create_output_subarea(\n        metadata,\n        CLASS_NAME,\n        EXEC_MIME_TYPE\n      );\n      this.keyboard_manager.register_events(toinsert);\n      // Render to node\n      const props = {data: data, metadata: metadata[EXEC_MIME_TYPE]};\n      render(props, toinsert[toinsert.length - 1]);\n      element.append(toinsert);\n      return toinsert\n    }\n\n    /* Handle when an output is cleared or removed */\n    events.on('clear_output.CodeCell', handleClearOutput);\n    events.on('delete.Cell', handleClearOutput);\n\n    /* Handle when a new output is added */\n    events.on('output_added.OutputArea', handleAddOutput);\n\n    /**\n     * Register the mime type and append_mime function with output_area\n     */\n    OutputArea.prototype.register_mime_type(EXEC_MIME_TYPE, append_mime, {\n      /* Is output safe? */\n      safe: true,\n      /* Index of renderer in `output_area.display_order` */\n      index: 0\n    });\n  }\n\n  // register the mime type if in Jupyter Notebook environment and previously unregistered\n  if (root.Jupyter !== undefined) {\n    const events = require('base/js/events');\n    const OutputArea = require('notebook/js/outputarea').OutputArea;\n\n    if (OutputArea.prototype.mime_types().indexOf(EXEC_MIME_TYPE) == -1) {\n      register_renderer(events, OutputArea);\n    }\n  }\n\n  \n  if (typeof (root._bokeh_timeout) === \"undefined\" || force === true) {\n    root._bokeh_timeout = Date.now() + 5000;\n    root._bokeh_failed_load = false;\n  }\n\n  const NB_LOAD_WARNING = {'data': {'text/html':\n     \"<div style='background-color: #fdd'>\\n\"+\n     \"<p>\\n\"+\n     \"BokehJS does not appear to have successfully loaded. If loading BokehJS from CDN, this \\n\"+\n     \"may be due to a slow or bad network connection. Possible fixes:\\n\"+\n     \"</p>\\n\"+\n     \"<ul>\\n\"+\n     \"<li>re-rerun `output_notebook()` to attempt to load from CDN again, or</li>\\n\"+\n     \"<li>use INLINE resources instead, as so:</li>\\n\"+\n     \"</ul>\\n\"+\n     \"<code>\\n\"+\n     \"from bokeh.resources import INLINE\\n\"+\n     \"output_notebook(resources=INLINE)\\n\"+\n     \"</code>\\n\"+\n     \"</div>\"}};\n\n  function display_loaded() {\n    const el = document.getElementById(\"1002\");\n    if (el != null) {\n      el.textContent = \"BokehJS is loading...\";\n    }\n    if (root.Bokeh !== undefined) {\n      if (el != null) {\n        el.textContent = \"BokehJS \" + root.Bokeh.version + \" successfully loaded.\";\n      }\n    } else if (Date.now() < root._bokeh_timeout) {\n      setTimeout(display_loaded, 100)\n    }\n  }\n\n\n  function run_callbacks() {\n    try {\n      root._bokeh_onload_callbacks.forEach(function(callback) {\n        if (callback != null)\n          callback();\n      });\n    } finally {\n      delete root._bokeh_onload_callbacks\n    }\n    console.debug(\"Bokeh: all callbacks have finished\");\n  }\n\n  function load_libs(css_urls, js_urls, callback) {\n    if (css_urls == null) css_urls = [];\n    if (js_urls == null) js_urls = [];\n\n    root._bokeh_onload_callbacks.push(callback);\n    if (root._bokeh_is_loading > 0) {\n      console.debug(\"Bokeh: BokehJS is being loaded, scheduling callback at\", now());\n      return null;\n    }\n    if (js_urls == null || js_urls.length === 0) {\n      run_callbacks();\n      return null;\n    }\n    console.debug(\"Bokeh: BokehJS not loaded, scheduling load and callback at\", now());\n    root._bokeh_is_loading = css_urls.length + js_urls.length;\n\n    function on_load() {\n      root._bokeh_is_loading--;\n      if (root._bokeh_is_loading === 0) {\n        console.debug(\"Bokeh: all BokehJS libraries/stylesheets loaded\");\n        run_callbacks()\n      }\n    }\n\n    function on_error(url) {\n      console.error(\"failed to load \" + url);\n    }\n\n    for (let i = 0; i < css_urls.length; i++) {\n      const url = css_urls[i];\n      const element = document.createElement(\"link\");\n      element.onload = on_load;\n      element.onerror = on_error.bind(null, url);\n      element.rel = \"stylesheet\";\n      element.type = \"text/css\";\n      element.href = url;\n      console.debug(\"Bokeh: injecting link tag for BokehJS stylesheet: \", url);\n      document.body.appendChild(element);\n    }\n\n    for (let i = 0; i < js_urls.length; i++) {\n      const url = js_urls[i];\n      const element = document.createElement('script');\n      element.onload = on_load;\n      element.onerror = on_error.bind(null, url);\n      element.async = false;\n      element.src = url;\n      console.debug(\"Bokeh: injecting script tag for BokehJS library: \", url);\n      document.head.appendChild(element);\n    }\n  };\n\n  function inject_raw_css(css) {\n    const element = document.createElement(\"style\");\n    element.appendChild(document.createTextNode(css));\n    document.body.appendChild(element);\n  }\n\n  \n  const js_urls = [\"https://cdn.bokeh.org/bokeh/release/bokeh-2.4.2.min.js\", \"https://cdn.bokeh.org/bokeh/release/bokeh-gl-2.4.2.min.js\", \"https://cdn.bokeh.org/bokeh/release/bokeh-widgets-2.4.2.min.js\", \"https://cdn.bokeh.org/bokeh/release/bokeh-tables-2.4.2.min.js\", \"https://cdn.bokeh.org/bokeh/release/bokeh-mathjax-2.4.2.min.js\"];\n  const css_urls = [];\n  \n\n  const inline_js = [\n    function(Bokeh) {\n      Bokeh.set_log_level(\"info\");\n    },\n    function(Bokeh) {\n    \n    \n    }\n  ];\n\n  function run_inline_js() {\n    \n    if (root.Bokeh !== undefined || force === true) {\n      \n    for (let i = 0; i < inline_js.length; i++) {\n      inline_js[i].call(root, root.Bokeh);\n    }\n    if (force === true) {\n        display_loaded();\n      }} else if (Date.now() < root._bokeh_timeout) {\n      setTimeout(run_inline_js, 100);\n    } else if (!root._bokeh_failed_load) {\n      console.log(\"Bokeh: BokehJS failed to load within specified timeout.\");\n      root._bokeh_failed_load = true;\n    } else if (force !== true) {\n      const cell = $(document.getElementById(\"1002\")).parents('.cell').data().cell;\n      cell.output_area.append_execute_result(NB_LOAD_WARNING)\n    }\n\n  }\n\n  if (root._bokeh_is_loading === 0) {\n    console.debug(\"Bokeh: BokehJS loaded, going straight to plotting\");\n    run_inline_js();\n  } else {\n    load_libs(css_urls, js_urls, function() {\n      console.debug(\"Bokeh: BokehJS plotting callback run at\", now());\n      run_inline_js();\n    });\n  }\n}(window));",
      "application/vnd.bokehjs_load.v0+json": ""
     },
     "metadata": {},
     "output_type": "display_data"
    }
   ],
   "source": [
    "# Configurando a ferramenta interativa com o notebook\n",
    "from bokeh.plotting import figure, show, output_notebook\n",
    "from bokeh.models import HoverTool, ColumnDataSource, value\n",
    "\n",
    "output_notebook()\n",
    "\n",
    "def interativePlot(df, title = None, xlabel = None, ylabel = None):\n",
    "    # Instancia uma ColumnDAtaSource do Bokeh usando o dataframe\n",
    "    data = ColumnDataSource(df)\n",
    "\n",
    "    # Cria o plot e configura:\n",
    "    # título, dimensões e ferramentas interativas\n",
    "    plot = figure(\n",
    "        title= title,\n",
    "        plot_width=800,\n",
    "        plot_height=800,\n",
    "        tools=(\n",
    "            'pan, wheel_zoom, box_zoom,'\n",
    "            'box_select, reset',\n",
    "            HoverTool(tooltips = '@word')\n",
    "            ),\n",
    "        active_scroll='wheel_zoom',\n",
    "        x_axis_label = xlabel,\n",
    "        y_axis_label = ylabel\n",
    "        )\n",
    "\n",
    "    # Desenha os circulos representado as palavras\n",
    "    plot.circle(\n",
    "        'x',\n",
    "        'y',\n",
    "        source=data,\n",
    "        color='blue',\n",
    "        line_alpha=0.2,\n",
    "        fill_alpha=0.1,\n",
    "        size=10,\n",
    "        hover_line_color='black'\n",
    "        )\n",
    "\n",
    "    # Configuração de outros detalhes visuais\n",
    "    plot.xaxis.visible = False\n",
    "    plot.yaxis.visible = False\n",
    "    plot.grid.grid_line_color = None\n",
    "    plot.outline_line_color = None\n",
    "\n",
    "\n",
    "    show(plot)"
   ]
  },
  {
   "cell_type": "code",
   "execution_count": 23,
   "metadata": {},
   "outputs": [],
   "source": [
    "from sklearn.decomposition import PCA\n",
    "\n",
    "def plotPCA(wordVecs : np.ndarray, token2index : dict, title : str, sample = 900):\n",
    "\n",
    "    # Realizando redução de dimensão com PCA\n",
    "    pca = PCA(n_components = 2)\n",
    "    reducedWordVecs = pca.fit_transform(wordVecs)\n",
    "\n",
    "    dfWordVecs = createWordVecsDataFrame(reducedWordVecs, token2index)\n",
    "    interativePlot(dfWordVecs.sample(sample, random_state = 42), title = title)"
   ]
  },
  {
   "cell_type": "code",
   "execution_count": 24,
   "metadata": {
    "scrolled": false
   },
   "outputs": [
    {
     "data": {
      "text/html": [
       "\n",
       "\n",
       "\n",
       "\n",
       "\n",
       "\n",
       "  <div class=\"bk-root\" id=\"7952c8c3-d57f-449e-80a0-463853b0badd\" data-root-id=\"1005\"></div>\n"
      ]
     },
     "metadata": {},
     "output_type": "display_data"
    },
    {
     "data": {
      "application/javascript": "(function(root) {\n  function embed_document(root) {\n    \n  const docs_json = {\"64095f89-4c1e-4ca5-bcd5-448ea72e1b71\":{\"defs\":[],\"roots\":{\"references\":[{\"attributes\":{\"below\":[{\"id\":\"1016\"}],\"center\":[{\"id\":\"1019\"},{\"id\":\"1023\"}],\"height\":800,\"left\":[{\"id\":\"1020\"}],\"outline_line_color\":null,\"renderers\":[{\"id\":\"1043\"}],\"title\":{\"id\":\"1006\"},\"toolbar\":{\"id\":\"1031\"},\"width\":800,\"x_range\":{\"id\":\"1008\"},\"x_scale\":{\"id\":\"1012\"},\"y_range\":{\"id\":\"1010\"},\"y_scale\":{\"id\":\"1014\"}},\"id\":\"1005\",\"subtype\":\"Figure\",\"type\":\"Plot\"},{\"attributes\":{\"bottom_units\":\"screen\",\"coordinates\":null,\"fill_alpha\":0.5,\"fill_color\":\"lightgrey\",\"group\":null,\"left_units\":\"screen\",\"level\":\"overlay\",\"line_alpha\":1.0,\"line_color\":\"black\",\"line_dash\":[4,4],\"line_width\":2,\"right_units\":\"screen\",\"syncable\":false,\"top_units\":\"screen\"},\"id\":\"1030\",\"type\":\"BoxAnnotation\"},{\"attributes\":{\"coordinates\":null,\"formatter\":{\"id\":\"1047\"},\"group\":null,\"major_label_policy\":{\"id\":\"1048\"},\"ticker\":{\"id\":\"1021\"},\"visible\":false},\"id\":\"1020\",\"type\":\"LinearAxis\"},{\"attributes\":{\"fill_alpha\":{\"value\":0.1},\"fill_color\":{\"value\":\"blue\"},\"hatch_color\":{\"value\":\"blue\"},\"line_alpha\":{\"value\":0.2},\"line_color\":{\"value\":\"blue\"},\"size\":{\"value\":10},\"x\":{\"field\":\"x\"},\"y\":{\"field\":\"y\"}},\"id\":\"1039\",\"type\":\"Circle\"},{\"attributes\":{},\"id\":\"1010\",\"type\":\"DataRange1d\"},{\"attributes\":{\"coordinates\":null,\"group\":null,\"text\":\"Word Vecs Br\\u00e1s Cubas (PCA)\"},\"id\":\"1006\",\"type\":\"Title\"},{\"attributes\":{\"coordinates\":null,\"formatter\":{\"id\":\"1050\"},\"group\":null,\"major_label_policy\":{\"id\":\"1051\"},\"ticker\":{\"id\":\"1017\"},\"visible\":false},\"id\":\"1016\",\"type\":\"LinearAxis\"},{\"attributes\":{},\"id\":\"1048\",\"type\":\"AllLabels\"},{\"attributes\":{},\"id\":\"1050\",\"type\":\"BasicTickFormatter\"},{\"attributes\":{\"active_scroll\":{\"id\":\"1025\"},\"tools\":[{\"id\":\"1004\"},{\"id\":\"1024\"},{\"id\":\"1025\"},{\"id\":\"1026\"},{\"id\":\"1027\"},{\"id\":\"1028\"}]},\"id\":\"1031\",\"type\":\"Toolbar\"},{\"attributes\":{},\"id\":\"1028\",\"type\":\"ResetTool\"},{\"attributes\":{\"overlay\":{\"id\":\"1030\"}},\"id\":\"1026\",\"type\":\"BoxZoomTool\"},{\"attributes\":{},\"id\":\"1051\",\"type\":\"AllLabels\"},{\"attributes\":{},\"id\":\"1008\",\"type\":\"DataRange1d\"},{\"attributes\":{},\"id\":\"1014\",\"type\":\"LinearScale\"},{\"attributes\":{\"fill_alpha\":{\"value\":0.1},\"fill_color\":{\"value\":\"blue\"},\"hatch_alpha\":{\"value\":0.1},\"hatch_color\":{\"value\":\"blue\"},\"line_alpha\":{\"value\":0.1},\"line_color\":{\"value\":\"blue\"},\"size\":{\"value\":10},\"x\":{\"field\":\"x\"},\"y\":{\"field\":\"y\"}},\"id\":\"1040\",\"type\":\"Circle\"},{\"attributes\":{\"bottom_units\":\"screen\",\"coordinates\":null,\"fill_alpha\":0.5,\"fill_color\":\"lightgrey\",\"group\":null,\"left_units\":\"screen\",\"level\":\"overlay\",\"line_alpha\":1.0,\"line_color\":\"black\",\"line_dash\":[4,4],\"line_width\":2,\"right_units\":\"screen\",\"syncable\":false,\"top_units\":\"screen\"},\"id\":\"1029\",\"type\":\"BoxAnnotation\"},{\"attributes\":{\"overlay\":{\"id\":\"1029\"}},\"id\":\"1027\",\"type\":\"BoxSelectTool\"},{\"attributes\":{\"axis\":{\"id\":\"1016\"},\"coordinates\":null,\"grid_line_color\":null,\"group\":null,\"ticker\":null},\"id\":\"1019\",\"type\":\"Grid\"},{\"attributes\":{},\"id\":\"1021\",\"type\":\"BasicTicker\"},{\"attributes\":{},\"id\":\"1025\",\"type\":\"WheelZoomTool\"},{\"attributes\":{},\"id\":\"1012\",\"type\":\"LinearScale\"},{\"attributes\":{},\"id\":\"1024\",\"type\":\"PanTool\"},{\"attributes\":{},\"id\":\"1017\",\"type\":\"BasicTicker\"},{\"attributes\":{},\"id\":\"1052\",\"type\":\"UnionRenderers\"},{\"attributes\":{\"axis\":{\"id\":\"1020\"},\"coordinates\":null,\"dimension\":1,\"grid_line_color\":null,\"group\":null,\"ticker\":null},\"id\":\"1023\",\"type\":\"Grid\"},{\"attributes\":{},\"id\":\"1047\",\"type\":\"BasicTickFormatter\"},{\"attributes\":{},\"id\":\"1053\",\"type\":\"Selection\"},{\"attributes\":{\"fill_alpha\":{\"value\":0.2},\"fill_color\":{\"value\":\"blue\"},\"hatch_alpha\":{\"value\":0.2},\"hatch_color\":{\"value\":\"blue\"},\"line_alpha\":{\"value\":0.2},\"line_color\":{\"value\":\"blue\"},\"size\":{\"value\":10},\"x\":{\"field\":\"x\"},\"y\":{\"field\":\"y\"}},\"id\":\"1042\",\"type\":\"Circle\"},{\"attributes\":{\"source\":{\"id\":\"1003\"}},\"id\":\"1044\",\"type\":\"CDSView\"},{\"attributes\":{\"fill_alpha\":{\"value\":0.1},\"fill_color\":{\"value\":\"blue\"},\"hatch_color\":{\"value\":\"blue\"},\"line_alpha\":{\"value\":0.2},\"size\":{\"value\":10},\"x\":{\"field\":\"x\"},\"y\":{\"field\":\"y\"}},\"id\":\"1041\",\"type\":\"Circle\"},{\"attributes\":{\"callback\":null,\"tooltips\":\"@word\"},\"id\":\"1004\",\"type\":\"HoverTool\"},{\"attributes\":{\"coordinates\":null,\"data_source\":{\"id\":\"1003\"},\"glyph\":{\"id\":\"1039\"},\"group\":null,\"hover_glyph\":{\"id\":\"1041\"},\"muted_glyph\":{\"id\":\"1042\"},\"nonselection_glyph\":{\"id\":\"1040\"},\"view\":{\"id\":\"1044\"}},\"id\":\"1043\",\"type\":\"GlyphRenderer\"},{\"attributes\":{\"data\":{\"index\":[\"conheci\",\"algumas\",\"destruir\",\"pagavame\",\"namorou\",\"d\\u00f3i\",\"trap\\u00e9zio\",\"deixase\",\"apoiada\",\"mudamente\",\"confessara\",\"repousando\",\"sentado\",\"logo\",\"trag\\u00e9dia\",\"mentia\",\"receber\\u00e1\",\"estuda\",\"aclives\",\"patachos\",\"improv\\u00e1vel\",\"comum\",\"sentarme\",\"salvou\",\"scheherazade\",\"civilizada\",\"mostrarme\",\"indigna\\u00e7\\u00e3o\",\"obs\\u00e9quio\",\"estrangulavaos\",\"arredei\",\"baque\",\"supremacia\",\"dobradi\\u00e7as\",\"dando\",\"desceram\",\"dissestes\",\"ca\\u00e7ambas\",\"costuma\",\"felicidade\",\"incompat\\u00edvel\",\"arma\",\"inf\\u00e2ncia\",\"ouvidor\",\"real\\u00e7avam\",\"amarelado\",\"interrompeuse\",\"fizer\",\"a\\u00e7\\u00e3o\",\"foise\",\"fitar\",\"conselho\",\"quadro\",\"grampo\",\"buraco\",\"pedem\",\"pandora\",\"mel\\u00e3o\",\"urge\",\"ali\\u00e1s\",\"gravidez\",\"proferir\",\"medalhas\",\"pr\\u00edncipe\",\"palavras\",\"alvoro\\u00e7ado\",\"sa\\u00ed\",\"empresa\",\"cenas\",\"jovial\",\"futura\",\"meigas\",\"jazer\",\"respectivo\",\"sei\",\"constrangidos\",\"restituir\",\"amea\\u00e7a\",\"extraordin\\u00e1rio\",\"curo\",\"pequena\",\"negues\",\"queimando\",\"repreens\\u00edvel\",\"aceitava\",\"descruzava\",\"caix\\u00e3o\",\"cama\",\"demonstra\\u00e7\\u00f5es\",\"tolhida\",\"escusa\",\"pungiame\",\"social\",\"jogo\",\"lesse\",\"pessimismo\",\"fugir\",\"s\\u00f3rdido\",\"acrescia\",\"perdiam\",\"problema\",\"recair\",\"arraigado\",\"tub\\u00e9rculos\",\"feitio\",\"subjugoua\",\"dizia\",\"incerto\",\"aconteceume\",\"amorpaix\\u00e3o\",\"conseguira\",\"atireime\",\"cano\",\"duras\",\"convulsa\",\"resolutamente\",\"alteando\",\"damasceno\",\"afei\\u00e7\\u00e3o\",\"f\\u00e9\",\"dist\\u00farbio\",\"folgares\",\"secreta\",\"cabelo\",\"escrevi\",\"aconteceu\",\"lances\",\"elementos\",\"ganhara\",\"antecipa\\u00e7\\u00e3o\",\"rodasse\",\"acepipe\",\"inc\\u00f4modo\",\"fantasias\",\"pega\",\"pensativa\",\"menina\",\"colocam\",\"herdeiro\",\"rabicho\",\"embarcar\",\"hist\\u00f3ria\",\"torceu\",\"domingos\",\"cingir\",\"passarinho\",\"arru\\u00eddo\",\"manuscritos\",\"frouxid\\u00e3o\",\"novela\",\"neste\",\"d\\u0092\\u00e1gua\",\"recorreu\",\"lente\",\"eras\",\"audaciosa\",\"paisana\",\"bals\\u00e2mico\",\"serem\",\"famosa\",\"mergulhado\",\"disfar\\u00e7adamente\",\"suspensiva\",\"escrevia\",\"parecida\",\"talha\",\"substancialmente\",\"seguro\",\"breve\",\"queridos\",\"vives\",\"indefin\\u00edvel\",\"dente\",\"andrajo\",\"perderem\",\"cavar\",\"come\\u00e7avam\",\"afortunado\",\"sorri\",\"falavalhe\",\"mai\\u00fasculas\",\"verdugos\",\"met\\u00eala\",\"dias\",\"embriagoume\",\"sandice\",\"chama\",\"pratinha\",\"convidar\",\"torcia\",\"jardim\",\"desejoso\",\"comiss\\u00e3o\",\"almas\",\"morais\",\"feia\",\"mandouo\",\"compartir\",\"f\\u00edsica\",\"gostei\",\"contavam\",\"bojudo\",\"it\\u00e1lia\",\"cuide\",\"deputado\",\"incr\\u00e9dulo\",\"\\u00f3leo\",\"classifiqueia\",\"grato\",\"galanteio\",\"sorrisos\",\"caf\\u00e9\",\"san\\u00e7\\u00e3o\",\"fronte\",\"piparote\",\"pol\\u00edticos\",\"louvaramme\",\"pobre\",\"tr\\u00e1gica\",\"modos\",\"impress\\u00e3o\",\"tremor\",\"mergulhei\",\"emba\\u00e7adelas\",\"cirurgi\\u00e3o\",\"levasse\",\"descerem\",\"ambas\",\"namoro\",\"lxxv\",\"c\\u00f4modo\",\"pra\\u00e7as\",\"rebuscado\",\"tristeza\",\"fustigavao\",\"supunhamos\",\"esperan\\u00e7a\",\"explica\",\"nasceu\",\"perderse\",\"iai\\u00e1\",\"permitame\",\"su\\u00ed\\u00e7as\",\"marroquim\",\"trata\",\"sucesso\",\"anan\\u00e1s\",\"pesada\",\"lados\",\"j\\u00f3\",\"bizarro\",\"d\\u00fazia\",\"meios\",\"extenso\",\"nego\",\"crime\",\"baixo\",\"antiasm\\u00e1ticas\",\"certo\",\"compeliamme\",\"derramavaselhe\",\"flagelado\",\"sestro\",\"despente\\u00e1la\",\"mentalmente\",\"rejeit\\u00e1la\",\"lho\",\"instantes\",\"todo\",\"declives\",\"claro\",\"lama\",\"xavier\",\"padres\",\"singela\",\"ix\",\"inflama\",\"criados\",\"esque\\u00e7ame\",\"m\\u00edngua\",\"fitos\",\"despedime\",\"insinuativo\",\"quer\",\"longas\",\"orelhas\",\"superfinas\",\"enxugou\",\"vadia\",\"entreguemola\",\"retardar\",\"cachoeira\",\"p\\u00e9rola\",\"impulsiva\",\"males\",\"recebiao\",\"ent\\u00e3o\",\"romualdo\",\"tranq\\u00fcilos\",\"idiota\",\"relut\\u00e2ncia\",\"distribuir\",\"singular\",\"deixavase\",\"juntavaas\",\"veneza\",\"darvosia\",\"cheiro\",\"decidir\",\"direta\",\"ca\\u00e7ar\",\"resgatar\",\"projeto\",\"torno\",\"rolar\",\"durmo\",\"estr\\u00e9pito\",\"ovante\",\"crer\",\"empalidecera\",\"desla\\u00e7asse\",\"pedras\",\"travamos\",\"lembrarte\",\"estirate\",\"profeta\",\"nesse\",\"doara\",\"cinq\\u00fcenta\",\"fervor\",\"tornavase\",\"suspeitoso\",\"realmente\",\"recusa\",\"voltar\",\"inclinase\",\"malogro\",\"distra\\u00e7\\u00e3o\",\"tino\",\"encastoados\",\"revirei\",\"correio\",\"desconjuntados\",\"un\\u00e7\\u00e3o\",\"distinguia\",\"or\\u00e7amento\",\"velhas\",\"estarmos\",\"conseguintemente\",\"acabemos\",\"obtive\",\"compreendeu\",\"instou\",\"levavam\",\"desabotoar\",\"ch\\u00e3s\",\"superior\",\"mescla\",\"foste\",\"voltandose\",\"mem\\u00f3ria\",\"apaziguoua\",\"piedosa\",\"amanheceu\",\"s\\u00faplica\",\"visit\\u00e1los\",\"acumular\",\"remido\",\"plancher\",\"desvencilheime\",\"rapidez\",\"garridamente\",\"perseguir\",\"estrume\",\"alienado\",\"devorote\",\"matou\",\"bonaparte\",\"receberam\",\"desastradas\",\"pontualidade\",\"criaturas\",\"patuscada\",\"desforravam\",\"complicava\",\"fundador\",\"barbante\",\"maternais\",\"diz\",\"intercalava\",\"enfeitado\",\"perdas\",\"falado\",\"valer\",\"vierem\",\"resignado\",\"militar\",\"senso\",\"ialhe\",\"sentiua\",\"enfeit\\u00e1lo\",\"necessidade\",\"resmungam\",\"gl\\u00f3ria\",\"risadas\",\"franqueza\",\"derreava\",\"d\\u00eaem\",\"mangas\",\"vir\",\"const\\u00e2ncia\",\"estado\",\"cruzado\",\"exatamente\",\"comprador\",\"sol\",\"sarcasmo\",\"equival\\u00eancia\",\"desnecess\\u00e1rio\",\"enf\\u00e1tico\",\"fazia\",\"credulidade\",\"regular\",\"torna\",\"cordel\",\"fitinhas\",\"notar\",\"louco\",\"barba\",\"col\\u00e9gio\",\"debilidade\",\"pensamento\",\"iniciaria\",\"navios\",\"pulos\",\"at\",\"bainhas\",\"dualidade\",\"interrogava\",\"tribuna\",\"chego\",\"mereceu\",\"negavam\",\"patriota\",\"estrondo\",\"engenho\",\"andava\",\"plena\",\"lugares\",\"apatia\",\"gastei\",\"s\\u00e9ria\",\"metime\",\"figura\",\"t\\u00e9dio\",\"levarlhe\",\"reservas\",\"enxotada\",\"sacudiume\",\"embarcaria\",\"reputa\\u00e7\\u00e3o\",\"afagoume\",\"podemos\",\"apertado\",\"voltado\",\"espasmo\",\"possuiu\",\"vizinha\",\"fustigueio\",\"futuros\",\"parecessem\",\"teimoso\",\"espregui\\u00e7avamse\",\"tamborila\",\"t\\u00eala\",\"pecados\",\"profundas\",\"sentiame\",\"trabalhadas\",\"fazem\",\"cacholetas\",\"expansivo\",\"cacarejar\",\"deslembrado\",\"tossir\",\"asseadinho\",\"quimera\",\"entra\",\"tropas\",\"noutro\",\"receber\",\"cautela\",\"guardei\",\"germ\\u00e2nica\",\"perdida\",\"corre\\u00e7\\u00e3o\",\"comia\",\"carpinteiro\",\"elevada\",\"replicoume\",\"amasme\",\"francisco\",\"semiaberta\",\"atirarse\",\"param\",\"perdia\",\"pois\",\"quatrocentos\",\"am\\u00e1veis\",\"inventara\",\"rid\\u00edcula\",\"agudo\",\"parceiras\",\"atada\",\"entristecesse\",\"ter\\u00e7o\",\"subordina\",\"f\\u00edsico\",\"meses\",\"suprimir\",\"levando\",\"nenhumas\",\"cal\",\"amesquinhado\",\"licen\\u00e7a\",\"bebi\",\"inventou\",\"circulou\",\"brejeiro\",\"convencida\",\"embargo\",\"verdes\",\"lutar\",\"confessou\",\"espet\\u00e1culo\",\"vest\\u00edgio\",\"dissipou\",\"pau\",\"amparasse\",\"tra\\u00e7as\",\"manuscrito\",\"correrias\",\"excesso\",\"pronta\",\"esbaforido\",\"afiando\",\"adoecer\",\"narrar\",\"corrigida\",\"var\\u00f5es\",\"viver\",\"esta\\u00e7\\u00f5es\",\"patacas\",\"faminta\",\"sobrinha\",\"aspectos\",\"respirei\",\"gemia\",\"desordem\",\"angariar\",\"bula\",\"dona\",\"derrota\",\"retorqui\",\"admiroume\",\"continuei\",\"anca\",\"cargo\",\"considera\\u00e7\\u00e3o\",\"dezessete\",\"deixava\",\"escrito\",\"fant\\u00e1stica\",\"nutrida\",\"digo\",\"tremer\",\"abatia\",\"ecoou\",\"acudisse\",\"escreverlhe\",\"pediume\",\"comparasse\",\"ponderarlhe\",\"veremos\",\"come\\u00e7ar\",\"benta\",\"safo\",\"pensado\",\"entraram\",\"cancro\",\"retra\\u00eddo\",\"desmancha\",\"tardios\",\"desesperado\",\"oitavado\",\"acolheu\",\"buriladas\",\"piedade\",\"embrulhada\",\"finados\",\"sentimentos\",\"crescendo\",\"ilisso\",\"arandelas\",\"derivativo\",\"origem\",\"fitas\",\"agitoua\",\"\\u00e1spero\",\"velhos\",\"foge\",\"custasse\",\"reconstitui\\u00e7\\u00e3o\",\"repeli\",\"acusa\",\"ora\\u00e7\\u00e3o\",\"ignor\\u00e2ncias\",\"opus\",\"dogm\\u00e1tica\",\"fulva\",\"dom\\u00e9stico\",\"salva\",\"cuidas\",\"movimentos\",\"ouvemse\",\"externo\",\"cr\\u00e2nio\",\"prov\\u00e1lo\",\"arder\",\"emagreceu\",\"marcada\",\"ass\\u00edrias\",\"intervalado\",\"montanha\",\"botim\",\"coxeava\",\"trouxelho\",\"devassarem\",\"entristeceu\",\"infinitas\",\"oportunidade\",\"ociosos\",\"r\\u00edgida\",\"capad\\u00f3cios\",\"quimeras\",\"inventor\",\"atraso\",\"cajueiros\",\"defunto\",\"v\\u00ealos\",\"levantoume\",\"anjos\",\"davamme\",\"fit\\u00e1la\",\"moita\",\"minuciosa\",\"lady\",\"elogiou\",\"calejara\",\"aleivosa\",\"far\\u00e1\",\"inglaterra\",\"efl\\u00favio\",\"destacouse\",\"assassino\",\"n\\u00e1ufragos\",\"legado\",\"examinaa\",\"garoto\",\"alvitre\",\"l\\u00e1bios\",\"amarela\",\"codicilo\",\"empacava\",\"perdiamse\",\"diversas\",\"pico\",\"arfagem\",\"concilia\\u00e7\\u00e3o\",\"stendhal\",\"temor\",\"fam\\u00edlia\",\"quero\",\"fresca\",\"entend\\u00eala\",\"desgarre\",\"fa\\u00e7amos\",\"crist\\u00e3o\",\"fingiuse\",\"repoltreouse\",\"apeou\",\"agarreia\",\"fatuidade\",\"plantas\",\"morte\",\"buffon\",\"afabilidade\",\"espinhos\",\"devida\",\"agregada\",\"inclineime\",\"confeitos\",\"tamanha\",\"xi\",\"correspondente\",\"boquiaberta\",\"vicerei\",\"responder\",\"reorganizada\",\"crueldade\",\"quest\\u00f5es\",\"precursor\",\"v\\u00eala\",\"consultei\",\"lavaramse\",\"desfez\",\"dezesseis\",\"preferia\",\"farm\\u00e1cia\",\"toda\",\"sabedor\",\"cruzes\",\"apressar\",\"gratific\\u00e1la\",\"afetando\",\"viramme\",\"compara\\u00e7\\u00e3o\",\"alfaias\",\"chamam\",\"ensandeceste\",\"protesto\",\"encareio\",\"circulava\",\"mandeio\",\"admiss\\u00e3o\",\"mal\",\"ouvida\",\"intrus\\u00e3o\",\"oratoriozinho\",\"espreit\\u00e1lo\",\"cria\\u00e7\\u00e3o\",\"fecha\",\"piegas\",\"aberto\",\"renhidas\",\"nasciam\",\"seguios\",\"mundo\",\"leva\",\"frustrada\",\"hotel\",\"infame\",\"afago\",\"decl\\u00ednio\",\"murchara\",\"facilmente\",\"moles\",\"circunst\\u00e2ncias\",\"comparo\",\"valeu\",\"enfadava\",\"reinado\",\"ovo\",\"hipocondr\\u00edacos\",\"podres\",\"mandoume\",\"subitamente\",\"daquelas\",\"presidenta\",\"nascido\",\"fores\",\"chorara\",\"admira\",\"estar\\u00e1s\",\"copo\",\"asno\",\"passei\",\"parou\",\"honradas\",\"corrido\",\"respira\\u00e7\\u00e3o\",\"entrando\",\"preparouse\",\"acaso\",\"amasse\",\"sobremesa\",\"faca\",\"demonstreilhe\",\"sargentomor\",\"petulante\",\"escravo\",\"conseguia\",\"retalhos\",\"s\\u00f3crates\",\"liga\\u00e7\\u00e3o\",\"peste\",\"deixastes\",\"contrativa\",\"vigiavanos\",\"voar\",\"rel\\u00e2mpago\",\"passemos\",\"destr\\u00f3i\",\"segureio\",\"queiras\",\"alcancei\",\"manjares\",\"pode\",\"chegaria\",\"1855\",\"mole\",\"recebe\",\"lancei\",\"ensinava\",\"remoer\",\"notas\",\"perdese\",\"pergunteilhe\",\"rapaz\",\"desancaram\",\"suporlhe\",\"rasg\\u00f5es\",\"torvo\",\"encontramonos\",\"xiv\",\"regularidade\",\"insaci\\u00e1vel\",\"desprezo\",\"prop\\u00f4s\",\"podeis\",\"gatuno\",\"cruel\",\"partir\",\"deleitavase\",\"tapete\",\"confessoume\",\"bibli\\u00f4mano\",\"ofegante\",\"vicente\",\"sair\",\"esc\\u00e2ndalo\",\"vivi\",\"avareza\",\"estirado\",\"escasso\",\"inventos\",\"fizeste\",\"assim\",\"gatos\",\"arranjadinho\",\"submete\",\"marfim\",\"retalho\",\"saboroso\",\"amainou\",\"equ\\u00edvocos\",\"esconderlhes\",\"fito\",\"demora\",\"interino\",\"volto\",\"cont\\u00ednua\",\"meigo\",\"destempero\",\"parte\",\"setenta\",\"galanteava\",\"acharme\",\"simular\",\"futuras\",\"aquiles\",\"conseq\\u00fc\\u00eancias\",\"dominou\",\"noteilhe\",\"fixar\",\"comparsa\",\"arruar\",\"leu\",\"bandeira\",\"roer\",\"dizerme\",\"cobras\",\"quebrouo\",\"demoro\",\"sr\",\"voluptuoso\",\"sat\\u00e2nico\",\"deix\\u00e1veis\",\"chufas\",\"austeridade\",\"pios\",\"lamparina\",\"segureilhe\",\"pedrinha\",\"lutes\",\"expansiva\",\"tonto\",\"mau\",\"continuava\",\"esvaiuse\"],\"word\":[\"conheci\",\"algumas\",\"destruir\",\"pagavame\",\"namorou\",\"d\\u00f3i\",\"trap\\u00e9zio\",\"deixase\",\"apoiada\",\"mudamente\",\"confessara\",\"repousando\",\"sentado\",\"logo\",\"trag\\u00e9dia\",\"mentia\",\"receber\\u00e1\",\"estuda\",\"aclives\",\"patachos\",\"improv\\u00e1vel\",\"comum\",\"sentarme\",\"salvou\",\"scheherazade\",\"civilizada\",\"mostrarme\",\"indigna\\u00e7\\u00e3o\",\"obs\\u00e9quio\",\"estrangulavaos\",\"arredei\",\"baque\",\"supremacia\",\"dobradi\\u00e7as\",\"dando\",\"desceram\",\"dissestes\",\"ca\\u00e7ambas\",\"costuma\",\"felicidade\",\"incompat\\u00edvel\",\"arma\",\"inf\\u00e2ncia\",\"ouvidor\",\"real\\u00e7avam\",\"amarelado\",\"interrompeuse\",\"fizer\",\"a\\u00e7\\u00e3o\",\"foise\",\"fitar\",\"conselho\",\"quadro\",\"grampo\",\"buraco\",\"pedem\",\"pandora\",\"mel\\u00e3o\",\"urge\",\"ali\\u00e1s\",\"gravidez\",\"proferir\",\"medalhas\",\"pr\\u00edncipe\",\"palavras\",\"alvoro\\u00e7ado\",\"sa\\u00ed\",\"empresa\",\"cenas\",\"jovial\",\"futura\",\"meigas\",\"jazer\",\"respectivo\",\"sei\",\"constrangidos\",\"restituir\",\"amea\\u00e7a\",\"extraordin\\u00e1rio\",\"curo\",\"pequena\",\"negues\",\"queimando\",\"repreens\\u00edvel\",\"aceitava\",\"descruzava\",\"caix\\u00e3o\",\"cama\",\"demonstra\\u00e7\\u00f5es\",\"tolhida\",\"escusa\",\"pungiame\",\"social\",\"jogo\",\"lesse\",\"pessimismo\",\"fugir\",\"s\\u00f3rdido\",\"acrescia\",\"perdiam\",\"problema\",\"recair\",\"arraigado\",\"tub\\u00e9rculos\",\"feitio\",\"subjugoua\",\"dizia\",\"incerto\",\"aconteceume\",\"amorpaix\\u00e3o\",\"conseguira\",\"atireime\",\"cano\",\"duras\",\"convulsa\",\"resolutamente\",\"alteando\",\"damasceno\",\"afei\\u00e7\\u00e3o\",\"f\\u00e9\",\"dist\\u00farbio\",\"folgares\",\"secreta\",\"cabelo\",\"escrevi\",\"aconteceu\",\"lances\",\"elementos\",\"ganhara\",\"antecipa\\u00e7\\u00e3o\",\"rodasse\",\"acepipe\",\"inc\\u00f4modo\",\"fantasias\",\"pega\",\"pensativa\",\"menina\",\"colocam\",\"herdeiro\",\"rabicho\",\"embarcar\",\"hist\\u00f3ria\",\"torceu\",\"domingos\",\"cingir\",\"passarinho\",\"arru\\u00eddo\",\"manuscritos\",\"frouxid\\u00e3o\",\"novela\",\"neste\",\"d\\u0092\\u00e1gua\",\"recorreu\",\"lente\",\"eras\",\"audaciosa\",\"paisana\",\"bals\\u00e2mico\",\"serem\",\"famosa\",\"mergulhado\",\"disfar\\u00e7adamente\",\"suspensiva\",\"escrevia\",\"parecida\",\"talha\",\"substancialmente\",\"seguro\",\"breve\",\"queridos\",\"vives\",\"indefin\\u00edvel\",\"dente\",\"andrajo\",\"perderem\",\"cavar\",\"come\\u00e7avam\",\"afortunado\",\"sorri\",\"falavalhe\",\"mai\\u00fasculas\",\"verdugos\",\"met\\u00eala\",\"dias\",\"embriagoume\",\"sandice\",\"chama\",\"pratinha\",\"convidar\",\"torcia\",\"jardim\",\"desejoso\",\"comiss\\u00e3o\",\"almas\",\"morais\",\"feia\",\"mandouo\",\"compartir\",\"f\\u00edsica\",\"gostei\",\"contavam\",\"bojudo\",\"it\\u00e1lia\",\"cuide\",\"deputado\",\"incr\\u00e9dulo\",\"\\u00f3leo\",\"classifiqueia\",\"grato\",\"galanteio\",\"sorrisos\",\"caf\\u00e9\",\"san\\u00e7\\u00e3o\",\"fronte\",\"piparote\",\"pol\\u00edticos\",\"louvaramme\",\"pobre\",\"tr\\u00e1gica\",\"modos\",\"impress\\u00e3o\",\"tremor\",\"mergulhei\",\"emba\\u00e7adelas\",\"cirurgi\\u00e3o\",\"levasse\",\"descerem\",\"ambas\",\"namoro\",\"lxxv\",\"c\\u00f4modo\",\"pra\\u00e7as\",\"rebuscado\",\"tristeza\",\"fustigavao\",\"supunhamos\",\"esperan\\u00e7a\",\"explica\",\"nasceu\",\"perderse\",\"iai\\u00e1\",\"permitame\",\"su\\u00ed\\u00e7as\",\"marroquim\",\"trata\",\"sucesso\",\"anan\\u00e1s\",\"pesada\",\"lados\",\"j\\u00f3\",\"bizarro\",\"d\\u00fazia\",\"meios\",\"extenso\",\"nego\",\"crime\",\"baixo\",\"antiasm\\u00e1ticas\",\"certo\",\"compeliamme\",\"derramavaselhe\",\"flagelado\",\"sestro\",\"despente\\u00e1la\",\"mentalmente\",\"rejeit\\u00e1la\",\"lho\",\"instantes\",\"todo\",\"declives\",\"claro\",\"lama\",\"xavier\",\"padres\",\"singela\",\"ix\",\"inflama\",\"criados\",\"esque\\u00e7ame\",\"m\\u00edngua\",\"fitos\",\"despedime\",\"insinuativo\",\"quer\",\"longas\",\"orelhas\",\"superfinas\",\"enxugou\",\"vadia\",\"entreguemola\",\"retardar\",\"cachoeira\",\"p\\u00e9rola\",\"impulsiva\",\"males\",\"recebiao\",\"ent\\u00e3o\",\"romualdo\",\"tranq\\u00fcilos\",\"idiota\",\"relut\\u00e2ncia\",\"distribuir\",\"singular\",\"deixavase\",\"juntavaas\",\"veneza\",\"darvosia\",\"cheiro\",\"decidir\",\"direta\",\"ca\\u00e7ar\",\"resgatar\",\"projeto\",\"torno\",\"rolar\",\"durmo\",\"estr\\u00e9pito\",\"ovante\",\"crer\",\"empalidecera\",\"desla\\u00e7asse\",\"pedras\",\"travamos\",\"lembrarte\",\"estirate\",\"profeta\",\"nesse\",\"doara\",\"cinq\\u00fcenta\",\"fervor\",\"tornavase\",\"suspeitoso\",\"realmente\",\"recusa\",\"voltar\",\"inclinase\",\"malogro\",\"distra\\u00e7\\u00e3o\",\"tino\",\"encastoados\",\"revirei\",\"correio\",\"desconjuntados\",\"un\\u00e7\\u00e3o\",\"distinguia\",\"or\\u00e7amento\",\"velhas\",\"estarmos\",\"conseguintemente\",\"acabemos\",\"obtive\",\"compreendeu\",\"instou\",\"levavam\",\"desabotoar\",\"ch\\u00e3s\",\"superior\",\"mescla\",\"foste\",\"voltandose\",\"mem\\u00f3ria\",\"apaziguoua\",\"piedosa\",\"amanheceu\",\"s\\u00faplica\",\"visit\\u00e1los\",\"acumular\",\"remido\",\"plancher\",\"desvencilheime\",\"rapidez\",\"garridamente\",\"perseguir\",\"estrume\",\"alienado\",\"devorote\",\"matou\",\"bonaparte\",\"receberam\",\"desastradas\",\"pontualidade\",\"criaturas\",\"patuscada\",\"desforravam\",\"complicava\",\"fundador\",\"barbante\",\"maternais\",\"diz\",\"intercalava\",\"enfeitado\",\"perdas\",\"falado\",\"valer\",\"vierem\",\"resignado\",\"militar\",\"senso\",\"ialhe\",\"sentiua\",\"enfeit\\u00e1lo\",\"necessidade\",\"resmungam\",\"gl\\u00f3ria\",\"risadas\",\"franqueza\",\"derreava\",\"d\\u00eaem\",\"mangas\",\"vir\",\"const\\u00e2ncia\",\"estado\",\"cruzado\",\"exatamente\",\"comprador\",\"sol\",\"sarcasmo\",\"equival\\u00eancia\",\"desnecess\\u00e1rio\",\"enf\\u00e1tico\",\"fazia\",\"credulidade\",\"regular\",\"torna\",\"cordel\",\"fitinhas\",\"notar\",\"louco\",\"barba\",\"col\\u00e9gio\",\"debilidade\",\"pensamento\",\"iniciaria\",\"navios\",\"pulos\",\"at\",\"bainhas\",\"dualidade\",\"interrogava\",\"tribuna\",\"chego\",\"mereceu\",\"negavam\",\"patriota\",\"estrondo\",\"engenho\",\"andava\",\"plena\",\"lugares\",\"apatia\",\"gastei\",\"s\\u00e9ria\",\"metime\",\"figura\",\"t\\u00e9dio\",\"levarlhe\",\"reservas\",\"enxotada\",\"sacudiume\",\"embarcaria\",\"reputa\\u00e7\\u00e3o\",\"afagoume\",\"podemos\",\"apertado\",\"voltado\",\"espasmo\",\"possuiu\",\"vizinha\",\"fustigueio\",\"futuros\",\"parecessem\",\"teimoso\",\"espregui\\u00e7avamse\",\"tamborila\",\"t\\u00eala\",\"pecados\",\"profundas\",\"sentiame\",\"trabalhadas\",\"fazem\",\"cacholetas\",\"expansivo\",\"cacarejar\",\"deslembrado\",\"tossir\",\"asseadinho\",\"quimera\",\"entra\",\"tropas\",\"noutro\",\"receber\",\"cautela\",\"guardei\",\"germ\\u00e2nica\",\"perdida\",\"corre\\u00e7\\u00e3o\",\"comia\",\"carpinteiro\",\"elevada\",\"replicoume\",\"amasme\",\"francisco\",\"semiaberta\",\"atirarse\",\"param\",\"perdia\",\"pois\",\"quatrocentos\",\"am\\u00e1veis\",\"inventara\",\"rid\\u00edcula\",\"agudo\",\"parceiras\",\"atada\",\"entristecesse\",\"ter\\u00e7o\",\"subordina\",\"f\\u00edsico\",\"meses\",\"suprimir\",\"levando\",\"nenhumas\",\"cal\",\"amesquinhado\",\"licen\\u00e7a\",\"bebi\",\"inventou\",\"circulou\",\"brejeiro\",\"convencida\",\"embargo\",\"verdes\",\"lutar\",\"confessou\",\"espet\\u00e1culo\",\"vest\\u00edgio\",\"dissipou\",\"pau\",\"amparasse\",\"tra\\u00e7as\",\"manuscrito\",\"correrias\",\"excesso\",\"pronta\",\"esbaforido\",\"afiando\",\"adoecer\",\"narrar\",\"corrigida\",\"var\\u00f5es\",\"viver\",\"esta\\u00e7\\u00f5es\",\"patacas\",\"faminta\",\"sobrinha\",\"aspectos\",\"respirei\",\"gemia\",\"desordem\",\"angariar\",\"bula\",\"dona\",\"derrota\",\"retorqui\",\"admiroume\",\"continuei\",\"anca\",\"cargo\",\"considera\\u00e7\\u00e3o\",\"dezessete\",\"deixava\",\"escrito\",\"fant\\u00e1stica\",\"nutrida\",\"digo\",\"tremer\",\"abatia\",\"ecoou\",\"acudisse\",\"escreverlhe\",\"pediume\",\"comparasse\",\"ponderarlhe\",\"veremos\",\"come\\u00e7ar\",\"benta\",\"safo\",\"pensado\",\"entraram\",\"cancro\",\"retra\\u00eddo\",\"desmancha\",\"tardios\",\"desesperado\",\"oitavado\",\"acolheu\",\"buriladas\",\"piedade\",\"embrulhada\",\"finados\",\"sentimentos\",\"crescendo\",\"ilisso\",\"arandelas\",\"derivativo\",\"origem\",\"fitas\",\"agitoua\",\"\\u00e1spero\",\"velhos\",\"foge\",\"custasse\",\"reconstitui\\u00e7\\u00e3o\",\"repeli\",\"acusa\",\"ora\\u00e7\\u00e3o\",\"ignor\\u00e2ncias\",\"opus\",\"dogm\\u00e1tica\",\"fulva\",\"dom\\u00e9stico\",\"salva\",\"cuidas\",\"movimentos\",\"ouvemse\",\"externo\",\"cr\\u00e2nio\",\"prov\\u00e1lo\",\"arder\",\"emagreceu\",\"marcada\",\"ass\\u00edrias\",\"intervalado\",\"montanha\",\"botim\",\"coxeava\",\"trouxelho\",\"devassarem\",\"entristeceu\",\"infinitas\",\"oportunidade\",\"ociosos\",\"r\\u00edgida\",\"capad\\u00f3cios\",\"quimeras\",\"inventor\",\"atraso\",\"cajueiros\",\"defunto\",\"v\\u00ealos\",\"levantoume\",\"anjos\",\"davamme\",\"fit\\u00e1la\",\"moita\",\"minuciosa\",\"lady\",\"elogiou\",\"calejara\",\"aleivosa\",\"far\\u00e1\",\"inglaterra\",\"efl\\u00favio\",\"destacouse\",\"assassino\",\"n\\u00e1ufragos\",\"legado\",\"examinaa\",\"garoto\",\"alvitre\",\"l\\u00e1bios\",\"amarela\",\"codicilo\",\"empacava\",\"perdiamse\",\"diversas\",\"pico\",\"arfagem\",\"concilia\\u00e7\\u00e3o\",\"stendhal\",\"temor\",\"fam\\u00edlia\",\"quero\",\"fresca\",\"entend\\u00eala\",\"desgarre\",\"fa\\u00e7amos\",\"crist\\u00e3o\",\"fingiuse\",\"repoltreouse\",\"apeou\",\"agarreia\",\"fatuidade\",\"plantas\",\"morte\",\"buffon\",\"afabilidade\",\"espinhos\",\"devida\",\"agregada\",\"inclineime\",\"confeitos\",\"tamanha\",\"xi\",\"correspondente\",\"boquiaberta\",\"vicerei\",\"responder\",\"reorganizada\",\"crueldade\",\"quest\\u00f5es\",\"precursor\",\"v\\u00eala\",\"consultei\",\"lavaramse\",\"desfez\",\"dezesseis\",\"preferia\",\"farm\\u00e1cia\",\"toda\",\"sabedor\",\"cruzes\",\"apressar\",\"gratific\\u00e1la\",\"afetando\",\"viramme\",\"compara\\u00e7\\u00e3o\",\"alfaias\",\"chamam\",\"ensandeceste\",\"protesto\",\"encareio\",\"circulava\",\"mandeio\",\"admiss\\u00e3o\",\"mal\",\"ouvida\",\"intrus\\u00e3o\",\"oratoriozinho\",\"espreit\\u00e1lo\",\"cria\\u00e7\\u00e3o\",\"fecha\",\"piegas\",\"aberto\",\"renhidas\",\"nasciam\",\"seguios\",\"mundo\",\"leva\",\"frustrada\",\"hotel\",\"infame\",\"afago\",\"decl\\u00ednio\",\"murchara\",\"facilmente\",\"moles\",\"circunst\\u00e2ncias\",\"comparo\",\"valeu\",\"enfadava\",\"reinado\",\"ovo\",\"hipocondr\\u00edacos\",\"podres\",\"mandoume\",\"subitamente\",\"daquelas\",\"presidenta\",\"nascido\",\"fores\",\"chorara\",\"admira\",\"estar\\u00e1s\",\"copo\",\"asno\",\"passei\",\"parou\",\"honradas\",\"corrido\",\"respira\\u00e7\\u00e3o\",\"entrando\",\"preparouse\",\"acaso\",\"amasse\",\"sobremesa\",\"faca\",\"demonstreilhe\",\"sargentomor\",\"petulante\",\"escravo\",\"conseguia\",\"retalhos\",\"s\\u00f3crates\",\"liga\\u00e7\\u00e3o\",\"peste\",\"deixastes\",\"contrativa\",\"vigiavanos\",\"voar\",\"rel\\u00e2mpago\",\"passemos\",\"destr\\u00f3i\",\"segureio\",\"queiras\",\"alcancei\",\"manjares\",\"pode\",\"chegaria\",\"1855\",\"mole\",\"recebe\",\"lancei\",\"ensinava\",\"remoer\",\"notas\",\"perdese\",\"pergunteilhe\",\"rapaz\",\"desancaram\",\"suporlhe\",\"rasg\\u00f5es\",\"torvo\",\"encontramonos\",\"xiv\",\"regularidade\",\"insaci\\u00e1vel\",\"desprezo\",\"prop\\u00f4s\",\"podeis\",\"gatuno\",\"cruel\",\"partir\",\"deleitavase\",\"tapete\",\"confessoume\",\"bibli\\u00f4mano\",\"ofegante\",\"vicente\",\"sair\",\"esc\\u00e2ndalo\",\"vivi\",\"avareza\",\"estirado\",\"escasso\",\"inventos\",\"fizeste\",\"assim\",\"gatos\",\"arranjadinho\",\"submete\",\"marfim\",\"retalho\",\"saboroso\",\"amainou\",\"equ\\u00edvocos\",\"esconderlhes\",\"fito\",\"demora\",\"interino\",\"volto\",\"cont\\u00ednua\",\"meigo\",\"destempero\",\"parte\",\"setenta\",\"galanteava\",\"acharme\",\"simular\",\"futuras\",\"aquiles\",\"conseq\\u00fc\\u00eancias\",\"dominou\",\"noteilhe\",\"fixar\",\"comparsa\",\"arruar\",\"leu\",\"bandeira\",\"roer\",\"dizerme\",\"cobras\",\"quebrouo\",\"demoro\",\"sr\",\"voluptuoso\",\"sat\\u00e2nico\",\"deix\\u00e1veis\",\"chufas\",\"austeridade\",\"pios\",\"lamparina\",\"segureilhe\",\"pedrinha\",\"lutes\",\"expansiva\",\"tonto\",\"mau\",\"continuava\",\"esvaiuse\"],\"x\":{\"__ndarray__\":\"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\",\"dtype\":\"float64\",\"order\":\"little\",\"shape\":[900]},\"y\":{\"__ndarray__\":\"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\",\"dtype\":\"float64\",\"order\":\"little\",\"shape\":[900]}},\"selected\":{\"id\":\"1053\"},\"selection_policy\":{\"id\":\"1052\"}},\"id\":\"1003\",\"type\":\"ColumnDataSource\"}],\"root_ids\":[\"1005\"]},\"title\":\"Bokeh Application\",\"version\":\"2.4.2\"}};\n  const render_items = [{\"docid\":\"64095f89-4c1e-4ca5-bcd5-448ea72e1b71\",\"root_ids\":[\"1005\"],\"roots\":{\"1005\":\"7952c8c3-d57f-449e-80a0-463853b0badd\"}}];\n  root.Bokeh.embed.embed_items_notebook(docs_json, render_items);\n\n  }\n  if (root.Bokeh !== undefined) {\n    embed_document(root);\n  } else {\n    let attempts = 0;\n    const timer = setInterval(function(root) {\n      if (root.Bokeh !== undefined) {\n        clearInterval(timer);\n        embed_document(root);\n      } else {\n        attempts++;\n        if (attempts > 100) {\n          clearInterval(timer);\n          console.log(\"Bokeh: ERROR: Unable to run BokehJS code because BokehJS library is missing\");\n        }\n      }\n    }, 10, root)\n  }\n})(window);",
      "application/vnd.bokehjs_exec.v0+json": ""
     },
     "metadata": {
      "application/vnd.bokehjs_exec.v0+json": {
       "id": "1005"
      }
     },
     "output_type": "display_data"
    }
   ],
   "source": [
    "plotPCA(wordVecsBrasCubas, token2indexBrasCubas, 'Word Vecs Brás Cubas (PCA)')"
   ]
  },
  {
   "cell_type": "code",
   "execution_count": 25,
   "metadata": {},
   "outputs": [
    {
     "data": {
      "text/html": [
       "\n",
       "\n",
       "\n",
       "\n",
       "\n",
       "\n",
       "  <div class=\"bk-root\" id=\"e985a329-6b3c-468e-9156-d4c6ada3ec28\" data-root-id=\"1113\"></div>\n"
      ]
     },
     "metadata": {},
     "output_type": "display_data"
    },
    {
     "data": {
      "application/javascript": "(function(root) {\n  function embed_document(root) {\n    \n  const docs_json = {\"6fe422dc-c3d3-4b98-a24b-bb0b7d15fbe2\":{\"defs\":[],\"roots\":{\"references\":[{\"attributes\":{\"below\":[{\"id\":\"1124\"}],\"center\":[{\"id\":\"1127\"},{\"id\":\"1131\"}],\"height\":800,\"left\":[{\"id\":\"1128\"}],\"outline_line_color\":null,\"renderers\":[{\"id\":\"1151\"}],\"title\":{\"id\":\"1114\"},\"toolbar\":{\"id\":\"1139\"},\"width\":800,\"x_range\":{\"id\":\"1116\"},\"x_scale\":{\"id\":\"1120\"},\"y_range\":{\"id\":\"1118\"},\"y_scale\":{\"id\":\"1122\"}},\"id\":\"1113\",\"subtype\":\"Figure\",\"type\":\"Plot\"},{\"attributes\":{\"axis\":{\"id\":\"1128\"},\"coordinates\":null,\"dimension\":1,\"grid_line_color\":null,\"group\":null,\"ticker\":null},\"id\":\"1131\",\"type\":\"Grid\"},{\"attributes\":{\"bottom_units\":\"screen\",\"coordinates\":null,\"fill_alpha\":0.5,\"fill_color\":\"lightgrey\",\"group\":null,\"left_units\":\"screen\",\"level\":\"overlay\",\"line_alpha\":1.0,\"line_color\":\"black\",\"line_dash\":[4,4],\"line_width\":2,\"right_units\":\"screen\",\"syncable\":false,\"top_units\":\"screen\"},\"id\":\"1138\",\"type\":\"BoxAnnotation\"},{\"attributes\":{},\"id\":\"1129\",\"type\":\"BasicTicker\"},{\"attributes\":{},\"id\":\"1170\",\"type\":\"AllLabels\"},{\"attributes\":{},\"id\":\"1133\",\"type\":\"WheelZoomTool\"},{\"attributes\":{\"coordinates\":null,\"formatter\":{\"id\":\"1166\"},\"group\":null,\"major_label_policy\":{\"id\":\"1167\"},\"ticker\":{\"id\":\"1129\"},\"visible\":false},\"id\":\"1128\",\"type\":\"LinearAxis\"},{\"attributes\":{\"callback\":null,\"tooltips\":\"@word\"},\"id\":\"1112\",\"type\":\"HoverTool\"},{\"attributes\":{},\"id\":\"1125\",\"type\":\"BasicTicker\"},{\"attributes\":{\"coordinates\":null,\"formatter\":{\"id\":\"1169\"},\"group\":null,\"major_label_policy\":{\"id\":\"1170\"},\"ticker\":{\"id\":\"1125\"},\"visible\":false},\"id\":\"1124\",\"type\":\"LinearAxis\"},{\"attributes\":{\"data\":{\"index\":[\"static\",\"preview\",\"super\",\"bad\",\"powerful\",\"case\",\"tools\",\"successful\",\"fall\",\"created\",\"talk\",\"level\",\"kubernetes\",\"working\",\"technology\",\"company\",\"enterprise\",\"algorithms\",\"password\",\"solar\",\"effect\",\"services\",\"move\",\"docker\",\"drivers\",\"generator\",\"isnt\",\"place\",\"announces\",\"growing\",\"right\",\"program\",\"visual\",\"node\",\"40\",\"health\",\"tiny\",\"create\",\"infrastructure\",\"robot\",\"pages\",\"devices\",\"model\",\"ruby\",\"life\",\"missing\",\"might\",\"dark\",\"learning\",\"friends\",\"cant\",\"art\",\"future\",\"key\",\"es6\",\"court\",\"experiment\",\"startups\",\"samsung\",\"11\",\"words\",\"based\",\"customers\",\"teams\",\"business\",\"interactive\",\"risk\",\"changed\",\"support\",\"idea\",\"scaling\",\"engineer\",\"source\",\"manager\",\"space\",\"plugin\",\"valley\",\"storage\",\"robots\",\"women\",\"study\",\"wireless\",\"rest\",\"discovery\",\"strategy\",\"firefox\",\"climate\",\"user\",\"play\",\"list\",\"worlds\",\"git\",\"ethereum\",\"tutorial\",\"block\",\"editor\",\"call\",\"selling\",\"got\",\"users\",\"launches\",\"cloud\",\"programming\",\"center\",\"functions\",\"internet\",\"bank\",\"car\",\"every\",\"less\",\"huge\",\"googles\",\"improve\",\"style\",\"websites\",\"pi\",\"avoid\",\"paid\",\"html\",\"used\",\"crypto\",\"global\",\"jobs\",\"desktop\",\"ideas\",\"blockchain\",\"series\",\"try\",\"workers\",\"useful\",\"30\",\"productivity\",\"started\",\"bots\",\"public\",\"paris\",\"elon\",\"keyboard\",\"integration\",\"content\",\"become\",\"network\",\"community\",\"conference\",\"legal\",\"francisco\",\"firm\",\"camera\",\"intel\",\"tensorflow\",\"board\",\"systems\",\"secure\",\"service\",\"shell\",\"messenger\",\"recognition\",\"developing\",\"question\",\"bitcoin\",\"agile\",\"black\",\"chinese\",\"class\",\"postgresql\",\"edition\",\"20\",\"wifi\",\"remote\",\"done\",\"hardware\",\"four\",\"wants\",\"pro\",\"calls\",\"grow\",\"2015\",\"engine\",\"starting\",\"lead\",\"young\",\"vs\",\"learn\",\"launch\",\"rise\",\"math\",\"nodejs\",\"policy\",\"crash\",\"store\",\"realtime\",\"meet\",\"movie\",\"top\",\"post\",\"best\",\"dont\",\"trump\",\"still\",\"beyond\",\"people\",\"impact\",\"something\",\"ios\",\"surveillance\",\"apple\",\"work\",\"page\",\"apply\",\"product\",\"market\",\"street\",\"culture\",\"eu\",\"https\",\"fix\",\"want\",\"run\",\"day\",\"status\",\"type\",\"break\",\"approach\",\"opensource\",\"china\",\"http\",\"evidence\",\"revenue\",\"security\",\"really\",\"elixir\",\"industry\",\"success\",\"read\",\"pokemon\",\"kill\",\"guide\",\"sex\",\"implementation\",\"job\",\"google\",\"cancer\",\"analytics\",\"push\",\"text\",\"history\",\"europe\",\"brain\",\"javascript\",\"getting\",\"travel\",\"database\",\"quality\",\"update\",\"language\",\"largest\",\"tv\",\"income\",\"personal\",\"like\",\"netflix\",\"hackers\",\"custom\",\"us\",\"old\",\"growth\",\"phones\",\"lets\",\"lives\",\"sell\",\"early\",\"test\",\"care\",\"record\",\"alternative\",\"drones\",\"13\",\"wars\",\"problems\",\"wont\",\"fund\",\"core\",\"ultimate\",\"made\",\"stack\",\"hiring\",\"may\",\"iphone\",\"says\",\"offer\",\"soon\",\"education\",\"engineering\",\"quick\",\"course\",\"manage\",\"weekly\",\"last\",\"anonymous\",\"san\",\"feature\",\"mit\",\"didnt\",\"architecture\",\"humans\",\"papers\",\"discovered\",\"team\",\"uber\",\"sites\",\"cyber\",\"speed\",\"two\",\"devops\",\"yet\",\"crisis\",\"air\",\"3d\",\"short\",\"control\",\"science\",\"easy\",\"patent\",\"full\",\"report\",\"sql\",\"tracking\",\"would\",\"linkedin\",\"technical\",\"founders\",\"state\",\"box\",\"analysis\",\"building\",\"twitter\",\"cli\",\"coming\",\"releases\",\"developer\",\"ways\",\"even\",\"stream\",\"snowden\",\"modern\",\"files\",\"innovation\",\"running\",\"app\",\"machines\",\"card\",\"uses\",\"instagram\",\"release\",\"get\",\"problem\",\"flight\",\"functional\",\"writing\",\"news\",\"mars\",\"secret\",\"helps\",\"media\",\"encryption\",\"vision\",\"mind\",\"needs\",\"deal\",\"electric\",\"12\",\"fbi\",\"change\",\"next\",\"whatsapp\",\"spark\",\"steve\",\"home\",\"im\",\"america\",\"introduction\",\"production\",\"acquires\",\"capital\",\"pdf\",\"survey\",\"whats\",\"hidden\",\"engineers\",\"companies\",\"haskell\",\"languages\",\"point\",\"well\",\"management\",\"years\",\"housing\",\"airbnb\",\"framework\",\"school\",\"government\",\"john\",\"solution\",\"linux\",\"tech\",\"need\",\"european\",\"share\",\"college\",\"university\",\"changing\",\"past\",\"fun\",\"scala\",\"cash\",\"email\",\"common\",\"rails\",\"announcing\",\"delivery\",\"monitoring\",\"snapchat\",\"go\",\"graph\",\"ad\",\"server\",\"bot\",\"per\",\"ai\",\"links\",\"large\",\"white\",\"client\",\"lost\",\"theory\",\"7\",\"universe\",\"apps\",\"talks\",\"yahoo\",\"2016\",\"today\",\"redux\",\"ceo\",\"major\",\"please\",\"malware\",\"neural\",\"os\",\"first\",\"android\",\"json\",\"world\",\"plans\",\"experience\",\"smart\",\"3\",\"vc\",\"rust\",\"notes\",\"facebooks\",\"start\",\"10\",\"css\",\"hack\",\"models\",\"lambda\",\"shows\",\"windows\",\"api\",\"face\",\"reddit\",\"vulnerability\",\"banks\",\"keys\",\"components\",\"view\",\"virtual\",\"use\",\"side\",\"smartphone\",\"millions\",\"reasons\",\"features\",\"credit\",\"nsa\",\"tell\",\"around\",\"track\",\"developers\",\"algorithm\",\"15\",\"little\",\"written\",\"mac\",\"ibm\",\"children\",\"better\",\"enough\",\"8\",\"teach\",\"looking\",\"mobile\",\"computers\",\"kids\",\"living\",\"form\",\"cars\",\"collection\",\"private\",\"police\",\"scientists\",\"software\",\"programmers\",\"vr\",\"revolution\",\"way\",\"pay\",\"check\",\"2012\",\"stay\",\"iot\",\"information\",\"learned\",\"hard\",\"story\",\"bring\",\"2014\",\"finally\",\"videos\",\"2013\",\"demo\",\"deep\",\"library\",\"ever\",\"sales\",\"dead\",\"color\",\"researchers\",\"basic\",\"sharing\",\"open\",\"2\",\"stock\",\"isis\",\"customer\",\"anyone\",\"issue\",\"nuclear\",\"x\",\"programmer\",\"rules\",\"npm\",\"challenge\",\"r\",\"attacks\",\"cost\",\"anything\",\"secrets\",\"human\",\"give\",\"performance\",\"adds\",\"explained\",\"make\",\"php\",\"bill\",\"maps\",\"tips\",\"indian\",\"pc\",\"machine\",\"photos\",\"selfdriving\",\"angular\",\"compiler\",\"single\",\"reality\",\"released\",\"multiple\",\"processing\",\"hacker\",\"streaming\",\"development\",\"image\",\"wall\",\"help\",\"extension\",\"offers\",\"understanding\",\"simple\",\"facebook\",\"everything\",\"trust\",\"investors\",\"week\",\"feedback\",\"automation\",\"worth\",\"former\",\"poor\",\"money\",\"rocket\",\"amazon\",\"stop\",\"privacy\",\"local\",\"across\",\"important\",\"oracle\",\"safe\",\"add\",\"obama\",\"everyone\",\"small\",\"lessons\",\"save\",\"take\",\"apples\",\"different\",\"true\",\"chat\",\"entrepreneurs\",\"online\",\"war\",\"process\",\"attack\",\"ready\",\"half\",\"rate\",\"100\",\"wrong\",\"daily\",\"continuous\",\"images\",\"brexit\",\"creating\",\"musk\",\"financial\",\"funding\",\"java\",\"1\",\"number\",\"india\",\"package\",\"website\",\"designing\",\"2009\",\"americas\",\"five\",\"code\",\"tests\",\"group\",\"fight\",\"know\",\"could\",\"year\",\"long\",\"hunt\",\"goes\",\"skills\",\"lab\",\"think\",\"github\",\"watch\",\"stories\",\"student\",\"resources\",\"second\",\"understand\",\"numbers\",\"part\",\"american\",\"spacex\",\"pok\\u00e3\\u00a9mon\",\"keep\",\"tor\",\"great\",\"good\",\"4\",\"battle\",\"love\",\"speech\",\"intelligence\",\"patterns\",\"site\",\"three\",\"review\",\"foundation\",\"servers\",\"applications\",\"wordpress\",\"star\",\"race\",\"physics\",\"via\",\"book\",\"office\",\"york\",\"real\",\"50\",\"water\",\"books\",\"makes\",\"5\",\"look\",\"free\",\"react\",\"automated\",\"london\",\"cities\",\"practices\",\"issues\",\"became\",\"japan\",\"domain\",\"visualization\",\"power\",\"matter\",\"longer\",\"buy\",\"universal\",\"advice\",\"artificial\",\"hit\",\"much\",\"theres\",\"ux\",\"come\",\"passwords\",\"national\",\"finds\",\"clojure\",\"microservices\",\"energy\",\"latest\",\"magic\",\"claims\",\"social\",\"looks\",\"employees\",\"uk\",\"road\",\"libraries\",\"thing\",\"see\",\"theranos\",\"behind\",\"set\",\"steps\",\"9\",\"happened\",\"saas\",\"failed\",\"house\",\"silicon\",\"digital\",\"campaign\",\"bug\",\"rich\",\"containers\",\"left\",\"city\",\"students\",\"projects\",\"container\",\"takes\",\"inside\",\"force\",\"hacked\",\"studio\",\"messaging\",\"win\",\"generation\",\"happy\",\"blog\",\"ecommerce\",\"networks\",\"away\",\"ads\",\"search\",\"man\",\"battery\",\"back\",\"interview\",\"2008\",\"scientific\",\"c\",\"2011\",\"ui\",\"introducing\",\"light\",\"raises\",\"computing\",\"live\",\"changes\",\"step\",\"put\",\"link\",\"apache\",\"never\",\"scale\",\"evolution\",\"python\",\"reveals\",\"gets\",\"startup\",\"front\",\"russian\",\"actually\",\"music\",\"oil\",\"lawsuit\",\"must\",\"economic\",\"tesla\",\"application\",\"dynamic\",\"encrypt\",\"works\",\"zero\",\"2010\",\"drone\",\"reading\",\"many\",\"web\",\"find\",\"emails\",\"podcast\",\"economy\",\"swift\",\"comes\",\"version\",\"ubuntu\",\"complete\",\"months\",\"questions\",\"lines\",\"hire\",\"faster\",\"distributed\",\"dev\",\"project\",\"video\",\"memory\",\"biggest\",\"tool\",\"audio\",\"platform\",\"marketing\",\"microsoft\",\"tax\",\"line\",\"one\",\"computer\",\"turn\",\"discover\",\"map\",\"value\",\"research\",\"mark\",\"plan\",\"states\",\"red\",\"moving\",\"slack\",\"raspberry\",\"interface\",\"yc\",\"failure\",\"random\",\"drug\",\"venture\",\"things\",\"times\",\"going\",\"6\",\"big\",\"access\",\"paper\",\"doesnt\",\"results\",\"law\",\"golang\",\"generate\",\"men\",\"net\",\"fast\",\"days\",\"drive\",\"file\",\"write\",\"using\",\"solve\",\"design\",\"end\",\"native\",\"environment\",\"high\",\"say\"],\"word\":[\"static\",\"preview\",\"super\",\"bad\",\"powerful\",\"case\",\"tools\",\"successful\",\"fall\",\"created\",\"talk\",\"level\",\"kubernetes\",\"working\",\"technology\",\"company\",\"enterprise\",\"algorithms\",\"password\",\"solar\",\"effect\",\"services\",\"move\",\"docker\",\"drivers\",\"generator\",\"isnt\",\"place\",\"announces\",\"growing\",\"right\",\"program\",\"visual\",\"node\",\"40\",\"health\",\"tiny\",\"create\",\"infrastructure\",\"robot\",\"pages\",\"devices\",\"model\",\"ruby\",\"life\",\"missing\",\"might\",\"dark\",\"learning\",\"friends\",\"cant\",\"art\",\"future\",\"key\",\"es6\",\"court\",\"experiment\",\"startups\",\"samsung\",\"11\",\"words\",\"based\",\"customers\",\"teams\",\"business\",\"interactive\",\"risk\",\"changed\",\"support\",\"idea\",\"scaling\",\"engineer\",\"source\",\"manager\",\"space\",\"plugin\",\"valley\",\"storage\",\"robots\",\"women\",\"study\",\"wireless\",\"rest\",\"discovery\",\"strategy\",\"firefox\",\"climate\",\"user\",\"play\",\"list\",\"worlds\",\"git\",\"ethereum\",\"tutorial\",\"block\",\"editor\",\"call\",\"selling\",\"got\",\"users\",\"launches\",\"cloud\",\"programming\",\"center\",\"functions\",\"internet\",\"bank\",\"car\",\"every\",\"less\",\"huge\",\"googles\",\"improve\",\"style\",\"websites\",\"pi\",\"avoid\",\"paid\",\"html\",\"used\",\"crypto\",\"global\",\"jobs\",\"desktop\",\"ideas\",\"blockchain\",\"series\",\"try\",\"workers\",\"useful\",\"30\",\"productivity\",\"started\",\"bots\",\"public\",\"paris\",\"elon\",\"keyboard\",\"integration\",\"content\",\"become\",\"network\",\"community\",\"conference\",\"legal\",\"francisco\",\"firm\",\"camera\",\"intel\",\"tensorflow\",\"board\",\"systems\",\"secure\",\"service\",\"shell\",\"messenger\",\"recognition\",\"developing\",\"question\",\"bitcoin\",\"agile\",\"black\",\"chinese\",\"class\",\"postgresql\",\"edition\",\"20\",\"wifi\",\"remote\",\"done\",\"hardware\",\"four\",\"wants\",\"pro\",\"calls\",\"grow\",\"2015\",\"engine\",\"starting\",\"lead\",\"young\",\"vs\",\"learn\",\"launch\",\"rise\",\"math\",\"nodejs\",\"policy\",\"crash\",\"store\",\"realtime\",\"meet\",\"movie\",\"top\",\"post\",\"best\",\"dont\",\"trump\",\"still\",\"beyond\",\"people\",\"impact\",\"something\",\"ios\",\"surveillance\",\"apple\",\"work\",\"page\",\"apply\",\"product\",\"market\",\"street\",\"culture\",\"eu\",\"https\",\"fix\",\"want\",\"run\",\"day\",\"status\",\"type\",\"break\",\"approach\",\"opensource\",\"china\",\"http\",\"evidence\",\"revenue\",\"security\",\"really\",\"elixir\",\"industry\",\"success\",\"read\",\"pokemon\",\"kill\",\"guide\",\"sex\",\"implementation\",\"job\",\"google\",\"cancer\",\"analytics\",\"push\",\"text\",\"history\",\"europe\",\"brain\",\"javascript\",\"getting\",\"travel\",\"database\",\"quality\",\"update\",\"language\",\"largest\",\"tv\",\"income\",\"personal\",\"like\",\"netflix\",\"hackers\",\"custom\",\"us\",\"old\",\"growth\",\"phones\",\"lets\",\"lives\",\"sell\",\"early\",\"test\",\"care\",\"record\",\"alternative\",\"drones\",\"13\",\"wars\",\"problems\",\"wont\",\"fund\",\"core\",\"ultimate\",\"made\",\"stack\",\"hiring\",\"may\",\"iphone\",\"says\",\"offer\",\"soon\",\"education\",\"engineering\",\"quick\",\"course\",\"manage\",\"weekly\",\"last\",\"anonymous\",\"san\",\"feature\",\"mit\",\"didnt\",\"architecture\",\"humans\",\"papers\",\"discovered\",\"team\",\"uber\",\"sites\",\"cyber\",\"speed\",\"two\",\"devops\",\"yet\",\"crisis\",\"air\",\"3d\",\"short\",\"control\",\"science\",\"easy\",\"patent\",\"full\",\"report\",\"sql\",\"tracking\",\"would\",\"linkedin\",\"technical\",\"founders\",\"state\",\"box\",\"analysis\",\"building\",\"twitter\",\"cli\",\"coming\",\"releases\",\"developer\",\"ways\",\"even\",\"stream\",\"snowden\",\"modern\",\"files\",\"innovation\",\"running\",\"app\",\"machines\",\"card\",\"uses\",\"instagram\",\"release\",\"get\",\"problem\",\"flight\",\"functional\",\"writing\",\"news\",\"mars\",\"secret\",\"helps\",\"media\",\"encryption\",\"vision\",\"mind\",\"needs\",\"deal\",\"electric\",\"12\",\"fbi\",\"change\",\"next\",\"whatsapp\",\"spark\",\"steve\",\"home\",\"im\",\"america\",\"introduction\",\"production\",\"acquires\",\"capital\",\"pdf\",\"survey\",\"whats\",\"hidden\",\"engineers\",\"companies\",\"haskell\",\"languages\",\"point\",\"well\",\"management\",\"years\",\"housing\",\"airbnb\",\"framework\",\"school\",\"government\",\"john\",\"solution\",\"linux\",\"tech\",\"need\",\"european\",\"share\",\"college\",\"university\",\"changing\",\"past\",\"fun\",\"scala\",\"cash\",\"email\",\"common\",\"rails\",\"announcing\",\"delivery\",\"monitoring\",\"snapchat\",\"go\",\"graph\",\"ad\",\"server\",\"bot\",\"per\",\"ai\",\"links\",\"large\",\"white\",\"client\",\"lost\",\"theory\",\"7\",\"universe\",\"apps\",\"talks\",\"yahoo\",\"2016\",\"today\",\"redux\",\"ceo\",\"major\",\"please\",\"malware\",\"neural\",\"os\",\"first\",\"android\",\"json\",\"world\",\"plans\",\"experience\",\"smart\",\"3\",\"vc\",\"rust\",\"notes\",\"facebooks\",\"start\",\"10\",\"css\",\"hack\",\"models\",\"lambda\",\"shows\",\"windows\",\"api\",\"face\",\"reddit\",\"vulnerability\",\"banks\",\"keys\",\"components\",\"view\",\"virtual\",\"use\",\"side\",\"smartphone\",\"millions\",\"reasons\",\"features\",\"credit\",\"nsa\",\"tell\",\"around\",\"track\",\"developers\",\"algorithm\",\"15\",\"little\",\"written\",\"mac\",\"ibm\",\"children\",\"better\",\"enough\",\"8\",\"teach\",\"looking\",\"mobile\",\"computers\",\"kids\",\"living\",\"form\",\"cars\",\"collection\",\"private\",\"police\",\"scientists\",\"software\",\"programmers\",\"vr\",\"revolution\",\"way\",\"pay\",\"check\",\"2012\",\"stay\",\"iot\",\"information\",\"learned\",\"hard\",\"story\",\"bring\",\"2014\",\"finally\",\"videos\",\"2013\",\"demo\",\"deep\",\"library\",\"ever\",\"sales\",\"dead\",\"color\",\"researchers\",\"basic\",\"sharing\",\"open\",\"2\",\"stock\",\"isis\",\"customer\",\"anyone\",\"issue\",\"nuclear\",\"x\",\"programmer\",\"rules\",\"npm\",\"challenge\",\"r\",\"attacks\",\"cost\",\"anything\",\"secrets\",\"human\",\"give\",\"performance\",\"adds\",\"explained\",\"make\",\"php\",\"bill\",\"maps\",\"tips\",\"indian\",\"pc\",\"machine\",\"photos\",\"selfdriving\",\"angular\",\"compiler\",\"single\",\"reality\",\"released\",\"multiple\",\"processing\",\"hacker\",\"streaming\",\"development\",\"image\",\"wall\",\"help\",\"extension\",\"offers\",\"understanding\",\"simple\",\"facebook\",\"everything\",\"trust\",\"investors\",\"week\",\"feedback\",\"automation\",\"worth\",\"former\",\"poor\",\"money\",\"rocket\",\"amazon\",\"stop\",\"privacy\",\"local\",\"across\",\"important\",\"oracle\",\"safe\",\"add\",\"obama\",\"everyone\",\"small\",\"lessons\",\"save\",\"take\",\"apples\",\"different\",\"true\",\"chat\",\"entrepreneurs\",\"online\",\"war\",\"process\",\"attack\",\"ready\",\"half\",\"rate\",\"100\",\"wrong\",\"daily\",\"continuous\",\"images\",\"brexit\",\"creating\",\"musk\",\"financial\",\"funding\",\"java\",\"1\",\"number\",\"india\",\"package\",\"website\",\"designing\",\"2009\",\"americas\",\"five\",\"code\",\"tests\",\"group\",\"fight\",\"know\",\"could\",\"year\",\"long\",\"hunt\",\"goes\",\"skills\",\"lab\",\"think\",\"github\",\"watch\",\"stories\",\"student\",\"resources\",\"second\",\"understand\",\"numbers\",\"part\",\"american\",\"spacex\",\"pok\\u00e3\\u00a9mon\",\"keep\",\"tor\",\"great\",\"good\",\"4\",\"battle\",\"love\",\"speech\",\"intelligence\",\"patterns\",\"site\",\"three\",\"review\",\"foundation\",\"servers\",\"applications\",\"wordpress\",\"star\",\"race\",\"physics\",\"via\",\"book\",\"office\",\"york\",\"real\",\"50\",\"water\",\"books\",\"makes\",\"5\",\"look\",\"free\",\"react\",\"automated\",\"london\",\"cities\",\"practices\",\"issues\",\"became\",\"japan\",\"domain\",\"visualization\",\"power\",\"matter\",\"longer\",\"buy\",\"universal\",\"advice\",\"artificial\",\"hit\",\"much\",\"theres\",\"ux\",\"come\",\"passwords\",\"national\",\"finds\",\"clojure\",\"microservices\",\"energy\",\"latest\",\"magic\",\"claims\",\"social\",\"looks\",\"employees\",\"uk\",\"road\",\"libraries\",\"thing\",\"see\",\"theranos\",\"behind\",\"set\",\"steps\",\"9\",\"happened\",\"saas\",\"failed\",\"house\",\"silicon\",\"digital\",\"campaign\",\"bug\",\"rich\",\"containers\",\"left\",\"city\",\"students\",\"projects\",\"container\",\"takes\",\"inside\",\"force\",\"hacked\",\"studio\",\"messaging\",\"win\",\"generation\",\"happy\",\"blog\",\"ecommerce\",\"networks\",\"away\",\"ads\",\"search\",\"man\",\"battery\",\"back\",\"interview\",\"2008\",\"scientific\",\"c\",\"2011\",\"ui\",\"introducing\",\"light\",\"raises\",\"computing\",\"live\",\"changes\",\"step\",\"put\",\"link\",\"apache\",\"never\",\"scale\",\"evolution\",\"python\",\"reveals\",\"gets\",\"startup\",\"front\",\"russian\",\"actually\",\"music\",\"oil\",\"lawsuit\",\"must\",\"economic\",\"tesla\",\"application\",\"dynamic\",\"encrypt\",\"works\",\"zero\",\"2010\",\"drone\",\"reading\",\"many\",\"web\",\"find\",\"emails\",\"podcast\",\"economy\",\"swift\",\"comes\",\"version\",\"ubuntu\",\"complete\",\"months\",\"questions\",\"lines\",\"hire\",\"faster\",\"distributed\",\"dev\",\"project\",\"video\",\"memory\",\"biggest\",\"tool\",\"audio\",\"platform\",\"marketing\",\"microsoft\",\"tax\",\"line\",\"one\",\"computer\",\"turn\",\"discover\",\"map\",\"value\",\"research\",\"mark\",\"plan\",\"states\",\"red\",\"moving\",\"slack\",\"raspberry\",\"interface\",\"yc\",\"failure\",\"random\",\"drug\",\"venture\",\"things\",\"times\",\"going\",\"6\",\"big\",\"access\",\"paper\",\"doesnt\",\"results\",\"law\",\"golang\",\"generate\",\"men\",\"net\",\"fast\",\"days\",\"drive\",\"file\",\"write\",\"using\",\"solve\",\"design\",\"end\",\"native\",\"environment\",\"high\",\"say\"],\"x\":{\"__ndarray__\":\"ilr6CMEV1L/G/cvId4HQP81uNh6yNNC/lylimyihp7/5BR0i9au+v4tJUQvgMr2/sm2dywzdwD/q43dtCoKnv+Ryn4jtz6u/2Fx1DaGZ07+6W8cbEC22P+h1sN/o/Lg/BRQbGLlKlb82K25UrUe7Px7WVd/YfKm/UfeO97xyqT8gYsBnKvPFP6yx8RW9lqA/PNRlLIxMxj9hUkXkzTajvz/W93Bq1qk/QO6B+/Kyyj8drlxMN1bSP9o/H2k/E5Q/X8Xo+Rttxb8X1iVG2vrBv/JJ0hx80LO/admsqMpOmz95nl0Sl06cP1+VDOyS76I/INHWB3+9yT8++DjfvQR8v9RUhPfrlcA/zTD5n826wr/uC8CV2v/CP2nOJWd7YcW/MrdKvLS+tL+xeTcyBLLKv4ysqwqZArU/vzeCRSNz2b95a8+RdHzQv6trGm6aE8E/tAHzcPu7qb81NBYvuIK8vydwSidjr6I/8mr+mpAxtb8sE78COHC2vwr01xTWxn4/ukULJ8zOvL8gb8s+dkbRvy2wMrBkG8I/R4iCXV5Xtr8W3iHxklzLv45xZGHNOHO/oa+aRFjazr95HdN7aiC4v5Kp5f1PLr4/tiDvsuVH0D+re71+Vh/Av1s4Nn9rabG/KJBLilI+sr+Gl0b989O4v0FLNPO/zZo/F8KFoqKj0T/XRdoEKynAP50bNkknT8i/+qJjfUK1wL/EExcLULigv8TyYPGsUL8/5FCZXfd2lD+XWxjVazDAP3ZYPxaHG54/vi6BlsHlyj8rHWqApqLGPxFVAWyTjae/CZhpAe2SiT8SMHu6UUjBP9InLaIvHtM/hnaQMuIfrr8x0WEjEIhcP0c9INqGqbe/HnBz4Wxnwz8B4iPnXkevP1nOnMdsJry/FitLDt83t7++3rtrOk+lvxCO9nTf/tA/MYfCxEEbp78CF+T2fDq1v79kuHHWJMe/1eqKBGZ617+upIrTTlnFPzuY1q47PcK/8Yca9ONYsL8aZ6Oif9elP8XAsca4d5E/JtHgd/nv1D9iNuSS0WjAP4g41MWgT6m/GWwhezDqnT+8haWTtNa7v5GOi5hHYLk/R/n+hlIQv7/qBXrtvwOwP830Kos3VqK/Ths4EMswtT8Q4kyjx962Px0ak5szaNq/Vqs+98rykT9bep9liwO0v0/mAR3LXLc/gpOVit9f0r/1HrjFUqOcv1YszxgXEs+/V3Gm4fvk1b9DKTznvCPDv0mf9pvK13S/TsR5MVq0qD94uhW+GT7Hv2tbVqj7YtS/CFv6vmlYwr+2I3OH4p6Gv6SLpvWaFMU/5nZP86TJbD+Htsgr2GGSP5uBJZblAp0/h5wYOJyXsL8dueGmeKnBPyWF8tBLZ2g/LYzwvGSN0b8AErOkZ17DP6sU6Q6GjcY/zoNpxCi/yb+aQFLmEHzCv4z6NbN1L7I/HSmdCxq2xD+JTtlAg7R0v1ykAgv5O7W/bO4FKYhppT8LtMq+6bmzv1ObZ5Xxr54/f2/IZ6v2wb9DPLhmUvqsv/RZk2o5Pdc/Z7fUDO20sr+EuJzp+HynP0EZDnHQrrA/mhsAiJFZrb/i3z91y4uaPwqDXzd+BbO/xWgdI/VrZL/ZxaXtIaO8Px0/Da+YWrG/TiwuUoFrxT/fh7dSGJrAP66Vrsjsdr6/kDH6JD5tlj8stcz24bnQvwFOKwjmAb0/7ILRM8v5pj8kps8MP6zPP48MAolD+76/UedjYDydwb++IqbGjejavyPDN24Q0dI/+LUV6F7SrD+ytOiZMNeTP27lhUNNRb0/Xm5nRDYvyz/2+Xy4Kk7IP37nlx+OT7U/LjmO66Geo7/B4Hcvs0mYv9mZbfzDRME/39JKVsm/zj/X8hZoyNPAP/5phbg+PY4/vkEHbzU0qL9zcm6YKOmxv1qrV/1+grm/pam7CkDGsD95Pvh2DonFv89YGjnFj8S/fb/AooMAg7/HtN5IBAvEv0vLAVOmf8i/wro3tSu6ur8Pii4PZtuuP9hUidiiss+/lCXr/qBcoT8GOW5A6MiFP2AVqaICiMK/9/wzx7lZsz8/VOrOmu66v1bPN7uuFNG/TzqzFLQYwL8+Vk8UuiG+P6vJRnQTk5k/KfAjUFxgvD8hSZV/VqSWP8Xi8rN5fLw/VNjeEUwRxb8T9KVOvZKkPw4Y42xAXr+/y8GRqdvTuz9T/FimZ+62P1G35vmwDNE/4n+HKSHCvL+jvpErk3+9P4Oi+ym00rs/1lesdJkhob/GRFr9nw54v97c2dy04J2/U9Fyl99P0j/sbKySfznQv5DFZgGAqJ+/0OYJE1LyyT8SBt71N/W2Pzv0y+vrd6g/WwuJ4pYVxr82KWPmqRnHv0zOy0XuZbM/K90sHjnewz+zJzz/lb2yP05w4bcOcqy/Us/WXfgou78d/xJdxZOdP0l7EwbG/bM/Bspzzy/jrD+RRq3arsu8P+CxlURozY+/CTU/dydqij9WUcQJRS6Rv32k+ZJa5Ko/LS/jnewrzL97MZB3Jyqyv7mcdDqdxYe/xW+n2t0Jyb+olgbWxwSpv9V29nKKDsI/lR+G8sKIuL9hE+4yTo/Av+eCbrNY0sI/S3mi65ZbuT+EWbQ9MXu9Pynmbwomosg/RzFxJZiDyj8+sf6umpKQvx3TOPlWXMy/A7CKOwR8qj++IVxp/D+vv5JOCXDcT8k/5mVGoCjiwT/6yRLgluKlPy4oG/E+U6i/RsaVbc/js7+suF4Rk7e7P6nrMxfKnZ0/0UODj1aDrL97qm+fzm/Hv8puTSxkZMo/Ltpa8V2Hwr+W/fKMDWfCv6Vc8Xa8o5U/cHY+0wdlqz8hraORiSbIv49MDDIan8O/1KevLjTBxb+y+ZjYI7C0vy4fbeLc8cE/0dpZP9wsyz/UpvQdQlbIv8pd0u+1fbM/caycPr4ytT+ou4lE26KBP31JwWUFIcS/Hmi+OSyLVj8ckOCDqbiov+5pVD97XbC/wTanUfWRoD/KWeujksChP/q6R+n7Wbo/2lGgGgFly78qqr5CNreWv58W9Ekmv8Y/ier70+Byuj/aBMKZr3XAv5moqR0fMZe/PKxPT/8as78i254CD2amP6Rjys18OZW/Guzqf67vkL/Ff4LXS4uVP+IP23z1ubW/rybfQ/bPvb8Gw8URJpfQP3CEtZPdTMO/unNBHyy7oj+IPb4Zt1LBvwQnhi3IkJU/RKYn0wPMvj8ERbeG7J6vv5RJjU9gJq4/wa9aVZs7oL8ozbPGfIvLv/52DA9v87g/9+REmHSVsD/qBuksnHXDPwWx06u1Gsq/XwjCOabkyr+WfoPW6Mqcv4ZI8UKBD7+/rTpzCqFB0b+l7jjG2bO2PwtPKfc7bdC/BkZAEfivsT9OYkxrYvexv6EQnNXM8ca/tMSwnMBSp799nMxFubfAP5gYoGMk88G/XdC+8xaOxb9AIVO6Pm3Cv5jSRKcfssI/xeUNujRulD+iWrAEeQXNPyifjkfNprC/nseRurD8yT8/+lGmk5C8Pz3SwrxgiK4/iFIqmj7jwT/eYp+bJL2gv+T6BVl8fa6/Z5/P169Jrb9sM6eWCiPGv7MJKVW7qqC/XH3ZM3oqvj+VpALiQ+dgP6go07coSbY/0eAf1ETnrz/uuDrzHRa4P4GBVDuagr6/2Jl8BX+G0D9r67X8iL+4PwsGGB+Lt4M/U8ouZauarT9fFkfg16jIP5r1DN/TiLI/slHc3yOhxb/t1SR21P61P6WuU+Mp864/JOKg05s1wb8Det1M1162v8yn0ftn/sM/WS9gBSaYzD/1z8aPtRW4v4HFgp5NsqU/ZehlK4mMwL9jjIyQ68zJv/TR1k8bAM6/HPoSy1YVtz9pmrmnjl64v5OFQWRGc5m/Ni99iXCrxr+4utDug/W1P0lx/lTIDaQ/aXLk7e5wbD8o+1kvpAG9P4BWEYREzMk/XI1mGxRc0b9MwlVwacizv5DqvwsDdp0/3s7pj+Ffnj89UfwO/7iuP2ffeWm3T7S/b3kIuXX7yj/e4g5m5S/IP0vjz4zY08U/XBZw5M0SjD9B3SivFO64vwMyAc71mb4/TDaxCafpvr+Dj8uYLlG4v3ttnPygVJ0/lw2ln+abwT/13Z5RBWLAP6CcbWzxrsk/FiLkkaGpzL+1BW9c9ayyP8HRsJydutQ/i9b30Ep6zr9ADvdS3+yPvzM7KMZQsM8/mL4IcHyGxD+meBsGUBrIP2fWqJxN5r8/SfS3jH7zoj/QsBUYENKzv99IyYcFhI2/JkpJjNNinj9a+LS+DPvAPyGNR6qozWQ/S9JU0ZazvD9XKLfiVcfJP+0HTYKjOcA/abDy6tMvvj9WKON1WXScP3rSd+FGnK+/f5fAG3N8oT+tGlyyEjm9v1BtnD6beaC/iMdupfcu0D8fmC/UStHFv24NYkPKwcW/0xOEd3fn1D/JCm5EiQOwv8wVlARYwbi/AUhbrK0Rwb/0PPgLmHzPP1MGFKSikMW/qskAZPN+jT9umwohsaG6vzSwr8/Z46O/7+UpR+LZvj+5RHKtvhC7v7cXoMYFJsE/cs59U+Tbzb/8z4c7s+I/vzJ0khJc9M6/wf8mbeND0b93LS9LZKbKPzaYdve/yae/ghQJt+r4az+TzXlUAw24v7j8eBiAm4E/UP6yS4M5tr+4frak47/DP0SbDuD5EMO/T454qPyC1T+hxIbFIU7VP7S39vzhH7c/LYvuVRrvsj/P9/8wCVvEv7FFVZcnYb8/D+vsCIcHtr9N0HuH1amnPwm5cR6xYsK/2Umh+8qxtL9dnm0F3hPEPx9gsutE79C/I6op61VcqL+WmFf9Y3SnP0XnhV3GYL6/77bWVD0irb9pn9jwqz+RPzGwfVPxrMC/+kE4uvrHxL+fmjuj1ZjBP7v+yk1QKsW/aUN+nsOWxT/6hxQDTybDv0sbgOeVdLy/RmW5HjVwsj+u7pgFCcLFv4FFKVjwscm/k02+tkBzpD+tPepufY26vwFnEXVlhMm/eFpuMY8Szj8Dvq+bu9eyPxC5KblxRGs/UYjalIGuw7+LF+UXY7Kjv4rhUbYlkcQ/e0XVP54ahT9Ot9b6zQHLv3nOpS+4baU/KPFrcST7kD8RkU0fYbm0v+RJzgwzLXS/JzAoYVPtvb/EMrXUEBCsP4027pygBcI/FhwYMFN8xT+nnbrcK964P9sDY8eG95K/zgaQrDM2pT9Lgznyk8+zv/4JVnPhc3c/fxPxeQXSrz+4MnsOd1GEPzU7if52day/VD593QkuxL+2Bm26lj7Gv4qrGuBtgMs/tUYUHexeuz+g8+S0pye3v1dTsWbbl7O/Ekgrd3gSmb9kq5x2ZdWwv5OKGSu6zKm/xPfA4sk/yT/cA14CfmrGvyoeFgv44oQ/gO+vCHHhZr9gqP3qrpfBvxTaYt3Nf8e/wRrgvx2h2r8H39V+mqOyv3dhjNdowLG/hBlHSPyZcD8Smef3ap6Bv3YI/Tf6KdM/0QLLJI9Vmz/4NM3xpX2jv/0AS/iAKc2/tHwSROmriT8sodjipdzOP0YrD3kEFYq/tjvyXPoSzD/zICCYKpvRP8WFrjOUQKw/CIXbGHvMpD9ITL6QdjPEP26bTImpJ8m/+aNQdzWOub8yJOUpR/S3P2fCgjy9ALE/6RhjEHpLsL+VFjCHKvVov03iQLRAtrg/Y+hzpPk0vD8JrwJZr7qrv8YN3i1kjIK/AQAT+8l6pL8WL6e2aIjGP/J3ub1D4ro/P5DEup8KoL90UtPldK26v9ECIk5TLY+/lsINu/ADzL/hOum9gvDJP3cAgjS6TMu/p6Vj6BNgxj+CSuI+4h/Cv9q0+AZ+gK0/YFsu03cOur/asYwcOJezv7eF1B+qoo8/BwxsdtFHtD/AxK4GfHrAP/4ysZGbjqs/h+EMxF29pb82fJd1FQOaP8zGLD3Qxb2/d6lMJVUXlj8N7oTw+By1P6upI/bHPrk/VloOn8G6wT9+x07oESfRv7VfrV2MedY/NfPk6KAItz8mO9ll0wHCv0MFsfogWaE/OP/PcBydnz/7jjMOuOOkP0wmrv/kgc0/0UAcBRZsyb9434XDp+HGPxbDcEqieLI/x8wKkFMYvD/WTZTmW4C7v2Z0nC2+tLG/61WNT5oO3b9xKcHT853Iv1o0qRdlTZe/A71KkIC9qz/XAspHHEipvzsEurvUW8g/hY7LZFgTeD9SJvGmqNvQP9Z8hT2npdC/lZkbm69b0j8iZyaW42+xv8aREre2IqY/EvK1gnMjrD9ZgwnOAFysvxeYuvWrX3q/eJwOMDQ5iD+QtYd8d9C6P4U9ddF1dMW/7JXtwNFywb81pycyIBG6Px/j3nwi76Q/fo2QE4V90D/qgxIQnCSsv3Ex06e2e8Q/GXg3tOEHlD/OwMhDxdetv5NXu5KOF6C/yhwpKiNKxz9vN3i0K43AP8erOBG+za+/iI2h0P7QwT+M0zDCRHOxP5+UdCMD7Kc/ZpL+wJP4sb9dPKvpQWSiv2j2vB1xfJU/sl1Lb72Dsz/Misij++fKvwo7E7g3gcK/2tkTZBf+wT8U++5VmV91v+NM8K12AK8/QB8jwoIdyT/VHLMu5Z2wP9cUemHZf7c/+TdK4ubtoT9tiC48bDDHv2Qjd7W5jJG/jqpQeYOkwr9xYI+bNDeuP/N8nBZPgLG/RmFJLUigyL8UFF/Sjc/OP64ZpkDiise/yxPmw3ctuL+eRByclGCtv0PiK3o1UsE/mkRNrdDkxb8emoWWgBGyPzAmDt+Vr7U/ATk1kkreyD/h+TwwvfGxv1ObP5B4StE/rKl6DLB21L8Mj/8yStx9P+Pj/EpBcak/ErZ1VMkKhT+SdnS/nxuqv3MrSSd8IsO/hPREPGo2uT8dVR7BwAa0P8OMmYhryoi/hbL+Fuaj07+i0p7uaZO0v5Jpyb6u9so/VWH6CKQnu78Ds5hGXwLEvwE53Q3j34M/uMLGtOBnxL/khAJO/mrFvy57dxIywY4/oc1CVc0yxz+Z++GLIHe9vzwU6cad9aw/yCd5mtWok7/nboGD5ZW9v9LLfGLkwrI/WEfg6OyHpj8AFxlOZcuhv9VTOQwtinI/k4TeTpmOs7/ugvgbdMOrv7n95EU397I/4VpcMcNTvr8wbKAfJkDBv2c2nRz7sYO/xZt/SnHS0D/2EjikzUDLP1zuzm5//K2/FJZuugiVy7+JYxw2iDOVP4hYdrGt/rK/MhYFxHIuij80irVh9HLDv9J02El5Aa0/REBHkqPGh79aDFle+PjEv4e79hw879G/GmH7tychsr/ySDSOoDfHP0vCjBQq9sS/MSaztilLsz+7sjATXvzQv+53UdISBb+/28rA7Mbirr+N3J0pgZmrPxoGf0R+U78/WIvjkg8Jwz+tW3uM2C/Lv9WuCx9/KME/FG/acA5Q1L+pmLk1ykWsvwuD4up5MnC/Dok1ltc2uD+5pMO1u5zKPxM/gctCRp8/E7k/P8bTtb+PNsJRMnXCv9QYVqmA4bk/PjMoK1R0kT+AXlrpCwHHv73KOJABUbS/dHbkLeTooT8KYZVGCJS9P0nMv5YTGMu/7LBbZ5Iut7/crZzs8P/JP9zoPXgTR8e/2jpMju6mrz+lTJ0a+Baxv8gBjPCxv7O/h9tbbW5jwz/N3cagOuCxv9QF1Oy6brO/REOXX7bsrj9fkIf30ZG/v7uqPwNhvsY/khdeDOJcwT+0LE8VcqWjP3cA1+jIcsQ/qRwf4tRjy7+K5qEPtujQv/5Np9UcD2I/rnOAb6XOpL/06t96YM2wvwrRGUcb+sY/J8nBBLvorj/8Fhx3GwejP23oJP83KsO/VViD4YRcxr9eaY8b8Hayv7dkAvKQOL4/OmBNxbyZx78Wc8UYj4XGv+bA0FMzkdK/WkItZ4Yl0r+j2W+UBZt/PwcH/yhXtsU/8C4I9ESN0T8lnuMmUM3TvyLkvZsHHMS//CvysGvrwz+jsPBO/bm2PwoZpwFzmLs/gOxQjiaVs7+HzI6rGBmzP/pI+Pbm7rA/FB+9Ske6v79rJH98wdulPwzW2I3iVr4/Pbd1JOPLqr8FcOzGPnXCP+61neUw58M/vexHRAI7p7/M5wUTEbGnvzm0V/5gk6C/afuAHD9iwD+Zy2EEt9zCP7ZmYukpqNA/6vd4/WIKir9e2dPRVFGBvyA3wDqrNsA/1BmqlJH7vz8MeXgD3L3Fv5SiOCWnz8S/I3XkDZvgoL+fh4Yvihq+v7i1TYhtn8I/9NzV2Qj7uL/pv5ruWYefv36Xv6uWea2/QjnsIGCnoD8tNH48KAfHv3/4EtocRL6/faXzyUClqL/0YrmNO5PUP9oc9wxDoa2/0OkBUxSfpL9O7Q5wHC+zv2D9ve8GyZu/BTIEQ/upxz+vj3iroxnBP+0gdgTYgro/+Fhg2PhIor8oXVhvRDu1v2+fJLw9jMc/+BYUKXYjwr+Ob1JCHRauPwpVgliIGpC/mF7QLO9CxL9IF7S0in2hP6tKqg6gXMs/TdX0EX2gwD+rH60lHp6NP7VoFH6CjLC/dCxnTBFgmD9LIBTj9n/MP2wFIpXZ9Kw/cFKtNrq4yj9r77tER560vyS9/wtn1cW/MgkXuEzZxb+KEn9KNkCRv+XSs+Jha7Y/60m+c/AN0b8S0SUsINyyv9wYm5ka7b2/TGo895TRsj8DXV9d54akv+ImHq9BYdG/5t+ppEN+kr8xVEPPotytv9v95Q1iH7u/gxkZHHD8tb/hZYXmhrzMv+xq5lRLYr2/Bdnsb9JQqT+n4FlTdG7Gv1DfxzJ7IqU/3vXYcGsx0b/vBQVWDtPBv5WGBcXlC7y/0vuGvAWnyL9vmNF15eCnPwR/37ZHUcM/2BtcQzM+yz85lBsHFum+v8qBNErk3Lu/V3xUdXbgnj8EkabArNHJPwXKIBjTQMA/c/BXGn090b+kIjPl7G7BPxLGTPCrC5o/WbRXU5OXUT/jBAz7iy7LPwxeBclZGqA/Dj4MT6cI0D9Qp0evXau1P5jOH3HfqWg/Os1Wn5SotD/esx0zX+HCPytiUif6DcO/LWgeUOwytT+UaThqx5zGP3ys0VTmg6k/qF/lOseFor8HCrreV0TGP4oLbyWPvdk/e+SPTdiDib+wYvRAtcFvP/sH02DKxsC/HgUPPgaFpz9Os6+Jw8jAv3/LFKu7Mbi/HijtGWRTuz93t5zCgSZovz2BtmiEm8A/FTw/wkJrtj9nHjq02dzQPwd0X9hxpcU/SfCYy2UHoD+e8s5eV/hrP+Xw1VbkRsG/dfzNbj8Pu7+Q5IiKni2CP4Yb6JaEycw/673vOX7Tnz8ep1J6r+2WP1uAtAR+pHk/vBhILqXkzD/0lzNKquLFP9kuGLi/1bY/uclfaghanL+20/Yu4e2wPwtHuNZr5dQ/UXkFK+9Vlr99SyVSbJKnv/5XF5HoP3Q/871qDrbdwj9Qd+qUXbu7vw8lQOp2uK+/A0aDF+Rusb/A6NM85EK/PzaLbVKirbM/LCXEfTHexD840JdIPtvQvzbAV83NN8o/ctEea/eCrL+1wjFUPEXLvwC5/Y5PoqM/hHHzjX3Rqb/LD3mE0ebCvxP93jbrZ8G/x/TibhqltD/G/DfX0hR6v2+fODI+OZs/\",\"dtype\":\"float64\",\"order\":\"little\",\"shape\":[900]},\"y\":{\"__ndarray__\":\"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\",\"dtype\":\"float64\",\"order\":\"little\",\"shape\":[900]}},\"selected\":{\"id\":\"1172\"},\"selection_policy\":{\"id\":\"1171\"}},\"id\":\"1111\",\"type\":\"ColumnDataSource\"},{\"attributes\":{\"axis\":{\"id\":\"1124\"},\"coordinates\":null,\"grid_line_color\":null,\"group\":null,\"ticker\":null},\"id\":\"1127\",\"type\":\"Grid\"},{\"attributes\":{\"overlay\":{\"id\":\"1137\"}},\"id\":\"1135\",\"type\":\"BoxSelectTool\"},{\"attributes\":{},\"id\":\"1122\",\"type\":\"LinearScale\"},{\"attributes\":{},\"id\":\"1171\",\"type\":\"UnionRenderers\"},{\"attributes\":{},\"id\":\"1172\",\"type\":\"Selection\"},{\"attributes\":{},\"id\":\"1136\",\"type\":\"ResetTool\"},{\"attributes\":{\"coordinates\":null,\"data_source\":{\"id\":\"1111\"},\"glyph\":{\"id\":\"1147\"},\"group\":null,\"hover_glyph\":{\"id\":\"1149\"},\"muted_glyph\":{\"id\":\"1150\"},\"nonselection_glyph\":{\"id\":\"1148\"},\"view\":{\"id\":\"1152\"}},\"id\":\"1151\",\"type\":\"GlyphRenderer\"},{\"attributes\":{},\"id\":\"1120\",\"type\":\"LinearScale\"},{\"attributes\":{},\"id\":\"1116\",\"type\":\"DataRange1d\"},{\"attributes\":{\"coordinates\":null,\"group\":null,\"text\":\"Word Vecs Hard News (PCA)\"},\"id\":\"1114\",\"type\":\"Title\"},{\"attributes\":{\"fill_alpha\":{\"value\":0.1},\"fill_color\":{\"value\":\"blue\"},\"hatch_color\":{\"value\":\"blue\"},\"line_alpha\":{\"value\":0.2},\"line_color\":{\"value\":\"blue\"},\"size\":{\"value\":10},\"x\":{\"field\":\"x\"},\"y\":{\"field\":\"y\"}},\"id\":\"1147\",\"type\":\"Circle\"},{\"attributes\":{\"active_scroll\":{\"id\":\"1133\"},\"tools\":[{\"id\":\"1112\"},{\"id\":\"1132\"},{\"id\":\"1133\"},{\"id\":\"1134\"},{\"id\":\"1135\"},{\"id\":\"1136\"}]},\"id\":\"1139\",\"type\":\"Toolbar\"},{\"attributes\":{\"fill_alpha\":{\"value\":0.2},\"fill_color\":{\"value\":\"blue\"},\"hatch_alpha\":{\"value\":0.2},\"hatch_color\":{\"value\":\"blue\"},\"line_alpha\":{\"value\":0.2},\"line_color\":{\"value\":\"blue\"},\"size\":{\"value\":10},\"x\":{\"field\":\"x\"},\"y\":{\"field\":\"y\"}},\"id\":\"1150\",\"type\":\"Circle\"},{\"attributes\":{},\"id\":\"1118\",\"type\":\"DataRange1d\"},{\"attributes\":{\"fill_alpha\":{\"value\":0.1},\"fill_color\":{\"value\":\"blue\"},\"hatch_alpha\":{\"value\":0.1},\"hatch_color\":{\"value\":\"blue\"},\"line_alpha\":{\"value\":0.1},\"line_color\":{\"value\":\"blue\"},\"size\":{\"value\":10},\"x\":{\"field\":\"x\"},\"y\":{\"field\":\"y\"}},\"id\":\"1148\",\"type\":\"Circle\"},{\"attributes\":{},\"id\":\"1166\",\"type\":\"BasicTickFormatter\"},{\"attributes\":{\"fill_alpha\":{\"value\":0.1},\"fill_color\":{\"value\":\"blue\"},\"hatch_color\":{\"value\":\"blue\"},\"line_alpha\":{\"value\":0.2},\"size\":{\"value\":10},\"x\":{\"field\":\"x\"},\"y\":{\"field\":\"y\"}},\"id\":\"1149\",\"type\":\"Circle\"},{\"attributes\":{\"bottom_units\":\"screen\",\"coordinates\":null,\"fill_alpha\":0.5,\"fill_color\":\"lightgrey\",\"group\":null,\"left_units\":\"screen\",\"level\":\"overlay\",\"line_alpha\":1.0,\"line_color\":\"black\",\"line_dash\":[4,4],\"line_width\":2,\"right_units\":\"screen\",\"syncable\":false,\"top_units\":\"screen\"},\"id\":\"1137\",\"type\":\"BoxAnnotation\"},{\"attributes\":{\"source\":{\"id\":\"1111\"}},\"id\":\"1152\",\"type\":\"CDSView\"},{\"attributes\":{},\"id\":\"1132\",\"type\":\"PanTool\"},{\"attributes\":{},\"id\":\"1167\",\"type\":\"AllLabels\"},{\"attributes\":{\"overlay\":{\"id\":\"1138\"}},\"id\":\"1134\",\"type\":\"BoxZoomTool\"},{\"attributes\":{},\"id\":\"1169\",\"type\":\"BasicTickFormatter\"}],\"root_ids\":[\"1113\"]},\"title\":\"Bokeh Application\",\"version\":\"2.4.2\"}};\n  const render_items = [{\"docid\":\"6fe422dc-c3d3-4b98-a24b-bb0b7d15fbe2\",\"root_ids\":[\"1113\"],\"roots\":{\"1113\":\"e985a329-6b3c-468e-9156-d4c6ada3ec28\"}}];\n  root.Bokeh.embed.embed_items_notebook(docs_json, render_items);\n\n  }\n  if (root.Bokeh !== undefined) {\n    embed_document(root);\n  } else {\n    let attempts = 0;\n    const timer = setInterval(function(root) {\n      if (root.Bokeh !== undefined) {\n        clearInterval(timer);\n        embed_document(root);\n      } else {\n        attempts++;\n        if (attempts > 100) {\n          clearInterval(timer);\n          console.log(\"Bokeh: ERROR: Unable to run BokehJS code because BokehJS library is missing\");\n        }\n      }\n    }, 10, root)\n  }\n})(window);",
      "application/vnd.bokehjs_exec.v0+json": ""
     },
     "metadata": {
      "application/vnd.bokehjs_exec.v0+json": {
       "id": "1113"
      }
     },
     "output_type": "display_data"
    }
   ],
   "source": [
    "plotPCA(wordVecsHN, token2indexHN, 'Word Vecs Hard News (PCA)')"
   ]
  },
  {
   "cell_type": "markdown",
   "metadata": {},
   "source": [
    "#### 9.2. Redução de dimensionalidade utilizando t-SNE"
   ]
  },
  {
   "cell_type": "code",
   "execution_count": 26,
   "metadata": {
    "scrolled": false
   },
   "outputs": [],
   "source": [
    "from sklearn.manifold import TSNE\n",
    "\n",
    "def plotTSNE(wordVecs : np.ndarray, token2index : dict, title : str, sample = 900):\n",
    "    tsne = TSNE(metric = 'cosine')\n",
    "    reducedWordVecs = tsne.fit_transform(wordVecs)\n",
    "\n",
    "    dfWordVecs = createWordVecsDataFrame(reducedWordVecs, token2index)\n",
    "    interativePlot(dfWordVecs.sample(sample, random_state = 42), title = title)"
   ]
  },
  {
   "cell_type": "code",
   "execution_count": null,
   "metadata": {},
   "outputs": [],
   "source": [
    "plotTSNE(wordVecsBrasCubas, token2indexBrasCubas, 'Word Vecs Brás Cubas (TSNE)')"
   ]
  },
  {
   "cell_type": "code",
   "execution_count": null,
   "metadata": {},
   "outputs": [],
   "source": [
    "plotTSNE(wordVecsHN, token2indexHN, 'Word Vecs Hard News (TSNE)')"
   ]
  },
  {
   "cell_type": "markdown",
   "metadata": {},
   "source": [
    "### 10. Visualização a partir de um agrupamento hierárquico das palavras"
   ]
  },
  {
   "cell_type": "markdown",
   "metadata": {},
   "source": [
    "Também podemos visualizar o resultado através de um agrupamento hierárquico de um conjunto de palavras. \n",
    "\n",
    "A hierarquia será obtida através do agrupamento aglomerativo, no qual, inicialmente, cada ponto possuirá seu próprio *cluster* e cada par de *clusters* próximos serão agrupados a medida que a hierarquia aumenta. \n",
    "\n",
    "Sejam dois agrupamentos $S$ e $T$, a distância entre os cluster será dada por $d(S,T)$. Quando $S$ e $T$ são agrupados em um único cluster $U$, então $S$ e $T$ serão removidos e substituídos por $U$. Ao final do algoritmo restará um único cluster, o qual será a raiz da hierarquia.\n",
    "\n",
    "Seja o cluster $U$ de $dim(U) = n$ formado pelos pontos $\\{u_{0}, u_{1}, ..., u_{i}, ..., u_{n-1}\\}$ e seja $V$ um outro *cluster* $V$ de $dim(V) = m$ formado pelos pontos $\\{v_{0}, v_{1}, ..., v_{j}, ..., v_{m-1}\\}$, a distância entre os clusters $U$ e $V$ será dada por:\n",
    "\n",
    "$$d(U,V) = \\sum_{i,j}^{n,m} \\dfrac{d(u_{i}, v_{j})}{nm}$$\n",
    "\n",
    "em que,\n",
    "\n",
    "$$d(u_{i}, v_{j}) = \\dfrac{u \\cdot v}{||u||\\ ||v||}$$\n",
    "\n",
    "Ou seja, a distância entre os pontos de um cluster será dada pela métrica de distância cosseno, e a distância entre os cluster será dada pela média das distâncias entre os pontos de um par de *clusters*. Os pares de clusters a serem agrupados serão aqueles de menor distância.\n",
    "\n",
    "Em seguida, os agrupamentos hierárquicos serão visualizado através de um dendograma."
   ]
  },
  {
   "cell_type": "code",
   "execution_count": null,
   "metadata": {},
   "outputs": [],
   "source": [
    "from scipy.cluster.hierarchy import dendrogram, linkage\n",
    "\n",
    "# Cria um conjunto de palavras considerando as de referência juntamente com as suas n mais similares\n",
    "def sampleWords(referenceWords, wordVecs, token2index, index2token, n = 5):\n",
    "    sample = set()\n",
    "    for word in referenceWords:\n",
    "        sample.add(word)\n",
    "        similarityContextScores = wordsSimilarity(word, wordVecs, token2index, index2token, n)\n",
    "        for context, _ in similarityContextScores:\n",
    "            sample.add(context)\n",
    "            \n",
    "    return sample\n",
    "\n",
    "def plotDendogram(words, embeddings, title = None, xlabel = None, ylabel = None, figsize = (25,5)):\n",
    "    plt.figure(figsize = figsize)\n",
    "    plt.title(title)\n",
    "    plt.xlabel(xlabel)\n",
    "    plt.ylabel(ylabel)\n",
    "    \n",
    "    # clustering do tipo aglomerativo, usando como critério de agrupamento \n",
    "    # a média da distância entre os pontos de um par de cluster, usando o cosseno \n",
    "    # como métrica de distância entre os pontos\n",
    "    link = linkage(embeddings, method = 'average', metric = 'cosine')\n",
    "    \n",
    "    dendrogram(\n",
    "        link,\n",
    "        labels = words,\n",
    "        leaf_rotation=90.,  \n",
    "        leaf_font_size=10.,  \n",
    "        orientation='top',\n",
    "    )\n",
    "    \n",
    "    plt.show()"
   ]
  },
  {
   "cell_type": "code",
   "execution_count": null,
   "metadata": {},
   "outputs": [],
   "source": [
    "def visualizeDendogram(\n",
    "    referenceWords : list, wordVecs : np.ndarray, token2index : dict, \n",
    "    index2token : dict, title = None, xlabel = None, ylabel = None, figsize = (25,5)\n",
    "):\n",
    "    sample = sampleWords(referenceWords, wordVecs, token2index, index2token)\n",
    "\n",
    "    # Obtem os respectivos Word Embeddings\n",
    "    embeddings = [wordVecs[token2index[word]] for word in sample]\n",
    "    \n",
    "    plotDendogram(list(sample), embeddings, title = 'Dendograma Agrupamento Hierárquico', \n",
    "              ylabel = 'distância', xlabel = 'token')\n",
    "    "
   ]
  },
  {
   "cell_type": "code",
   "execution_count": null,
   "metadata": {},
   "outputs": [],
   "source": [
    "# Escolhe as palavras que serão usadas como referência para obter uma amostra\n",
    "referenceWords = [\n",
    "    'defunto', 'brás', 'romance', 'coimbra', 'flagelos', 'alegria', 'shakespeare', 'homem', 'luxo',\n",
    "    'filósofo', 'festa', 'olhos', 'ontem', 'guerra', 'ensino', 'leitor'\n",
    "]\n",
    "visualizeDendogram(referenceWords, wordVecsBrasCubas, token2indexBrasCubas, index2tokenBrasCubas,\n",
    "                   title = 'Dendograma Agrupamento Hierárquico Brás Cubas', \n",
    "                   ylabel = 'distância', xlabel = 'token')"
   ]
  },
  {
   "cell_type": "code",
   "execution_count": null,
   "metadata": {},
   "outputs": [],
   "source": [
    "referenceWords = ['facebook', 'twitter', 'instagram', 'messenger', 'hack', 'security', \n",
    "          'deep', 'encryption', 'command', 'venture' , 'bitcoin', 'github', 'opensource',\n",
    "          'linux', 'microsoft', 'tensorflow', 'whatsapp', 'kernel', 'bill', 'elon', 'silicon', 'course',\n",
    "           'startup', 'blog']\n",
    "visualizeDendogram(referenceWords, wordVecsHN, token2indexHN, index2tokenHN,\n",
    "                   title = 'Dendograma Agrupamento Hierárquico Hard News',\n",
    "                   ylabel = 'distância', xlabel = 'token')"
   ]
  },
  {
   "cell_type": "markdown",
   "metadata": {},
   "source": [
    "### 11. Composição de Vetores"
   ]
  },
  {
   "cell_type": "markdown",
   "metadata": {},
   "source": [
    "Uma das propriedades semânticas do modelo está em sua capacidade de capturar analogias e relações entre palavras. Uma das formas de avaliar essa propriedade é usar o nosso modelo para resolver problemas na forma: ***a*** está para ***b***, assim como ***c*** está para ***d***. \n",
    "\n",
    "Esse tipo de problema pode ser reescrito através de uma composição de vetores como, por exemplo, \n",
    "$$\\vec{Rei} - \\vec{homem} + \\vec{mulher} = \\vec{rainha}.$$ \n",
    "Ou seja, queremos que o resultado da expressão $\\vec{Rei} - \\vec{homem} + \\vec{mulher}$ resulte em um vetor próximo de $\\vec{rainha}$, criando uma espécie de aritmética entre palavras (que, no fundo, são vetores) em que podemos relacioná-las pelo seu nível de similaridade."
   ]
  },
  {
   "cell_type": "code",
   "execution_count": null,
   "metadata": {},
   "outputs": [],
   "source": [
    "def getNearestWord(matrix, wordVec, index2token):\n",
    "    # Cálculo da similidade (similaridade de vetores por cosseno)\n",
    "    similarity = cosine_similarity(matrix, wordVec).flatten()\n",
    "    sortedIndexes = np.argsort(-similarity)\n",
    "    \n",
    "    for index in sortedIndexes[:10]:\n",
    "        print(index2token[index], similarity[index])"
   ]
  },
  {
   "cell_type": "code",
   "execution_count": null,
   "metadata": {},
   "outputs": [],
   "source": [
    "composition = wordVecsHN[token2indexHN['facebook']] + wordVecsHN[token2indexHN['images']]\n",
    "getNearestWord(wordVecsHN, composition.reshape(1,-1), index2tokenHN)"
   ]
  },
  {
   "cell_type": "code",
   "execution_count": null,
   "metadata": {},
   "outputs": [],
   "source": [
    "composition = wordVecsHN[token2indexHN['facebook']] - wordVecsHN[token2indexHN['ads']]\n",
    "getNearestWord(wordVecsHN, composition.reshape(1,-1), index2tokenHN)"
   ]
  },
  {
   "cell_type": "code",
   "execution_count": null,
   "metadata": {},
   "outputs": [],
   "source": [
    "composition = wordVecsHN[token2indexHN['machine']] + wordVecsHN[token2indexHN['learning']]\n",
    "getNearestWord(wordVecsHN, composition.reshape(1,-1), index2tokenHN)"
   ]
  },
  {
   "cell_type": "code",
   "execution_count": null,
   "metadata": {},
   "outputs": [],
   "source": [
    "composition = wordVecsHN[token2indexHN['windows']] +  wordVecsHN[token2indexHN['open']] \n",
    "getNearestWord(wordVecsHN, composition.reshape(1,-1), index2tokenHN)"
   ]
  },
  {
   "cell_type": "code",
   "execution_count": null,
   "metadata": {},
   "outputs": [],
   "source": [
    "composition = wordVecsHN[token2indexHN['fbi']] +  wordVecsHN[token2indexHN['obama']] \n",
    "getNearestWord(wordVecsHN, composition.reshape(1,-1), index2tokenHN)"
   ]
  },
  {
   "cell_type": "code",
   "execution_count": null,
   "metadata": {},
   "outputs": [],
   "source": [
    "composition = wordVecsHN[token2indexHN['spacex']] -  wordVecsHN[token2indexHN['elon']] \n",
    "getNearestWord(wordVecsHN, composition.reshape(1,-1), index2tokenHN)"
   ]
  },
  {
   "cell_type": "code",
   "execution_count": null,
   "metadata": {},
   "outputs": [],
   "source": [
    "composition = wordVecsHN[token2indexHN['company']] +  wordVecsHN[token2indexHN['iphone']]\n",
    "getNearestWord(wordVecsHN, composition.reshape(1,-1), index2tokenHN)"
   ]
  },
  {
   "cell_type": "code",
   "execution_count": null,
   "metadata": {},
   "outputs": [],
   "source": [
    "composition = wordVecsHN[token2indexHN['html']] +  wordVecsHN[token2indexHN['css']]\n",
    "getNearestWord(wordVecsHN, composition.reshape(1,-1), index2tokenHN)"
   ]
  },
  {
   "cell_type": "code",
   "execution_count": null,
   "metadata": {},
   "outputs": [],
   "source": [
    "composition = wordVecsHN[token2indexHN['apple']] -  wordVecsHN[token2indexHN['steve']] +  wordVecsHN[token2indexHN['elon']]\n",
    "getNearestWord(wordVecsHN, composition.reshape(1,-1), index2tokenHN)"
   ]
  },
  {
   "cell_type": "markdown",
   "metadata": {},
   "source": [
    "### Referências\n",
    "\n",
    "- SERGEI TREIL, _Linear Algebra Done Wrong_. Brown University. Encontrado em http://www.math.brown.edu/streil/papers/LADW/LADW.html.\n",
    "- MONKEYLEARN, _Topic Modeling: An Introduction_. Encontrado em https://monkeylearn.com/blog/introduction-to-topic-modeling/.\n",
    "- MIT OPENCOURSEWARE (Gilbert Strang), _Singular Value Decomposition (the SVD)_. Encontrado em https://www.youtube.com/watch?v=mBcLRGuAFUk.\n",
    "- WHITE LOTHUS, _How do computers understand words? Introduction into word2vec_. Encontrado em https://www.youtube.com/watch?v=Fzz1HIigbxg.\n",
    "- OMER L., YOAV G., IDO D., _Improving Distributional Similarity with Lessons Learned from Word Embeddings_. Encontrado em https://transacl.org/ojs/index.php/tacl/article/view/570.\n",
    "- STANFORD UNIVERSITY, _Natural Language Processing -- Stanford University_. Encontrado em https://transacl.org/ojs/index.php/tacl/article/view/570."
   ]
  }
 ],
 "metadata": {
  "interpreter": {
   "hash": "916dbcbb3f70747c44a77c7bcd40155683ae19c65e1c03b4aa3499c5328201f1"
  },
  "kernelspec": {
   "display_name": "Python 3 (ipykernel)",
   "language": "python",
   "name": "python3"
  },
  "language_info": {
   "codemirror_mode": {
    "name": "ipython",
    "version": 3
   },
   "file_extension": ".py",
   "mimetype": "text/x-python",
   "name": "python",
   "nbconvert_exporter": "python",
   "pygments_lexer": "ipython3",
   "version": "3.9.2"
  }
 },
 "nbformat": 4,
 "nbformat_minor": 2
}
