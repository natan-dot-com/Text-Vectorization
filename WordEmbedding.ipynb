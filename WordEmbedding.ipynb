{
 "cells": [
  {
   "cell_type": "markdown",
   "metadata": {},
   "source": [
    "## Projeto Final - Álgebra Linear e Aplicações (SME0142)\n",
    "Projeto confeccionado por Natan Sanches (11795680) e Álvaro José Lopes (10873365).\n",
    "\n",
    "- **Objetivo e tematização:** A temática utilizada para confecção do projeto foi a de construção de um _pipeline_ dentro do contexto de Processamento de Linguagem Natural. Um texto bruto pôde ser analisado, permitindo um estudo sobre cada palavra individualmente e sua relação com os contextos em sua vizinhança; técnica usualmente chamada de _Word Embedding_. A partir desse estudo, é possível construir um modelo Espaço-Vetorial das palavras, em que palavras similares semânticamente estarão próximas no espaço e palavras dissimilares estarão distantes. Em seguida, serão utilizadas técnicas de Álgebra Linear para manipulá-las.\n",
    "\n",
    "O modelo Espaço Vetorial será construído através da fatoração, via SVD (Singular Value Decomposition) de uma matriz termo-a-termo, denominada de PPMI (Positive Pointwise Mutual Information). Com os vetores de *embedding* para cada palavra, será possível encontrar as palavras mais similares entre si e projetá-las no espaço euclideano usando técnicas de redução de dimensionalidade (PCA e t-SNE). Além disso, será explorada a formação de *clusters* de palavras, através de um dendograma feito utilizando o método de agrupamento hierárquico. Por fim, para explorar as propriedades semânticas do modelo também será avaliada a capacidade do modelo em capturar analogias e relações entre palavras através de uma composição de vetores."
   ]
  },
  {
   "cell_type": "markdown",
   "metadata": {},
   "source": [
    "### 0. Bibliotecas utilizadas"
   ]
  },
  {
   "cell_type": "code",
   "execution_count": 1,
   "metadata": {},
   "outputs": [
    {
     "name": "stderr",
     "output_type": "stream",
     "text": [
      "[nltk_data] Downloading package stopwords to\n",
      "[nltk_data]     /home/alvarolopes/nltk_data...\n",
      "[nltk_data]   Package stopwords is already up-to-date!\n"
     ]
    }
   ],
   "source": [
    "import warnings\n",
    "warnings.simplefilter(action='ignore', category=FutureWarning)\n",
    "from string import punctuation\n",
    "\n",
    "import nltk\n",
    "nltk.download('stopwords')\n",
    "\n",
    "from nltk.corpus import stopwords\n",
    "from collections import Counter\n",
    "from scipy import sparse\n",
    "import numpy as np\n",
    "import pandas as pd\n",
    "import matplotlib.pyplot as plt"
   ]
  },
  {
   "cell_type": "markdown",
   "metadata": {},
   "source": [
    "### 1. Leitura do texto central\n",
    "Neste exemplo, utilizamos o romance Memórias Póstumas de Brás Cubas (clássico de Machado de Assis) e um conjunto de dados do fórum Hard News, que contém os títulos de 293119 postagens retiradas do ano de 2016. Os textos foram carregados a partir de arquivos em disco, criando um _corpus_ (lista) de parágrafos/documentos disponíveis para manipulação."
   ]
  },
  {
   "cell_type": "code",
   "execution_count": 2,
   "metadata": {
    "scrolled": false
   },
   "outputs": [],
   "source": [
    "inputFile = \"data/memorias-postumas-bras-cubas.txt\"\n",
    "with open(inputFile) as f:\n",
    "    corpus = f.readlines()\n",
    "    \n",
    "cleanedCorpus = []\n",
    "fullSentence = ''\n",
    "for sentence in corpus:\n",
    "    if sentence == '\\n':\n",
    "        if 'CAPÍTULO' not in fullSentence:\n",
    "            cleanedCorpus.append(fullSentence.replace('\\n', ''))\n",
    "        fullSentence = ''\n",
    "    \n",
    "    fullSentence += ' ' + sentence\n",
    "corpusBrasCubas = cleanedCorpus"
   ]
  },
  {
   "cell_type": "code",
   "execution_count": 3,
   "metadata": {},
   "outputs": [],
   "source": [
    "inputFile = \"data/HN_posts_year_to_Sep_26_2016.csv\"\n",
    "df = pd.read_csv(inputFile)\n",
    "corpusHN = df['title']"
   ]
  },
  {
   "cell_type": "code",
   "execution_count": 4,
   "metadata": {},
   "outputs": [
    {
     "data": {
      "text/plain": [
       "(293119, 7)"
      ]
     },
     "execution_count": 4,
     "metadata": {},
     "output_type": "execute_result"
    }
   ],
   "source": [
    "df.shape"
   ]
  },
  {
   "cell_type": "markdown",
   "metadata": {},
   "source": [
    "### 2. Pré-processamento do texto"
   ]
  },
  {
   "cell_type": "markdown",
   "metadata": {},
   "source": [
    "Como em todo projeto envolvendo processamento de língua natural, é necessário que seja feito um pré-processamento que permite consistência na hora da análise textual. Dentre as técnicas de processamento realizadas, estão:\n",
    "\n",
    "- Eliminação de conflitos case-sensitive, isto é, transformando todas as letras maiúsculas em minúsculas.\n",
    "- Eliminação de caracteres não UTF-8, como uma maneira de preservar a consistência do texto.\n",
    "- Eliminação de pontuações e objetos textuais de sinalização, uma vez que estes não serão importantes para a análise.\n",
    "- Eliminação de _stop words_, ou palavras de parada (preposições, conjunções, etc), que não possuem contexto isolado."
   ]
  },
  {
   "cell_type": "code",
   "execution_count": 5,
   "metadata": {},
   "outputs": [],
   "source": [
    "punctranslation = str.maketrans(dict.fromkeys(punctuation))\n",
    "\n",
    "# Realiza a tokenização e tratamento dos parágrafos do texto\n",
    "def tokenize(corpus : str, language : str) -> list:\n",
    "    setStopwords = set(stopwords.words(language))\n",
    "    corpusTokenized = []\n",
    "    for paragraph in corpus:\n",
    "        paragraph = paragraph.lower()                                       # Tratamento de case-sensitive\n",
    "        paragraph = paragraph.encode('utf8', 'ignore').decode()             # Eliminação de caracteres fora de UTF-8\n",
    "        paragraph = paragraph.translate(punctranslation)                    # Eliminação de pontuações\n",
    "        tokens = [token for token in paragraph.split()                      # Eliminação de stopwords\n",
    "                  if token not in setStopwords and token != '']\n",
    "        corpusTokenized.append(list(filter(None, tokens)))\n",
    "        \n",
    "    return corpusTokenized\n",
    "    \n",
    "corpusTokenizedBrasCubas = tokenize(corpusBrasCubas, 'portuguese')\n",
    "corpusTokenizedHN = tokenize(corpusHN, 'english')"
   ]
  },
  {
   "cell_type": "markdown",
   "metadata": {},
   "source": [
    "### 3. Contagem de unigramas do texto"
   ]
  },
  {
   "cell_type": "markdown",
   "metadata": {},
   "source": [
    "Realiza, para cada parágrafo, a contagem de frequência de cada _token_ do texto."
   ]
  },
  {
   "cell_type": "code",
   "execution_count": 6,
   "metadata": {},
   "outputs": [],
   "source": [
    "def getUnigrams(corpusTokenized : str) -> Counter():\n",
    "    unigrams = Counter()\n",
    "    for paragraph in corpusTokenized:\n",
    "        for token in paragraph:\n",
    "            unigrams[token] += 1\n",
    "            \n",
    "    return unigrams"
   ]
  },
  {
   "cell_type": "code",
   "execution_count": 7,
   "metadata": {},
   "outputs": [],
   "source": [
    "unigramsBrasCubas = getUnigrams(corpusTokenizedBrasCubas)\n",
    "\n",
    "# Mapeamento de acesso (Token <-> Índice representativo) para o romance de Assis\n",
    "token2indexBrasCubas = {token: index for index, token in enumerate(unigramsBrasCubas.keys())}\n",
    "index2tokenBrasCubas = {index: token for token, index in token2indexBrasCubas.items()}\n",
    "\n",
    "unigramsHN = getUnigrams(corpusTokenizedHN)\n",
    "\n",
    "# Mapeamento de acesso (Token <-> Índice representativo) para os dados do fórum Hard News\n",
    "token2indexHN = {token: index for index, token in enumerate(unigramsHN.keys())}\n",
    "index2tokenHN = {index: token for token, index in token2indexHN.items()}"
   ]
  },
  {
   "cell_type": "markdown",
   "metadata": {},
   "source": [
    "### 4. Contagem de bigramas do texto"
   ]
  },
  {
   "cell_type": "markdown",
   "metadata": {},
   "source": [
    "Realiza, para cada parágrafo, a contagem dos bigramas presentes. Um bigrama representa a ocorrência de um par palavra-contexto, de maneira com que o contexto esteja dentro da janela de contexto. Nesse caso, o _range_ da janela de contexto foi de três palavras (para frente e para trás)."
   ]
  },
  {
   "cell_type": "code",
   "execution_count": 8,
   "metadata": {},
   "outputs": [],
   "source": [
    "def getSkipGrams(corpusTokenized : str, token2index : dict, gap = 3) -> Counter():\n",
    "    # Contador de bigramas, considerando uma determinada janela de contexto (nesse caso, 'gap'\n",
    "    # palavras antes e 'gap' palavras depois)\n",
    "    skipgrams = Counter()\n",
    "\n",
    "    for paragraph in corpusTokenized:\n",
    "        tokens = [token2index[tok] for tok in paragraph]\n",
    "\n",
    "        # Para cada palavra no parágrafo, realiza a análise dos contextos da vizinhança\n",
    "        for indexWord, word in enumerate(paragraph):\n",
    "            indexContextMin = max(0, indexWord - gap)\n",
    "            indexContextMax = min(len(paragraph)-1, indexWord + gap)\n",
    "\n",
    "            # Para cada contexto da vizinhança, crie um bigrama com a palavra central\n",
    "            indexContexts = [index for index in range(indexContextMin, indexContextMax + 1) if index != indexWord]\n",
    "            for indexContext in indexContexts:\n",
    "                skipgram = (tokens[indexWord], tokens[indexContext])\n",
    "                skipgrams[skipgram] += 1\n",
    "    \n",
    "    return skipgrams"
   ]
  },
  {
   "cell_type": "code",
   "execution_count": 9,
   "metadata": {},
   "outputs": [],
   "source": [
    "skipgramsBrasCubas = getSkipGrams(corpusTokenizedBrasCubas, token2indexBrasCubas)\n",
    "skipgramsHN = getSkipGrams(corpusTokenizedHN, token2indexHN)"
   ]
  },
  {
   "cell_type": "markdown",
   "metadata": {},
   "source": [
    "Também é prudente que os unigramas muito frequentes ou muito raros sejam removidos, uma vez que, dentro do contexto de mineração de texto, esses unigramas atrapalhariam na análise feita devida a sua frequência bruta."
   ]
  },
  {
   "cell_type": "code",
   "execution_count": 10,
   "metadata": {},
   "outputs": [],
   "source": [
    "def removeUnigrams(\n",
    "    minCount : int, maxCount : int, token2index : dict, index2token : dict, \n",
    "    unigrams : Counter(), skipgrams : Counter()\n",
    "):\n",
    "    \n",
    "    # Remoção de tokens muito frequentes ou muito raros\n",
    "    updatedtoken2index = token2index.copy()\n",
    "    updatedindex2token = index2token.copy()\n",
    "\n",
    "    for token in list(unigrams.keys()):\n",
    "        if unigrams[token] < minCount or unigrams[token] > maxCount:\n",
    "            del unigrams[token]\n",
    "            index = token2index[token]\n",
    "            del updatedtoken2index[token]\n",
    "            del updatedindex2token[index]\n",
    "    \n",
    "    for word, context in list(skipgrams.keys()):\n",
    "        if index2token[word] not in unigrams or index2token[context] not in unigrams:\n",
    "            del skipgrams[(word, context)]\n",
    "    \n",
    "    return updatedindex2token, updatedtoken2index"
   ]
  },
  {
   "cell_type": "code",
   "execution_count": 11,
   "metadata": {},
   "outputs": [],
   "source": [
    "# Removendo palavras muito frequentes e muito raras presentes no corpus Hard News\n",
    "minCount, maxCount = (1 / 1000) * len(corpusHN), (1 / 50) * len(corpusHN)\n",
    "index2tokenHN, token2indexHN = removeUnigrams(minCount, maxCount, token2indexHN, index2tokenHN,\n",
    "                                              unigramsHN, skipgramsHN)"
   ]
  },
  {
   "cell_type": "markdown",
   "metadata": {},
   "source": [
    "### 5. Criação da matriz de frequência termo-a-termo"
   ]
  },
  {
   "cell_type": "markdown",
   "metadata": {},
   "source": [
    "Criação da matriz que relaciona dois _tokens_ (um bigrama) ao seu devido número de ocorrências. Essa matriz é uma matriz esparça, que requer que utilizemos metodos especiais de armazenamento (devido também à dimensão de seu tamanho)."
   ]
  },
  {
   "cell_type": "code",
   "execution_count": 12,
   "metadata": {},
   "outputs": [],
   "source": [
    "def getCountMatrix(skipgrams : Counter()) -> sparse.csr_matrix:\n",
    "    # Mapeamento das entradas da matriz esparça de frequência entre os bigramas do texto\n",
    "    rowsMatrix = []\n",
    "    columnsMatrix = []\n",
    "    dataMatrix = []\n",
    "\n",
    "    for (token1, token2), skipgramCount in skipgrams.items():\n",
    "        rowsMatrix.append(token1)\n",
    "        columnsMatrix.append(token2)\n",
    "        dataMatrix.append(skipgramCount)\n",
    "\n",
    "    return sparse.csr_matrix((dataMatrix, (rowsMatrix, columnsMatrix)))"
   ]
  },
  {
   "cell_type": "code",
   "execution_count": 13,
   "metadata": {},
   "outputs": [],
   "source": [
    "wwMatrixBrasCubas = getCountMatrix(skipgramsBrasCubas)\n",
    "wwMatrixHN = getCountMatrix(skipgramsHN)"
   ]
  },
  {
   "cell_type": "markdown",
   "metadata": {},
   "source": [
    "### 6. Criação da matriz PPMI"
   ]
  },
  {
   "cell_type": "markdown",
   "metadata": {},
   "source": [
    "O PMI (Pointwise Mutual Information) é uma métrica que relaciona a probabilidade de ocorrência de uma palavra em conjunto com certo contexto, quando comparada à ocorrência de ambos isolados. Dessa forma, para uma palavra $w$ relacionada a um contexto $c$, o PMI dentre elas é dado pela relação\n",
    "\n",
    "$$pmi(w, c) = \\log{\\left(\\dfrac{P(w, c)}{P(w)P(c)}\\right)}$$\n",
    "\n",
    "onde $P(w, c)$ representa a probabilidade de ocorrência de determinada palavra em determinado contexto, $P(w)$ representa a probabilidade de ocorrência de determinada palavra no texto e $P(c)$ representa a probabilidade de ocorrência de determinado contexto no texto. Munidos dessa informação, podemos eliminar a possibilidade de $pmi(w, c)$ assumir valores negativos utilizando sua variação denominada de PPMI (Positive Pointwise Mutual Information), dada por\n",
    "\n",
    "$$ppmi(w,c) = \\textrm{max}(0,\\ pmi(w, c)).$$\n",
    "\n",
    "A matriz PPMI $[M]_{n \\times n}$ é uma matriz quadrada que relaciona uma palavra $w$ e um contexto $c$ ao seu valor PPMI, de tal forma que $M(w, c) = ppmi(w, c)$."
   ]
  },
  {
   "cell_type": "code",
   "execution_count": 14,
   "metadata": {},
   "outputs": [],
   "source": [
    "def getPPMImatrix(wwMatrix : sparse.csr_matrix, skipgrams : Counter()) -> sparse.csr_matrix:\n",
    "    # Número total de bigramas presente na matriz de frequência\n",
    "    numSkipgrams = wwMatrix.sum()\n",
    "\n",
    "    # Mapeamento das entradas da matriz PPMI\n",
    "    rowsIndex = []\n",
    "    columnsIndex = []\n",
    "    ppmiData = []\n",
    "\n",
    "    # Vetor de frequência total de cada palavra em todos os possíveis contextos\n",
    "    sumWords = np.array(wwMatrix.sum(axis=0)).flatten()\n",
    "\n",
    "    # Vetor de frequência total de cada contexto para todas as possíveis palavras\n",
    "    sumContexts = np.array(wwMatrix.sum(axis=1)).flatten()\n",
    "\n",
    "    for (tokenWord, tokenContext), skipgramCount in skipgrams.items():\n",
    "\n",
    "        # Frequência de determinada palavra em determinado contexto\n",
    "        # [#(w,c)]\n",
    "        freqWordContext = skipgramCount\n",
    "\n",
    "        # Frequência de determinada palavra em todos os contextos possíveis\n",
    "        # [#(w)]\n",
    "        freqWord = sumContexts[tokenWord]\n",
    "\n",
    "        # Frequência de determinado contexto para todas as palavras possíveis\n",
    "        # [#(c)]\n",
    "        freqContext = sumWords[tokenContext]\n",
    "\n",
    "        # Probabilidade de ocorrência de determinada palavra em determinado contexto\n",
    "        # [P(w,c)]\n",
    "        probWordContext = freqWordContext / numSkipgrams\n",
    "\n",
    "        # Probabilidade de ocorrência de determinada palavra individualmente\n",
    "        # [P(w)]\n",
    "        probWord = freqWord / numSkipgrams\n",
    "\n",
    "        # Probabilidade de ocorrência de determinado contexto individualmente\n",
    "        # [P(c)]\n",
    "        probContext = freqContext / numSkipgrams\n",
    "\n",
    "        # Cálculo PPMI (Positive Pointwise Mutual Information)\n",
    "        # [PPMI = max(0, log( P(w,c)/(P(w)P(c)) ))]\n",
    "        PPMI = max(np.log2(probWordContext / (probWord * probContext)), 0)\n",
    "\n",
    "        rowsIndex.append(tokenWord)\n",
    "        columnsIndex.append(tokenContext)\n",
    "        ppmiData.append(PPMI)\n",
    "\n",
    "    return sparse.csr_matrix((ppmiData, (rowsIndex, columnsIndex)))"
   ]
  },
  {
   "cell_type": "code",
   "execution_count": 15,
   "metadata": {},
   "outputs": [],
   "source": [
    "ppmiMatrixBrasCubas = getPPMImatrix(wwMatrixBrasCubas, skipgramsBrasCubas)\n",
    "ppmiMatrixHN = getPPMImatrix(wwMatrixHN, skipgramsHN)"
   ]
  },
  {
   "cell_type": "markdown",
   "metadata": {},
   "source": [
    "### 7. Fatoração matricial usando SVD (Singular Value Decomposition)"
   ]
  },
  {
   "cell_type": "markdown",
   "metadata": {},
   "source": [
    "A Decomposição por Valor Singular (SVD) é uma maneira possível de fatorarmos a matriz esparça de PPMI, de maneira que possamos deixá-la mais densa. Uma matriz $[M]_{m \\times n}$ pode ser fatorada da forma\n",
    "\n",
    "$$M = U \\Sigma V^*$$\n",
    "\n",
    "onde $[U]_{m \\times m}$ é uma matriz unitária, $[\\Sigma]_{m \\times n}$ é uma matriz retangular diagonal e $[V^*]_{n \\times n}$ é uma matriz unitária (dita conjugada transposta de $V$). As entradas diagonais de $\\Sigma$ são os ditos valores singulares de $M$, enquanto o espaço-coluna de $U$ e $V$ contém os ditos vetores singulares à esquerda e à direita de $M$, respectivamente. \n",
    "\n",
    "Ao manter os $d$ maiores autovetores, podemos obter:\n",
    "$$M_{d} = U_{d} \\Sigma_{d} V^*_{d}$$\n",
    "\n",
    "No contexto de matrizes palavra-contexto a matriz densa $M_{d}$ pode substituir a matriz esparsa de alta dimensão $M$. Uma abordagem comum na literatura sobre PLN é fatorar $M^{PPMI}$ (a matriz PPMI) usando SVD e utilizar as colunas\n",
    "\n",
    "$$W^{SVD} = U_{d}\\ e\\ C^{SVD} = V_{d}$$\n",
    "\n",
    "como representação das palavras e contextos, respectivamente."
   ]
  },
  {
   "cell_type": "code",
   "execution_count": 16,
   "metadata": {},
   "outputs": [],
   "source": [
    "from scipy.sparse.linalg import svds as SVD\n",
    "\n",
    "def getWordVecs(ppmiMatrix : sparse.csr_matrix, embeddingSize = 50) -> np.ndarray:\n",
    "    # Dimensão proposta da matriz de valores singulares produzida pelo SVD\n",
    "    # [Hiperparâmetro]\n",
    "    embeddingSize = 50\n",
    "\n",
    "    U, D, V = SVD(ppmiMatrix, embeddingSize)\n",
    "\n",
    "    # Normalização das matrizes de vetores singulares produzidas pelo SVD\n",
    "    Unorm = U / np.sqrt(np.sum(U*U, axis=1, keepdims=True))\n",
    "    Vnorm = V / np.sqrt(np.sum(V*V, axis=1, keepdims=True))\n",
    "\n",
    "    return Unorm"
   ]
  },
  {
   "cell_type": "markdown",
   "metadata": {},
   "source": [
    "A matriz retornada é uma das matrizes singulares da fatoração feita utilizando a decomposição por valor singular, representando uma matriz mais densa do que a matriz de PPMI anteriormente construída e, ao mesmo tempo, mantendo as informações relativas a cada par."
   ]
  },
  {
   "cell_type": "code",
   "execution_count": 17,
   "metadata": {},
   "outputs": [],
   "source": [
    "wordVecsBrasCubas = getWordVecs(ppmiMatrixBrasCubas)\n",
    "wordVecsHN = getWordVecs(ppmiMatrixHN)"
   ]
  },
  {
   "cell_type": "markdown",
   "metadata": {},
   "source": [
    "### 8. Visualização de palavras similares por similaridade por cosseno"
   ]
  },
  {
   "cell_type": "markdown",
   "metadata": {},
   "source": [
    "A similaridade por cosseno é uma métrica de similaridade entre vetores que consiste em comparar o ângulo entre eles. Para dois vetores $u$ e $v$, a similaridade por cosseno pode ser descrita pela relação\n",
    "\n",
    "$$cos(\\theta) = \\dfrac{u \\cdot v}{||u||\\ ||v||} = \\dfrac{\\sum_{i=1}^n u_i v_i}{\\sqrt{\\sum_{i=1}^n u_i^{\\ 2}}\\ \\sqrt{\\sum_{i=1}^n v_i^{\\ 2}}}$$\n",
    "\n",
    "de tal forma que $\\theta$ descreve o ângulo entre esses vetores e $u \\cdot v$ é o produto escalar entre eles. Essa métrica de similiadade pode ser utilizada, em palavras vetorizadas, para medir o índice de relação entre uma palavra e um contexto, coisa que faremos a partir da matriz densa adquirida após fatoração por SVD.\n"
   ]
  },
  {
   "cell_type": "code",
   "execution_count": 18,
   "metadata": {},
   "outputs": [],
   "source": [
    "from sklearn.metrics.pairwise import cosine_similarity\n",
    "\n",
    "# Cálculo dos 10 contextos mais similares a dada palavra utilizando a matriz de Word Embedding\n",
    "def wordsSimilarity(word : str, matrix : np.ndarray, token2index : dict, index2token : dict, n : int) -> list:\n",
    "    wordIndex = token2index[word]\n",
    "\n",
    "    # Resgate do vetor representante de determinada palavra\n",
    "    if isinstance(matrix, sparse.csr_matrix):\n",
    "        wordVec = matrix.getrow(wordIndex)\n",
    "    else:\n",
    "        wordVec = matrix[wordIndex:wordIndex+1, :]\n",
    "        \n",
    "\n",
    "    # Cálculo da similidade (similaridade de vetores por cosseno)\n",
    "    similarity = cosine_similarity(matrix, wordVec).flatten()\n",
    "    sortedIndexes = np.argsort(-similarity)\n",
    "\n",
    "    # Retorno dos n contextos mais similares a dada palavra\n",
    "    similarityContextScores = [(index2token[sortedIndex], similarity[sortedIndex]) \n",
    "                                for sortedIndex in sortedIndexes[:n+1] \n",
    "                                if index2token[sortedIndex] != word]\n",
    "\n",
    "    return similarityContextScores\n",
    "\n",
    "# Produz uma resenha sobre os contextos mais relacionados a determinada palavra\n",
    "def wordSimilarityReport(\n",
    "    word : str, matrix : np.ndarray, unigrams : Counter(), \n",
    "    token2index : dict, index2token : dict, n=5\n",
    "):\n",
    "    \n",
    "    print(f'\\'{word}\\'\\t Frequência total: {unigrams[word]}', end='\\n\\t')\n",
    "\n",
    "    similarityContextScores = wordsSimilarity(word, matrix, token2index, index2token, n)\n",
    "    for context, similarity in similarityContextScores:\n",
    "        print(f'(\\'{context}\\', {similarity})', end='\\t')\n",
    "\n",
    "# Expande a lista de contextos similares para determinada palavra\n",
    "def getExamplesSimilarity(\n",
    "    examples : list, wordVecs : np.ndarray, unigrams : Counter(), token2index : dict, index2token : dict\n",
    "):\n",
    "    for word in examples:\n",
    "        wordSimilarityReport(word, wordVecs, unigrams, token2index, index2token)\n",
    "        print('\\n'+'---'*20)\n",
    "    "
   ]
  },
  {
   "cell_type": "markdown",
   "metadata": {},
   "source": [
    "#### 8.1. Contextos mais similares para determinadas palavras do romance de Machado de Assis"
   ]
  },
  {
   "cell_type": "code",
   "execution_count": 19,
   "metadata": {},
   "outputs": [
    {
     "name": "stdout",
     "output_type": "stream",
     "text": [
      "'defunto'\t Frequência total: 6\n",
      "\t('campa', 0.6746168068468186)\t('autor', 0.6151385979010779)\t('lorpa', 0.6095057883956855)\t('propriamente', 0.5407653053434001)\t('consular', 0.5360443966781012)\t\n",
      "------------------------------------------------------------\n",
      "'autor'\t Frequência total: 6\n",
      "\t('conhece', 0.789200094114813)\t('campa', 0.7156197176322138)\t('prejuízo', 0.7086163766598012)\t('bibliômano', 0.6943374900763779)\t('dr', 0.6887019978540381)\t\n",
      "------------------------------------------------------------\n",
      "'brás'\t Frequência total: 30\n",
      "\t('cubas', 0.9769073553454316)\t('adotei', 0.9669953696673037)\t('palerma', 0.9634145212019593)\t('tejadilho', 0.9586951536105883)\t('mouriscas', 0.9562553264272469)\t\n",
      "------------------------------------------------------------\n",
      "'coimbra'\t Frequência total: 5\n",
      "\t('primou', 0.8059552908746227)\t('matérias', 0.7878930538847297)\t('esperavame', 0.7732384578162014)\t('estudou', 0.7216044372472821)\t('cursar', 0.7033942649042229)\t\n",
      "------------------------------------------------------------\n",
      "'flagelos'\t Frequência total: 3\n",
      "\t('radicalmente', 0.664232916062501)\t('supostos', 0.5950821737691394)\t('venham', 0.5837803007765716)\t('envolta', 0.5710167445122342)\t('complicavase', 0.5709318883051664)\t\n",
      "------------------------------------------------------------\n",
      "'alegria'\t Frequência total: 15\n",
      "\t('desabrochavam', 0.8366937225652024)\t('extensos', 0.8356663880161046)\t('paciente', 0.8176558039190395)\t('salpicada', 0.8085781294661754)\t('irmãmente', 0.7974800549061107)\t\n",
      "------------------------------------------------------------\n",
      "'shakespeare'\t Frequência total: 3\n",
      "\t('retalhinho', 0.7705108714866744)\t('trágica', 0.6580211033893703)\t('viciosa', 0.6544594785151372)\t('lodo', 0.6174110181589795)\t('garatujado', 0.6173857305400905)\t\n",
      "------------------------------------------------------------\n",
      "'homem'\t Frequência total: 106\n",
      "\t('contará', 0.9057737463860615)\t('armavase', 0.8999463573603248)\t('desarmado', 0.8977994911553979)\t('apanhar', 0.880565921546622)\t('culta', 0.8739600664617491)\t\n",
      "------------------------------------------------------------\n",
      "'luxo'\t Frequência total: 1\n",
      "\t('clássico', 0.9874664367393269)\t('índias', 0.9636252011656808)\t('papado', 0.9619223235743204)\t('mandeime', 0.9601542932432451)\t('andassem', 0.9518052813876268)\t\n",
      "------------------------------------------------------------\n",
      "'filósofo'\t Frequência total: 14\n",
      "\t('admiravalhe', 0.7622102157243711)\t('mecânico', 0.7510152932603585)\t('elevado', 0.7362555413770903)\t('declaroume', 0.7047463116554659)\t('equivalia', 0.7037796579762666)\t\n",
      "------------------------------------------------------------\n",
      "'festa'\t Frequência total: 5\n",
      "\t('amanhecer', 0.642777725861784)\t('igrejas', 0.5716399389877275)\t('perdi', 0.5602501670089817)\t('deixassem', 0.5513786429696051)\t('magra', 0.5458235866146683)\t\n",
      "------------------------------------------------------------\n",
      "'olhos'\t Frequência total: 138\n",
      "\t('desfeito', 0.8729325668258063)\t('fundas', 0.8578614101006434)\t('rolavam', 0.8483980827247851)\t('moles', 0.8410996382787183)\t('visual', 0.8406253311423862)\t\n",
      "------------------------------------------------------------\n",
      "'guerra'\t Frequência total: 5\n",
      "\t('derramado', 0.7665906781941869)\t('eliminadas', 0.760208763352691)\t('insurreição', 0.7232860409910371)\t('apetites', 0.692150800547079)\t('carne', 0.644032712380279)\t\n",
      "------------------------------------------------------------\n",
      "'ensino'\t Frequência total: 1\n",
      "\t('emenda', 0.928122776601076)\t('disseste', 0.8124747495982282)\t('liberdade', 0.7860885528333706)\t('reconheço', 0.780693030088428)\t('pai', 0.7638529524012091)\t\n",
      "------------------------------------------------------------\n",
      "'borba'\t Frequência total: 70\n",
      "\t('quincas', 0.996735852355844)\t('demonstroume', 0.9470009883229566)\t('condão', 0.9351653153531798)\t('censura', 0.9346826456206075)\t('rejeitoua', 0.9332789248915199)\t\n",
      "------------------------------------------------------------\n",
      "'autor'\t Frequência total: 6\n",
      "\t('conhece', 0.789200094114813)\t('campa', 0.7156197176322138)\t('prejuízo', 0.7086163766598012)\t('bibliômano', 0.6943374900763779)\t('dr', 0.6887019978540381)\t\n",
      "------------------------------------------------------------\n",
      "'leitor'\t Frequência total: 38\n",
      "\t('enegreceu', 0.9106215716703406)\t('exponho', 0.9037889048037012)\t('envelheceu', 0.8994890743063926)\t('realço', 0.8989861010889673)\t('decida', 0.8614229557004017)\t\n",
      "------------------------------------------------------------\n"
     ]
    }
   ],
   "source": [
    "examples = ['defunto', 'autor', 'brás', 'coimbra', 'flagelos', 'alegria', 'shakespeare', 'homem', 'luxo',\n",
    "    'filósofo', 'festa', 'olhos', 'guerra', 'ensino', 'borba', 'autor', 'leitor']\n",
    "getExamplesSimilarity(\n",
    "    examples, wordVecsBrasCubas, unigramsBrasCubas, token2indexBrasCubas, index2tokenBrasCubas)"
   ]
  },
  {
   "cell_type": "markdown",
   "metadata": {},
   "source": [
    "#### 8.2. Contextos mais similares para o conjunto de dados do fórum Hard News"
   ]
  },
  {
   "cell_type": "code",
   "execution_count": 20,
   "metadata": {},
   "outputs": [
    {
     "name": "stdout",
     "output_type": "stream",
     "text": [
      "'facebook'\t Frequência total: 2853\n",
      "\t('messenger', 0.7481192811378354)\t('snapchat', 0.6929861114171034)\t('twitter', 0.6820202347044038)\t('instagram', 0.6459948113726345)\t('whatsapp', 0.6265137742726805)\t\n",
      "------------------------------------------------------------\n",
      "'twitter'\t Frequência total: 1641\n",
      "\t('facebook', 0.6820202347044035)\t('linkedin', 0.6148361240418154)\t('instagram', 0.59142725448504)\t('yahoo', 0.5233872340348628)\t('snapchat', 0.4805978668475303)\t\n",
      "------------------------------------------------------------\n",
      "'instagram'\t Frequência total: 391\n",
      "\t('facebook', 0.6459948113726345)\t('twitter', 0.5914272544850401)\t('users', 0.5464186689508803)\t('snapchat', 0.5379379942689114)\t('whatsapp', 0.5371825681171153)\t\n",
      "------------------------------------------------------------\n",
      "'messenger'\t Frequência total: 374\n",
      "\t('chat', 0.8039849360455708)\t('bot', 0.7811380387402994)\t('messaging', 0.7494799883230409)\t('facebook', 0.7481192811378354)\t('bots', 0.7132258704674771)\t\n",
      "------------------------------------------------------------\n",
      "'hack'\t Frequência total: 881\n",
      "\t('hacked', 0.7166427004480737)\t('hackers', 0.6612225651441122)\t('hacking', 0.6609890156270223)\t('malware', 0.6184393389584086)\t('attack', 0.6077955732690045)\t\n",
      "------------------------------------------------------------\n",
      "'security'\t Frequência total: 2425\n",
      "\t('vulnerability', 0.5211967780341937)\t('management', 0.47204348837855703)\t('attacks', 0.46878856140724484)\t('devops', 0.395187340277548)\t('attack', 0.3911350362071794)\t\n",
      "------------------------------------------------------------\n",
      "'deep'\t Frequência total: 1375\n",
      "\t('learning', 0.9359106041310358)\t('neural', 0.8994931156206075)\t('machine', 0.8457446847585072)\t('tensorflow', 0.8361486993915535)\t('networks', 0.8147043492509686)\t\n",
      "------------------------------------------------------------\n",
      "'encryption'\t Frequência total: 967\n",
      "\t('crypto', 0.7187875152304157)\t('calls', 0.5416587925412768)\t('fbi', 0.49098263611546444)\t('fight', 0.49061762404465037)\t('surveillance', 0.4486513773957399)\t\n",
      "------------------------------------------------------------\n",
      "'command'\t Frequência total: 593\n",
      "\t('cli', 0.9230701616629947)\t('line', 0.8982568960061204)\t('shell', 0.7247884860730918)\t('git', 0.6236724061335743)\t('tool', 0.6217416871434488)\t\n",
      "------------------------------------------------------------\n",
      "'venture'\t Frequência total: 393\n",
      "\t('capital', 0.9243264041686713)\t('vc', 0.7753574408495217)\t('funding', 0.7465237538798004)\t('fund', 0.6687978957915727)\t('investors', 0.62089933147279)\t\n",
      "------------------------------------------------------------\n",
      "'bitcoin'\t Frequência total: 1427\n",
      "\t('blockchain', 0.7643091698016927)\t('ethereum', 0.7140404923534487)\t('banks', 0.5324454740542028)\t('bank', 0.5181996581369337)\t('financial', 0.48579493453582445)\t\n",
      "------------------------------------------------------------\n",
      "'github'\t Frequência total: 1419\n",
      "\t('git', 0.6326100398732128)\t('npm', 0.6018145533498042)\t('status', 0.5195539767076437)\t('extension', 0.5028553676416876)\t('pages', 0.4777555417669571)\t\n",
      "------------------------------------------------------------\n",
      "'opensource'\t Frequência total: 706\n",
      "\t('source', 0.7618623415748982)\t('open', 0.6385059409668005)\t('management', 0.5197597171926782)\t('introducing', 0.4846617289593729)\t('simple', 0.46324965036579696)\t\n",
      "------------------------------------------------------------\n",
      "'linux'\t Frequência total: 1803\n",
      "\t('windows', 0.8025297226593076)\t('ubuntu', 0.7973397444240259)\t('os', 0.7595304758112642)\t('x', 0.6894342845151304)\t('mac', 0.6754202570519151)\t\n",
      "------------------------------------------------------------\n",
      "'microsoft'\t Frequência total: 1856\n",
      "\t('ibm', 0.6946729322254636)\t('core', 0.6128125095965662)\t('google', 0.5251532401249714)\t('yahoo', 0.5089525772897286)\t('intel', 0.48686226117105413)\t\n",
      "------------------------------------------------------------\n",
      "'tensorflow'\t Frequência total: 302\n",
      "\t('deep', 0.8361486993915535)\t('learning', 0.8042833195551216)\t('neural', 0.7849535837875165)\t('machine', 0.7023197701636512)\t('networks', 0.6824526635216046)\t\n",
      "------------------------------------------------------------\n",
      "'whatsapp'\t Frequência total: 323\n",
      "\t('messenger', 0.6911793975370129)\t('facebook', 0.6265137742726805)\t('messaging', 0.5956965058474717)\t('chat', 0.5836985517816209)\t('snapchat', 0.5415690561619568)\t\n",
      "------------------------------------------------------------\n",
      "'kernel'\t Frequência total: 359\n",
      "\t('linux', 0.6323121916215462)\t('vulnerability', 0.5360207109387096)\t('postgresql', 0.4664261314627324)\t('memory', 0.44491171406268615)\t('windows', 0.4412952454414672)\t\n",
      "------------------------------------------------------------\n",
      "'bill'\t Frequência total: 745\n",
      "\t('calls', 0.5536319801234826)\t('obama', 0.5091827321703718)\t('surveillance', 0.5055891992388714)\t('eu', 0.47115016961662265)\t('government', 0.4603966796326935)\t\n",
      "------------------------------------------------------------\n",
      "'elon'\t Frequência total: 486\n",
      "\t('musk', 0.9881233960995668)\t('tesla', 0.7432849870137229)\t('spacex', 0.5973742936115666)\t('electric', 0.5293259027792976)\t('full', 0.49664182757407965)\t\n",
      "------------------------------------------------------------\n",
      "'silicon'\t Frequência total: 1382\n",
      "\t('valley', 0.9586465341421762)\t('tech', 0.5376975618191177)\t('housing', 0.4567694468881427)\t('whats', 0.45654103188092815)\t('investors', 0.4276441258681892)\t\n",
      "------------------------------------------------------------\n",
      "'course'\t Frequência total: 416\n",
      "\t('introduction', 0.611768905176161)\t('tutorial', 0.6092825762555837)\t('book', 0.5343485047069185)\t('science', 0.47979297030509305)\t('learn', 0.4422452351527766)\t\n",
      "------------------------------------------------------------\n",
      "'startup'\t Frequência total: 3849\n",
      "\t('founders', 0.7444563214129292)\t('startups', 0.6824870549818747)\t('fund', 0.6162294165355987)\t('company', 0.5828414622443449)\t('yc', 0.5627029547147571)\t\n",
      "------------------------------------------------------------\n",
      "'blog'\t Frequência total: 590\n",
      "\t('post', 0.6667498152368557)\t('site', 0.6506628210491915)\t('wordpress', 0.6145299788432066)\t('static', 0.6139017511374296)\t('website', 0.5515867500750865)\t\n",
      "------------------------------------------------------------\n"
     ]
    }
   ],
   "source": [
    "examples = ['facebook', 'twitter', 'instagram', 'messenger', 'hack', 'security', \n",
    "          'deep', 'encryption', 'command', 'venture' , 'bitcoin', 'github', 'opensource',\n",
    "          'linux', 'microsoft', 'tensorflow', 'whatsapp', 'kernel', 'bill', 'elon', 'silicon', 'course',\n",
    "           'startup', 'blog']\n",
    "getExamplesSimilarity(examples, wordVecsHN, unigramsHN, token2indexHN, index2tokenHN)"
   ]
  },
  {
   "cell_type": "markdown",
   "metadata": {},
   "source": [
    "### 9. Visualizando as palavras através de um ScatterPlot interativo"
   ]
  },
  {
   "cell_type": "markdown",
   "metadata": {},
   "source": [
    "Para que seja possível plotar as palavras é preciso realizar uma redução de dimensionalidade nos dados, uma vez que a dimensão dos vetores de *embedding* é maior do que dois e, por isso, não poderia ser visualizado em um espaço plano.\n",
    "\n",
    "Serão testados dois métodos de redução de dimensionalidade:\n",
    "* PCA (*Principal Component Analysis*): Promove uma transformação linear ortogonal nos dados, projetando-os em uma nova base que preserva o máximo possível da variância dos dados. Dessa forma, ao longo da primeira coordenada (primeira componente) tem-se a maior variância e, analogamente, ao longo da segunda coordenada (segunda componente) tem-se a segunda maior variância.\n",
    "\n",
    "* t-SNE (*T-distributed Stochastic Neighbor Embedding*): Método estatístico que estabelece uma distribuição de probabilidade para todos os pares de pontos de tal forma que para pontos similares (pontos próximos a partir de uma dada métrica) serão atribuídas uma alta probabilidade, enquanto para pontos dissimilares (pontos distantes) serão atribuídas uma baixa probabilidade. A métrica escolhida será o cosseno.\n",
    "\n",
    "Após a redução de dimensionalidade será possível plotar as palavras em um espaço euclideano de duas dimensões, em que cada ponto representa uma palavra."
   ]
  },
  {
   "cell_type": "markdown",
   "metadata": {},
   "source": [
    "#### 9.1 Redução de dimensionalidade utilizando PCA"
   ]
  },
  {
   "cell_type": "code",
   "execution_count": 21,
   "metadata": {},
   "outputs": [],
   "source": [
    "def createWordVecsDataFrame(reducedWordVecs, token2index):\n",
    "    # Criando um dicionário para cada palavra e seu respectivo vetor após redução de dimensionalidade\n",
    "    dictReducedWordVecs = {}\n",
    "    for word, index in token2index.items():\n",
    "        dictReducedWordVecs[word] = reducedWordVecs[index]\n",
    "\n",
    "    # Instanciando o dataframe a partir do dicionario criado acima\n",
    "    dfWordVecs = pd.DataFrame.from_dict(\n",
    "        data = dictReducedWordVecs,\n",
    "        orient = 'index',\n",
    "        columns = ['x', 'y']\n",
    "    )\n",
    "    dfWordVecs['word'] = dfWordVecs.index\n",
    "    \n",
    "    return dfWordVecs"
   ]
  },
  {
   "cell_type": "code",
   "execution_count": 22,
   "metadata": {},
   "outputs": [
    {
     "data": {
      "text/html": [
       "\n",
       "    <div class=\"bk-root\">\n",
       "        <a href=\"https://bokeh.org\" target=\"_blank\" class=\"bk-logo bk-logo-small bk-logo-notebook\"></a>\n",
       "        <span id=\"1002\">Loading BokehJS ...</span>\n",
       "    </div>"
      ]
     },
     "metadata": {},
     "output_type": "display_data"
    },
    {
     "data": {
      "application/javascript": [
       "\n",
       "(function(root) {\n",
       "  function now() {\n",
       "    return new Date();\n",
       "  }\n",
       "\n",
       "  const force = true;\n",
       "\n",
       "  if (typeof root._bokeh_onload_callbacks === \"undefined\" || force === true) {\n",
       "    root._bokeh_onload_callbacks = [];\n",
       "    root._bokeh_is_loading = undefined;\n",
       "  }\n",
       "\n",
       "  const JS_MIME_TYPE = 'application/javascript';\n",
       "  const HTML_MIME_TYPE = 'text/html';\n",
       "  const EXEC_MIME_TYPE = 'application/vnd.bokehjs_exec.v0+json';\n",
       "  const CLASS_NAME = 'output_bokeh rendered_html';\n",
       "\n",
       "  /**\n",
       "   * Render data to the DOM node\n",
       "   */\n",
       "  function render(props, node) {\n",
       "    const script = document.createElement(\"script\");\n",
       "    node.appendChild(script);\n",
       "  }\n",
       "\n",
       "  /**\n",
       "   * Handle when an output is cleared or removed\n",
       "   */\n",
       "  function handleClearOutput(event, handle) {\n",
       "    const cell = handle.cell;\n",
       "\n",
       "    const id = cell.output_area._bokeh_element_id;\n",
       "    const server_id = cell.output_area._bokeh_server_id;\n",
       "    // Clean up Bokeh references\n",
       "    if (id != null && id in Bokeh.index) {\n",
       "      Bokeh.index[id].model.document.clear();\n",
       "      delete Bokeh.index[id];\n",
       "    }\n",
       "\n",
       "    if (server_id !== undefined) {\n",
       "      // Clean up Bokeh references\n",
       "      const cmd_clean = \"from bokeh.io.state import curstate; print(curstate().uuid_to_server['\" + server_id + \"'].get_sessions()[0].document.roots[0]._id)\";\n",
       "      cell.notebook.kernel.execute(cmd_clean, {\n",
       "        iopub: {\n",
       "          output: function(msg) {\n",
       "            const id = msg.content.text.trim();\n",
       "            if (id in Bokeh.index) {\n",
       "              Bokeh.index[id].model.document.clear();\n",
       "              delete Bokeh.index[id];\n",
       "            }\n",
       "          }\n",
       "        }\n",
       "      });\n",
       "      // Destroy server and session\n",
       "      const cmd_destroy = \"import bokeh.io.notebook as ion; ion.destroy_server('\" + server_id + \"')\";\n",
       "      cell.notebook.kernel.execute(cmd_destroy);\n",
       "    }\n",
       "  }\n",
       "\n",
       "  /**\n",
       "   * Handle when a new output is added\n",
       "   */\n",
       "  function handleAddOutput(event, handle) {\n",
       "    const output_area = handle.output_area;\n",
       "    const output = handle.output;\n",
       "\n",
       "    // limit handleAddOutput to display_data with EXEC_MIME_TYPE content only\n",
       "    if ((output.output_type != \"display_data\") || (!Object.prototype.hasOwnProperty.call(output.data, EXEC_MIME_TYPE))) {\n",
       "      return\n",
       "    }\n",
       "\n",
       "    const toinsert = output_area.element.find(\".\" + CLASS_NAME.split(' ')[0]);\n",
       "\n",
       "    if (output.metadata[EXEC_MIME_TYPE][\"id\"] !== undefined) {\n",
       "      toinsert[toinsert.length - 1].firstChild.textContent = output.data[JS_MIME_TYPE];\n",
       "      // store reference to embed id on output_area\n",
       "      output_area._bokeh_element_id = output.metadata[EXEC_MIME_TYPE][\"id\"];\n",
       "    }\n",
       "    if (output.metadata[EXEC_MIME_TYPE][\"server_id\"] !== undefined) {\n",
       "      const bk_div = document.createElement(\"div\");\n",
       "      bk_div.innerHTML = output.data[HTML_MIME_TYPE];\n",
       "      const script_attrs = bk_div.children[0].attributes;\n",
       "      for (let i = 0; i < script_attrs.length; i++) {\n",
       "        toinsert[toinsert.length - 1].firstChild.setAttribute(script_attrs[i].name, script_attrs[i].value);\n",
       "        toinsert[toinsert.length - 1].firstChild.textContent = bk_div.children[0].textContent\n",
       "      }\n",
       "      // store reference to server id on output_area\n",
       "      output_area._bokeh_server_id = output.metadata[EXEC_MIME_TYPE][\"server_id\"];\n",
       "    }\n",
       "  }\n",
       "\n",
       "  function register_renderer(events, OutputArea) {\n",
       "\n",
       "    function append_mime(data, metadata, element) {\n",
       "      // create a DOM node to render to\n",
       "      const toinsert = this.create_output_subarea(\n",
       "        metadata,\n",
       "        CLASS_NAME,\n",
       "        EXEC_MIME_TYPE\n",
       "      );\n",
       "      this.keyboard_manager.register_events(toinsert);\n",
       "      // Render to node\n",
       "      const props = {data: data, metadata: metadata[EXEC_MIME_TYPE]};\n",
       "      render(props, toinsert[toinsert.length - 1]);\n",
       "      element.append(toinsert);\n",
       "      return toinsert\n",
       "    }\n",
       "\n",
       "    /* Handle when an output is cleared or removed */\n",
       "    events.on('clear_output.CodeCell', handleClearOutput);\n",
       "    events.on('delete.Cell', handleClearOutput);\n",
       "\n",
       "    /* Handle when a new output is added */\n",
       "    events.on('output_added.OutputArea', handleAddOutput);\n",
       "\n",
       "    /**\n",
       "     * Register the mime type and append_mime function with output_area\n",
       "     */\n",
       "    OutputArea.prototype.register_mime_type(EXEC_MIME_TYPE, append_mime, {\n",
       "      /* Is output safe? */\n",
       "      safe: true,\n",
       "      /* Index of renderer in `output_area.display_order` */\n",
       "      index: 0\n",
       "    });\n",
       "  }\n",
       "\n",
       "  // register the mime type if in Jupyter Notebook environment and previously unregistered\n",
       "  if (root.Jupyter !== undefined) {\n",
       "    const events = require('base/js/events');\n",
       "    const OutputArea = require('notebook/js/outputarea').OutputArea;\n",
       "\n",
       "    if (OutputArea.prototype.mime_types().indexOf(EXEC_MIME_TYPE) == -1) {\n",
       "      register_renderer(events, OutputArea);\n",
       "    }\n",
       "  }\n",
       "\n",
       "  \n",
       "  if (typeof (root._bokeh_timeout) === \"undefined\" || force === true) {\n",
       "    root._bokeh_timeout = Date.now() + 5000;\n",
       "    root._bokeh_failed_load = false;\n",
       "  }\n",
       "\n",
       "  const NB_LOAD_WARNING = {'data': {'text/html':\n",
       "     \"<div style='background-color: #fdd'>\\n\"+\n",
       "     \"<p>\\n\"+\n",
       "     \"BokehJS does not appear to have successfully loaded. If loading BokehJS from CDN, this \\n\"+\n",
       "     \"may be due to a slow or bad network connection. Possible fixes:\\n\"+\n",
       "     \"</p>\\n\"+\n",
       "     \"<ul>\\n\"+\n",
       "     \"<li>re-rerun `output_notebook()` to attempt to load from CDN again, or</li>\\n\"+\n",
       "     \"<li>use INLINE resources instead, as so:</li>\\n\"+\n",
       "     \"</ul>\\n\"+\n",
       "     \"<code>\\n\"+\n",
       "     \"from bokeh.resources import INLINE\\n\"+\n",
       "     \"output_notebook(resources=INLINE)\\n\"+\n",
       "     \"</code>\\n\"+\n",
       "     \"</div>\"}};\n",
       "\n",
       "  function display_loaded() {\n",
       "    const el = document.getElementById(\"1002\");\n",
       "    if (el != null) {\n",
       "      el.textContent = \"BokehJS is loading...\";\n",
       "    }\n",
       "    if (root.Bokeh !== undefined) {\n",
       "      if (el != null) {\n",
       "        el.textContent = \"BokehJS \" + root.Bokeh.version + \" successfully loaded.\";\n",
       "      }\n",
       "    } else if (Date.now() < root._bokeh_timeout) {\n",
       "      setTimeout(display_loaded, 100)\n",
       "    }\n",
       "  }\n",
       "\n",
       "\n",
       "  function run_callbacks() {\n",
       "    try {\n",
       "      root._bokeh_onload_callbacks.forEach(function(callback) {\n",
       "        if (callback != null)\n",
       "          callback();\n",
       "      });\n",
       "    } finally {\n",
       "      delete root._bokeh_onload_callbacks\n",
       "    }\n",
       "    console.debug(\"Bokeh: all callbacks have finished\");\n",
       "  }\n",
       "\n",
       "  function load_libs(css_urls, js_urls, callback) {\n",
       "    if (css_urls == null) css_urls = [];\n",
       "    if (js_urls == null) js_urls = [];\n",
       "\n",
       "    root._bokeh_onload_callbacks.push(callback);\n",
       "    if (root._bokeh_is_loading > 0) {\n",
       "      console.debug(\"Bokeh: BokehJS is being loaded, scheduling callback at\", now());\n",
       "      return null;\n",
       "    }\n",
       "    if (js_urls == null || js_urls.length === 0) {\n",
       "      run_callbacks();\n",
       "      return null;\n",
       "    }\n",
       "    console.debug(\"Bokeh: BokehJS not loaded, scheduling load and callback at\", now());\n",
       "    root._bokeh_is_loading = css_urls.length + js_urls.length;\n",
       "\n",
       "    function on_load() {\n",
       "      root._bokeh_is_loading--;\n",
       "      if (root._bokeh_is_loading === 0) {\n",
       "        console.debug(\"Bokeh: all BokehJS libraries/stylesheets loaded\");\n",
       "        run_callbacks()\n",
       "      }\n",
       "    }\n",
       "\n",
       "    function on_error(url) {\n",
       "      console.error(\"failed to load \" + url);\n",
       "    }\n",
       "\n",
       "    for (let i = 0; i < css_urls.length; i++) {\n",
       "      const url = css_urls[i];\n",
       "      const element = document.createElement(\"link\");\n",
       "      element.onload = on_load;\n",
       "      element.onerror = on_error.bind(null, url);\n",
       "      element.rel = \"stylesheet\";\n",
       "      element.type = \"text/css\";\n",
       "      element.href = url;\n",
       "      console.debug(\"Bokeh: injecting link tag for BokehJS stylesheet: \", url);\n",
       "      document.body.appendChild(element);\n",
       "    }\n",
       "\n",
       "    for (let i = 0; i < js_urls.length; i++) {\n",
       "      const url = js_urls[i];\n",
       "      const element = document.createElement('script');\n",
       "      element.onload = on_load;\n",
       "      element.onerror = on_error.bind(null, url);\n",
       "      element.async = false;\n",
       "      element.src = url;\n",
       "      console.debug(\"Bokeh: injecting script tag for BokehJS library: \", url);\n",
       "      document.head.appendChild(element);\n",
       "    }\n",
       "  };\n",
       "\n",
       "  function inject_raw_css(css) {\n",
       "    const element = document.createElement(\"style\");\n",
       "    element.appendChild(document.createTextNode(css));\n",
       "    document.body.appendChild(element);\n",
       "  }\n",
       "\n",
       "  \n",
       "  const js_urls = [\"https://cdn.bokeh.org/bokeh/release/bokeh-2.4.2.min.js\", \"https://cdn.bokeh.org/bokeh/release/bokeh-gl-2.4.2.min.js\", \"https://cdn.bokeh.org/bokeh/release/bokeh-widgets-2.4.2.min.js\", \"https://cdn.bokeh.org/bokeh/release/bokeh-tables-2.4.2.min.js\", \"https://cdn.bokeh.org/bokeh/release/bokeh-mathjax-2.4.2.min.js\"];\n",
       "  const css_urls = [];\n",
       "  \n",
       "\n",
       "  const inline_js = [\n",
       "    function(Bokeh) {\n",
       "      Bokeh.set_log_level(\"info\");\n",
       "    },\n",
       "    function(Bokeh) {\n",
       "    \n",
       "    \n",
       "    }\n",
       "  ];\n",
       "\n",
       "  function run_inline_js() {\n",
       "    \n",
       "    if (root.Bokeh !== undefined || force === true) {\n",
       "      \n",
       "    for (let i = 0; i < inline_js.length; i++) {\n",
       "      inline_js[i].call(root, root.Bokeh);\n",
       "    }\n",
       "    if (force === true) {\n",
       "        display_loaded();\n",
       "      }} else if (Date.now() < root._bokeh_timeout) {\n",
       "      setTimeout(run_inline_js, 100);\n",
       "    } else if (!root._bokeh_failed_load) {\n",
       "      console.log(\"Bokeh: BokehJS failed to load within specified timeout.\");\n",
       "      root._bokeh_failed_load = true;\n",
       "    } else if (force !== true) {\n",
       "      const cell = $(document.getElementById(\"1002\")).parents('.cell').data().cell;\n",
       "      cell.output_area.append_execute_result(NB_LOAD_WARNING)\n",
       "    }\n",
       "\n",
       "  }\n",
       "\n",
       "  if (root._bokeh_is_loading === 0) {\n",
       "    console.debug(\"Bokeh: BokehJS loaded, going straight to plotting\");\n",
       "    run_inline_js();\n",
       "  } else {\n",
       "    load_libs(css_urls, js_urls, function() {\n",
       "      console.debug(\"Bokeh: BokehJS plotting callback run at\", now());\n",
       "      run_inline_js();\n",
       "    });\n",
       "  }\n",
       "}(window));"
      ],
      "application/vnd.bokehjs_load.v0+json": "\n(function(root) {\n  function now() {\n    return new Date();\n  }\n\n  const force = true;\n\n  if (typeof root._bokeh_onload_callbacks === \"undefined\" || force === true) {\n    root._bokeh_onload_callbacks = [];\n    root._bokeh_is_loading = undefined;\n  }\n\n  \n\n  \n  if (typeof (root._bokeh_timeout) === \"undefined\" || force === true) {\n    root._bokeh_timeout = Date.now() + 5000;\n    root._bokeh_failed_load = false;\n  }\n\n  const NB_LOAD_WARNING = {'data': {'text/html':\n     \"<div style='background-color: #fdd'>\\n\"+\n     \"<p>\\n\"+\n     \"BokehJS does not appear to have successfully loaded. If loading BokehJS from CDN, this \\n\"+\n     \"may be due to a slow or bad network connection. Possible fixes:\\n\"+\n     \"</p>\\n\"+\n     \"<ul>\\n\"+\n     \"<li>re-rerun `output_notebook()` to attempt to load from CDN again, or</li>\\n\"+\n     \"<li>use INLINE resources instead, as so:</li>\\n\"+\n     \"</ul>\\n\"+\n     \"<code>\\n\"+\n     \"from bokeh.resources import INLINE\\n\"+\n     \"output_notebook(resources=INLINE)\\n\"+\n     \"</code>\\n\"+\n     \"</div>\"}};\n\n  function display_loaded() {\n    const el = document.getElementById(\"1002\");\n    if (el != null) {\n      el.textContent = \"BokehJS is loading...\";\n    }\n    if (root.Bokeh !== undefined) {\n      if (el != null) {\n        el.textContent = \"BokehJS \" + root.Bokeh.version + \" successfully loaded.\";\n      }\n    } else if (Date.now() < root._bokeh_timeout) {\n      setTimeout(display_loaded, 100)\n    }\n  }\n\n\n  function run_callbacks() {\n    try {\n      root._bokeh_onload_callbacks.forEach(function(callback) {\n        if (callback != null)\n          callback();\n      });\n    } finally {\n      delete root._bokeh_onload_callbacks\n    }\n    console.debug(\"Bokeh: all callbacks have finished\");\n  }\n\n  function load_libs(css_urls, js_urls, callback) {\n    if (css_urls == null) css_urls = [];\n    if (js_urls == null) js_urls = [];\n\n    root._bokeh_onload_callbacks.push(callback);\n    if (root._bokeh_is_loading > 0) {\n      console.debug(\"Bokeh: BokehJS is being loaded, scheduling callback at\", now());\n      return null;\n    }\n    if (js_urls == null || js_urls.length === 0) {\n      run_callbacks();\n      return null;\n    }\n    console.debug(\"Bokeh: BokehJS not loaded, scheduling load and callback at\", now());\n    root._bokeh_is_loading = css_urls.length + js_urls.length;\n\n    function on_load() {\n      root._bokeh_is_loading--;\n      if (root._bokeh_is_loading === 0) {\n        console.debug(\"Bokeh: all BokehJS libraries/stylesheets loaded\");\n        run_callbacks()\n      }\n    }\n\n    function on_error(url) {\n      console.error(\"failed to load \" + url);\n    }\n\n    for (let i = 0; i < css_urls.length; i++) {\n      const url = css_urls[i];\n      const element = document.createElement(\"link\");\n      element.onload = on_load;\n      element.onerror = on_error.bind(null, url);\n      element.rel = \"stylesheet\";\n      element.type = \"text/css\";\n      element.href = url;\n      console.debug(\"Bokeh: injecting link tag for BokehJS stylesheet: \", url);\n      document.body.appendChild(element);\n    }\n\n    for (let i = 0; i < js_urls.length; i++) {\n      const url = js_urls[i];\n      const element = document.createElement('script');\n      element.onload = on_load;\n      element.onerror = on_error.bind(null, url);\n      element.async = false;\n      element.src = url;\n      console.debug(\"Bokeh: injecting script tag for BokehJS library: \", url);\n      document.head.appendChild(element);\n    }\n  };\n\n  function inject_raw_css(css) {\n    const element = document.createElement(\"style\");\n    element.appendChild(document.createTextNode(css));\n    document.body.appendChild(element);\n  }\n\n  \n  const js_urls = [\"https://cdn.bokeh.org/bokeh/release/bokeh-2.4.2.min.js\", \"https://cdn.bokeh.org/bokeh/release/bokeh-gl-2.4.2.min.js\", \"https://cdn.bokeh.org/bokeh/release/bokeh-widgets-2.4.2.min.js\", \"https://cdn.bokeh.org/bokeh/release/bokeh-tables-2.4.2.min.js\", \"https://cdn.bokeh.org/bokeh/release/bokeh-mathjax-2.4.2.min.js\"];\n  const css_urls = [];\n  \n\n  const inline_js = [\n    function(Bokeh) {\n      Bokeh.set_log_level(\"info\");\n    },\n    function(Bokeh) {\n    \n    \n    }\n  ];\n\n  function run_inline_js() {\n    \n    if (root.Bokeh !== undefined || force === true) {\n      \n    for (let i = 0; i < inline_js.length; i++) {\n      inline_js[i].call(root, root.Bokeh);\n    }\n    if (force === true) {\n        display_loaded();\n      }} else if (Date.now() < root._bokeh_timeout) {\n      setTimeout(run_inline_js, 100);\n    } else if (!root._bokeh_failed_load) {\n      console.log(\"Bokeh: BokehJS failed to load within specified timeout.\");\n      root._bokeh_failed_load = true;\n    } else if (force !== true) {\n      const cell = $(document.getElementById(\"1002\")).parents('.cell').data().cell;\n      cell.output_area.append_execute_result(NB_LOAD_WARNING)\n    }\n\n  }\n\n  if (root._bokeh_is_loading === 0) {\n    console.debug(\"Bokeh: BokehJS loaded, going straight to plotting\");\n    run_inline_js();\n  } else {\n    load_libs(css_urls, js_urls, function() {\n      console.debug(\"Bokeh: BokehJS plotting callback run at\", now());\n      run_inline_js();\n    });\n  }\n}(window));"
     },
     "metadata": {},
     "output_type": "display_data"
    }
   ],
   "source": [
    "# Configurando a ferramenta interativa com o notebook\n",
    "from bokeh.plotting import figure, show, output_notebook\n",
    "from bokeh.models import HoverTool, ColumnDataSource, value\n",
    "\n",
    "output_notebook()\n",
    "\n",
    "def interativePlot(df, title = None, xlabel = None, ylabel = None):\n",
    "    # Instancia uma ColumnDAtaSource do Bokeh usando o dataframe\n",
    "    data = ColumnDataSource(df)\n",
    "\n",
    "    # Cria o plot e configura:\n",
    "    # título, dimensões e ferramentas interativas\n",
    "    plot = figure(\n",
    "        title= title,\n",
    "        plot_width=800,\n",
    "        plot_height=800,\n",
    "        tools=(\n",
    "            'pan, wheel_zoom, box_zoom,'\n",
    "            'box_select, reset',\n",
    "            HoverTool(tooltips = '@word')\n",
    "            ),\n",
    "        active_scroll='wheel_zoom',\n",
    "        x_axis_label = xlabel,\n",
    "        y_axis_label = ylabel\n",
    "        )\n",
    "\n",
    "    # Desenha os circulos representado as palavras\n",
    "    plot.circle(\n",
    "        'x',\n",
    "        'y',\n",
    "        source=data,\n",
    "        color='blue',\n",
    "        line_alpha=0.2,\n",
    "        fill_alpha=0.1,\n",
    "        size=10,\n",
    "        hover_line_color='black'\n",
    "        )\n",
    "\n",
    "    # Configuração de outros detalhes visuais\n",
    "    plot.xaxis.visible = False\n",
    "    plot.yaxis.visible = False\n",
    "    plot.grid.grid_line_color = None\n",
    "    plot.outline_line_color = None\n",
    "\n",
    "\n",
    "    show(plot)"
   ]
  },
  {
   "cell_type": "code",
   "execution_count": 23,
   "metadata": {},
   "outputs": [],
   "source": [
    "from sklearn.decomposition import PCA\n",
    "\n",
    "def plotPCA(wordVecs : np.ndarray, token2index : dict, title : str, sample = 900):\n",
    "\n",
    "    # Realizando redução de dimensão com PCA\n",
    "    pca = PCA(n_components = 2)\n",
    "    reducedWordVecs = pca.fit_transform(wordVecs)\n",
    "\n",
    "    dfWordVecs = createWordVecsDataFrame(reducedWordVecs, token2index)\n",
    "    interativePlot(dfWordVecs.sample(sample, random_state = 42), title = title)"
   ]
  },
  {
   "cell_type": "code",
   "execution_count": 24,
   "metadata": {
    "scrolled": false
   },
   "outputs": [
    {
     "data": {
      "text/html": [
       "\n",
       "\n",
       "\n",
       "\n",
       "\n",
       "\n",
       "  <div class=\"bk-root\" id=\"730a209d-e2ac-41a7-b34d-af87765410db\" data-root-id=\"1005\"></div>\n"
      ]
     },
     "metadata": {},
     "output_type": "display_data"
    },
    {
     "data": {
      "application/javascript": [
       "(function(root) {\n",
       "  function embed_document(root) {\n",
       "    \n",
       "  const docs_json = {\"1c034e89-ec6a-4077-94d7-f8c117ebe85c\":{\"defs\":[],\"roots\":{\"references\":[{\"attributes\":{\"below\":[{\"id\":\"1016\"}],\"center\":[{\"id\":\"1019\"},{\"id\":\"1023\"}],\"height\":800,\"left\":[{\"id\":\"1020\"}],\"outline_line_color\":null,\"renderers\":[{\"id\":\"1043\"}],\"title\":{\"id\":\"1006\"},\"toolbar\":{\"id\":\"1031\"},\"width\":800,\"x_range\":{\"id\":\"1008\"},\"x_scale\":{\"id\":\"1012\"},\"y_range\":{\"id\":\"1010\"},\"y_scale\":{\"id\":\"1014\"}},\"id\":\"1005\",\"subtype\":\"Figure\",\"type\":\"Plot\"},{\"attributes\":{},\"id\":\"1047\",\"type\":\"BasicTickFormatter\"},{\"attributes\":{},\"id\":\"1012\",\"type\":\"LinearScale\"},{\"attributes\":{},\"id\":\"1048\",\"type\":\"AllLabels\"},{\"attributes\":{\"axis\":{\"id\":\"1016\"},\"coordinates\":null,\"grid_line_color\":null,\"group\":null,\"ticker\":null},\"id\":\"1019\",\"type\":\"Grid\"},{\"attributes\":{},\"id\":\"1050\",\"type\":\"BasicTickFormatter\"},{\"attributes\":{},\"id\":\"1017\",\"type\":\"BasicTicker\"},{\"attributes\":{\"bottom_units\":\"screen\",\"coordinates\":null,\"fill_alpha\":0.5,\"fill_color\":\"lightgrey\",\"group\":null,\"left_units\":\"screen\",\"level\":\"overlay\",\"line_alpha\":1.0,\"line_color\":\"black\",\"line_dash\":[4,4],\"line_width\":2,\"right_units\":\"screen\",\"syncable\":false,\"top_units\":\"screen\"},\"id\":\"1030\",\"type\":\"BoxAnnotation\"},{\"attributes\":{\"overlay\":{\"id\":\"1029\"}},\"id\":\"1027\",\"type\":\"BoxSelectTool\"},{\"attributes\":{},\"id\":\"1051\",\"type\":\"AllLabels\"},{\"attributes\":{},\"id\":\"1024\",\"type\":\"PanTool\"},{\"attributes\":{},\"id\":\"1028\",\"type\":\"ResetTool\"},{\"attributes\":{\"overlay\":{\"id\":\"1030\"}},\"id\":\"1026\",\"type\":\"BoxZoomTool\"},{\"attributes\":{\"fill_alpha\":{\"value\":0.1},\"fill_color\":{\"value\":\"blue\"},\"hatch_color\":{\"value\":\"blue\"},\"line_alpha\":{\"value\":0.2},\"line_color\":{\"value\":\"blue\"},\"size\":{\"value\":10},\"x\":{\"field\":\"x\"},\"y\":{\"field\":\"y\"}},\"id\":\"1039\",\"type\":\"Circle\"},{\"attributes\":{\"coordinates\":null,\"formatter\":{\"id\":\"1047\"},\"group\":null,\"major_label_policy\":{\"id\":\"1048\"},\"ticker\":{\"id\":\"1021\"},\"visible\":false},\"id\":\"1020\",\"type\":\"LinearAxis\"},{\"attributes\":{\"coordinates\":null,\"group\":null,\"text\":\"Word Vecs Br\\u00e1s Cubas (PCA)\"},\"id\":\"1006\",\"type\":\"Title\"},{\"attributes\":{},\"id\":\"1025\",\"type\":\"WheelZoomTool\"},{\"attributes\":{},\"id\":\"1021\",\"type\":\"BasicTicker\"},{\"attributes\":{\"fill_alpha\":{\"value\":0.1},\"fill_color\":{\"value\":\"blue\"},\"hatch_color\":{\"value\":\"blue\"},\"line_alpha\":{\"value\":0.2},\"size\":{\"value\":10},\"x\":{\"field\":\"x\"},\"y\":{\"field\":\"y\"}},\"id\":\"1041\",\"type\":\"Circle\"},{\"attributes\":{},\"id\":\"1052\",\"type\":\"UnionRenderers\"},{\"attributes\":{\"data\":{\"index\":[\"conheci\",\"algumas\",\"destruir\",\"pagavame\",\"namorou\",\"d\\u00f3i\",\"trap\\u00e9zio\",\"deixase\",\"apoiada\",\"mudamente\",\"confessara\",\"repousando\",\"sentado\",\"logo\",\"trag\\u00e9dia\",\"mentia\",\"receber\\u00e1\",\"estuda\",\"aclives\",\"patachos\",\"improv\\u00e1vel\",\"comum\",\"sentarme\",\"salvou\",\"scheherazade\",\"civilizada\",\"mostrarme\",\"indigna\\u00e7\\u00e3o\",\"obs\\u00e9quio\",\"estrangulavaos\",\"arredei\",\"baque\",\"supremacia\",\"dobradi\\u00e7as\",\"dando\",\"desceram\",\"dissestes\",\"ca\\u00e7ambas\",\"costuma\",\"felicidade\",\"incompat\\u00edvel\",\"arma\",\"inf\\u00e2ncia\",\"ouvidor\",\"real\\u00e7avam\",\"amarelado\",\"interrompeuse\",\"fizer\",\"a\\u00e7\\u00e3o\",\"foise\",\"fitar\",\"conselho\",\"quadro\",\"grampo\",\"buraco\",\"pedem\",\"pandora\",\"mel\\u00e3o\",\"urge\",\"ali\\u00e1s\",\"gravidez\",\"proferir\",\"medalhas\",\"pr\\u00edncipe\",\"palavras\",\"alvoro\\u00e7ado\",\"sa\\u00ed\",\"empresa\",\"cenas\",\"jovial\",\"futura\",\"meigas\",\"jazer\",\"respectivo\",\"sei\",\"constrangidos\",\"restituir\",\"amea\\u00e7a\",\"extraordin\\u00e1rio\",\"curo\",\"pequena\",\"negues\",\"queimando\",\"repreens\\u00edvel\",\"aceitava\",\"descruzava\",\"caix\\u00e3o\",\"cama\",\"demonstra\\u00e7\\u00f5es\",\"tolhida\",\"escusa\",\"pungiame\",\"social\",\"jogo\",\"lesse\",\"pessimismo\",\"fugir\",\"s\\u00f3rdido\",\"acrescia\",\"perdiam\",\"problema\",\"recair\",\"arraigado\",\"tub\\u00e9rculos\",\"feitio\",\"subjugoua\",\"dizia\",\"incerto\",\"aconteceume\",\"amorpaix\\u00e3o\",\"conseguira\",\"atireime\",\"cano\",\"duras\",\"convulsa\",\"resolutamente\",\"alteando\",\"damasceno\",\"afei\\u00e7\\u00e3o\",\"f\\u00e9\",\"dist\\u00farbio\",\"folgares\",\"secreta\",\"cabelo\",\"escrevi\",\"aconteceu\",\"lances\",\"elementos\",\"ganhara\",\"antecipa\\u00e7\\u00e3o\",\"rodasse\",\"acepipe\",\"inc\\u00f4modo\",\"fantasias\",\"pega\",\"pensativa\",\"menina\",\"colocam\",\"herdeiro\",\"rabicho\",\"embarcar\",\"hist\\u00f3ria\",\"torceu\",\"domingos\",\"cingir\",\"passarinho\",\"arru\\u00eddo\",\"manuscritos\",\"frouxid\\u00e3o\",\"novela\",\"neste\",\"d\\u0092\\u00e1gua\",\"recorreu\",\"lente\",\"eras\",\"audaciosa\",\"paisana\",\"bals\\u00e2mico\",\"serem\",\"famosa\",\"mergulhado\",\"disfar\\u00e7adamente\",\"suspensiva\",\"escrevia\",\"parecida\",\"talha\",\"substancialmente\",\"seguro\",\"breve\",\"queridos\",\"vives\",\"indefin\\u00edvel\",\"dente\",\"andrajo\",\"perderem\",\"cavar\",\"come\\u00e7avam\",\"afortunado\",\"sorri\",\"falavalhe\",\"mai\\u00fasculas\",\"verdugos\",\"met\\u00eala\",\"dias\",\"embriagoume\",\"sandice\",\"chama\",\"pratinha\",\"convidar\",\"torcia\",\"jardim\",\"desejoso\",\"comiss\\u00e3o\",\"almas\",\"morais\",\"feia\",\"mandouo\",\"compartir\",\"f\\u00edsica\",\"gostei\",\"contavam\",\"bojudo\",\"it\\u00e1lia\",\"cuide\",\"deputado\",\"incr\\u00e9dulo\",\"\\u00f3leo\",\"classifiqueia\",\"grato\",\"galanteio\",\"sorrisos\",\"caf\\u00e9\",\"san\\u00e7\\u00e3o\",\"fronte\",\"piparote\",\"pol\\u00edticos\",\"louvaramme\",\"pobre\",\"tr\\u00e1gica\",\"modos\",\"impress\\u00e3o\",\"tremor\",\"mergulhei\",\"emba\\u00e7adelas\",\"cirurgi\\u00e3o\",\"levasse\",\"descerem\",\"ambas\",\"namoro\",\"lxxv\",\"c\\u00f4modo\",\"pra\\u00e7as\",\"rebuscado\",\"tristeza\",\"fustigavao\",\"supunhamos\",\"esperan\\u00e7a\",\"explica\",\"nasceu\",\"perderse\",\"iai\\u00e1\",\"permitame\",\"su\\u00ed\\u00e7as\",\"marroquim\",\"trata\",\"sucesso\",\"anan\\u00e1s\",\"pesada\",\"lados\",\"j\\u00f3\",\"bizarro\",\"d\\u00fazia\",\"meios\",\"extenso\",\"nego\",\"crime\",\"baixo\",\"antiasm\\u00e1ticas\",\"certo\",\"compeliamme\",\"derramavaselhe\",\"flagelado\",\"sestro\",\"despente\\u00e1la\",\"mentalmente\",\"rejeit\\u00e1la\",\"lho\",\"instantes\",\"todo\",\"declives\",\"claro\",\"lama\",\"xavier\",\"padres\",\"singela\",\"ix\",\"inflama\",\"criados\",\"esque\\u00e7ame\",\"m\\u00edngua\",\"fitos\",\"despedime\",\"insinuativo\",\"quer\",\"longas\",\"orelhas\",\"superfinas\",\"enxugou\",\"vadia\",\"entreguemola\",\"retardar\",\"cachoeira\",\"p\\u00e9rola\",\"impulsiva\",\"males\",\"recebiao\",\"ent\\u00e3o\",\"romualdo\",\"tranq\\u00fcilos\",\"idiota\",\"relut\\u00e2ncia\",\"distribuir\",\"singular\",\"deixavase\",\"juntavaas\",\"veneza\",\"darvosia\",\"cheiro\",\"decidir\",\"direta\",\"ca\\u00e7ar\",\"resgatar\",\"projeto\",\"torno\",\"rolar\",\"durmo\",\"estr\\u00e9pito\",\"ovante\",\"crer\",\"empalidecera\",\"desla\\u00e7asse\",\"pedras\",\"travamos\",\"lembrarte\",\"estirate\",\"profeta\",\"nesse\",\"doara\",\"cinq\\u00fcenta\",\"fervor\",\"tornavase\",\"suspeitoso\",\"realmente\",\"recusa\",\"voltar\",\"inclinase\",\"malogro\",\"distra\\u00e7\\u00e3o\",\"tino\",\"encastoados\",\"revirei\",\"correio\",\"desconjuntados\",\"un\\u00e7\\u00e3o\",\"distinguia\",\"or\\u00e7amento\",\"velhas\",\"estarmos\",\"conseguintemente\",\"acabemos\",\"obtive\",\"compreendeu\",\"instou\",\"levavam\",\"desabotoar\",\"ch\\u00e3s\",\"superior\",\"mescla\",\"foste\",\"voltandose\",\"mem\\u00f3ria\",\"apaziguoua\",\"piedosa\",\"amanheceu\",\"s\\u00faplica\",\"visit\\u00e1los\",\"acumular\",\"remido\",\"plancher\",\"desvencilheime\",\"rapidez\",\"garridamente\",\"perseguir\",\"estrume\",\"alienado\",\"devorote\",\"matou\",\"bonaparte\",\"receberam\",\"desastradas\",\"pontualidade\",\"criaturas\",\"patuscada\",\"desforravam\",\"complicava\",\"fundador\",\"barbante\",\"maternais\",\"diz\",\"intercalava\",\"enfeitado\",\"perdas\",\"falado\",\"valer\",\"vierem\",\"resignado\",\"militar\",\"senso\",\"ialhe\",\"sentiua\",\"enfeit\\u00e1lo\",\"necessidade\",\"resmungam\",\"gl\\u00f3ria\",\"risadas\",\"franqueza\",\"derreava\",\"d\\u00eaem\",\"mangas\",\"vir\",\"const\\u00e2ncia\",\"estado\",\"cruzado\",\"exatamente\",\"comprador\",\"sol\",\"sarcasmo\",\"equival\\u00eancia\",\"desnecess\\u00e1rio\",\"enf\\u00e1tico\",\"fazia\",\"credulidade\",\"regular\",\"torna\",\"cordel\",\"fitinhas\",\"notar\",\"louco\",\"barba\",\"col\\u00e9gio\",\"debilidade\",\"pensamento\",\"iniciaria\",\"navios\",\"pulos\",\"at\",\"bainhas\",\"dualidade\",\"interrogava\",\"tribuna\",\"chego\",\"mereceu\",\"negavam\",\"patriota\",\"estrondo\",\"engenho\",\"andava\",\"plena\",\"lugares\",\"apatia\",\"gastei\",\"s\\u00e9ria\",\"metime\",\"figura\",\"t\\u00e9dio\",\"levarlhe\",\"reservas\",\"enxotada\",\"sacudiume\",\"embarcaria\",\"reputa\\u00e7\\u00e3o\",\"afagoume\",\"podemos\",\"apertado\",\"voltado\",\"espasmo\",\"possuiu\",\"vizinha\",\"fustigueio\",\"futuros\",\"parecessem\",\"teimoso\",\"espregui\\u00e7avamse\",\"tamborila\",\"t\\u00eala\",\"pecados\",\"profundas\",\"sentiame\",\"trabalhadas\",\"fazem\",\"cacholetas\",\"expansivo\",\"cacarejar\",\"deslembrado\",\"tossir\",\"asseadinho\",\"quimera\",\"entra\",\"tropas\",\"noutro\",\"receber\",\"cautela\",\"guardei\",\"germ\\u00e2nica\",\"perdida\",\"corre\\u00e7\\u00e3o\",\"comia\",\"carpinteiro\",\"elevada\",\"replicoume\",\"amasme\",\"francisco\",\"semiaberta\",\"atirarse\",\"param\",\"perdia\",\"pois\",\"quatrocentos\",\"am\\u00e1veis\",\"inventara\",\"rid\\u00edcula\",\"agudo\",\"parceiras\",\"atada\",\"entristecesse\",\"ter\\u00e7o\",\"subordina\",\"f\\u00edsico\",\"meses\",\"suprimir\",\"levando\",\"nenhumas\",\"cal\",\"amesquinhado\",\"licen\\u00e7a\",\"bebi\",\"inventou\",\"circulou\",\"brejeiro\",\"convencida\",\"embargo\",\"verdes\",\"lutar\",\"confessou\",\"espet\\u00e1culo\",\"vest\\u00edgio\",\"dissipou\",\"pau\",\"amparasse\",\"tra\\u00e7as\",\"manuscrito\",\"correrias\",\"excesso\",\"pronta\",\"esbaforido\",\"afiando\",\"adoecer\",\"narrar\",\"corrigida\",\"var\\u00f5es\",\"viver\",\"esta\\u00e7\\u00f5es\",\"patacas\",\"faminta\",\"sobrinha\",\"aspectos\",\"respirei\",\"gemia\",\"desordem\",\"angariar\",\"bula\",\"dona\",\"derrota\",\"retorqui\",\"admiroume\",\"continuei\",\"anca\",\"cargo\",\"considera\\u00e7\\u00e3o\",\"dezessete\",\"deixava\",\"escrito\",\"fant\\u00e1stica\",\"nutrida\",\"digo\",\"tremer\",\"abatia\",\"ecoou\",\"acudisse\",\"escreverlhe\",\"pediume\",\"comparasse\",\"ponderarlhe\",\"veremos\",\"come\\u00e7ar\",\"benta\",\"safo\",\"pensado\",\"entraram\",\"cancro\",\"retra\\u00eddo\",\"desmancha\",\"tardios\",\"desesperado\",\"oitavado\",\"acolheu\",\"buriladas\",\"piedade\",\"embrulhada\",\"finados\",\"sentimentos\",\"crescendo\",\"ilisso\",\"arandelas\",\"derivativo\",\"origem\",\"fitas\",\"agitoua\",\"\\u00e1spero\",\"velhos\",\"foge\",\"custasse\",\"reconstitui\\u00e7\\u00e3o\",\"repeli\",\"acusa\",\"ora\\u00e7\\u00e3o\",\"ignor\\u00e2ncias\",\"opus\",\"dogm\\u00e1tica\",\"fulva\",\"dom\\u00e9stico\",\"salva\",\"cuidas\",\"movimentos\",\"ouvemse\",\"externo\",\"cr\\u00e2nio\",\"prov\\u00e1lo\",\"arder\",\"emagreceu\",\"marcada\",\"ass\\u00edrias\",\"intervalado\",\"montanha\",\"botim\",\"coxeava\",\"trouxelho\",\"devassarem\",\"entristeceu\",\"infinitas\",\"oportunidade\",\"ociosos\",\"r\\u00edgida\",\"capad\\u00f3cios\",\"quimeras\",\"inventor\",\"atraso\",\"cajueiros\",\"defunto\",\"v\\u00ealos\",\"levantoume\",\"anjos\",\"davamme\",\"fit\\u00e1la\",\"moita\",\"minuciosa\",\"lady\",\"elogiou\",\"calejara\",\"aleivosa\",\"far\\u00e1\",\"inglaterra\",\"efl\\u00favio\",\"destacouse\",\"assassino\",\"n\\u00e1ufragos\",\"legado\",\"examinaa\",\"garoto\",\"alvitre\",\"l\\u00e1bios\",\"amarela\",\"codicilo\",\"empacava\",\"perdiamse\",\"diversas\",\"pico\",\"arfagem\",\"concilia\\u00e7\\u00e3o\",\"stendhal\",\"temor\",\"fam\\u00edlia\",\"quero\",\"fresca\",\"entend\\u00eala\",\"desgarre\",\"fa\\u00e7amos\",\"crist\\u00e3o\",\"fingiuse\",\"repoltreouse\",\"apeou\",\"agarreia\",\"fatuidade\",\"plantas\",\"morte\",\"buffon\",\"afabilidade\",\"espinhos\",\"devida\",\"agregada\",\"inclineime\",\"confeitos\",\"tamanha\",\"xi\",\"correspondente\",\"boquiaberta\",\"vicerei\",\"responder\",\"reorganizada\",\"crueldade\",\"quest\\u00f5es\",\"precursor\",\"v\\u00eala\",\"consultei\",\"lavaramse\",\"desfez\",\"dezesseis\",\"preferia\",\"farm\\u00e1cia\",\"toda\",\"sabedor\",\"cruzes\",\"apressar\",\"gratific\\u00e1la\",\"afetando\",\"viramme\",\"compara\\u00e7\\u00e3o\",\"alfaias\",\"chamam\",\"ensandeceste\",\"protesto\",\"encareio\",\"circulava\",\"mandeio\",\"admiss\\u00e3o\",\"mal\",\"ouvida\",\"intrus\\u00e3o\",\"oratoriozinho\",\"espreit\\u00e1lo\",\"cria\\u00e7\\u00e3o\",\"fecha\",\"piegas\",\"aberto\",\"renhidas\",\"nasciam\",\"seguios\",\"mundo\",\"leva\",\"frustrada\",\"hotel\",\"infame\",\"afago\",\"decl\\u00ednio\",\"murchara\",\"facilmente\",\"moles\",\"circunst\\u00e2ncias\",\"comparo\",\"valeu\",\"enfadava\",\"reinado\",\"ovo\",\"hipocondr\\u00edacos\",\"podres\",\"mandoume\",\"subitamente\",\"daquelas\",\"presidenta\",\"nascido\",\"fores\",\"chorara\",\"admira\",\"estar\\u00e1s\",\"copo\",\"asno\",\"passei\",\"parou\",\"honradas\",\"corrido\",\"respira\\u00e7\\u00e3o\",\"entrando\",\"preparouse\",\"acaso\",\"amasse\",\"sobremesa\",\"faca\",\"demonstreilhe\",\"sargentomor\",\"petulante\",\"escravo\",\"conseguia\",\"retalhos\",\"s\\u00f3crates\",\"liga\\u00e7\\u00e3o\",\"peste\",\"deixastes\",\"contrativa\",\"vigiavanos\",\"voar\",\"rel\\u00e2mpago\",\"passemos\",\"destr\\u00f3i\",\"segureio\",\"queiras\",\"alcancei\",\"manjares\",\"pode\",\"chegaria\",\"1855\",\"mole\",\"recebe\",\"lancei\",\"ensinava\",\"remoer\",\"notas\",\"perdese\",\"pergunteilhe\",\"rapaz\",\"desancaram\",\"suporlhe\",\"rasg\\u00f5es\",\"torvo\",\"encontramonos\",\"xiv\",\"regularidade\",\"insaci\\u00e1vel\",\"desprezo\",\"prop\\u00f4s\",\"podeis\",\"gatuno\",\"cruel\",\"partir\",\"deleitavase\",\"tapete\",\"confessoume\",\"bibli\\u00f4mano\",\"ofegante\",\"vicente\",\"sair\",\"esc\\u00e2ndalo\",\"vivi\",\"avareza\",\"estirado\",\"escasso\",\"inventos\",\"fizeste\",\"assim\",\"gatos\",\"arranjadinho\",\"submete\",\"marfim\",\"retalho\",\"saboroso\",\"amainou\",\"equ\\u00edvocos\",\"esconderlhes\",\"fito\",\"demora\",\"interino\",\"volto\",\"cont\\u00ednua\",\"meigo\",\"destempero\",\"parte\",\"setenta\",\"galanteava\",\"acharme\",\"simular\",\"futuras\",\"aquiles\",\"conseq\\u00fc\\u00eancias\",\"dominou\",\"noteilhe\",\"fixar\",\"comparsa\",\"arruar\",\"leu\",\"bandeira\",\"roer\",\"dizerme\",\"cobras\",\"quebrouo\",\"demoro\",\"sr\",\"voluptuoso\",\"sat\\u00e2nico\",\"deix\\u00e1veis\",\"chufas\",\"austeridade\",\"pios\",\"lamparina\",\"segureilhe\",\"pedrinha\",\"lutes\",\"expansiva\",\"tonto\",\"mau\",\"continuava\",\"esvaiuse\"],\"word\":[\"conheci\",\"algumas\",\"destruir\",\"pagavame\",\"namorou\",\"d\\u00f3i\",\"trap\\u00e9zio\",\"deixase\",\"apoiada\",\"mudamente\",\"confessara\",\"repousando\",\"sentado\",\"logo\",\"trag\\u00e9dia\",\"mentia\",\"receber\\u00e1\",\"estuda\",\"aclives\",\"patachos\",\"improv\\u00e1vel\",\"comum\",\"sentarme\",\"salvou\",\"scheherazade\",\"civilizada\",\"mostrarme\",\"indigna\\u00e7\\u00e3o\",\"obs\\u00e9quio\",\"estrangulavaos\",\"arredei\",\"baque\",\"supremacia\",\"dobradi\\u00e7as\",\"dando\",\"desceram\",\"dissestes\",\"ca\\u00e7ambas\",\"costuma\",\"felicidade\",\"incompat\\u00edvel\",\"arma\",\"inf\\u00e2ncia\",\"ouvidor\",\"real\\u00e7avam\",\"amarelado\",\"interrompeuse\",\"fizer\",\"a\\u00e7\\u00e3o\",\"foise\",\"fitar\",\"conselho\",\"quadro\",\"grampo\",\"buraco\",\"pedem\",\"pandora\",\"mel\\u00e3o\",\"urge\",\"ali\\u00e1s\",\"gravidez\",\"proferir\",\"medalhas\",\"pr\\u00edncipe\",\"palavras\",\"alvoro\\u00e7ado\",\"sa\\u00ed\",\"empresa\",\"cenas\",\"jovial\",\"futura\",\"meigas\",\"jazer\",\"respectivo\",\"sei\",\"constrangidos\",\"restituir\",\"amea\\u00e7a\",\"extraordin\\u00e1rio\",\"curo\",\"pequena\",\"negues\",\"queimando\",\"repreens\\u00edvel\",\"aceitava\",\"descruzava\",\"caix\\u00e3o\",\"cama\",\"demonstra\\u00e7\\u00f5es\",\"tolhida\",\"escusa\",\"pungiame\",\"social\",\"jogo\",\"lesse\",\"pessimismo\",\"fugir\",\"s\\u00f3rdido\",\"acrescia\",\"perdiam\",\"problema\",\"recair\",\"arraigado\",\"tub\\u00e9rculos\",\"feitio\",\"subjugoua\",\"dizia\",\"incerto\",\"aconteceume\",\"amorpaix\\u00e3o\",\"conseguira\",\"atireime\",\"cano\",\"duras\",\"convulsa\",\"resolutamente\",\"alteando\",\"damasceno\",\"afei\\u00e7\\u00e3o\",\"f\\u00e9\",\"dist\\u00farbio\",\"folgares\",\"secreta\",\"cabelo\",\"escrevi\",\"aconteceu\",\"lances\",\"elementos\",\"ganhara\",\"antecipa\\u00e7\\u00e3o\",\"rodasse\",\"acepipe\",\"inc\\u00f4modo\",\"fantasias\",\"pega\",\"pensativa\",\"menina\",\"colocam\",\"herdeiro\",\"rabicho\",\"embarcar\",\"hist\\u00f3ria\",\"torceu\",\"domingos\",\"cingir\",\"passarinho\",\"arru\\u00eddo\",\"manuscritos\",\"frouxid\\u00e3o\",\"novela\",\"neste\",\"d\\u0092\\u00e1gua\",\"recorreu\",\"lente\",\"eras\",\"audaciosa\",\"paisana\",\"bals\\u00e2mico\",\"serem\",\"famosa\",\"mergulhado\",\"disfar\\u00e7adamente\",\"suspensiva\",\"escrevia\",\"parecida\",\"talha\",\"substancialmente\",\"seguro\",\"breve\",\"queridos\",\"vives\",\"indefin\\u00edvel\",\"dente\",\"andrajo\",\"perderem\",\"cavar\",\"come\\u00e7avam\",\"afortunado\",\"sorri\",\"falavalhe\",\"mai\\u00fasculas\",\"verdugos\",\"met\\u00eala\",\"dias\",\"embriagoume\",\"sandice\",\"chama\",\"pratinha\",\"convidar\",\"torcia\",\"jardim\",\"desejoso\",\"comiss\\u00e3o\",\"almas\",\"morais\",\"feia\",\"mandouo\",\"compartir\",\"f\\u00edsica\",\"gostei\",\"contavam\",\"bojudo\",\"it\\u00e1lia\",\"cuide\",\"deputado\",\"incr\\u00e9dulo\",\"\\u00f3leo\",\"classifiqueia\",\"grato\",\"galanteio\",\"sorrisos\",\"caf\\u00e9\",\"san\\u00e7\\u00e3o\",\"fronte\",\"piparote\",\"pol\\u00edticos\",\"louvaramme\",\"pobre\",\"tr\\u00e1gica\",\"modos\",\"impress\\u00e3o\",\"tremor\",\"mergulhei\",\"emba\\u00e7adelas\",\"cirurgi\\u00e3o\",\"levasse\",\"descerem\",\"ambas\",\"namoro\",\"lxxv\",\"c\\u00f4modo\",\"pra\\u00e7as\",\"rebuscado\",\"tristeza\",\"fustigavao\",\"supunhamos\",\"esperan\\u00e7a\",\"explica\",\"nasceu\",\"perderse\",\"iai\\u00e1\",\"permitame\",\"su\\u00ed\\u00e7as\",\"marroquim\",\"trata\",\"sucesso\",\"anan\\u00e1s\",\"pesada\",\"lados\",\"j\\u00f3\",\"bizarro\",\"d\\u00fazia\",\"meios\",\"extenso\",\"nego\",\"crime\",\"baixo\",\"antiasm\\u00e1ticas\",\"certo\",\"compeliamme\",\"derramavaselhe\",\"flagelado\",\"sestro\",\"despente\\u00e1la\",\"mentalmente\",\"rejeit\\u00e1la\",\"lho\",\"instantes\",\"todo\",\"declives\",\"claro\",\"lama\",\"xavier\",\"padres\",\"singela\",\"ix\",\"inflama\",\"criados\",\"esque\\u00e7ame\",\"m\\u00edngua\",\"fitos\",\"despedime\",\"insinuativo\",\"quer\",\"longas\",\"orelhas\",\"superfinas\",\"enxugou\",\"vadia\",\"entreguemola\",\"retardar\",\"cachoeira\",\"p\\u00e9rola\",\"impulsiva\",\"males\",\"recebiao\",\"ent\\u00e3o\",\"romualdo\",\"tranq\\u00fcilos\",\"idiota\",\"relut\\u00e2ncia\",\"distribuir\",\"singular\",\"deixavase\",\"juntavaas\",\"veneza\",\"darvosia\",\"cheiro\",\"decidir\",\"direta\",\"ca\\u00e7ar\",\"resgatar\",\"projeto\",\"torno\",\"rolar\",\"durmo\",\"estr\\u00e9pito\",\"ovante\",\"crer\",\"empalidecera\",\"desla\\u00e7asse\",\"pedras\",\"travamos\",\"lembrarte\",\"estirate\",\"profeta\",\"nesse\",\"doara\",\"cinq\\u00fcenta\",\"fervor\",\"tornavase\",\"suspeitoso\",\"realmente\",\"recusa\",\"voltar\",\"inclinase\",\"malogro\",\"distra\\u00e7\\u00e3o\",\"tino\",\"encastoados\",\"revirei\",\"correio\",\"desconjuntados\",\"un\\u00e7\\u00e3o\",\"distinguia\",\"or\\u00e7amento\",\"velhas\",\"estarmos\",\"conseguintemente\",\"acabemos\",\"obtive\",\"compreendeu\",\"instou\",\"levavam\",\"desabotoar\",\"ch\\u00e3s\",\"superior\",\"mescla\",\"foste\",\"voltandose\",\"mem\\u00f3ria\",\"apaziguoua\",\"piedosa\",\"amanheceu\",\"s\\u00faplica\",\"visit\\u00e1los\",\"acumular\",\"remido\",\"plancher\",\"desvencilheime\",\"rapidez\",\"garridamente\",\"perseguir\",\"estrume\",\"alienado\",\"devorote\",\"matou\",\"bonaparte\",\"receberam\",\"desastradas\",\"pontualidade\",\"criaturas\",\"patuscada\",\"desforravam\",\"complicava\",\"fundador\",\"barbante\",\"maternais\",\"diz\",\"intercalava\",\"enfeitado\",\"perdas\",\"falado\",\"valer\",\"vierem\",\"resignado\",\"militar\",\"senso\",\"ialhe\",\"sentiua\",\"enfeit\\u00e1lo\",\"necessidade\",\"resmungam\",\"gl\\u00f3ria\",\"risadas\",\"franqueza\",\"derreava\",\"d\\u00eaem\",\"mangas\",\"vir\",\"const\\u00e2ncia\",\"estado\",\"cruzado\",\"exatamente\",\"comprador\",\"sol\",\"sarcasmo\",\"equival\\u00eancia\",\"desnecess\\u00e1rio\",\"enf\\u00e1tico\",\"fazia\",\"credulidade\",\"regular\",\"torna\",\"cordel\",\"fitinhas\",\"notar\",\"louco\",\"barba\",\"col\\u00e9gio\",\"debilidade\",\"pensamento\",\"iniciaria\",\"navios\",\"pulos\",\"at\",\"bainhas\",\"dualidade\",\"interrogava\",\"tribuna\",\"chego\",\"mereceu\",\"negavam\",\"patriota\",\"estrondo\",\"engenho\",\"andava\",\"plena\",\"lugares\",\"apatia\",\"gastei\",\"s\\u00e9ria\",\"metime\",\"figura\",\"t\\u00e9dio\",\"levarlhe\",\"reservas\",\"enxotada\",\"sacudiume\",\"embarcaria\",\"reputa\\u00e7\\u00e3o\",\"afagoume\",\"podemos\",\"apertado\",\"voltado\",\"espasmo\",\"possuiu\",\"vizinha\",\"fustigueio\",\"futuros\",\"parecessem\",\"teimoso\",\"espregui\\u00e7avamse\",\"tamborila\",\"t\\u00eala\",\"pecados\",\"profundas\",\"sentiame\",\"trabalhadas\",\"fazem\",\"cacholetas\",\"expansivo\",\"cacarejar\",\"deslembrado\",\"tossir\",\"asseadinho\",\"quimera\",\"entra\",\"tropas\",\"noutro\",\"receber\",\"cautela\",\"guardei\",\"germ\\u00e2nica\",\"perdida\",\"corre\\u00e7\\u00e3o\",\"comia\",\"carpinteiro\",\"elevada\",\"replicoume\",\"amasme\",\"francisco\",\"semiaberta\",\"atirarse\",\"param\",\"perdia\",\"pois\",\"quatrocentos\",\"am\\u00e1veis\",\"inventara\",\"rid\\u00edcula\",\"agudo\",\"parceiras\",\"atada\",\"entristecesse\",\"ter\\u00e7o\",\"subordina\",\"f\\u00edsico\",\"meses\",\"suprimir\",\"levando\",\"nenhumas\",\"cal\",\"amesquinhado\",\"licen\\u00e7a\",\"bebi\",\"inventou\",\"circulou\",\"brejeiro\",\"convencida\",\"embargo\",\"verdes\",\"lutar\",\"confessou\",\"espet\\u00e1culo\",\"vest\\u00edgio\",\"dissipou\",\"pau\",\"amparasse\",\"tra\\u00e7as\",\"manuscrito\",\"correrias\",\"excesso\",\"pronta\",\"esbaforido\",\"afiando\",\"adoecer\",\"narrar\",\"corrigida\",\"var\\u00f5es\",\"viver\",\"esta\\u00e7\\u00f5es\",\"patacas\",\"faminta\",\"sobrinha\",\"aspectos\",\"respirei\",\"gemia\",\"desordem\",\"angariar\",\"bula\",\"dona\",\"derrota\",\"retorqui\",\"admiroume\",\"continuei\",\"anca\",\"cargo\",\"considera\\u00e7\\u00e3o\",\"dezessete\",\"deixava\",\"escrito\",\"fant\\u00e1stica\",\"nutrida\",\"digo\",\"tremer\",\"abatia\",\"ecoou\",\"acudisse\",\"escreverlhe\",\"pediume\",\"comparasse\",\"ponderarlhe\",\"veremos\",\"come\\u00e7ar\",\"benta\",\"safo\",\"pensado\",\"entraram\",\"cancro\",\"retra\\u00eddo\",\"desmancha\",\"tardios\",\"desesperado\",\"oitavado\",\"acolheu\",\"buriladas\",\"piedade\",\"embrulhada\",\"finados\",\"sentimentos\",\"crescendo\",\"ilisso\",\"arandelas\",\"derivativo\",\"origem\",\"fitas\",\"agitoua\",\"\\u00e1spero\",\"velhos\",\"foge\",\"custasse\",\"reconstitui\\u00e7\\u00e3o\",\"repeli\",\"acusa\",\"ora\\u00e7\\u00e3o\",\"ignor\\u00e2ncias\",\"opus\",\"dogm\\u00e1tica\",\"fulva\",\"dom\\u00e9stico\",\"salva\",\"cuidas\",\"movimentos\",\"ouvemse\",\"externo\",\"cr\\u00e2nio\",\"prov\\u00e1lo\",\"arder\",\"emagreceu\",\"marcada\",\"ass\\u00edrias\",\"intervalado\",\"montanha\",\"botim\",\"coxeava\",\"trouxelho\",\"devassarem\",\"entristeceu\",\"infinitas\",\"oportunidade\",\"ociosos\",\"r\\u00edgida\",\"capad\\u00f3cios\",\"quimeras\",\"inventor\",\"atraso\",\"cajueiros\",\"defunto\",\"v\\u00ealos\",\"levantoume\",\"anjos\",\"davamme\",\"fit\\u00e1la\",\"moita\",\"minuciosa\",\"lady\",\"elogiou\",\"calejara\",\"aleivosa\",\"far\\u00e1\",\"inglaterra\",\"efl\\u00favio\",\"destacouse\",\"assassino\",\"n\\u00e1ufragos\",\"legado\",\"examinaa\",\"garoto\",\"alvitre\",\"l\\u00e1bios\",\"amarela\",\"codicilo\",\"empacava\",\"perdiamse\",\"diversas\",\"pico\",\"arfagem\",\"concilia\\u00e7\\u00e3o\",\"stendhal\",\"temor\",\"fam\\u00edlia\",\"quero\",\"fresca\",\"entend\\u00eala\",\"desgarre\",\"fa\\u00e7amos\",\"crist\\u00e3o\",\"fingiuse\",\"repoltreouse\",\"apeou\",\"agarreia\",\"fatuidade\",\"plantas\",\"morte\",\"buffon\",\"afabilidade\",\"espinhos\",\"devida\",\"agregada\",\"inclineime\",\"confeitos\",\"tamanha\",\"xi\",\"correspondente\",\"boquiaberta\",\"vicerei\",\"responder\",\"reorganizada\",\"crueldade\",\"quest\\u00f5es\",\"precursor\",\"v\\u00eala\",\"consultei\",\"lavaramse\",\"desfez\",\"dezesseis\",\"preferia\",\"farm\\u00e1cia\",\"toda\",\"sabedor\",\"cruzes\",\"apressar\",\"gratific\\u00e1la\",\"afetando\",\"viramme\",\"compara\\u00e7\\u00e3o\",\"alfaias\",\"chamam\",\"ensandeceste\",\"protesto\",\"encareio\",\"circulava\",\"mandeio\",\"admiss\\u00e3o\",\"mal\",\"ouvida\",\"intrus\\u00e3o\",\"oratoriozinho\",\"espreit\\u00e1lo\",\"cria\\u00e7\\u00e3o\",\"fecha\",\"piegas\",\"aberto\",\"renhidas\",\"nasciam\",\"seguios\",\"mundo\",\"leva\",\"frustrada\",\"hotel\",\"infame\",\"afago\",\"decl\\u00ednio\",\"murchara\",\"facilmente\",\"moles\",\"circunst\\u00e2ncias\",\"comparo\",\"valeu\",\"enfadava\",\"reinado\",\"ovo\",\"hipocondr\\u00edacos\",\"podres\",\"mandoume\",\"subitamente\",\"daquelas\",\"presidenta\",\"nascido\",\"fores\",\"chorara\",\"admira\",\"estar\\u00e1s\",\"copo\",\"asno\",\"passei\",\"parou\",\"honradas\",\"corrido\",\"respira\\u00e7\\u00e3o\",\"entrando\",\"preparouse\",\"acaso\",\"amasse\",\"sobremesa\",\"faca\",\"demonstreilhe\",\"sargentomor\",\"petulante\",\"escravo\",\"conseguia\",\"retalhos\",\"s\\u00f3crates\",\"liga\\u00e7\\u00e3o\",\"peste\",\"deixastes\",\"contrativa\",\"vigiavanos\",\"voar\",\"rel\\u00e2mpago\",\"passemos\",\"destr\\u00f3i\",\"segureio\",\"queiras\",\"alcancei\",\"manjares\",\"pode\",\"chegaria\",\"1855\",\"mole\",\"recebe\",\"lancei\",\"ensinava\",\"remoer\",\"notas\",\"perdese\",\"pergunteilhe\",\"rapaz\",\"desancaram\",\"suporlhe\",\"rasg\\u00f5es\",\"torvo\",\"encontramonos\",\"xiv\",\"regularidade\",\"insaci\\u00e1vel\",\"desprezo\",\"prop\\u00f4s\",\"podeis\",\"gatuno\",\"cruel\",\"partir\",\"deleitavase\",\"tapete\",\"confessoume\",\"bibli\\u00f4mano\",\"ofegante\",\"vicente\",\"sair\",\"esc\\u00e2ndalo\",\"vivi\",\"avareza\",\"estirado\",\"escasso\",\"inventos\",\"fizeste\",\"assim\",\"gatos\",\"arranjadinho\",\"submete\",\"marfim\",\"retalho\",\"saboroso\",\"amainou\",\"equ\\u00edvocos\",\"esconderlhes\",\"fito\",\"demora\",\"interino\",\"volto\",\"cont\\u00ednua\",\"meigo\",\"destempero\",\"parte\",\"setenta\",\"galanteava\",\"acharme\",\"simular\",\"futuras\",\"aquiles\",\"conseq\\u00fc\\u00eancias\",\"dominou\",\"noteilhe\",\"fixar\",\"comparsa\",\"arruar\",\"leu\",\"bandeira\",\"roer\",\"dizerme\",\"cobras\",\"quebrouo\",\"demoro\",\"sr\",\"voluptuoso\",\"sat\\u00e2nico\",\"deix\\u00e1veis\",\"chufas\",\"austeridade\",\"pios\",\"lamparina\",\"segureilhe\",\"pedrinha\",\"lutes\",\"expansiva\",\"tonto\",\"mau\",\"continuava\",\"esvaiuse\"],\"x\":{\"__ndarray__\":\"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\",\"dtype\":\"float64\",\"order\":\"little\",\"shape\":[900]},\"y\":{\"__ndarray__\":\"0qYgBMv9r7/ozPYp99XQP0icegjEIM6/gUeGxomcvb/DCYpqCROhP7U1C08vQ7A/s3VC9PZjtT/6fnXTB2aQP1aA+DVYLcK/8vcfivP9yL9nkOIgf02VP69OWjiME8+/jn0KzNHcRj9mjMAMGCrDvy/rADWS1qA/DGrN4jrO1j8NkF+pLPnHv0WyA9ok1MS/95OzFfHRxL/ZGIiKzSG9vwImhjOSX88/sfKtQgOuvj+xuzBTza+/P2Wsouk+HMO/jlOuqo2DvD/OFdb09lDXP2opIXARG7a/80POWk6arz+zI9zhuSq/v+Tg5dnFr52/fFZ+h3TfoD8CoqPx7sKJv2rJoDY+v46/fEvu0uPEoT95XOYL1Gu+vyaiUGH8KW+/PjCg7lxEqT/tGIFVHprEv/u+hKQps7M/Xwftw3EN0L/+4kxmZmy/P2udyj2xi7o/R5+TxA7xyD+DHnDE9ReZP53fLWL6kdW/T6ib4A8Aur/5CuSUQm7RvzXRTlIIzLi/1whPAT1Wtr+yXOZ9zlvWP7tFVLZ9hcI/Wzp02/tGm7/DhKz39tG2vzrGOmtTNr8/nYnJifNJsD8PQ3Az3P/Rv1ud+Dbp9cE/PpryfIpL0T8sgBT6bHLKvzQ/3Nl4Mcg/GnqOFIN5vj/pN/IsALm+P54WiuJFkbK/0/OxfZYYsL9V7jHCL1jAP2U0vqkA/M0/cuafvgITmz/P87NwbV7IP2nEh2rfkqG/JkZOoTxsvb+QkXGZNOK5v0MntQZfYrE/1zJ44u3OvD9jyhETU7zBP8kcQZpsptM/OSVl+8ZQob+RYmKdNr6/v9ul3IHaTq4/FVsGqgzsyT/fRUXMXuhaPyzks+ik9rS/pB6cwnHR1L87LZZYpjrAP1SHVk0Kic4/6b2dtR9+zL9TeNICuoC4P3iufiU9Gaw/P5JQZ23Knb/b1fT7okCnv8gUEyFxf3K/Ra6jqPUoqD+boILAJ1uRv3dmMO2Vl6A/UAYcDgnS178srx3+d/vLv62zN8xrQ7s/FJmBjjkZ0D/PqD33mNLIvx+deoLTOco/FFpPzMA5rL9Do/urvSjEP7xAYNus0a4/wJ+5CPJeyL8KSsA3xWO4PwKUVI1C/ay/2Ouz4u3MrL/gMCtTUsXSPxCEB4K/QMU/HcJBv1Jwu78HgwSf64eYv6N4BNO5ma8/kMvnFt8esL8ACY9teoq6P7docdigjrU/X7APTRbylj/ga62Ea+17v/H/yxF5Z88/9jaMrWyrwz9d57czWx2cP/iW3Z32JMK/gsdj/oBQt7/szB1vBmCnPzx5pQzqr9o/yOrVqhaOgj8JBiZaNOLAP+acDuBPq5m/44mAIp+vv79oqPLdFPXEPzgXcvvIkaU/u5GzymCurj8f3Um9sbu+v7Xb5HyyDc0/UIl19EeYsj8oypuglgSvP38HzLd1DL4/fB1msDcoyL8ymFf1fd+nv04VuJGRbdg/2S/ADo/ToT+i76cA++rHv2qTi3Q6PqM/+lVN4ueAmD9y+TjyD+LDvx3brbcU2cK/Ee5UAR120r+cz26U8N2wvyVog3yp86e/sJG2Klpwsj/4R90IsRbAv8Em2k1LQr6/pCVG4532tj/SJCXhoeewP/ZjC1rzqr6/n5U/1Hp0rD/fbqnOuJW5v5o2N1ewANA/G2HyIa+PrT9ZbNtQUMWiv3S/2m83cdq/boHZA0YooL/nIiu5rU/Hv2qlfin74Mm/6RGmm9f3zD8rjzsPzYenP7n1YK+AE6O/XznDwhewuL8JIVG1DB3RP4M9E9MzZIQ/AM41cFbXx79Q5hDV/nGjP6KI89lVgai/yoy97rixnz8eN0F8bJnBv0SQtVnT3ZQ/YnORDgHjtD9IAfGdJNTAP/I2Fb9BSsm/lkw364Ilrz9Ya5O1qPCiP1ziQKUKaLA/VJ/kOjS5wb+Dq31jLJTSP4VcPln8IrO/QHh9IL9Koj+FJ0Pkrpm/v1TXuwXnWs8/qqWTnza0uj/A0BRd/FPAP54pmhopIcQ/4yLquOZVnj+BFigXrNDAPzLaRtDilco/MuM54pYJx78RU85mvtewv4yinPX+4MS/AIOgofB2nz+8mRAusQC3v+ao7Zo8udI/woaVw/d4t79JjGOrlbG3v6NTPzRfVcI/m7oLygkEuj8ra4HlyhW4P+sl9glw0tS/llMA3ZLawL+Agt90SrW+v3rZSKpwjYK/3sCtrtFu0T/yx7znyybEP8swbrqQP5C/96rjO+hyqL/coq+Nk+VyP7moAZIQlry/5ri7CnsWsr+Dc8w16HO/vzeC+mA8fsk/hDZNzaoIqr/WPBuX/cGHP/n2xAIcbpm/hilCA+dOqj8Q5S1RZYmvv54OgXcWpsA/9koC6YyCx7+Pk8taTUKxPzpmSVn158E/WwKIfuaD0T+XHae7Kb3AP98wYfpQRtK/ayIA9u1XZj/S+ZpWxqbDvw1HUpeoF7M/g0EHXxUCuj/+leLv0inNPwpPKaJoKYg/EHNwIs/MxL+rGfaVBgKpP6xROSbWqbE/QmZZqbIooj9jUCJunNrDPz/pVOsH9r6/OPaX0EUM2D9GuWG1jfOPP8mZMeArtqM/a1gQFC+At7+XcJng5WOkPynydva3dse/952A7CIA1j8ZQTsHlkuVP2YFRm593ro/cQCNjwiMub/oYclIfKqmv7t+yixZJbO/+64JqP2ezb/Q0DCAeD24vxWQWGYSP7i/Lm0EUQMgyb+7idtlXnKQP+CTvgz9AdM/943KQIMRoj8EhMW7tW58P+SXOuwdxru/2WnJkb6rxb/1eLQKhG67P19fpMldKrk/anhT66aJkj+jNNvY/lJ+P/o9wPYaCL6/umSQZh4ovj9qRk5B/YTGP+hhGE+mMMa/fMvDGdL8wL+6DPsyVXabv8kI99stXMg/wSOmbM4DxT9SxqDcS8eRP2Abh0mro6E/sNXGuGm+1L8O0wQShpa4P9Bz5oxrXcm/Imh9NM43yz8E6av5IY+Bv9sRagAzCdG/Vs490GXMx79Xvq1fLYvBv4uyVcApG8M/5c0rWExTxb/QSLbAcGrNv6oxU0xqmZ0/5Rjk8ZtrpL9Q9bee7g7Ov6HA+1eMvqU/IPkpzU4n0r/sSs4k/VPLv2ZaOPGeq6g/Jjp57Wn7or8NdTOJEAK5PxP5qxBNBbA/Rgne/ogXzz/7GNe2MFXNv5EFcJeLcLA/SPN4ZduQ0L+jnsB24EXRv7jwjP1zzLS/fieBK22XwL87tWpbeCuiv2uFlyuz3rY/5kOEUwQejz+W//1wwNi8v3cGCjnSese/WG66ikFXpT+xNP0H9MLPPwfKDbC5Qce/Mx7BSv0UrL/jdWl6Av/Nv6Bn9u7YQHy/e765QJhL0z8/UDyTHbW2v+tR3Y87KKo/APaiQFyhfL+w2xMBYHHCP493PM1Xh8K/crk8xsE4wL8OVjoDZqfKPxvloxdz8rc/Pjff5HvdgT8ioeGanlG7v7nscK+Lkse/Jwyy8RQDqD+GRuLBE+SiPzUenAGeM8K/ynSOUVJbxb8Z1fk8z5qWv+Hb7lQhK7k/NmlC9jslqz/WF3FlYJW0P0jvHSJdXLe/QmEkZQcqsD9Jqwn08QzIP7xKkNr1MKY/NDY8wnU5wb/0puRe/43Dv+15/AUt2sW/fUax/zY1pb9x/rdJOO2Kv5H1pd07kcW/CVK8X9nvwr8FxJg1vpvBv2uNo8vwObo/TU/tOB9nzz98lPOT1kmyP6iq2mXIj76/efY8reGAor+ONsvr75rFv4RPkQYVyrI/jxdQjUP9xb9H4FL3GfiYP33jbd/86Nq/z7DJGVJwhz86SW4lk3zGP+Iw6cab/9C/A/xjLLpVu7/B4cIaRX/PP+UH6sprc6M/XBDnLsHfxb+oVkR/+grLP4Fu87i718M/4kZHNfmmsL+J7LZAErfMv11cdnktt1M/Jzq73q0c1z/t3Oiey8qtP76p8dRyjqo/XSoRCqCf0D/Q0Pi6V1y0P9VOU/d4nM6/bk/W4vEvyT9zTx/1mIfEvwvCTQa/UsS/6wDiAEiIsL8UM9L2CXyQv2Xj1cceEdI/e8qKB2GerL+xHU6A95CFv5JewmLeZ5S/ZQdwtNZ+hT8N1BbHFqSqP1ion0ATTMq/ZSj1vVEeu7+Oxd7JdYDLvyWsDgCgJMO/Do/bvKBn0D8BBNoBClqyPy6KTawCncC/2zMSqi2Wtb/E6ZqyPkPSP9cbmJljrMY/wOpDkkAysL/+Uc1615a0P6rkrDT0K72/0Ik2hX1/wL98iZorqQKvv0+v9V995sK/e4nYK/OymD8Ocy/zkrmyPzzIfi0Bjcg//Hn9TI0dyr+t3cNQ7LfaP6XnUMtwlrG/NEWLc+Bsgj/2c2yJOt3Jv8YstFQorKu/EAC4tRABsL/RyGJkYsbHv4PjMhbKZsM/m5JIuUoGwz9C9YHjytfPv6+ECZgdnsC/SWbTS2KUyr/dvK77Ay6lP/vb0pIZG9A/IBUWmgaVxz9mArHnroiTPwf5fz15jY+/fOx6WHk3rD+ZnH9d5mWsP9xbA046g7e/yuJL54bqyb8yjBTGp2LCv+IoaDvyq7C/pYfTuJQDwb+AuiFOvUaWP88nLeSx4KY/nhMn7oAMtb9CEpOQAH26PwPTBHs3J3s/5pPxhP2lvj8rRr0vKIiHPzP69Bskbom/wXzrrkEgdr+2kX8GyjfIP4oJT72AJtG/Oz8HcKxLrz89l6qUplnWvx5Sntylbsq//j3AsUfhYT+6b/US0BuDPxUME7Lfs6k/6ar/zm1okT9VXrn9+hfFvxIYwB854Y8/TWzJixZxgz/lTHIFSzJwvzdJSUTGunK/2Jks4lNZwT+BKxtra8anvzinDmzTEqm/XeClkse3pb8GTPSmoh/VvwA1twkF/Lk/1ee2s4Uluj81LhrQhWiov/f5/FGf9Z8/ZsM2kN7/xb+faqQgJsF5Px1cnoQD0am/aFD39yewvz/MsZwdE9G+PzcR6gLV9bg/A9lJeczfzz+YkzqWraHQP1ZXvxzqsck/ibCCSLakx7/B+CniEUe2P/RmpKlzqqQ/aOZ16oORoL87JkGi67a6vx37XS8TCbI/YD6b3Aaplb+YGv+dBHfGv3F5ipKPK8W/IsGxBj9myj8fGfur3BTVvyA3cQ5NL8M/0jVl+FRPz7+WJ7MLKvrHv1d6oVOEysO/AcD5ojEQx79Hl7UuG/C/v+1lYioA8be/no+tPoZCxL/2k5c2K26rv3+vtEIVUby/UmOf58M0lb/PrmpEe8y7v5usiKkf/7K/HsuWDibYuT9YeAMG9n+/v+r0iE2KuGA/s2bikW6Eob+cYbVn3MqzP8T3UmuFrWm/YdZfyu/Etr/LU+m1LCTIP5/y8WAdHb+/JAEOFMforb+qk7W72qDHvwd4rjFl77M/JLSyP4VAxL+h3+TTqEeyv6RNhHhnTMg/KKaNVnw7vz9jjKuHlruXP8St5ovb5r2/EHPb4jCXoL/1duzq5v+9v50DbKF4/6w/MQYTAyl8tb8EH030Sy2jP2U73Rph5cq/qmdWZqXhub9UW+7Q9vG2P4dZ9R84ko6/X8fCoqYMlD/+K/ISPd+6v/gY05xw88G/xViVkrj6lb8u80Qb4t/Cv6Z6ucarQq4/0yfO8mpjpT/nK4+a2WK9P/CSuOcW+s0/6NuQ9fi2wb90AeSGjzC9v8vP8RZ5ebQ/SekBnh2hwD84U8h+mZTCv7gOCph0bLm/JuDMxPoBub9d1YMVGRKuv+t8BEcGScG/lazOQAfexz/dH2eakqvGv/jfJOUhGrO/Z5bIXUCPwL/7PxhiqtmgPzaQja53H7i/aD3f1rQGsz8cbM8JOX/NP9KhzQV528I/jI0pEJVCHr9Dh2dm3VnBvywI3XHmRcU/td5XVeJ9wj/YpWRqKNWtv6aDe4wioaG/NxYvh2n/hj+8M5ptzoavv57lDkxkUqY/H9RE6pb1oj+PFvhESU3FP84qND4LGHS/CnpcmAB5tz/orVOaPc/IPzs7cKfzZ9E/KNwo8+XOwT/nJUfeKWOLP2EsYsJEY72/8Ee6GxtgqD/h/aavMajOP48tHl+T4qQ/a2dvIFPGpj8TlRlKBlrEv+9y795ACKo/2+EwNJsFmL+sYIpmU1S/v5vy+Z1RnW6/lhHPq7Halz+/vKlSMyXbP7++oVTOFrm/d1lIWrB3wz9lfRpr4RWsv5DoSdIf7MC/37gorI+avL99UhfTlbvTv5fxQ2P7F0S/NwELSYoxmT9QgFEGLX7NPzAufqRMoKc/pmbnpp5trb+yj8WQGrDQv3TVb8ZrP8u/RjSr2qOQ0j9YcZ59ZufSP3BIyBai172/gk13xpFqyj98LMxb5zbRPynaZlcIgri/HPzE5u5JpT/cKTf6oqqgvxwG653P47W/9pS8E3HHwL/W5VZieYW0P5VmAqu9X7o/IhORf9Xlxj82f+80YjekP224Pjvyl6g/ENRBvE8gv78RZmuprxagv+MkvPHe8se/qraDtcc4s78WOdihSpOiP6uOP80mCsK/p/aFHg2lsr/Yw2uUPeDTP9TtKZ8ud84/jvUzJ10RmL/CnEcmd1LAv/UrjLISvaw/8Fzuk6yTtj89aNs37hO7v9bnsQke4b6/OBuQgkWDsj9YJRtRzuOfv5EHFkZ14bG/2ymb0jBjtz8itK1Yt6jHP0FL5vNqNLw/ymgZyaRIvr9Pzz0ISnzIP+BtsfwtM74/S1dDJez4dT/TBayt0gjFP/rfBjuQprK/aGuj1PHdfb90jti7fJy5v4iEdtLhybI/ze6MVNhmwL947Pus4Lawv7Dh8rp2VZQ/31tm+WZj1L/3bT2J2FJuv1wsHEJxCrK/iOAojuaWx7+eBR7gfX/Fv8PcopNihdU/4rHyl/P1m78JXDAXxj2+v//hyU7E1c4/uQBxR+owkj82GdRHnIjVP4ddXNjq36Q/XOK0Ox88wT/pT7XGuAnAv5khN2x5XrW/pdRRK/BbuT9GFRdCYyDAv1TB76J7JKK/PBsLKveGsj8M5TIrqfvWP7jDnIXAlpC//zti4rrxw7/tjMckvJfLPwuuAseLE8C/W1Idtiax0j/NobE12CVcv8CcsWUR08W/v0qguBPpr79IiXKXOG+hvybQG/KaScu/2qTxtr3swD87AHiC2SLQP77l6I8IJdK/hQP3Cj4B0L97mqTNX/StP7fi7sUbr7e/Emf4tI1Bv79ckies2bzHP2LOOzEJuWe/23b99NU/t79rtrTZkUp1vyslL88/Ua8/JY1Jwvd5uz/N4sXClRvAP5y/A7oq+tA/2ODoNOSYzD9s5XYdsdG1v6e2mxZ+FKQ/+UPvgiLD4L/MerR6CwuQv57QxQfxgZM/yueKbDECtT8tQEyVuXufPyAEMmjo4M2/d88OgRy0q7+5Y+QWjSnHP463ZExp0tO/pS6p2TTx0b9P0Ic48DnFP0OehjAwase/clZxv0Nm0T+oav4qjobFPylv9AdbstC/FSsOvGVOwz8HPnxblTWRv5+i9sos0MI/Vu/9QR7Fvb/cVV3B62atvxLBfkBLSLO/30S1cM13xr9by8c8b5i7v6bFf46kdLQ/tUH480Zut788XYoVZXWKPyoz0Nb6Z6W/cHnviZiHcL9sF4IEOCZwvwRjNqtMBKi/tJT0rPvruL/Y0p35jI7QP63fRwtm6sY/CEdccPzUtL+KVdq1NlTRP7NWu9OJtNA/SMzWTee5079djmwxsmO4P9CTKSAe2sQ/1Wsee3aNar8GuaXHkMKsvwfo8EGU6KU/eJaVj75Sx7+rtEHahICevxTUKupbb84/4KkRq070jL8PkJnLjonDv3d1Dl8j35g/GwvwLNW20z+n5QG5Wv+kvy36CsPdfKE/FkYU3Devob9OdNVO5YKovxRnTl8PvMo/ZWS5/8UHxb8kNB3zzyS1v3EKB5mcisK/+VgUZrOrrL+briN51Ka1v2smCVyQvq4/CRv7X1KIy7+obWI0KYHEvx0uyOx0VaE/qowcEAaOvz9Z5k2pfJvGv3ibSa1JG40/cTRt2mdFvz8ScBsknfHBP7JMaaDdKau/gSStadhEkb9ZcVEpHLvAPyv9YlkAcV4/LBKIHIfkuj9rTFPImu2wv2tYYgpGS8Q/LJ5AdDj5ob/kfTg3sSHNP+qIbRBaT8e/nAEdo8pQlD/h+XUBgxi9v84WFMTa0Z0/VzAmRpH+ur/bLaZfPAfQv/ZxVkWCvMM/lBhDV/qcwD+uPvjR6DWwv8USI7qDDqS/2lhmXKkqv7/0N7rVVmnGv5/mmyObM5y/wJRuEUn2fz/WqkNfS5TEP0bTCiwgysk/YDar/FbAyj81nwlUaletv6a9X4wQubk/TVeU090uuL93+XXeWpG1P2iUaaYEeLI/1hg6Vo3NzL+Kd/gJgb6gv0ufZpRMBLU/LiK/52l2zr/BHzuB+P6hP8Rkk3ng5IG/2qg+q+ZbtT9G/lav6g/Gv+SJPHth1Li/wFRJRXhtwr95CdqNEZzCv5UK9+TGE8e/WhjzGS8Qs7/TbtDgW6HEv2QBOz7c57M/ayTHo8hAvT9fzpKG6IfRv+kaN09Ctsq/jHVGjrQKxb9afwHtXeaZP0/5JQdQFrm/rdBLt9kFrr++9awbuRPIv/MCnny3P80/KbqNom+vsr9SCGYxUWzEv0yA+47vxLu/N3KK4BcHyT99K7d6ShrTPzG//ocTT8M/w2WngH7u0z+MGpSFx9qgv4HOKewJsbI/J7qc8iHNtD+Ked1DQzbQv/x5ZarHacS/IrWJy2zHwD8mekYM89mTv3dfe7vrF6a/mjydZZfwtT8qWw2dHgzWPw5us8q9C8Q/U9zRrB3qtL/lsSNJryfJP1HpPIruXru/noanXyF2j79KA/sbtTmmP3dv7smZdsI/BSH5HNSJcD+sfVkToTe2P7S6rrBslpQ/ZqqYdiA6xz+dFukrTEihvzVYBxvGLbI/b2S5cJqZx7/J5qwUjJ3LP5wKZdJ89tG/85Q9vx+BuL8ODfA0xKa+vwPleX+MKaG/t3/u7eIu0j9MHLBM7CWKP7DShZN5dbW/ApMU2WZhzL++8Txkd2jNP7/XV6ngXKq/DSatOVy0xz/NkMvU5NS3v/X1nPfHG7o/FjqIMuB/tr9SxsIXFU+Qv52Zxv7k9rk/fpeJWNdAjb/HM0l73nTUvzY5rzz2z6i/R2CBja4oyz8WP55/f26sv5/nIowTB8E/aGWDFU8fwD+GhOtYskvNP7XExG2UEbO/eui8PqLmpL/EvFKMYAO6vyHFQW7HY6M/nanzXLj2vr/acyjXL6jFv2Iv3Ii/l7W/SLVgldKQz7/8C2uRGAWxv6NVId+k5YG/k6z4Sqw0zT/PlABie6vAP6CHKDpGOsk/DZ86Frv8uj9bdqA3sM+2v8rMnR7pwcO/9EMxmTOOpT8Bj3fNbJXKvzmthsP9VYO/LwpSVzCqxr8Bot3/mvbUv2Bmr4kSiMA/d76rgwpaV7+EwDF7g+Slv5CdTE1C6cS/n/lMMhsLwL+WD3jiNuvHv5h2OVcoa4m/RVuUCqdCxz9jytdaaBmoP0DL0wmB57O/vOZdhv/6wb9zrQ65MZjEPzVf/6Fdyr2/\",\"dtype\":\"float64\",\"order\":\"little\",\"shape\":[900]}},\"selected\":{\"id\":\"1053\"},\"selection_policy\":{\"id\":\"1052\"}},\"id\":\"1003\",\"type\":\"ColumnDataSource\"},{\"attributes\":{\"coordinates\":null,\"formatter\":{\"id\":\"1050\"},\"group\":null,\"major_label_policy\":{\"id\":\"1051\"},\"ticker\":{\"id\":\"1017\"},\"visible\":false},\"id\":\"1016\",\"type\":\"LinearAxis\"},{\"attributes\":{\"axis\":{\"id\":\"1020\"},\"coordinates\":null,\"dimension\":1,\"grid_line_color\":null,\"group\":null,\"ticker\":null},\"id\":\"1023\",\"type\":\"Grid\"},{\"attributes\":{},\"id\":\"1014\",\"type\":\"LinearScale\"},{\"attributes\":{},\"id\":\"1053\",\"type\":\"Selection\"},{\"attributes\":{},\"id\":\"1010\",\"type\":\"DataRange1d\"},{\"attributes\":{},\"id\":\"1008\",\"type\":\"DataRange1d\"},{\"attributes\":{\"fill_alpha\":{\"value\":0.2},\"fill_color\":{\"value\":\"blue\"},\"hatch_alpha\":{\"value\":0.2},\"hatch_color\":{\"value\":\"blue\"},\"line_alpha\":{\"value\":0.2},\"line_color\":{\"value\":\"blue\"},\"size\":{\"value\":10},\"x\":{\"field\":\"x\"},\"y\":{\"field\":\"y\"}},\"id\":\"1042\",\"type\":\"Circle\"},{\"attributes\":{\"source\":{\"id\":\"1003\"}},\"id\":\"1044\",\"type\":\"CDSView\"},{\"attributes\":{\"active_scroll\":{\"id\":\"1025\"},\"tools\":[{\"id\":\"1004\"},{\"id\":\"1024\"},{\"id\":\"1025\"},{\"id\":\"1026\"},{\"id\":\"1027\"},{\"id\":\"1028\"}]},\"id\":\"1031\",\"type\":\"Toolbar\"},{\"attributes\":{\"fill_alpha\":{\"value\":0.1},\"fill_color\":{\"value\":\"blue\"},\"hatch_alpha\":{\"value\":0.1},\"hatch_color\":{\"value\":\"blue\"},\"line_alpha\":{\"value\":0.1},\"line_color\":{\"value\":\"blue\"},\"size\":{\"value\":10},\"x\":{\"field\":\"x\"},\"y\":{\"field\":\"y\"}},\"id\":\"1040\",\"type\":\"Circle\"},{\"attributes\":{\"bottom_units\":\"screen\",\"coordinates\":null,\"fill_alpha\":0.5,\"fill_color\":\"lightgrey\",\"group\":null,\"left_units\":\"screen\",\"level\":\"overlay\",\"line_alpha\":1.0,\"line_color\":\"black\",\"line_dash\":[4,4],\"line_width\":2,\"right_units\":\"screen\",\"syncable\":false,\"top_units\":\"screen\"},\"id\":\"1029\",\"type\":\"BoxAnnotation\"},{\"attributes\":{\"coordinates\":null,\"data_source\":{\"id\":\"1003\"},\"glyph\":{\"id\":\"1039\"},\"group\":null,\"hover_glyph\":{\"id\":\"1041\"},\"muted_glyph\":{\"id\":\"1042\"},\"nonselection_glyph\":{\"id\":\"1040\"},\"view\":{\"id\":\"1044\"}},\"id\":\"1043\",\"type\":\"GlyphRenderer\"},{\"attributes\":{\"callback\":null,\"tooltips\":\"@word\"},\"id\":\"1004\",\"type\":\"HoverTool\"}],\"root_ids\":[\"1005\"]},\"title\":\"Bokeh Application\",\"version\":\"2.4.2\"}};\n",
       "  const render_items = [{\"docid\":\"1c034e89-ec6a-4077-94d7-f8c117ebe85c\",\"root_ids\":[\"1005\"],\"roots\":{\"1005\":\"730a209d-e2ac-41a7-b34d-af87765410db\"}}];\n",
       "  root.Bokeh.embed.embed_items_notebook(docs_json, render_items);\n",
       "\n",
       "  }\n",
       "  if (root.Bokeh !== undefined) {\n",
       "    embed_document(root);\n",
       "  } else {\n",
       "    let attempts = 0;\n",
       "    const timer = setInterval(function(root) {\n",
       "      if (root.Bokeh !== undefined) {\n",
       "        clearInterval(timer);\n",
       "        embed_document(root);\n",
       "      } else {\n",
       "        attempts++;\n",
       "        if (attempts > 100) {\n",
       "          clearInterval(timer);\n",
       "          console.log(\"Bokeh: ERROR: Unable to run BokehJS code because BokehJS library is missing\");\n",
       "        }\n",
       "      }\n",
       "    }, 10, root)\n",
       "  }\n",
       "})(window);"
      ],
      "application/vnd.bokehjs_exec.v0+json": ""
     },
     "metadata": {
      "application/vnd.bokehjs_exec.v0+json": {
       "id": "1005"
      }
     },
     "output_type": "display_data"
    }
   ],
   "source": [
    "plotPCA(wordVecsBrasCubas, token2indexBrasCubas, 'Word Vecs Brás Cubas (PCA)')"
   ]
  },
  {
   "cell_type": "code",
   "execution_count": 25,
   "metadata": {},
   "outputs": [
    {
     "data": {
      "text/html": [
       "\n",
       "\n",
       "\n",
       "\n",
       "\n",
       "\n",
       "  <div class=\"bk-root\" id=\"f1390e5a-740a-448b-9dd9-8f812c330cf9\" data-root-id=\"1113\"></div>\n"
      ]
     },
     "metadata": {},
     "output_type": "display_data"
    },
    {
     "data": {
      "application/javascript": [
       "(function(root) {\n",
       "  function embed_document(root) {\n",
       "    \n",
       "  const docs_json = {\"4ed87b58-02bb-4e23-baae-c42a6bb6c109\":{\"defs\":[],\"roots\":{\"references\":[{\"attributes\":{\"below\":[{\"id\":\"1124\"}],\"center\":[{\"id\":\"1127\"},{\"id\":\"1131\"}],\"height\":800,\"left\":[{\"id\":\"1128\"}],\"outline_line_color\":null,\"renderers\":[{\"id\":\"1151\"}],\"title\":{\"id\":\"1114\"},\"toolbar\":{\"id\":\"1139\"},\"width\":800,\"x_range\":{\"id\":\"1116\"},\"x_scale\":{\"id\":\"1120\"},\"y_range\":{\"id\":\"1118\"},\"y_scale\":{\"id\":\"1122\"}},\"id\":\"1113\",\"subtype\":\"Figure\",\"type\":\"Plot\"},{\"attributes\":{},\"id\":\"1118\",\"type\":\"DataRange1d\"},{\"attributes\":{},\"id\":\"1122\",\"type\":\"LinearScale\"},{\"attributes\":{\"callback\":null,\"tooltips\":\"@word\"},\"id\":\"1112\",\"type\":\"HoverTool\"},{\"attributes\":{},\"id\":\"1171\",\"type\":\"UnionRenderers\"},{\"attributes\":{},\"id\":\"1136\",\"type\":\"ResetTool\"},{\"attributes\":{},\"id\":\"1172\",\"type\":\"Selection\"},{\"attributes\":{\"data\":{\"index\":[\"static\",\"preview\",\"super\",\"bad\",\"powerful\",\"case\",\"tools\",\"successful\",\"fall\",\"created\",\"talk\",\"level\",\"kubernetes\",\"working\",\"technology\",\"company\",\"enterprise\",\"algorithms\",\"password\",\"solar\",\"effect\",\"services\",\"move\",\"docker\",\"drivers\",\"generator\",\"isnt\",\"place\",\"announces\",\"growing\",\"right\",\"program\",\"visual\",\"node\",\"40\",\"health\",\"tiny\",\"create\",\"infrastructure\",\"robot\",\"pages\",\"devices\",\"model\",\"ruby\",\"life\",\"missing\",\"might\",\"dark\",\"learning\",\"friends\",\"cant\",\"art\",\"future\",\"key\",\"es6\",\"court\",\"experiment\",\"startups\",\"samsung\",\"11\",\"words\",\"based\",\"customers\",\"teams\",\"business\",\"interactive\",\"risk\",\"changed\",\"support\",\"idea\",\"scaling\",\"engineer\",\"source\",\"manager\",\"space\",\"plugin\",\"valley\",\"storage\",\"robots\",\"women\",\"study\",\"wireless\",\"rest\",\"discovery\",\"strategy\",\"firefox\",\"climate\",\"user\",\"play\",\"list\",\"worlds\",\"git\",\"ethereum\",\"tutorial\",\"block\",\"editor\",\"call\",\"selling\",\"got\",\"users\",\"launches\",\"cloud\",\"programming\",\"center\",\"functions\",\"internet\",\"bank\",\"car\",\"every\",\"less\",\"huge\",\"googles\",\"improve\",\"style\",\"websites\",\"pi\",\"avoid\",\"paid\",\"html\",\"used\",\"crypto\",\"global\",\"jobs\",\"desktop\",\"ideas\",\"blockchain\",\"series\",\"try\",\"workers\",\"useful\",\"30\",\"productivity\",\"started\",\"bots\",\"public\",\"paris\",\"elon\",\"keyboard\",\"integration\",\"content\",\"become\",\"network\",\"community\",\"conference\",\"legal\",\"francisco\",\"firm\",\"camera\",\"intel\",\"tensorflow\",\"board\",\"systems\",\"secure\",\"service\",\"shell\",\"messenger\",\"recognition\",\"developing\",\"question\",\"bitcoin\",\"agile\",\"black\",\"chinese\",\"class\",\"postgresql\",\"edition\",\"20\",\"wifi\",\"remote\",\"done\",\"hardware\",\"four\",\"wants\",\"pro\",\"calls\",\"grow\",\"2015\",\"engine\",\"starting\",\"lead\",\"young\",\"vs\",\"learn\",\"launch\",\"rise\",\"math\",\"nodejs\",\"policy\",\"crash\",\"store\",\"realtime\",\"meet\",\"movie\",\"top\",\"post\",\"best\",\"dont\",\"trump\",\"still\",\"beyond\",\"people\",\"impact\",\"something\",\"ios\",\"surveillance\",\"apple\",\"work\",\"page\",\"apply\",\"product\",\"market\",\"street\",\"culture\",\"eu\",\"https\",\"fix\",\"want\",\"run\",\"day\",\"status\",\"type\",\"break\",\"approach\",\"opensource\",\"china\",\"http\",\"evidence\",\"revenue\",\"security\",\"really\",\"elixir\",\"industry\",\"success\",\"read\",\"pokemon\",\"kill\",\"guide\",\"sex\",\"implementation\",\"job\",\"google\",\"cancer\",\"analytics\",\"push\",\"text\",\"history\",\"europe\",\"brain\",\"javascript\",\"getting\",\"travel\",\"database\",\"quality\",\"update\",\"language\",\"largest\",\"tv\",\"income\",\"personal\",\"like\",\"netflix\",\"hackers\",\"custom\",\"us\",\"old\",\"growth\",\"phones\",\"lets\",\"lives\",\"sell\",\"early\",\"test\",\"care\",\"record\",\"alternative\",\"drones\",\"13\",\"wars\",\"problems\",\"wont\",\"fund\",\"core\",\"ultimate\",\"made\",\"stack\",\"hiring\",\"may\",\"iphone\",\"says\",\"offer\",\"soon\",\"education\",\"engineering\",\"quick\",\"course\",\"manage\",\"weekly\",\"last\",\"anonymous\",\"san\",\"feature\",\"mit\",\"didnt\",\"architecture\",\"humans\",\"papers\",\"discovered\",\"team\",\"uber\",\"sites\",\"cyber\",\"speed\",\"two\",\"devops\",\"yet\",\"crisis\",\"air\",\"3d\",\"short\",\"control\",\"science\",\"easy\",\"patent\",\"full\",\"report\",\"sql\",\"tracking\",\"would\",\"linkedin\",\"technical\",\"founders\",\"state\",\"box\",\"analysis\",\"building\",\"twitter\",\"cli\",\"coming\",\"releases\",\"developer\",\"ways\",\"even\",\"stream\",\"snowden\",\"modern\",\"files\",\"innovation\",\"running\",\"app\",\"machines\",\"card\",\"uses\",\"instagram\",\"release\",\"get\",\"problem\",\"flight\",\"functional\",\"writing\",\"news\",\"mars\",\"secret\",\"helps\",\"media\",\"encryption\",\"vision\",\"mind\",\"needs\",\"deal\",\"electric\",\"12\",\"fbi\",\"change\",\"next\",\"whatsapp\",\"spark\",\"steve\",\"home\",\"im\",\"america\",\"introduction\",\"production\",\"acquires\",\"capital\",\"pdf\",\"survey\",\"whats\",\"hidden\",\"engineers\",\"companies\",\"haskell\",\"languages\",\"point\",\"well\",\"management\",\"years\",\"housing\",\"airbnb\",\"framework\",\"school\",\"government\",\"john\",\"solution\",\"linux\",\"tech\",\"need\",\"european\",\"share\",\"college\",\"university\",\"changing\",\"past\",\"fun\",\"scala\",\"cash\",\"email\",\"common\",\"rails\",\"announcing\",\"delivery\",\"monitoring\",\"snapchat\",\"go\",\"graph\",\"ad\",\"server\",\"bot\",\"per\",\"ai\",\"links\",\"large\",\"white\",\"client\",\"lost\",\"theory\",\"7\",\"universe\",\"apps\",\"talks\",\"yahoo\",\"2016\",\"today\",\"redux\",\"ceo\",\"major\",\"please\",\"malware\",\"neural\",\"os\",\"first\",\"android\",\"json\",\"world\",\"plans\",\"experience\",\"smart\",\"3\",\"vc\",\"rust\",\"notes\",\"facebooks\",\"start\",\"10\",\"css\",\"hack\",\"models\",\"lambda\",\"shows\",\"windows\",\"api\",\"face\",\"reddit\",\"vulnerability\",\"banks\",\"keys\",\"components\",\"view\",\"virtual\",\"use\",\"side\",\"smartphone\",\"millions\",\"reasons\",\"features\",\"credit\",\"nsa\",\"tell\",\"around\",\"track\",\"developers\",\"algorithm\",\"15\",\"little\",\"written\",\"mac\",\"ibm\",\"children\",\"better\",\"enough\",\"8\",\"teach\",\"looking\",\"mobile\",\"computers\",\"kids\",\"living\",\"form\",\"cars\",\"collection\",\"private\",\"police\",\"scientists\",\"software\",\"programmers\",\"vr\",\"revolution\",\"way\",\"pay\",\"check\",\"2012\",\"stay\",\"iot\",\"information\",\"learned\",\"hard\",\"story\",\"bring\",\"2014\",\"finally\",\"videos\",\"2013\",\"demo\",\"deep\",\"library\",\"ever\",\"sales\",\"dead\",\"color\",\"researchers\",\"basic\",\"sharing\",\"open\",\"2\",\"stock\",\"isis\",\"customer\",\"anyone\",\"issue\",\"nuclear\",\"x\",\"programmer\",\"rules\",\"npm\",\"challenge\",\"r\",\"attacks\",\"cost\",\"anything\",\"secrets\",\"human\",\"give\",\"performance\",\"adds\",\"explained\",\"make\",\"php\",\"bill\",\"maps\",\"tips\",\"indian\",\"pc\",\"machine\",\"photos\",\"selfdriving\",\"angular\",\"compiler\",\"single\",\"reality\",\"released\",\"multiple\",\"processing\",\"hacker\",\"streaming\",\"development\",\"image\",\"wall\",\"help\",\"extension\",\"offers\",\"understanding\",\"simple\",\"facebook\",\"everything\",\"trust\",\"investors\",\"week\",\"feedback\",\"automation\",\"worth\",\"former\",\"poor\",\"money\",\"rocket\",\"amazon\",\"stop\",\"privacy\",\"local\",\"across\",\"important\",\"oracle\",\"safe\",\"add\",\"obama\",\"everyone\",\"small\",\"lessons\",\"save\",\"take\",\"apples\",\"different\",\"true\",\"chat\",\"entrepreneurs\",\"online\",\"war\",\"process\",\"attack\",\"ready\",\"half\",\"rate\",\"100\",\"wrong\",\"daily\",\"continuous\",\"images\",\"brexit\",\"creating\",\"musk\",\"financial\",\"funding\",\"java\",\"1\",\"number\",\"india\",\"package\",\"website\",\"designing\",\"2009\",\"americas\",\"five\",\"code\",\"tests\",\"group\",\"fight\",\"know\",\"could\",\"year\",\"long\",\"hunt\",\"goes\",\"skills\",\"lab\",\"think\",\"github\",\"watch\",\"stories\",\"student\",\"resources\",\"second\",\"understand\",\"numbers\",\"part\",\"american\",\"spacex\",\"pok\\u00e3\\u00a9mon\",\"keep\",\"tor\",\"great\",\"good\",\"4\",\"battle\",\"love\",\"speech\",\"intelligence\",\"patterns\",\"site\",\"three\",\"review\",\"foundation\",\"servers\",\"applications\",\"wordpress\",\"star\",\"race\",\"physics\",\"via\",\"book\",\"office\",\"york\",\"real\",\"50\",\"water\",\"books\",\"makes\",\"5\",\"look\",\"free\",\"react\",\"automated\",\"london\",\"cities\",\"practices\",\"issues\",\"became\",\"japan\",\"domain\",\"visualization\",\"power\",\"matter\",\"longer\",\"buy\",\"universal\",\"advice\",\"artificial\",\"hit\",\"much\",\"theres\",\"ux\",\"come\",\"passwords\",\"national\",\"finds\",\"clojure\",\"microservices\",\"energy\",\"latest\",\"magic\",\"claims\",\"social\",\"looks\",\"employees\",\"uk\",\"road\",\"libraries\",\"thing\",\"see\",\"theranos\",\"behind\",\"set\",\"steps\",\"9\",\"happened\",\"saas\",\"failed\",\"house\",\"silicon\",\"digital\",\"campaign\",\"bug\",\"rich\",\"containers\",\"left\",\"city\",\"students\",\"projects\",\"container\",\"takes\",\"inside\",\"force\",\"hacked\",\"studio\",\"messaging\",\"win\",\"generation\",\"happy\",\"blog\",\"ecommerce\",\"networks\",\"away\",\"ads\",\"search\",\"man\",\"battery\",\"back\",\"interview\",\"2008\",\"scientific\",\"c\",\"2011\",\"ui\",\"introducing\",\"light\",\"raises\",\"computing\",\"live\",\"changes\",\"step\",\"put\",\"link\",\"apache\",\"never\",\"scale\",\"evolution\",\"python\",\"reveals\",\"gets\",\"startup\",\"front\",\"russian\",\"actually\",\"music\",\"oil\",\"lawsuit\",\"must\",\"economic\",\"tesla\",\"application\",\"dynamic\",\"encrypt\",\"works\",\"zero\",\"2010\",\"drone\",\"reading\",\"many\",\"web\",\"find\",\"emails\",\"podcast\",\"economy\",\"swift\",\"comes\",\"version\",\"ubuntu\",\"complete\",\"months\",\"questions\",\"lines\",\"hire\",\"faster\",\"distributed\",\"dev\",\"project\",\"video\",\"memory\",\"biggest\",\"tool\",\"audio\",\"platform\",\"marketing\",\"microsoft\",\"tax\",\"line\",\"one\",\"computer\",\"turn\",\"discover\",\"map\",\"value\",\"research\",\"mark\",\"plan\",\"states\",\"red\",\"moving\",\"slack\",\"raspberry\",\"interface\",\"yc\",\"failure\",\"random\",\"drug\",\"venture\",\"things\",\"times\",\"going\",\"6\",\"big\",\"access\",\"paper\",\"doesnt\",\"results\",\"law\",\"golang\",\"generate\",\"men\",\"net\",\"fast\",\"days\",\"drive\",\"file\",\"write\",\"using\",\"solve\",\"design\",\"end\",\"native\",\"environment\",\"high\",\"say\"],\"word\":[\"static\",\"preview\",\"super\",\"bad\",\"powerful\",\"case\",\"tools\",\"successful\",\"fall\",\"created\",\"talk\",\"level\",\"kubernetes\",\"working\",\"technology\",\"company\",\"enterprise\",\"algorithms\",\"password\",\"solar\",\"effect\",\"services\",\"move\",\"docker\",\"drivers\",\"generator\",\"isnt\",\"place\",\"announces\",\"growing\",\"right\",\"program\",\"visual\",\"node\",\"40\",\"health\",\"tiny\",\"create\",\"infrastructure\",\"robot\",\"pages\",\"devices\",\"model\",\"ruby\",\"life\",\"missing\",\"might\",\"dark\",\"learning\",\"friends\",\"cant\",\"art\",\"future\",\"key\",\"es6\",\"court\",\"experiment\",\"startups\",\"samsung\",\"11\",\"words\",\"based\",\"customers\",\"teams\",\"business\",\"interactive\",\"risk\",\"changed\",\"support\",\"idea\",\"scaling\",\"engineer\",\"source\",\"manager\",\"space\",\"plugin\",\"valley\",\"storage\",\"robots\",\"women\",\"study\",\"wireless\",\"rest\",\"discovery\",\"strategy\",\"firefox\",\"climate\",\"user\",\"play\",\"list\",\"worlds\",\"git\",\"ethereum\",\"tutorial\",\"block\",\"editor\",\"call\",\"selling\",\"got\",\"users\",\"launches\",\"cloud\",\"programming\",\"center\",\"functions\",\"internet\",\"bank\",\"car\",\"every\",\"less\",\"huge\",\"googles\",\"improve\",\"style\",\"websites\",\"pi\",\"avoid\",\"paid\",\"html\",\"used\",\"crypto\",\"global\",\"jobs\",\"desktop\",\"ideas\",\"blockchain\",\"series\",\"try\",\"workers\",\"useful\",\"30\",\"productivity\",\"started\",\"bots\",\"public\",\"paris\",\"elon\",\"keyboard\",\"integration\",\"content\",\"become\",\"network\",\"community\",\"conference\",\"legal\",\"francisco\",\"firm\",\"camera\",\"intel\",\"tensorflow\",\"board\",\"systems\",\"secure\",\"service\",\"shell\",\"messenger\",\"recognition\",\"developing\",\"question\",\"bitcoin\",\"agile\",\"black\",\"chinese\",\"class\",\"postgresql\",\"edition\",\"20\",\"wifi\",\"remote\",\"done\",\"hardware\",\"four\",\"wants\",\"pro\",\"calls\",\"grow\",\"2015\",\"engine\",\"starting\",\"lead\",\"young\",\"vs\",\"learn\",\"launch\",\"rise\",\"math\",\"nodejs\",\"policy\",\"crash\",\"store\",\"realtime\",\"meet\",\"movie\",\"top\",\"post\",\"best\",\"dont\",\"trump\",\"still\",\"beyond\",\"people\",\"impact\",\"something\",\"ios\",\"surveillance\",\"apple\",\"work\",\"page\",\"apply\",\"product\",\"market\",\"street\",\"culture\",\"eu\",\"https\",\"fix\",\"want\",\"run\",\"day\",\"status\",\"type\",\"break\",\"approach\",\"opensource\",\"china\",\"http\",\"evidence\",\"revenue\",\"security\",\"really\",\"elixir\",\"industry\",\"success\",\"read\",\"pokemon\",\"kill\",\"guide\",\"sex\",\"implementation\",\"job\",\"google\",\"cancer\",\"analytics\",\"push\",\"text\",\"history\",\"europe\",\"brain\",\"javascript\",\"getting\",\"travel\",\"database\",\"quality\",\"update\",\"language\",\"largest\",\"tv\",\"income\",\"personal\",\"like\",\"netflix\",\"hackers\",\"custom\",\"us\",\"old\",\"growth\",\"phones\",\"lets\",\"lives\",\"sell\",\"early\",\"test\",\"care\",\"record\",\"alternative\",\"drones\",\"13\",\"wars\",\"problems\",\"wont\",\"fund\",\"core\",\"ultimate\",\"made\",\"stack\",\"hiring\",\"may\",\"iphone\",\"says\",\"offer\",\"soon\",\"education\",\"engineering\",\"quick\",\"course\",\"manage\",\"weekly\",\"last\",\"anonymous\",\"san\",\"feature\",\"mit\",\"didnt\",\"architecture\",\"humans\",\"papers\",\"discovered\",\"team\",\"uber\",\"sites\",\"cyber\",\"speed\",\"two\",\"devops\",\"yet\",\"crisis\",\"air\",\"3d\",\"short\",\"control\",\"science\",\"easy\",\"patent\",\"full\",\"report\",\"sql\",\"tracking\",\"would\",\"linkedin\",\"technical\",\"founders\",\"state\",\"box\",\"analysis\",\"building\",\"twitter\",\"cli\",\"coming\",\"releases\",\"developer\",\"ways\",\"even\",\"stream\",\"snowden\",\"modern\",\"files\",\"innovation\",\"running\",\"app\",\"machines\",\"card\",\"uses\",\"instagram\",\"release\",\"get\",\"problem\",\"flight\",\"functional\",\"writing\",\"news\",\"mars\",\"secret\",\"helps\",\"media\",\"encryption\",\"vision\",\"mind\",\"needs\",\"deal\",\"electric\",\"12\",\"fbi\",\"change\",\"next\",\"whatsapp\",\"spark\",\"steve\",\"home\",\"im\",\"america\",\"introduction\",\"production\",\"acquires\",\"capital\",\"pdf\",\"survey\",\"whats\",\"hidden\",\"engineers\",\"companies\",\"haskell\",\"languages\",\"point\",\"well\",\"management\",\"years\",\"housing\",\"airbnb\",\"framework\",\"school\",\"government\",\"john\",\"solution\",\"linux\",\"tech\",\"need\",\"european\",\"share\",\"college\",\"university\",\"changing\",\"past\",\"fun\",\"scala\",\"cash\",\"email\",\"common\",\"rails\",\"announcing\",\"delivery\",\"monitoring\",\"snapchat\",\"go\",\"graph\",\"ad\",\"server\",\"bot\",\"per\",\"ai\",\"links\",\"large\",\"white\",\"client\",\"lost\",\"theory\",\"7\",\"universe\",\"apps\",\"talks\",\"yahoo\",\"2016\",\"today\",\"redux\",\"ceo\",\"major\",\"please\",\"malware\",\"neural\",\"os\",\"first\",\"android\",\"json\",\"world\",\"plans\",\"experience\",\"smart\",\"3\",\"vc\",\"rust\",\"notes\",\"facebooks\",\"start\",\"10\",\"css\",\"hack\",\"models\",\"lambda\",\"shows\",\"windows\",\"api\",\"face\",\"reddit\",\"vulnerability\",\"banks\",\"keys\",\"components\",\"view\",\"virtual\",\"use\",\"side\",\"smartphone\",\"millions\",\"reasons\",\"features\",\"credit\",\"nsa\",\"tell\",\"around\",\"track\",\"developers\",\"algorithm\",\"15\",\"little\",\"written\",\"mac\",\"ibm\",\"children\",\"better\",\"enough\",\"8\",\"teach\",\"looking\",\"mobile\",\"computers\",\"kids\",\"living\",\"form\",\"cars\",\"collection\",\"private\",\"police\",\"scientists\",\"software\",\"programmers\",\"vr\",\"revolution\",\"way\",\"pay\",\"check\",\"2012\",\"stay\",\"iot\",\"information\",\"learned\",\"hard\",\"story\",\"bring\",\"2014\",\"finally\",\"videos\",\"2013\",\"demo\",\"deep\",\"library\",\"ever\",\"sales\",\"dead\",\"color\",\"researchers\",\"basic\",\"sharing\",\"open\",\"2\",\"stock\",\"isis\",\"customer\",\"anyone\",\"issue\",\"nuclear\",\"x\",\"programmer\",\"rules\",\"npm\",\"challenge\",\"r\",\"attacks\",\"cost\",\"anything\",\"secrets\",\"human\",\"give\",\"performance\",\"adds\",\"explained\",\"make\",\"php\",\"bill\",\"maps\",\"tips\",\"indian\",\"pc\",\"machine\",\"photos\",\"selfdriving\",\"angular\",\"compiler\",\"single\",\"reality\",\"released\",\"multiple\",\"processing\",\"hacker\",\"streaming\",\"development\",\"image\",\"wall\",\"help\",\"extension\",\"offers\",\"understanding\",\"simple\",\"facebook\",\"everything\",\"trust\",\"investors\",\"week\",\"feedback\",\"automation\",\"worth\",\"former\",\"poor\",\"money\",\"rocket\",\"amazon\",\"stop\",\"privacy\",\"local\",\"across\",\"important\",\"oracle\",\"safe\",\"add\",\"obama\",\"everyone\",\"small\",\"lessons\",\"save\",\"take\",\"apples\",\"different\",\"true\",\"chat\",\"entrepreneurs\",\"online\",\"war\",\"process\",\"attack\",\"ready\",\"half\",\"rate\",\"100\",\"wrong\",\"daily\",\"continuous\",\"images\",\"brexit\",\"creating\",\"musk\",\"financial\",\"funding\",\"java\",\"1\",\"number\",\"india\",\"package\",\"website\",\"designing\",\"2009\",\"americas\",\"five\",\"code\",\"tests\",\"group\",\"fight\",\"know\",\"could\",\"year\",\"long\",\"hunt\",\"goes\",\"skills\",\"lab\",\"think\",\"github\",\"watch\",\"stories\",\"student\",\"resources\",\"second\",\"understand\",\"numbers\",\"part\",\"american\",\"spacex\",\"pok\\u00e3\\u00a9mon\",\"keep\",\"tor\",\"great\",\"good\",\"4\",\"battle\",\"love\",\"speech\",\"intelligence\",\"patterns\",\"site\",\"three\",\"review\",\"foundation\",\"servers\",\"applications\",\"wordpress\",\"star\",\"race\",\"physics\",\"via\",\"book\",\"office\",\"york\",\"real\",\"50\",\"water\",\"books\",\"makes\",\"5\",\"look\",\"free\",\"react\",\"automated\",\"london\",\"cities\",\"practices\",\"issues\",\"became\",\"japan\",\"domain\",\"visualization\",\"power\",\"matter\",\"longer\",\"buy\",\"universal\",\"advice\",\"artificial\",\"hit\",\"much\",\"theres\",\"ux\",\"come\",\"passwords\",\"national\",\"finds\",\"clojure\",\"microservices\",\"energy\",\"latest\",\"magic\",\"claims\",\"social\",\"looks\",\"employees\",\"uk\",\"road\",\"libraries\",\"thing\",\"see\",\"theranos\",\"behind\",\"set\",\"steps\",\"9\",\"happened\",\"saas\",\"failed\",\"house\",\"silicon\",\"digital\",\"campaign\",\"bug\",\"rich\",\"containers\",\"left\",\"city\",\"students\",\"projects\",\"container\",\"takes\",\"inside\",\"force\",\"hacked\",\"studio\",\"messaging\",\"win\",\"generation\",\"happy\",\"blog\",\"ecommerce\",\"networks\",\"away\",\"ads\",\"search\",\"man\",\"battery\",\"back\",\"interview\",\"2008\",\"scientific\",\"c\",\"2011\",\"ui\",\"introducing\",\"light\",\"raises\",\"computing\",\"live\",\"changes\",\"step\",\"put\",\"link\",\"apache\",\"never\",\"scale\",\"evolution\",\"python\",\"reveals\",\"gets\",\"startup\",\"front\",\"russian\",\"actually\",\"music\",\"oil\",\"lawsuit\",\"must\",\"economic\",\"tesla\",\"application\",\"dynamic\",\"encrypt\",\"works\",\"zero\",\"2010\",\"drone\",\"reading\",\"many\",\"web\",\"find\",\"emails\",\"podcast\",\"economy\",\"swift\",\"comes\",\"version\",\"ubuntu\",\"complete\",\"months\",\"questions\",\"lines\",\"hire\",\"faster\",\"distributed\",\"dev\",\"project\",\"video\",\"memory\",\"biggest\",\"tool\",\"audio\",\"platform\",\"marketing\",\"microsoft\",\"tax\",\"line\",\"one\",\"computer\",\"turn\",\"discover\",\"map\",\"value\",\"research\",\"mark\",\"plan\",\"states\",\"red\",\"moving\",\"slack\",\"raspberry\",\"interface\",\"yc\",\"failure\",\"random\",\"drug\",\"venture\",\"things\",\"times\",\"going\",\"6\",\"big\",\"access\",\"paper\",\"doesnt\",\"results\",\"law\",\"golang\",\"generate\",\"men\",\"net\",\"fast\",\"days\",\"drive\",\"file\",\"write\",\"using\",\"solve\",\"design\",\"end\",\"native\",\"environment\",\"high\",\"say\"],\"x\":{\"__ndarray__\":\"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\",\"dtype\":\"float64\",\"order\":\"little\",\"shape\":[900]},\"y\":{\"__ndarray__\":\"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\",\"dtype\":\"float64\",\"order\":\"little\",\"shape\":[900]}},\"selected\":{\"id\":\"1172\"},\"selection_policy\":{\"id\":\"1171\"}},\"id\":\"1111\",\"type\":\"ColumnDataSource\"},{\"attributes\":{\"coordinates\":null,\"group\":null,\"text\":\"Word Vecs Hard News (PCA)\"},\"id\":\"1114\",\"type\":\"Title\"},{\"attributes\":{},\"id\":\"1133\",\"type\":\"WheelZoomTool\"},{\"attributes\":{\"fill_alpha\":{\"value\":0.1},\"fill_color\":{\"value\":\"blue\"},\"hatch_color\":{\"value\":\"blue\"},\"line_alpha\":{\"value\":0.2},\"size\":{\"value\":10},\"x\":{\"field\":\"x\"},\"y\":{\"field\":\"y\"}},\"id\":\"1149\",\"type\":\"Circle\"},{\"attributes\":{\"fill_alpha\":{\"value\":0.1},\"fill_color\":{\"value\":\"blue\"},\"hatch_color\":{\"value\":\"blue\"},\"line_alpha\":{\"value\":0.2},\"line_color\":{\"value\":\"blue\"},\"size\":{\"value\":10},\"x\":{\"field\":\"x\"},\"y\":{\"field\":\"y\"}},\"id\":\"1147\",\"type\":\"Circle\"},{\"attributes\":{},\"id\":\"1120\",\"type\":\"LinearScale\"},{\"attributes\":{\"bottom_units\":\"screen\",\"coordinates\":null,\"fill_alpha\":0.5,\"fill_color\":\"lightgrey\",\"group\":null,\"left_units\":\"screen\",\"level\":\"overlay\",\"line_alpha\":1.0,\"line_color\":\"black\",\"line_dash\":[4,4],\"line_width\":2,\"right_units\":\"screen\",\"syncable\":false,\"top_units\":\"screen\"},\"id\":\"1138\",\"type\":\"BoxAnnotation\"},{\"attributes\":{},\"id\":\"1116\",\"type\":\"DataRange1d\"},{\"attributes\":{\"active_scroll\":{\"id\":\"1133\"},\"tools\":[{\"id\":\"1112\"},{\"id\":\"1132\"},{\"id\":\"1133\"},{\"id\":\"1134\"},{\"id\":\"1135\"},{\"id\":\"1136\"}]},\"id\":\"1139\",\"type\":\"Toolbar\"},{\"attributes\":{\"overlay\":{\"id\":\"1137\"}},\"id\":\"1135\",\"type\":\"BoxSelectTool\"},{\"attributes\":{\"source\":{\"id\":\"1111\"}},\"id\":\"1152\",\"type\":\"CDSView\"},{\"attributes\":{\"fill_alpha\":{\"value\":0.1},\"fill_color\":{\"value\":\"blue\"},\"hatch_alpha\":{\"value\":0.1},\"hatch_color\":{\"value\":\"blue\"},\"line_alpha\":{\"value\":0.1},\"line_color\":{\"value\":\"blue\"},\"size\":{\"value\":10},\"x\":{\"field\":\"x\"},\"y\":{\"field\":\"y\"}},\"id\":\"1148\",\"type\":\"Circle\"},{\"attributes\":{},\"id\":\"1166\",\"type\":\"BasicTickFormatter\"},{\"attributes\":{\"fill_alpha\":{\"value\":0.2},\"fill_color\":{\"value\":\"blue\"},\"hatch_alpha\":{\"value\":0.2},\"hatch_color\":{\"value\":\"blue\"},\"line_alpha\":{\"value\":0.2},\"line_color\":{\"value\":\"blue\"},\"size\":{\"value\":10},\"x\":{\"field\":\"x\"},\"y\":{\"field\":\"y\"}},\"id\":\"1150\",\"type\":\"Circle\"},{\"attributes\":{\"bottom_units\":\"screen\",\"coordinates\":null,\"fill_alpha\":0.5,\"fill_color\":\"lightgrey\",\"group\":null,\"left_units\":\"screen\",\"level\":\"overlay\",\"line_alpha\":1.0,\"line_color\":\"black\",\"line_dash\":[4,4],\"line_width\":2,\"right_units\":\"screen\",\"syncable\":false,\"top_units\":\"screen\"},\"id\":\"1137\",\"type\":\"BoxAnnotation\"},{\"attributes\":{\"coordinates\":null,\"data_source\":{\"id\":\"1111\"},\"glyph\":{\"id\":\"1147\"},\"group\":null,\"hover_glyph\":{\"id\":\"1149\"},\"muted_glyph\":{\"id\":\"1150\"},\"nonselection_glyph\":{\"id\":\"1148\"},\"view\":{\"id\":\"1152\"}},\"id\":\"1151\",\"type\":\"GlyphRenderer\"},{\"attributes\":{},\"id\":\"1132\",\"type\":\"PanTool\"},{\"attributes\":{},\"id\":\"1167\",\"type\":\"AllLabels\"},{\"attributes\":{\"overlay\":{\"id\":\"1138\"}},\"id\":\"1134\",\"type\":\"BoxZoomTool\"},{\"attributes\":{},\"id\":\"1169\",\"type\":\"BasicTickFormatter\"},{\"attributes\":{\"axis\":{\"id\":\"1128\"},\"coordinates\":null,\"dimension\":1,\"grid_line_color\":null,\"group\":null,\"ticker\":null},\"id\":\"1131\",\"type\":\"Grid\"},{\"attributes\":{},\"id\":\"1129\",\"type\":\"BasicTicker\"},{\"attributes\":{},\"id\":\"1170\",\"type\":\"AllLabels\"},{\"attributes\":{\"coordinates\":null,\"formatter\":{\"id\":\"1166\"},\"group\":null,\"major_label_policy\":{\"id\":\"1167\"},\"ticker\":{\"id\":\"1129\"},\"visible\":false},\"id\":\"1128\",\"type\":\"LinearAxis\"},{\"attributes\":{},\"id\":\"1125\",\"type\":\"BasicTicker\"},{\"attributes\":{\"coordinates\":null,\"formatter\":{\"id\":\"1169\"},\"group\":null,\"major_label_policy\":{\"id\":\"1170\"},\"ticker\":{\"id\":\"1125\"},\"visible\":false},\"id\":\"1124\",\"type\":\"LinearAxis\"},{\"attributes\":{\"axis\":{\"id\":\"1124\"},\"coordinates\":null,\"grid_line_color\":null,\"group\":null,\"ticker\":null},\"id\":\"1127\",\"type\":\"Grid\"}],\"root_ids\":[\"1113\"]},\"title\":\"Bokeh Application\",\"version\":\"2.4.2\"}};\n",
       "  const render_items = [{\"docid\":\"4ed87b58-02bb-4e23-baae-c42a6bb6c109\",\"root_ids\":[\"1113\"],\"roots\":{\"1113\":\"f1390e5a-740a-448b-9dd9-8f812c330cf9\"}}];\n",
       "  root.Bokeh.embed.embed_items_notebook(docs_json, render_items);\n",
       "\n",
       "  }\n",
       "  if (root.Bokeh !== undefined) {\n",
       "    embed_document(root);\n",
       "  } else {\n",
       "    let attempts = 0;\n",
       "    const timer = setInterval(function(root) {\n",
       "      if (root.Bokeh !== undefined) {\n",
       "        clearInterval(timer);\n",
       "        embed_document(root);\n",
       "      } else {\n",
       "        attempts++;\n",
       "        if (attempts > 100) {\n",
       "          clearInterval(timer);\n",
       "          console.log(\"Bokeh: ERROR: Unable to run BokehJS code because BokehJS library is missing\");\n",
       "        }\n",
       "      }\n",
       "    }, 10, root)\n",
       "  }\n",
       "})(window);"
      ],
      "application/vnd.bokehjs_exec.v0+json": ""
     },
     "metadata": {
      "application/vnd.bokehjs_exec.v0+json": {
       "id": "1113"
      }
     },
     "output_type": "display_data"
    }
   ],
   "source": [
    "plotPCA(wordVecsHN, token2indexHN, 'Word Vecs Hard News (PCA)')"
   ]
  },
  {
   "cell_type": "markdown",
   "metadata": {},
   "source": [
    "#### 9.2. Redução de dimensionalidade utilizando t-SNE"
   ]
  },
  {
   "cell_type": "code",
   "execution_count": 26,
   "metadata": {
    "scrolled": false
   },
   "outputs": [],
   "source": [
    "from sklearn.manifold import TSNE\n",
    "\n",
    "def plotTSNE(wordVecs : np.ndarray, token2index : dict, title : str, sample = 900):\n",
    "    tsne = TSNE(metric = 'cosine')\n",
    "    reducedWordVecs = tsne.fit_transform(wordVecs)\n",
    "\n",
    "    dfWordVecs = createWordVecsDataFrame(reducedWordVecs, token2index)\n",
    "    interativePlot(dfWordVecs.sample(sample, random_state = 42), title = title)"
   ]
  },
  {
   "cell_type": "code",
   "execution_count": 27,
   "metadata": {},
   "outputs": [
    {
     "data": {
      "text/html": [
       "\n",
       "\n",
       "\n",
       "\n",
       "\n",
       "\n",
       "  <div class=\"bk-root\" id=\"f3ce6a5d-84ae-4780-83bf-ecc19be9c87d\" data-root-id=\"1232\"></div>\n"
      ]
     },
     "metadata": {},
     "output_type": "display_data"
    },
    {
     "data": {
      "application/javascript": [
       "(function(root) {\n",
       "  function embed_document(root) {\n",
       "    \n",
       "  const docs_json = {\"b04f29b6-2323-40fa-aed9-d2d4f87e53d4\":{\"defs\":[],\"roots\":{\"references\":[{\"attributes\":{\"below\":[{\"id\":\"1243\"}],\"center\":[{\"id\":\"1246\"},{\"id\":\"1250\"}],\"height\":800,\"left\":[{\"id\":\"1247\"}],\"outline_line_color\":null,\"renderers\":[{\"id\":\"1270\"}],\"title\":{\"id\":\"1233\"},\"toolbar\":{\"id\":\"1258\"},\"width\":800,\"x_range\":{\"id\":\"1235\"},\"x_scale\":{\"id\":\"1239\"},\"y_range\":{\"id\":\"1237\"},\"y_scale\":{\"id\":\"1241\"}},\"id\":\"1232\",\"subtype\":\"Figure\",\"type\":\"Plot\"},{\"attributes\":{},\"id\":\"1252\",\"type\":\"WheelZoomTool\"},{\"attributes\":{},\"id\":\"1301\",\"type\":\"UnionRenderers\"},{\"attributes\":{},\"id\":\"1302\",\"type\":\"Selection\"},{\"attributes\":{},\"id\":\"1237\",\"type\":\"DataRange1d\"},{\"attributes\":{\"data\":{\"index\":[\"conheci\",\"algumas\",\"destruir\",\"pagavame\",\"namorou\",\"d\\u00f3i\",\"trap\\u00e9zio\",\"deixase\",\"apoiada\",\"mudamente\",\"confessara\",\"repousando\",\"sentado\",\"logo\",\"trag\\u00e9dia\",\"mentia\",\"receber\\u00e1\",\"estuda\",\"aclives\",\"patachos\",\"improv\\u00e1vel\",\"comum\",\"sentarme\",\"salvou\",\"scheherazade\",\"civilizada\",\"mostrarme\",\"indigna\\u00e7\\u00e3o\",\"obs\\u00e9quio\",\"estrangulavaos\",\"arredei\",\"baque\",\"supremacia\",\"dobradi\\u00e7as\",\"dando\",\"desceram\",\"dissestes\",\"ca\\u00e7ambas\",\"costuma\",\"felicidade\",\"incompat\\u00edvel\",\"arma\",\"inf\\u00e2ncia\",\"ouvidor\",\"real\\u00e7avam\",\"amarelado\",\"interrompeuse\",\"fizer\",\"a\\u00e7\\u00e3o\",\"foise\",\"fitar\",\"conselho\",\"quadro\",\"grampo\",\"buraco\",\"pedem\",\"pandora\",\"mel\\u00e3o\",\"urge\",\"ali\\u00e1s\",\"gravidez\",\"proferir\",\"medalhas\",\"pr\\u00edncipe\",\"palavras\",\"alvoro\\u00e7ado\",\"sa\\u00ed\",\"empresa\",\"cenas\",\"jovial\",\"futura\",\"meigas\",\"jazer\",\"respectivo\",\"sei\",\"constrangidos\",\"restituir\",\"amea\\u00e7a\",\"extraordin\\u00e1rio\",\"curo\",\"pequena\",\"negues\",\"queimando\",\"repreens\\u00edvel\",\"aceitava\",\"descruzava\",\"caix\\u00e3o\",\"cama\",\"demonstra\\u00e7\\u00f5es\",\"tolhida\",\"escusa\",\"pungiame\",\"social\",\"jogo\",\"lesse\",\"pessimismo\",\"fugir\",\"s\\u00f3rdido\",\"acrescia\",\"perdiam\",\"problema\",\"recair\",\"arraigado\",\"tub\\u00e9rculos\",\"feitio\",\"subjugoua\",\"dizia\",\"incerto\",\"aconteceume\",\"amorpaix\\u00e3o\",\"conseguira\",\"atireime\",\"cano\",\"duras\",\"convulsa\",\"resolutamente\",\"alteando\",\"damasceno\",\"afei\\u00e7\\u00e3o\",\"f\\u00e9\",\"dist\\u00farbio\",\"folgares\",\"secreta\",\"cabelo\",\"escrevi\",\"aconteceu\",\"lances\",\"elementos\",\"ganhara\",\"antecipa\\u00e7\\u00e3o\",\"rodasse\",\"acepipe\",\"inc\\u00f4modo\",\"fantasias\",\"pega\",\"pensativa\",\"menina\",\"colocam\",\"herdeiro\",\"rabicho\",\"embarcar\",\"hist\\u00f3ria\",\"torceu\",\"domingos\",\"cingir\",\"passarinho\",\"arru\\u00eddo\",\"manuscritos\",\"frouxid\\u00e3o\",\"novela\",\"neste\",\"d\\u0092\\u00e1gua\",\"recorreu\",\"lente\",\"eras\",\"audaciosa\",\"paisana\",\"bals\\u00e2mico\",\"serem\",\"famosa\",\"mergulhado\",\"disfar\\u00e7adamente\",\"suspensiva\",\"escrevia\",\"parecida\",\"talha\",\"substancialmente\",\"seguro\",\"breve\",\"queridos\",\"vives\",\"indefin\\u00edvel\",\"dente\",\"andrajo\",\"perderem\",\"cavar\",\"come\\u00e7avam\",\"afortunado\",\"sorri\",\"falavalhe\",\"mai\\u00fasculas\",\"verdugos\",\"met\\u00eala\",\"dias\",\"embriagoume\",\"sandice\",\"chama\",\"pratinha\",\"convidar\",\"torcia\",\"jardim\",\"desejoso\",\"comiss\\u00e3o\",\"almas\",\"morais\",\"feia\",\"mandouo\",\"compartir\",\"f\\u00edsica\",\"gostei\",\"contavam\",\"bojudo\",\"it\\u00e1lia\",\"cuide\",\"deputado\",\"incr\\u00e9dulo\",\"\\u00f3leo\",\"classifiqueia\",\"grato\",\"galanteio\",\"sorrisos\",\"caf\\u00e9\",\"san\\u00e7\\u00e3o\",\"fronte\",\"piparote\",\"pol\\u00edticos\",\"louvaramme\",\"pobre\",\"tr\\u00e1gica\",\"modos\",\"impress\\u00e3o\",\"tremor\",\"mergulhei\",\"emba\\u00e7adelas\",\"cirurgi\\u00e3o\",\"levasse\",\"descerem\",\"ambas\",\"namoro\",\"lxxv\",\"c\\u00f4modo\",\"pra\\u00e7as\",\"rebuscado\",\"tristeza\",\"fustigavao\",\"supunhamos\",\"esperan\\u00e7a\",\"explica\",\"nasceu\",\"perderse\",\"iai\\u00e1\",\"permitame\",\"su\\u00ed\\u00e7as\",\"marroquim\",\"trata\",\"sucesso\",\"anan\\u00e1s\",\"pesada\",\"lados\",\"j\\u00f3\",\"bizarro\",\"d\\u00fazia\",\"meios\",\"extenso\",\"nego\",\"crime\",\"baixo\",\"antiasm\\u00e1ticas\",\"certo\",\"compeliamme\",\"derramavaselhe\",\"flagelado\",\"sestro\",\"despente\\u00e1la\",\"mentalmente\",\"rejeit\\u00e1la\",\"lho\",\"instantes\",\"todo\",\"declives\",\"claro\",\"lama\",\"xavier\",\"padres\",\"singela\",\"ix\",\"inflama\",\"criados\",\"esque\\u00e7ame\",\"m\\u00edngua\",\"fitos\",\"despedime\",\"insinuativo\",\"quer\",\"longas\",\"orelhas\",\"superfinas\",\"enxugou\",\"vadia\",\"entreguemola\",\"retardar\",\"cachoeira\",\"p\\u00e9rola\",\"impulsiva\",\"males\",\"recebiao\",\"ent\\u00e3o\",\"romualdo\",\"tranq\\u00fcilos\",\"idiota\",\"relut\\u00e2ncia\",\"distribuir\",\"singular\",\"deixavase\",\"juntavaas\",\"veneza\",\"darvosia\",\"cheiro\",\"decidir\",\"direta\",\"ca\\u00e7ar\",\"resgatar\",\"projeto\",\"torno\",\"rolar\",\"durmo\",\"estr\\u00e9pito\",\"ovante\",\"crer\",\"empalidecera\",\"desla\\u00e7asse\",\"pedras\",\"travamos\",\"lembrarte\",\"estirate\",\"profeta\",\"nesse\",\"doara\",\"cinq\\u00fcenta\",\"fervor\",\"tornavase\",\"suspeitoso\",\"realmente\",\"recusa\",\"voltar\",\"inclinase\",\"malogro\",\"distra\\u00e7\\u00e3o\",\"tino\",\"encastoados\",\"revirei\",\"correio\",\"desconjuntados\",\"un\\u00e7\\u00e3o\",\"distinguia\",\"or\\u00e7amento\",\"velhas\",\"estarmos\",\"conseguintemente\",\"acabemos\",\"obtive\",\"compreendeu\",\"instou\",\"levavam\",\"desabotoar\",\"ch\\u00e3s\",\"superior\",\"mescla\",\"foste\",\"voltandose\",\"mem\\u00f3ria\",\"apaziguoua\",\"piedosa\",\"amanheceu\",\"s\\u00faplica\",\"visit\\u00e1los\",\"acumular\",\"remido\",\"plancher\",\"desvencilheime\",\"rapidez\",\"garridamente\",\"perseguir\",\"estrume\",\"alienado\",\"devorote\",\"matou\",\"bonaparte\",\"receberam\",\"desastradas\",\"pontualidade\",\"criaturas\",\"patuscada\",\"desforravam\",\"complicava\",\"fundador\",\"barbante\",\"maternais\",\"diz\",\"intercalava\",\"enfeitado\",\"perdas\",\"falado\",\"valer\",\"vierem\",\"resignado\",\"militar\",\"senso\",\"ialhe\",\"sentiua\",\"enfeit\\u00e1lo\",\"necessidade\",\"resmungam\",\"gl\\u00f3ria\",\"risadas\",\"franqueza\",\"derreava\",\"d\\u00eaem\",\"mangas\",\"vir\",\"const\\u00e2ncia\",\"estado\",\"cruzado\",\"exatamente\",\"comprador\",\"sol\",\"sarcasmo\",\"equival\\u00eancia\",\"desnecess\\u00e1rio\",\"enf\\u00e1tico\",\"fazia\",\"credulidade\",\"regular\",\"torna\",\"cordel\",\"fitinhas\",\"notar\",\"louco\",\"barba\",\"col\\u00e9gio\",\"debilidade\",\"pensamento\",\"iniciaria\",\"navios\",\"pulos\",\"at\",\"bainhas\",\"dualidade\",\"interrogava\",\"tribuna\",\"chego\",\"mereceu\",\"negavam\",\"patriota\",\"estrondo\",\"engenho\",\"andava\",\"plena\",\"lugares\",\"apatia\",\"gastei\",\"s\\u00e9ria\",\"metime\",\"figura\",\"t\\u00e9dio\",\"levarlhe\",\"reservas\",\"enxotada\",\"sacudiume\",\"embarcaria\",\"reputa\\u00e7\\u00e3o\",\"afagoume\",\"podemos\",\"apertado\",\"voltado\",\"espasmo\",\"possuiu\",\"vizinha\",\"fustigueio\",\"futuros\",\"parecessem\",\"teimoso\",\"espregui\\u00e7avamse\",\"tamborila\",\"t\\u00eala\",\"pecados\",\"profundas\",\"sentiame\",\"trabalhadas\",\"fazem\",\"cacholetas\",\"expansivo\",\"cacarejar\",\"deslembrado\",\"tossir\",\"asseadinho\",\"quimera\",\"entra\",\"tropas\",\"noutro\",\"receber\",\"cautela\",\"guardei\",\"germ\\u00e2nica\",\"perdida\",\"corre\\u00e7\\u00e3o\",\"comia\",\"carpinteiro\",\"elevada\",\"replicoume\",\"amasme\",\"francisco\",\"semiaberta\",\"atirarse\",\"param\",\"perdia\",\"pois\",\"quatrocentos\",\"am\\u00e1veis\",\"inventara\",\"rid\\u00edcula\",\"agudo\",\"parceiras\",\"atada\",\"entristecesse\",\"ter\\u00e7o\",\"subordina\",\"f\\u00edsico\",\"meses\",\"suprimir\",\"levando\",\"nenhumas\",\"cal\",\"amesquinhado\",\"licen\\u00e7a\",\"bebi\",\"inventou\",\"circulou\",\"brejeiro\",\"convencida\",\"embargo\",\"verdes\",\"lutar\",\"confessou\",\"espet\\u00e1culo\",\"vest\\u00edgio\",\"dissipou\",\"pau\",\"amparasse\",\"tra\\u00e7as\",\"manuscrito\",\"correrias\",\"excesso\",\"pronta\",\"esbaforido\",\"afiando\",\"adoecer\",\"narrar\",\"corrigida\",\"var\\u00f5es\",\"viver\",\"esta\\u00e7\\u00f5es\",\"patacas\",\"faminta\",\"sobrinha\",\"aspectos\",\"respirei\",\"gemia\",\"desordem\",\"angariar\",\"bula\",\"dona\",\"derrota\",\"retorqui\",\"admiroume\",\"continuei\",\"anca\",\"cargo\",\"considera\\u00e7\\u00e3o\",\"dezessete\",\"deixava\",\"escrito\",\"fant\\u00e1stica\",\"nutrida\",\"digo\",\"tremer\",\"abatia\",\"ecoou\",\"acudisse\",\"escreverlhe\",\"pediume\",\"comparasse\",\"ponderarlhe\",\"veremos\",\"come\\u00e7ar\",\"benta\",\"safo\",\"pensado\",\"entraram\",\"cancro\",\"retra\\u00eddo\",\"desmancha\",\"tardios\",\"desesperado\",\"oitavado\",\"acolheu\",\"buriladas\",\"piedade\",\"embrulhada\",\"finados\",\"sentimentos\",\"crescendo\",\"ilisso\",\"arandelas\",\"derivativo\",\"origem\",\"fitas\",\"agitoua\",\"\\u00e1spero\",\"velhos\",\"foge\",\"custasse\",\"reconstitui\\u00e7\\u00e3o\",\"repeli\",\"acusa\",\"ora\\u00e7\\u00e3o\",\"ignor\\u00e2ncias\",\"opus\",\"dogm\\u00e1tica\",\"fulva\",\"dom\\u00e9stico\",\"salva\",\"cuidas\",\"movimentos\",\"ouvemse\",\"externo\",\"cr\\u00e2nio\",\"prov\\u00e1lo\",\"arder\",\"emagreceu\",\"marcada\",\"ass\\u00edrias\",\"intervalado\",\"montanha\",\"botim\",\"coxeava\",\"trouxelho\",\"devassarem\",\"entristeceu\",\"infinitas\",\"oportunidade\",\"ociosos\",\"r\\u00edgida\",\"capad\\u00f3cios\",\"quimeras\",\"inventor\",\"atraso\",\"cajueiros\",\"defunto\",\"v\\u00ealos\",\"levantoume\",\"anjos\",\"davamme\",\"fit\\u00e1la\",\"moita\",\"minuciosa\",\"lady\",\"elogiou\",\"calejara\",\"aleivosa\",\"far\\u00e1\",\"inglaterra\",\"efl\\u00favio\",\"destacouse\",\"assassino\",\"n\\u00e1ufragos\",\"legado\",\"examinaa\",\"garoto\",\"alvitre\",\"l\\u00e1bios\",\"amarela\",\"codicilo\",\"empacava\",\"perdiamse\",\"diversas\",\"pico\",\"arfagem\",\"concilia\\u00e7\\u00e3o\",\"stendhal\",\"temor\",\"fam\\u00edlia\",\"quero\",\"fresca\",\"entend\\u00eala\",\"desgarre\",\"fa\\u00e7amos\",\"crist\\u00e3o\",\"fingiuse\",\"repoltreouse\",\"apeou\",\"agarreia\",\"fatuidade\",\"plantas\",\"morte\",\"buffon\",\"afabilidade\",\"espinhos\",\"devida\",\"agregada\",\"inclineime\",\"confeitos\",\"tamanha\",\"xi\",\"correspondente\",\"boquiaberta\",\"vicerei\",\"responder\",\"reorganizada\",\"crueldade\",\"quest\\u00f5es\",\"precursor\",\"v\\u00eala\",\"consultei\",\"lavaramse\",\"desfez\",\"dezesseis\",\"preferia\",\"farm\\u00e1cia\",\"toda\",\"sabedor\",\"cruzes\",\"apressar\",\"gratific\\u00e1la\",\"afetando\",\"viramme\",\"compara\\u00e7\\u00e3o\",\"alfaias\",\"chamam\",\"ensandeceste\",\"protesto\",\"encareio\",\"circulava\",\"mandeio\",\"admiss\\u00e3o\",\"mal\",\"ouvida\",\"intrus\\u00e3o\",\"oratoriozinho\",\"espreit\\u00e1lo\",\"cria\\u00e7\\u00e3o\",\"fecha\",\"piegas\",\"aberto\",\"renhidas\",\"nasciam\",\"seguios\",\"mundo\",\"leva\",\"frustrada\",\"hotel\",\"infame\",\"afago\",\"decl\\u00ednio\",\"murchara\",\"facilmente\",\"moles\",\"circunst\\u00e2ncias\",\"comparo\",\"valeu\",\"enfadava\",\"reinado\",\"ovo\",\"hipocondr\\u00edacos\",\"podres\",\"mandoume\",\"subitamente\",\"daquelas\",\"presidenta\",\"nascido\",\"fores\",\"chorara\",\"admira\",\"estar\\u00e1s\",\"copo\",\"asno\",\"passei\",\"parou\",\"honradas\",\"corrido\",\"respira\\u00e7\\u00e3o\",\"entrando\",\"preparouse\",\"acaso\",\"amasse\",\"sobremesa\",\"faca\",\"demonstreilhe\",\"sargentomor\",\"petulante\",\"escravo\",\"conseguia\",\"retalhos\",\"s\\u00f3crates\",\"liga\\u00e7\\u00e3o\",\"peste\",\"deixastes\",\"contrativa\",\"vigiavanos\",\"voar\",\"rel\\u00e2mpago\",\"passemos\",\"destr\\u00f3i\",\"segureio\",\"queiras\",\"alcancei\",\"manjares\",\"pode\",\"chegaria\",\"1855\",\"mole\",\"recebe\",\"lancei\",\"ensinava\",\"remoer\",\"notas\",\"perdese\",\"pergunteilhe\",\"rapaz\",\"desancaram\",\"suporlhe\",\"rasg\\u00f5es\",\"torvo\",\"encontramonos\",\"xiv\",\"regularidade\",\"insaci\\u00e1vel\",\"desprezo\",\"prop\\u00f4s\",\"podeis\",\"gatuno\",\"cruel\",\"partir\",\"deleitavase\",\"tapete\",\"confessoume\",\"bibli\\u00f4mano\",\"ofegante\",\"vicente\",\"sair\",\"esc\\u00e2ndalo\",\"vivi\",\"avareza\",\"estirado\",\"escasso\",\"inventos\",\"fizeste\",\"assim\",\"gatos\",\"arranjadinho\",\"submete\",\"marfim\",\"retalho\",\"saboroso\",\"amainou\",\"equ\\u00edvocos\",\"esconderlhes\",\"fito\",\"demora\",\"interino\",\"volto\",\"cont\\u00ednua\",\"meigo\",\"destempero\",\"parte\",\"setenta\",\"galanteava\",\"acharme\",\"simular\",\"futuras\",\"aquiles\",\"conseq\\u00fc\\u00eancias\",\"dominou\",\"noteilhe\",\"fixar\",\"comparsa\",\"arruar\",\"leu\",\"bandeira\",\"roer\",\"dizerme\",\"cobras\",\"quebrouo\",\"demoro\",\"sr\",\"voluptuoso\",\"sat\\u00e2nico\",\"deix\\u00e1veis\",\"chufas\",\"austeridade\",\"pios\",\"lamparina\",\"segureilhe\",\"pedrinha\",\"lutes\",\"expansiva\",\"tonto\",\"mau\",\"continuava\",\"esvaiuse\"],\"word\":[\"conheci\",\"algumas\",\"destruir\",\"pagavame\",\"namorou\",\"d\\u00f3i\",\"trap\\u00e9zio\",\"deixase\",\"apoiada\",\"mudamente\",\"confessara\",\"repousando\",\"sentado\",\"logo\",\"trag\\u00e9dia\",\"mentia\",\"receber\\u00e1\",\"estuda\",\"aclives\",\"patachos\",\"improv\\u00e1vel\",\"comum\",\"sentarme\",\"salvou\",\"scheherazade\",\"civilizada\",\"mostrarme\",\"indigna\\u00e7\\u00e3o\",\"obs\\u00e9quio\",\"estrangulavaos\",\"arredei\",\"baque\",\"supremacia\",\"dobradi\\u00e7as\",\"dando\",\"desceram\",\"dissestes\",\"ca\\u00e7ambas\",\"costuma\",\"felicidade\",\"incompat\\u00edvel\",\"arma\",\"inf\\u00e2ncia\",\"ouvidor\",\"real\\u00e7avam\",\"amarelado\",\"interrompeuse\",\"fizer\",\"a\\u00e7\\u00e3o\",\"foise\",\"fitar\",\"conselho\",\"quadro\",\"grampo\",\"buraco\",\"pedem\",\"pandora\",\"mel\\u00e3o\",\"urge\",\"ali\\u00e1s\",\"gravidez\",\"proferir\",\"medalhas\",\"pr\\u00edncipe\",\"palavras\",\"alvoro\\u00e7ado\",\"sa\\u00ed\",\"empresa\",\"cenas\",\"jovial\",\"futura\",\"meigas\",\"jazer\",\"respectivo\",\"sei\",\"constrangidos\",\"restituir\",\"amea\\u00e7a\",\"extraordin\\u00e1rio\",\"curo\",\"pequena\",\"negues\",\"queimando\",\"repreens\\u00edvel\",\"aceitava\",\"descruzava\",\"caix\\u00e3o\",\"cama\",\"demonstra\\u00e7\\u00f5es\",\"tolhida\",\"escusa\",\"pungiame\",\"social\",\"jogo\",\"lesse\",\"pessimismo\",\"fugir\",\"s\\u00f3rdido\",\"acrescia\",\"perdiam\",\"problema\",\"recair\",\"arraigado\",\"tub\\u00e9rculos\",\"feitio\",\"subjugoua\",\"dizia\",\"incerto\",\"aconteceume\",\"amorpaix\\u00e3o\",\"conseguira\",\"atireime\",\"cano\",\"duras\",\"convulsa\",\"resolutamente\",\"alteando\",\"damasceno\",\"afei\\u00e7\\u00e3o\",\"f\\u00e9\",\"dist\\u00farbio\",\"folgares\",\"secreta\",\"cabelo\",\"escrevi\",\"aconteceu\",\"lances\",\"elementos\",\"ganhara\",\"antecipa\\u00e7\\u00e3o\",\"rodasse\",\"acepipe\",\"inc\\u00f4modo\",\"fantasias\",\"pega\",\"pensativa\",\"menina\",\"colocam\",\"herdeiro\",\"rabicho\",\"embarcar\",\"hist\\u00f3ria\",\"torceu\",\"domingos\",\"cingir\",\"passarinho\",\"arru\\u00eddo\",\"manuscritos\",\"frouxid\\u00e3o\",\"novela\",\"neste\",\"d\\u0092\\u00e1gua\",\"recorreu\",\"lente\",\"eras\",\"audaciosa\",\"paisana\",\"bals\\u00e2mico\",\"serem\",\"famosa\",\"mergulhado\",\"disfar\\u00e7adamente\",\"suspensiva\",\"escrevia\",\"parecida\",\"talha\",\"substancialmente\",\"seguro\",\"breve\",\"queridos\",\"vives\",\"indefin\\u00edvel\",\"dente\",\"andrajo\",\"perderem\",\"cavar\",\"come\\u00e7avam\",\"afortunado\",\"sorri\",\"falavalhe\",\"mai\\u00fasculas\",\"verdugos\",\"met\\u00eala\",\"dias\",\"embriagoume\",\"sandice\",\"chama\",\"pratinha\",\"convidar\",\"torcia\",\"jardim\",\"desejoso\",\"comiss\\u00e3o\",\"almas\",\"morais\",\"feia\",\"mandouo\",\"compartir\",\"f\\u00edsica\",\"gostei\",\"contavam\",\"bojudo\",\"it\\u00e1lia\",\"cuide\",\"deputado\",\"incr\\u00e9dulo\",\"\\u00f3leo\",\"classifiqueia\",\"grato\",\"galanteio\",\"sorrisos\",\"caf\\u00e9\",\"san\\u00e7\\u00e3o\",\"fronte\",\"piparote\",\"pol\\u00edticos\",\"louvaramme\",\"pobre\",\"tr\\u00e1gica\",\"modos\",\"impress\\u00e3o\",\"tremor\",\"mergulhei\",\"emba\\u00e7adelas\",\"cirurgi\\u00e3o\",\"levasse\",\"descerem\",\"ambas\",\"namoro\",\"lxxv\",\"c\\u00f4modo\",\"pra\\u00e7as\",\"rebuscado\",\"tristeza\",\"fustigavao\",\"supunhamos\",\"esperan\\u00e7a\",\"explica\",\"nasceu\",\"perderse\",\"iai\\u00e1\",\"permitame\",\"su\\u00ed\\u00e7as\",\"marroquim\",\"trata\",\"sucesso\",\"anan\\u00e1s\",\"pesada\",\"lados\",\"j\\u00f3\",\"bizarro\",\"d\\u00fazia\",\"meios\",\"extenso\",\"nego\",\"crime\",\"baixo\",\"antiasm\\u00e1ticas\",\"certo\",\"compeliamme\",\"derramavaselhe\",\"flagelado\",\"sestro\",\"despente\\u00e1la\",\"mentalmente\",\"rejeit\\u00e1la\",\"lho\",\"instantes\",\"todo\",\"declives\",\"claro\",\"lama\",\"xavier\",\"padres\",\"singela\",\"ix\",\"inflama\",\"criados\",\"esque\\u00e7ame\",\"m\\u00edngua\",\"fitos\",\"despedime\",\"insinuativo\",\"quer\",\"longas\",\"orelhas\",\"superfinas\",\"enxugou\",\"vadia\",\"entreguemola\",\"retardar\",\"cachoeira\",\"p\\u00e9rola\",\"impulsiva\",\"males\",\"recebiao\",\"ent\\u00e3o\",\"romualdo\",\"tranq\\u00fcilos\",\"idiota\",\"relut\\u00e2ncia\",\"distribuir\",\"singular\",\"deixavase\",\"juntavaas\",\"veneza\",\"darvosia\",\"cheiro\",\"decidir\",\"direta\",\"ca\\u00e7ar\",\"resgatar\",\"projeto\",\"torno\",\"rolar\",\"durmo\",\"estr\\u00e9pito\",\"ovante\",\"crer\",\"empalidecera\",\"desla\\u00e7asse\",\"pedras\",\"travamos\",\"lembrarte\",\"estirate\",\"profeta\",\"nesse\",\"doara\",\"cinq\\u00fcenta\",\"fervor\",\"tornavase\",\"suspeitoso\",\"realmente\",\"recusa\",\"voltar\",\"inclinase\",\"malogro\",\"distra\\u00e7\\u00e3o\",\"tino\",\"encastoados\",\"revirei\",\"correio\",\"desconjuntados\",\"un\\u00e7\\u00e3o\",\"distinguia\",\"or\\u00e7amento\",\"velhas\",\"estarmos\",\"conseguintemente\",\"acabemos\",\"obtive\",\"compreendeu\",\"instou\",\"levavam\",\"desabotoar\",\"ch\\u00e3s\",\"superior\",\"mescla\",\"foste\",\"voltandose\",\"mem\\u00f3ria\",\"apaziguoua\",\"piedosa\",\"amanheceu\",\"s\\u00faplica\",\"visit\\u00e1los\",\"acumular\",\"remido\",\"plancher\",\"desvencilheime\",\"rapidez\",\"garridamente\",\"perseguir\",\"estrume\",\"alienado\",\"devorote\",\"matou\",\"bonaparte\",\"receberam\",\"desastradas\",\"pontualidade\",\"criaturas\",\"patuscada\",\"desforravam\",\"complicava\",\"fundador\",\"barbante\",\"maternais\",\"diz\",\"intercalava\",\"enfeitado\",\"perdas\",\"falado\",\"valer\",\"vierem\",\"resignado\",\"militar\",\"senso\",\"ialhe\",\"sentiua\",\"enfeit\\u00e1lo\",\"necessidade\",\"resmungam\",\"gl\\u00f3ria\",\"risadas\",\"franqueza\",\"derreava\",\"d\\u00eaem\",\"mangas\",\"vir\",\"const\\u00e2ncia\",\"estado\",\"cruzado\",\"exatamente\",\"comprador\",\"sol\",\"sarcasmo\",\"equival\\u00eancia\",\"desnecess\\u00e1rio\",\"enf\\u00e1tico\",\"fazia\",\"credulidade\",\"regular\",\"torna\",\"cordel\",\"fitinhas\",\"notar\",\"louco\",\"barba\",\"col\\u00e9gio\",\"debilidade\",\"pensamento\",\"iniciaria\",\"navios\",\"pulos\",\"at\",\"bainhas\",\"dualidade\",\"interrogava\",\"tribuna\",\"chego\",\"mereceu\",\"negavam\",\"patriota\",\"estrondo\",\"engenho\",\"andava\",\"plena\",\"lugares\",\"apatia\",\"gastei\",\"s\\u00e9ria\",\"metime\",\"figura\",\"t\\u00e9dio\",\"levarlhe\",\"reservas\",\"enxotada\",\"sacudiume\",\"embarcaria\",\"reputa\\u00e7\\u00e3o\",\"afagoume\",\"podemos\",\"apertado\",\"voltado\",\"espasmo\",\"possuiu\",\"vizinha\",\"fustigueio\",\"futuros\",\"parecessem\",\"teimoso\",\"espregui\\u00e7avamse\",\"tamborila\",\"t\\u00eala\",\"pecados\",\"profundas\",\"sentiame\",\"trabalhadas\",\"fazem\",\"cacholetas\",\"expansivo\",\"cacarejar\",\"deslembrado\",\"tossir\",\"asseadinho\",\"quimera\",\"entra\",\"tropas\",\"noutro\",\"receber\",\"cautela\",\"guardei\",\"germ\\u00e2nica\",\"perdida\",\"corre\\u00e7\\u00e3o\",\"comia\",\"carpinteiro\",\"elevada\",\"replicoume\",\"amasme\",\"francisco\",\"semiaberta\",\"atirarse\",\"param\",\"perdia\",\"pois\",\"quatrocentos\",\"am\\u00e1veis\",\"inventara\",\"rid\\u00edcula\",\"agudo\",\"parceiras\",\"atada\",\"entristecesse\",\"ter\\u00e7o\",\"subordina\",\"f\\u00edsico\",\"meses\",\"suprimir\",\"levando\",\"nenhumas\",\"cal\",\"amesquinhado\",\"licen\\u00e7a\",\"bebi\",\"inventou\",\"circulou\",\"brejeiro\",\"convencida\",\"embargo\",\"verdes\",\"lutar\",\"confessou\",\"espet\\u00e1culo\",\"vest\\u00edgio\",\"dissipou\",\"pau\",\"amparasse\",\"tra\\u00e7as\",\"manuscrito\",\"correrias\",\"excesso\",\"pronta\",\"esbaforido\",\"afiando\",\"adoecer\",\"narrar\",\"corrigida\",\"var\\u00f5es\",\"viver\",\"esta\\u00e7\\u00f5es\",\"patacas\",\"faminta\",\"sobrinha\",\"aspectos\",\"respirei\",\"gemia\",\"desordem\",\"angariar\",\"bula\",\"dona\",\"derrota\",\"retorqui\",\"admiroume\",\"continuei\",\"anca\",\"cargo\",\"considera\\u00e7\\u00e3o\",\"dezessete\",\"deixava\",\"escrito\",\"fant\\u00e1stica\",\"nutrida\",\"digo\",\"tremer\",\"abatia\",\"ecoou\",\"acudisse\",\"escreverlhe\",\"pediume\",\"comparasse\",\"ponderarlhe\",\"veremos\",\"come\\u00e7ar\",\"benta\",\"safo\",\"pensado\",\"entraram\",\"cancro\",\"retra\\u00eddo\",\"desmancha\",\"tardios\",\"desesperado\",\"oitavado\",\"acolheu\",\"buriladas\",\"piedade\",\"embrulhada\",\"finados\",\"sentimentos\",\"crescendo\",\"ilisso\",\"arandelas\",\"derivativo\",\"origem\",\"fitas\",\"agitoua\",\"\\u00e1spero\",\"velhos\",\"foge\",\"custasse\",\"reconstitui\\u00e7\\u00e3o\",\"repeli\",\"acusa\",\"ora\\u00e7\\u00e3o\",\"ignor\\u00e2ncias\",\"opus\",\"dogm\\u00e1tica\",\"fulva\",\"dom\\u00e9stico\",\"salva\",\"cuidas\",\"movimentos\",\"ouvemse\",\"externo\",\"cr\\u00e2nio\",\"prov\\u00e1lo\",\"arder\",\"emagreceu\",\"marcada\",\"ass\\u00edrias\",\"intervalado\",\"montanha\",\"botim\",\"coxeava\",\"trouxelho\",\"devassarem\",\"entristeceu\",\"infinitas\",\"oportunidade\",\"ociosos\",\"r\\u00edgida\",\"capad\\u00f3cios\",\"quimeras\",\"inventor\",\"atraso\",\"cajueiros\",\"defunto\",\"v\\u00ealos\",\"levantoume\",\"anjos\",\"davamme\",\"fit\\u00e1la\",\"moita\",\"minuciosa\",\"lady\",\"elogiou\",\"calejara\",\"aleivosa\",\"far\\u00e1\",\"inglaterra\",\"efl\\u00favio\",\"destacouse\",\"assassino\",\"n\\u00e1ufragos\",\"legado\",\"examinaa\",\"garoto\",\"alvitre\",\"l\\u00e1bios\",\"amarela\",\"codicilo\",\"empacava\",\"perdiamse\",\"diversas\",\"pico\",\"arfagem\",\"concilia\\u00e7\\u00e3o\",\"stendhal\",\"temor\",\"fam\\u00edlia\",\"quero\",\"fresca\",\"entend\\u00eala\",\"desgarre\",\"fa\\u00e7amos\",\"crist\\u00e3o\",\"fingiuse\",\"repoltreouse\",\"apeou\",\"agarreia\",\"fatuidade\",\"plantas\",\"morte\",\"buffon\",\"afabilidade\",\"espinhos\",\"devida\",\"agregada\",\"inclineime\",\"confeitos\",\"tamanha\",\"xi\",\"correspondente\",\"boquiaberta\",\"vicerei\",\"responder\",\"reorganizada\",\"crueldade\",\"quest\\u00f5es\",\"precursor\",\"v\\u00eala\",\"consultei\",\"lavaramse\",\"desfez\",\"dezesseis\",\"preferia\",\"farm\\u00e1cia\",\"toda\",\"sabedor\",\"cruzes\",\"apressar\",\"gratific\\u00e1la\",\"afetando\",\"viramme\",\"compara\\u00e7\\u00e3o\",\"alfaias\",\"chamam\",\"ensandeceste\",\"protesto\",\"encareio\",\"circulava\",\"mandeio\",\"admiss\\u00e3o\",\"mal\",\"ouvida\",\"intrus\\u00e3o\",\"oratoriozinho\",\"espreit\\u00e1lo\",\"cria\\u00e7\\u00e3o\",\"fecha\",\"piegas\",\"aberto\",\"renhidas\",\"nasciam\",\"seguios\",\"mundo\",\"leva\",\"frustrada\",\"hotel\",\"infame\",\"afago\",\"decl\\u00ednio\",\"murchara\",\"facilmente\",\"moles\",\"circunst\\u00e2ncias\",\"comparo\",\"valeu\",\"enfadava\",\"reinado\",\"ovo\",\"hipocondr\\u00edacos\",\"podres\",\"mandoume\",\"subitamente\",\"daquelas\",\"presidenta\",\"nascido\",\"fores\",\"chorara\",\"admira\",\"estar\\u00e1s\",\"copo\",\"asno\",\"passei\",\"parou\",\"honradas\",\"corrido\",\"respira\\u00e7\\u00e3o\",\"entrando\",\"preparouse\",\"acaso\",\"amasse\",\"sobremesa\",\"faca\",\"demonstreilhe\",\"sargentomor\",\"petulante\",\"escravo\",\"conseguia\",\"retalhos\",\"s\\u00f3crates\",\"liga\\u00e7\\u00e3o\",\"peste\",\"deixastes\",\"contrativa\",\"vigiavanos\",\"voar\",\"rel\\u00e2mpago\",\"passemos\",\"destr\\u00f3i\",\"segureio\",\"queiras\",\"alcancei\",\"manjares\",\"pode\",\"chegaria\",\"1855\",\"mole\",\"recebe\",\"lancei\",\"ensinava\",\"remoer\",\"notas\",\"perdese\",\"pergunteilhe\",\"rapaz\",\"desancaram\",\"suporlhe\",\"rasg\\u00f5es\",\"torvo\",\"encontramonos\",\"xiv\",\"regularidade\",\"insaci\\u00e1vel\",\"desprezo\",\"prop\\u00f4s\",\"podeis\",\"gatuno\",\"cruel\",\"partir\",\"deleitavase\",\"tapete\",\"confessoume\",\"bibli\\u00f4mano\",\"ofegante\",\"vicente\",\"sair\",\"esc\\u00e2ndalo\",\"vivi\",\"avareza\",\"estirado\",\"escasso\",\"inventos\",\"fizeste\",\"assim\",\"gatos\",\"arranjadinho\",\"submete\",\"marfim\",\"retalho\",\"saboroso\",\"amainou\",\"equ\\u00edvocos\",\"esconderlhes\",\"fito\",\"demora\",\"interino\",\"volto\",\"cont\\u00ednua\",\"meigo\",\"destempero\",\"parte\",\"setenta\",\"galanteava\",\"acharme\",\"simular\",\"futuras\",\"aquiles\",\"conseq\\u00fc\\u00eancias\",\"dominou\",\"noteilhe\",\"fixar\",\"comparsa\",\"arruar\",\"leu\",\"bandeira\",\"roer\",\"dizerme\",\"cobras\",\"quebrouo\",\"demoro\",\"sr\",\"voluptuoso\",\"sat\\u00e2nico\",\"deix\\u00e1veis\",\"chufas\",\"austeridade\",\"pios\",\"lamparina\",\"segureilhe\",\"pedrinha\",\"lutes\",\"expansiva\",\"tonto\",\"mau\",\"continuava\",\"esvaiuse\"],\"x\":{\"__ndarray__\":\"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\",\"dtype\":\"float32\",\"order\":\"little\",\"shape\":[900]},\"y\":{\"__ndarray__\":\"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\",\"dtype\":\"float32\",\"order\":\"little\",\"shape\":[900]}},\"selected\":{\"id\":\"1302\"},\"selection_policy\":{\"id\":\"1301\"}},\"id\":\"1230\",\"type\":\"ColumnDataSource\"},{\"attributes\":{\"fill_alpha\":{\"value\":0.1},\"fill_color\":{\"value\":\"blue\"},\"hatch_color\":{\"value\":\"blue\"},\"line_alpha\":{\"value\":0.2},\"size\":{\"value\":10},\"x\":{\"field\":\"x\"},\"y\":{\"field\":\"y\"}},\"id\":\"1268\",\"type\":\"Circle\"},{\"attributes\":{},\"id\":\"1251\",\"type\":\"PanTool\"},{\"attributes\":{},\"id\":\"1241\",\"type\":\"LinearScale\"},{\"attributes\":{\"axis\":{\"id\":\"1243\"},\"coordinates\":null,\"grid_line_color\":null,\"group\":null,\"ticker\":null},\"id\":\"1246\",\"type\":\"Grid\"},{\"attributes\":{\"active_scroll\":{\"id\":\"1252\"},\"tools\":[{\"id\":\"1231\"},{\"id\":\"1251\"},{\"id\":\"1252\"},{\"id\":\"1253\"},{\"id\":\"1254\"},{\"id\":\"1255\"}]},\"id\":\"1258\",\"type\":\"Toolbar\"},{\"attributes\":{\"source\":{\"id\":\"1230\"}},\"id\":\"1271\",\"type\":\"CDSView\"},{\"attributes\":{},\"id\":\"1296\",\"type\":\"BasicTickFormatter\"},{\"attributes\":{},\"id\":\"1248\",\"type\":\"BasicTicker\"},{\"attributes\":{\"fill_alpha\":{\"value\":0.1},\"fill_color\":{\"value\":\"blue\"},\"hatch_color\":{\"value\":\"blue\"},\"line_alpha\":{\"value\":0.2},\"line_color\":{\"value\":\"blue\"},\"size\":{\"value\":10},\"x\":{\"field\":\"x\"},\"y\":{\"field\":\"y\"}},\"id\":\"1266\",\"type\":\"Circle\"},{\"attributes\":{\"coordinates\":null,\"group\":null,\"text\":\"Word Vecs Br\\u00e1s Cubas (TSNE)\"},\"id\":\"1233\",\"type\":\"Title\"},{\"attributes\":{\"fill_alpha\":{\"value\":0.2},\"fill_color\":{\"value\":\"blue\"},\"hatch_alpha\":{\"value\":0.2},\"hatch_color\":{\"value\":\"blue\"},\"line_alpha\":{\"value\":0.2},\"line_color\":{\"value\":\"blue\"},\"size\":{\"value\":10},\"x\":{\"field\":\"x\"},\"y\":{\"field\":\"y\"}},\"id\":\"1269\",\"type\":\"Circle\"},{\"attributes\":{},\"id\":\"1235\",\"type\":\"DataRange1d\"},{\"attributes\":{\"axis\":{\"id\":\"1247\"},\"coordinates\":null,\"dimension\":1,\"grid_line_color\":null,\"group\":null,\"ticker\":null},\"id\":\"1250\",\"type\":\"Grid\"},{\"attributes\":{\"coordinates\":null,\"data_source\":{\"id\":\"1230\"},\"glyph\":{\"id\":\"1266\"},\"group\":null,\"hover_glyph\":{\"id\":\"1268\"},\"muted_glyph\":{\"id\":\"1269\"},\"nonselection_glyph\":{\"id\":\"1267\"},\"view\":{\"id\":\"1271\"}},\"id\":\"1270\",\"type\":\"GlyphRenderer\"},{\"attributes\":{},\"id\":\"1239\",\"type\":\"LinearScale\"},{\"attributes\":{\"coordinates\":null,\"formatter\":{\"id\":\"1296\"},\"group\":null,\"major_label_policy\":{\"id\":\"1297\"},\"ticker\":{\"id\":\"1248\"},\"visible\":false},\"id\":\"1247\",\"type\":\"LinearAxis\"},{\"attributes\":{},\"id\":\"1297\",\"type\":\"AllLabels\"},{\"attributes\":{\"bottom_units\":\"screen\",\"coordinates\":null,\"fill_alpha\":0.5,\"fill_color\":\"lightgrey\",\"group\":null,\"left_units\":\"screen\",\"level\":\"overlay\",\"line_alpha\":1.0,\"line_color\":\"black\",\"line_dash\":[4,4],\"line_width\":2,\"right_units\":\"screen\",\"syncable\":false,\"top_units\":\"screen\"},\"id\":\"1256\",\"type\":\"BoxAnnotation\"},{\"attributes\":{},\"id\":\"1244\",\"type\":\"BasicTicker\"},{\"attributes\":{\"callback\":null,\"tooltips\":\"@word\"},\"id\":\"1231\",\"type\":\"HoverTool\"},{\"attributes\":{},\"id\":\"1299\",\"type\":\"BasicTickFormatter\"},{\"attributes\":{\"bottom_units\":\"screen\",\"coordinates\":null,\"fill_alpha\":0.5,\"fill_color\":\"lightgrey\",\"group\":null,\"left_units\":\"screen\",\"level\":\"overlay\",\"line_alpha\":1.0,\"line_color\":\"black\",\"line_dash\":[4,4],\"line_width\":2,\"right_units\":\"screen\",\"syncable\":false,\"top_units\":\"screen\"},\"id\":\"1257\",\"type\":\"BoxAnnotation\"},{\"attributes\":{\"fill_alpha\":{\"value\":0.1},\"fill_color\":{\"value\":\"blue\"},\"hatch_alpha\":{\"value\":0.1},\"hatch_color\":{\"value\":\"blue\"},\"line_alpha\":{\"value\":0.1},\"line_color\":{\"value\":\"blue\"},\"size\":{\"value\":10},\"x\":{\"field\":\"x\"},\"y\":{\"field\":\"y\"}},\"id\":\"1267\",\"type\":\"Circle\"},{\"attributes\":{\"overlay\":{\"id\":\"1256\"}},\"id\":\"1254\",\"type\":\"BoxSelectTool\"},{\"attributes\":{},\"id\":\"1300\",\"type\":\"AllLabels\"},{\"attributes\":{\"overlay\":{\"id\":\"1257\"}},\"id\":\"1253\",\"type\":\"BoxZoomTool\"},{\"attributes\":{},\"id\":\"1255\",\"type\":\"ResetTool\"},{\"attributes\":{\"coordinates\":null,\"formatter\":{\"id\":\"1299\"},\"group\":null,\"major_label_policy\":{\"id\":\"1300\"},\"ticker\":{\"id\":\"1244\"},\"visible\":false},\"id\":\"1243\",\"type\":\"LinearAxis\"}],\"root_ids\":[\"1232\"]},\"title\":\"Bokeh Application\",\"version\":\"2.4.2\"}};\n",
       "  const render_items = [{\"docid\":\"b04f29b6-2323-40fa-aed9-d2d4f87e53d4\",\"root_ids\":[\"1232\"],\"roots\":{\"1232\":\"f3ce6a5d-84ae-4780-83bf-ecc19be9c87d\"}}];\n",
       "  root.Bokeh.embed.embed_items_notebook(docs_json, render_items);\n",
       "\n",
       "  }\n",
       "  if (root.Bokeh !== undefined) {\n",
       "    embed_document(root);\n",
       "  } else {\n",
       "    let attempts = 0;\n",
       "    const timer = setInterval(function(root) {\n",
       "      if (root.Bokeh !== undefined) {\n",
       "        clearInterval(timer);\n",
       "        embed_document(root);\n",
       "      } else {\n",
       "        attempts++;\n",
       "        if (attempts > 100) {\n",
       "          clearInterval(timer);\n",
       "          console.log(\"Bokeh: ERROR: Unable to run BokehJS code because BokehJS library is missing\");\n",
       "        }\n",
       "      }\n",
       "    }, 10, root)\n",
       "  }\n",
       "})(window);"
      ],
      "application/vnd.bokehjs_exec.v0+json": ""
     },
     "metadata": {
      "application/vnd.bokehjs_exec.v0+json": {
       "id": "1232"
      }
     },
     "output_type": "display_data"
    }
   ],
   "source": [
    "plotTSNE(wordVecsBrasCubas, token2indexBrasCubas, 'Word Vecs Brás Cubas (TSNE)')"
   ]
  },
  {
   "cell_type": "code",
   "execution_count": 28,
   "metadata": {},
   "outputs": [
    {
     "data": {
      "text/html": [
       "\n",
       "\n",
       "\n",
       "\n",
       "\n",
       "\n",
       "  <div class=\"bk-root\" id=\"de658bdf-69d3-4e6b-8d4c-b850fbeb282c\" data-root-id=\"1362\"></div>\n"
      ]
     },
     "metadata": {},
     "output_type": "display_data"
    },
    {
     "data": {
      "application/javascript": [
       "(function(root) {\n",
       "  function embed_document(root) {\n",
       "    \n",
       "  const docs_json = {\"3a7c6eee-7f33-4048-b3ad-ac8be839faa4\":{\"defs\":[],\"roots\":{\"references\":[{\"attributes\":{\"below\":[{\"id\":\"1373\"}],\"center\":[{\"id\":\"1376\"},{\"id\":\"1380\"}],\"height\":800,\"left\":[{\"id\":\"1377\"}],\"outline_line_color\":null,\"renderers\":[{\"id\":\"1400\"}],\"title\":{\"id\":\"1363\"},\"toolbar\":{\"id\":\"1388\"},\"width\":800,\"x_range\":{\"id\":\"1365\"},\"x_scale\":{\"id\":\"1369\"},\"y_range\":{\"id\":\"1367\"},\"y_scale\":{\"id\":\"1371\"}},\"id\":\"1362\",\"subtype\":\"Figure\",\"type\":\"Plot\"},{\"attributes\":{\"data\":{\"index\":[\"static\",\"preview\",\"super\",\"bad\",\"powerful\",\"case\",\"tools\",\"successful\",\"fall\",\"created\",\"talk\",\"level\",\"kubernetes\",\"working\",\"technology\",\"company\",\"enterprise\",\"algorithms\",\"password\",\"solar\",\"effect\",\"services\",\"move\",\"docker\",\"drivers\",\"generator\",\"isnt\",\"place\",\"announces\",\"growing\",\"right\",\"program\",\"visual\",\"node\",\"40\",\"health\",\"tiny\",\"create\",\"infrastructure\",\"robot\",\"pages\",\"devices\",\"model\",\"ruby\",\"life\",\"missing\",\"might\",\"dark\",\"learning\",\"friends\",\"cant\",\"art\",\"future\",\"key\",\"es6\",\"court\",\"experiment\",\"startups\",\"samsung\",\"11\",\"words\",\"based\",\"customers\",\"teams\",\"business\",\"interactive\",\"risk\",\"changed\",\"support\",\"idea\",\"scaling\",\"engineer\",\"source\",\"manager\",\"space\",\"plugin\",\"valley\",\"storage\",\"robots\",\"women\",\"study\",\"wireless\",\"rest\",\"discovery\",\"strategy\",\"firefox\",\"climate\",\"user\",\"play\",\"list\",\"worlds\",\"git\",\"ethereum\",\"tutorial\",\"block\",\"editor\",\"call\",\"selling\",\"got\",\"users\",\"launches\",\"cloud\",\"programming\",\"center\",\"functions\",\"internet\",\"bank\",\"car\",\"every\",\"less\",\"huge\",\"googles\",\"improve\",\"style\",\"websites\",\"pi\",\"avoid\",\"paid\",\"html\",\"used\",\"crypto\",\"global\",\"jobs\",\"desktop\",\"ideas\",\"blockchain\",\"series\",\"try\",\"workers\",\"useful\",\"30\",\"productivity\",\"started\",\"bots\",\"public\",\"paris\",\"elon\",\"keyboard\",\"integration\",\"content\",\"become\",\"network\",\"community\",\"conference\",\"legal\",\"francisco\",\"firm\",\"camera\",\"intel\",\"tensorflow\",\"board\",\"systems\",\"secure\",\"service\",\"shell\",\"messenger\",\"recognition\",\"developing\",\"question\",\"bitcoin\",\"agile\",\"black\",\"chinese\",\"class\",\"postgresql\",\"edition\",\"20\",\"wifi\",\"remote\",\"done\",\"hardware\",\"four\",\"wants\",\"pro\",\"calls\",\"grow\",\"2015\",\"engine\",\"starting\",\"lead\",\"young\",\"vs\",\"learn\",\"launch\",\"rise\",\"math\",\"nodejs\",\"policy\",\"crash\",\"store\",\"realtime\",\"meet\",\"movie\",\"top\",\"post\",\"best\",\"dont\",\"trump\",\"still\",\"beyond\",\"people\",\"impact\",\"something\",\"ios\",\"surveillance\",\"apple\",\"work\",\"page\",\"apply\",\"product\",\"market\",\"street\",\"culture\",\"eu\",\"https\",\"fix\",\"want\",\"run\",\"day\",\"status\",\"type\",\"break\",\"approach\",\"opensource\",\"china\",\"http\",\"evidence\",\"revenue\",\"security\",\"really\",\"elixir\",\"industry\",\"success\",\"read\",\"pokemon\",\"kill\",\"guide\",\"sex\",\"implementation\",\"job\",\"google\",\"cancer\",\"analytics\",\"push\",\"text\",\"history\",\"europe\",\"brain\",\"javascript\",\"getting\",\"travel\",\"database\",\"quality\",\"update\",\"language\",\"largest\",\"tv\",\"income\",\"personal\",\"like\",\"netflix\",\"hackers\",\"custom\",\"us\",\"old\",\"growth\",\"phones\",\"lets\",\"lives\",\"sell\",\"early\",\"test\",\"care\",\"record\",\"alternative\",\"drones\",\"13\",\"wars\",\"problems\",\"wont\",\"fund\",\"core\",\"ultimate\",\"made\",\"stack\",\"hiring\",\"may\",\"iphone\",\"says\",\"offer\",\"soon\",\"education\",\"engineering\",\"quick\",\"course\",\"manage\",\"weekly\",\"last\",\"anonymous\",\"san\",\"feature\",\"mit\",\"didnt\",\"architecture\",\"humans\",\"papers\",\"discovered\",\"team\",\"uber\",\"sites\",\"cyber\",\"speed\",\"two\",\"devops\",\"yet\",\"crisis\",\"air\",\"3d\",\"short\",\"control\",\"science\",\"easy\",\"patent\",\"full\",\"report\",\"sql\",\"tracking\",\"would\",\"linkedin\",\"technical\",\"founders\",\"state\",\"box\",\"analysis\",\"building\",\"twitter\",\"cli\",\"coming\",\"releases\",\"developer\",\"ways\",\"even\",\"stream\",\"snowden\",\"modern\",\"files\",\"innovation\",\"running\",\"app\",\"machines\",\"card\",\"uses\",\"instagram\",\"release\",\"get\",\"problem\",\"flight\",\"functional\",\"writing\",\"news\",\"mars\",\"secret\",\"helps\",\"media\",\"encryption\",\"vision\",\"mind\",\"needs\",\"deal\",\"electric\",\"12\",\"fbi\",\"change\",\"next\",\"whatsapp\",\"spark\",\"steve\",\"home\",\"im\",\"america\",\"introduction\",\"production\",\"acquires\",\"capital\",\"pdf\",\"survey\",\"whats\",\"hidden\",\"engineers\",\"companies\",\"haskell\",\"languages\",\"point\",\"well\",\"management\",\"years\",\"housing\",\"airbnb\",\"framework\",\"school\",\"government\",\"john\",\"solution\",\"linux\",\"tech\",\"need\",\"european\",\"share\",\"college\",\"university\",\"changing\",\"past\",\"fun\",\"scala\",\"cash\",\"email\",\"common\",\"rails\",\"announcing\",\"delivery\",\"monitoring\",\"snapchat\",\"go\",\"graph\",\"ad\",\"server\",\"bot\",\"per\",\"ai\",\"links\",\"large\",\"white\",\"client\",\"lost\",\"theory\",\"7\",\"universe\",\"apps\",\"talks\",\"yahoo\",\"2016\",\"today\",\"redux\",\"ceo\",\"major\",\"please\",\"malware\",\"neural\",\"os\",\"first\",\"android\",\"json\",\"world\",\"plans\",\"experience\",\"smart\",\"3\",\"vc\",\"rust\",\"notes\",\"facebooks\",\"start\",\"10\",\"css\",\"hack\",\"models\",\"lambda\",\"shows\",\"windows\",\"api\",\"face\",\"reddit\",\"vulnerability\",\"banks\",\"keys\",\"components\",\"view\",\"virtual\",\"use\",\"side\",\"smartphone\",\"millions\",\"reasons\",\"features\",\"credit\",\"nsa\",\"tell\",\"around\",\"track\",\"developers\",\"algorithm\",\"15\",\"little\",\"written\",\"mac\",\"ibm\",\"children\",\"better\",\"enough\",\"8\",\"teach\",\"looking\",\"mobile\",\"computers\",\"kids\",\"living\",\"form\",\"cars\",\"collection\",\"private\",\"police\",\"scientists\",\"software\",\"programmers\",\"vr\",\"revolution\",\"way\",\"pay\",\"check\",\"2012\",\"stay\",\"iot\",\"information\",\"learned\",\"hard\",\"story\",\"bring\",\"2014\",\"finally\",\"videos\",\"2013\",\"demo\",\"deep\",\"library\",\"ever\",\"sales\",\"dead\",\"color\",\"researchers\",\"basic\",\"sharing\",\"open\",\"2\",\"stock\",\"isis\",\"customer\",\"anyone\",\"issue\",\"nuclear\",\"x\",\"programmer\",\"rules\",\"npm\",\"challenge\",\"r\",\"attacks\",\"cost\",\"anything\",\"secrets\",\"human\",\"give\",\"performance\",\"adds\",\"explained\",\"make\",\"php\",\"bill\",\"maps\",\"tips\",\"indian\",\"pc\",\"machine\",\"photos\",\"selfdriving\",\"angular\",\"compiler\",\"single\",\"reality\",\"released\",\"multiple\",\"processing\",\"hacker\",\"streaming\",\"development\",\"image\",\"wall\",\"help\",\"extension\",\"offers\",\"understanding\",\"simple\",\"facebook\",\"everything\",\"trust\",\"investors\",\"week\",\"feedback\",\"automation\",\"worth\",\"former\",\"poor\",\"money\",\"rocket\",\"amazon\",\"stop\",\"privacy\",\"local\",\"across\",\"important\",\"oracle\",\"safe\",\"add\",\"obama\",\"everyone\",\"small\",\"lessons\",\"save\",\"take\",\"apples\",\"different\",\"true\",\"chat\",\"entrepreneurs\",\"online\",\"war\",\"process\",\"attack\",\"ready\",\"half\",\"rate\",\"100\",\"wrong\",\"daily\",\"continuous\",\"images\",\"brexit\",\"creating\",\"musk\",\"financial\",\"funding\",\"java\",\"1\",\"number\",\"india\",\"package\",\"website\",\"designing\",\"2009\",\"americas\",\"five\",\"code\",\"tests\",\"group\",\"fight\",\"know\",\"could\",\"year\",\"long\",\"hunt\",\"goes\",\"skills\",\"lab\",\"think\",\"github\",\"watch\",\"stories\",\"student\",\"resources\",\"second\",\"understand\",\"numbers\",\"part\",\"american\",\"spacex\",\"pok\\u00e3\\u00a9mon\",\"keep\",\"tor\",\"great\",\"good\",\"4\",\"battle\",\"love\",\"speech\",\"intelligence\",\"patterns\",\"site\",\"three\",\"review\",\"foundation\",\"servers\",\"applications\",\"wordpress\",\"star\",\"race\",\"physics\",\"via\",\"book\",\"office\",\"york\",\"real\",\"50\",\"water\",\"books\",\"makes\",\"5\",\"look\",\"free\",\"react\",\"automated\",\"london\",\"cities\",\"practices\",\"issues\",\"became\",\"japan\",\"domain\",\"visualization\",\"power\",\"matter\",\"longer\",\"buy\",\"universal\",\"advice\",\"artificial\",\"hit\",\"much\",\"theres\",\"ux\",\"come\",\"passwords\",\"national\",\"finds\",\"clojure\",\"microservices\",\"energy\",\"latest\",\"magic\",\"claims\",\"social\",\"looks\",\"employees\",\"uk\",\"road\",\"libraries\",\"thing\",\"see\",\"theranos\",\"behind\",\"set\",\"steps\",\"9\",\"happened\",\"saas\",\"failed\",\"house\",\"silicon\",\"digital\",\"campaign\",\"bug\",\"rich\",\"containers\",\"left\",\"city\",\"students\",\"projects\",\"container\",\"takes\",\"inside\",\"force\",\"hacked\",\"studio\",\"messaging\",\"win\",\"generation\",\"happy\",\"blog\",\"ecommerce\",\"networks\",\"away\",\"ads\",\"search\",\"man\",\"battery\",\"back\",\"interview\",\"2008\",\"scientific\",\"c\",\"2011\",\"ui\",\"introducing\",\"light\",\"raises\",\"computing\",\"live\",\"changes\",\"step\",\"put\",\"link\",\"apache\",\"never\",\"scale\",\"evolution\",\"python\",\"reveals\",\"gets\",\"startup\",\"front\",\"russian\",\"actually\",\"music\",\"oil\",\"lawsuit\",\"must\",\"economic\",\"tesla\",\"application\",\"dynamic\",\"encrypt\",\"works\",\"zero\",\"2010\",\"drone\",\"reading\",\"many\",\"web\",\"find\",\"emails\",\"podcast\",\"economy\",\"swift\",\"comes\",\"version\",\"ubuntu\",\"complete\",\"months\",\"questions\",\"lines\",\"hire\",\"faster\",\"distributed\",\"dev\",\"project\",\"video\",\"memory\",\"biggest\",\"tool\",\"audio\",\"platform\",\"marketing\",\"microsoft\",\"tax\",\"line\",\"one\",\"computer\",\"turn\",\"discover\",\"map\",\"value\",\"research\",\"mark\",\"plan\",\"states\",\"red\",\"moving\",\"slack\",\"raspberry\",\"interface\",\"yc\",\"failure\",\"random\",\"drug\",\"venture\",\"things\",\"times\",\"going\",\"6\",\"big\",\"access\",\"paper\",\"doesnt\",\"results\",\"law\",\"golang\",\"generate\",\"men\",\"net\",\"fast\",\"days\",\"drive\",\"file\",\"write\",\"using\",\"solve\",\"design\",\"end\",\"native\",\"environment\",\"high\",\"say\"],\"word\":[\"static\",\"preview\",\"super\",\"bad\",\"powerful\",\"case\",\"tools\",\"successful\",\"fall\",\"created\",\"talk\",\"level\",\"kubernetes\",\"working\",\"technology\",\"company\",\"enterprise\",\"algorithms\",\"password\",\"solar\",\"effect\",\"services\",\"move\",\"docker\",\"drivers\",\"generator\",\"isnt\",\"place\",\"announces\",\"growing\",\"right\",\"program\",\"visual\",\"node\",\"40\",\"health\",\"tiny\",\"create\",\"infrastructure\",\"robot\",\"pages\",\"devices\",\"model\",\"ruby\",\"life\",\"missing\",\"might\",\"dark\",\"learning\",\"friends\",\"cant\",\"art\",\"future\",\"key\",\"es6\",\"court\",\"experiment\",\"startups\",\"samsung\",\"11\",\"words\",\"based\",\"customers\",\"teams\",\"business\",\"interactive\",\"risk\",\"changed\",\"support\",\"idea\",\"scaling\",\"engineer\",\"source\",\"manager\",\"space\",\"plugin\",\"valley\",\"storage\",\"robots\",\"women\",\"study\",\"wireless\",\"rest\",\"discovery\",\"strategy\",\"firefox\",\"climate\",\"user\",\"play\",\"list\",\"worlds\",\"git\",\"ethereum\",\"tutorial\",\"block\",\"editor\",\"call\",\"selling\",\"got\",\"users\",\"launches\",\"cloud\",\"programming\",\"center\",\"functions\",\"internet\",\"bank\",\"car\",\"every\",\"less\",\"huge\",\"googles\",\"improve\",\"style\",\"websites\",\"pi\",\"avoid\",\"paid\",\"html\",\"used\",\"crypto\",\"global\",\"jobs\",\"desktop\",\"ideas\",\"blockchain\",\"series\",\"try\",\"workers\",\"useful\",\"30\",\"productivity\",\"started\",\"bots\",\"public\",\"paris\",\"elon\",\"keyboard\",\"integration\",\"content\",\"become\",\"network\",\"community\",\"conference\",\"legal\",\"francisco\",\"firm\",\"camera\",\"intel\",\"tensorflow\",\"board\",\"systems\",\"secure\",\"service\",\"shell\",\"messenger\",\"recognition\",\"developing\",\"question\",\"bitcoin\",\"agile\",\"black\",\"chinese\",\"class\",\"postgresql\",\"edition\",\"20\",\"wifi\",\"remote\",\"done\",\"hardware\",\"four\",\"wants\",\"pro\",\"calls\",\"grow\",\"2015\",\"engine\",\"starting\",\"lead\",\"young\",\"vs\",\"learn\",\"launch\",\"rise\",\"math\",\"nodejs\",\"policy\",\"crash\",\"store\",\"realtime\",\"meet\",\"movie\",\"top\",\"post\",\"best\",\"dont\",\"trump\",\"still\",\"beyond\",\"people\",\"impact\",\"something\",\"ios\",\"surveillance\",\"apple\",\"work\",\"page\",\"apply\",\"product\",\"market\",\"street\",\"culture\",\"eu\",\"https\",\"fix\",\"want\",\"run\",\"day\",\"status\",\"type\",\"break\",\"approach\",\"opensource\",\"china\",\"http\",\"evidence\",\"revenue\",\"security\",\"really\",\"elixir\",\"industry\",\"success\",\"read\",\"pokemon\",\"kill\",\"guide\",\"sex\",\"implementation\",\"job\",\"google\",\"cancer\",\"analytics\",\"push\",\"text\",\"history\",\"europe\",\"brain\",\"javascript\",\"getting\",\"travel\",\"database\",\"quality\",\"update\",\"language\",\"largest\",\"tv\",\"income\",\"personal\",\"like\",\"netflix\",\"hackers\",\"custom\",\"us\",\"old\",\"growth\",\"phones\",\"lets\",\"lives\",\"sell\",\"early\",\"test\",\"care\",\"record\",\"alternative\",\"drones\",\"13\",\"wars\",\"problems\",\"wont\",\"fund\",\"core\",\"ultimate\",\"made\",\"stack\",\"hiring\",\"may\",\"iphone\",\"says\",\"offer\",\"soon\",\"education\",\"engineering\",\"quick\",\"course\",\"manage\",\"weekly\",\"last\",\"anonymous\",\"san\",\"feature\",\"mit\",\"didnt\",\"architecture\",\"humans\",\"papers\",\"discovered\",\"team\",\"uber\",\"sites\",\"cyber\",\"speed\",\"two\",\"devops\",\"yet\",\"crisis\",\"air\",\"3d\",\"short\",\"control\",\"science\",\"easy\",\"patent\",\"full\",\"report\",\"sql\",\"tracking\",\"would\",\"linkedin\",\"technical\",\"founders\",\"state\",\"box\",\"analysis\",\"building\",\"twitter\",\"cli\",\"coming\",\"releases\",\"developer\",\"ways\",\"even\",\"stream\",\"snowden\",\"modern\",\"files\",\"innovation\",\"running\",\"app\",\"machines\",\"card\",\"uses\",\"instagram\",\"release\",\"get\",\"problem\",\"flight\",\"functional\",\"writing\",\"news\",\"mars\",\"secret\",\"helps\",\"media\",\"encryption\",\"vision\",\"mind\",\"needs\",\"deal\",\"electric\",\"12\",\"fbi\",\"change\",\"next\",\"whatsapp\",\"spark\",\"steve\",\"home\",\"im\",\"america\",\"introduction\",\"production\",\"acquires\",\"capital\",\"pdf\",\"survey\",\"whats\",\"hidden\",\"engineers\",\"companies\",\"haskell\",\"languages\",\"point\",\"well\",\"management\",\"years\",\"housing\",\"airbnb\",\"framework\",\"school\",\"government\",\"john\",\"solution\",\"linux\",\"tech\",\"need\",\"european\",\"share\",\"college\",\"university\",\"changing\",\"past\",\"fun\",\"scala\",\"cash\",\"email\",\"common\",\"rails\",\"announcing\",\"delivery\",\"monitoring\",\"snapchat\",\"go\",\"graph\",\"ad\",\"server\",\"bot\",\"per\",\"ai\",\"links\",\"large\",\"white\",\"client\",\"lost\",\"theory\",\"7\",\"universe\",\"apps\",\"talks\",\"yahoo\",\"2016\",\"today\",\"redux\",\"ceo\",\"major\",\"please\",\"malware\",\"neural\",\"os\",\"first\",\"android\",\"json\",\"world\",\"plans\",\"experience\",\"smart\",\"3\",\"vc\",\"rust\",\"notes\",\"facebooks\",\"start\",\"10\",\"css\",\"hack\",\"models\",\"lambda\",\"shows\",\"windows\",\"api\",\"face\",\"reddit\",\"vulnerability\",\"banks\",\"keys\",\"components\",\"view\",\"virtual\",\"use\",\"side\",\"smartphone\",\"millions\",\"reasons\",\"features\",\"credit\",\"nsa\",\"tell\",\"around\",\"track\",\"developers\",\"algorithm\",\"15\",\"little\",\"written\",\"mac\",\"ibm\",\"children\",\"better\",\"enough\",\"8\",\"teach\",\"looking\",\"mobile\",\"computers\",\"kids\",\"living\",\"form\",\"cars\",\"collection\",\"private\",\"police\",\"scientists\",\"software\",\"programmers\",\"vr\",\"revolution\",\"way\",\"pay\",\"check\",\"2012\",\"stay\",\"iot\",\"information\",\"learned\",\"hard\",\"story\",\"bring\",\"2014\",\"finally\",\"videos\",\"2013\",\"demo\",\"deep\",\"library\",\"ever\",\"sales\",\"dead\",\"color\",\"researchers\",\"basic\",\"sharing\",\"open\",\"2\",\"stock\",\"isis\",\"customer\",\"anyone\",\"issue\",\"nuclear\",\"x\",\"programmer\",\"rules\",\"npm\",\"challenge\",\"r\",\"attacks\",\"cost\",\"anything\",\"secrets\",\"human\",\"give\",\"performance\",\"adds\",\"explained\",\"make\",\"php\",\"bill\",\"maps\",\"tips\",\"indian\",\"pc\",\"machine\",\"photos\",\"selfdriving\",\"angular\",\"compiler\",\"single\",\"reality\",\"released\",\"multiple\",\"processing\",\"hacker\",\"streaming\",\"development\",\"image\",\"wall\",\"help\",\"extension\",\"offers\",\"understanding\",\"simple\",\"facebook\",\"everything\",\"trust\",\"investors\",\"week\",\"feedback\",\"automation\",\"worth\",\"former\",\"poor\",\"money\",\"rocket\",\"amazon\",\"stop\",\"privacy\",\"local\",\"across\",\"important\",\"oracle\",\"safe\",\"add\",\"obama\",\"everyone\",\"small\",\"lessons\",\"save\",\"take\",\"apples\",\"different\",\"true\",\"chat\",\"entrepreneurs\",\"online\",\"war\",\"process\",\"attack\",\"ready\",\"half\",\"rate\",\"100\",\"wrong\",\"daily\",\"continuous\",\"images\",\"brexit\",\"creating\",\"musk\",\"financial\",\"funding\",\"java\",\"1\",\"number\",\"india\",\"package\",\"website\",\"designing\",\"2009\",\"americas\",\"five\",\"code\",\"tests\",\"group\",\"fight\",\"know\",\"could\",\"year\",\"long\",\"hunt\",\"goes\",\"skills\",\"lab\",\"think\",\"github\",\"watch\",\"stories\",\"student\",\"resources\",\"second\",\"understand\",\"numbers\",\"part\",\"american\",\"spacex\",\"pok\\u00e3\\u00a9mon\",\"keep\",\"tor\",\"great\",\"good\",\"4\",\"battle\",\"love\",\"speech\",\"intelligence\",\"patterns\",\"site\",\"three\",\"review\",\"foundation\",\"servers\",\"applications\",\"wordpress\",\"star\",\"race\",\"physics\",\"via\",\"book\",\"office\",\"york\",\"real\",\"50\",\"water\",\"books\",\"makes\",\"5\",\"look\",\"free\",\"react\",\"automated\",\"london\",\"cities\",\"practices\",\"issues\",\"became\",\"japan\",\"domain\",\"visualization\",\"power\",\"matter\",\"longer\",\"buy\",\"universal\",\"advice\",\"artificial\",\"hit\",\"much\",\"theres\",\"ux\",\"come\",\"passwords\",\"national\",\"finds\",\"clojure\",\"microservices\",\"energy\",\"latest\",\"magic\",\"claims\",\"social\",\"looks\",\"employees\",\"uk\",\"road\",\"libraries\",\"thing\",\"see\",\"theranos\",\"behind\",\"set\",\"steps\",\"9\",\"happened\",\"saas\",\"failed\",\"house\",\"silicon\",\"digital\",\"campaign\",\"bug\",\"rich\",\"containers\",\"left\",\"city\",\"students\",\"projects\",\"container\",\"takes\",\"inside\",\"force\",\"hacked\",\"studio\",\"messaging\",\"win\",\"generation\",\"happy\",\"blog\",\"ecommerce\",\"networks\",\"away\",\"ads\",\"search\",\"man\",\"battery\",\"back\",\"interview\",\"2008\",\"scientific\",\"c\",\"2011\",\"ui\",\"introducing\",\"light\",\"raises\",\"computing\",\"live\",\"changes\",\"step\",\"put\",\"link\",\"apache\",\"never\",\"scale\",\"evolution\",\"python\",\"reveals\",\"gets\",\"startup\",\"front\",\"russian\",\"actually\",\"music\",\"oil\",\"lawsuit\",\"must\",\"economic\",\"tesla\",\"application\",\"dynamic\",\"encrypt\",\"works\",\"zero\",\"2010\",\"drone\",\"reading\",\"many\",\"web\",\"find\",\"emails\",\"podcast\",\"economy\",\"swift\",\"comes\",\"version\",\"ubuntu\",\"complete\",\"months\",\"questions\",\"lines\",\"hire\",\"faster\",\"distributed\",\"dev\",\"project\",\"video\",\"memory\",\"biggest\",\"tool\",\"audio\",\"platform\",\"marketing\",\"microsoft\",\"tax\",\"line\",\"one\",\"computer\",\"turn\",\"discover\",\"map\",\"value\",\"research\",\"mark\",\"plan\",\"states\",\"red\",\"moving\",\"slack\",\"raspberry\",\"interface\",\"yc\",\"failure\",\"random\",\"drug\",\"venture\",\"things\",\"times\",\"going\",\"6\",\"big\",\"access\",\"paper\",\"doesnt\",\"results\",\"law\",\"golang\",\"generate\",\"men\",\"net\",\"fast\",\"days\",\"drive\",\"file\",\"write\",\"using\",\"solve\",\"design\",\"end\",\"native\",\"environment\",\"high\",\"say\"],\"x\":{\"__ndarray__\":\"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\",\"dtype\":\"float32\",\"order\":\"little\",\"shape\":[900]},\"y\":{\"__ndarray__\":\"aJZTQiHVaELqVl9C7OoNQtphYkL2pAVCkjdPQjaKL0IrhhNCRnQqQrvGIULT9TxCT0ZeQogJG0LHugNCowwqQiR+SkK6tk5CTyhsQmx/CkKCtQ9CSY1PQrHsH0Koal5CfH8BQgjCX0J/DhJCkGsbQuVj/0H7UShCFsYYQvDBQUKu4GdCftZjQjvvYkJeBClC15xHQv0UVUIYs05CP7otQsJ0U0Ib7EBC20kGQrUpcUJD2jFCkew7QkNe/0FpnyRCuvxRQmi/GUKI8AJCWHI0QqxBGEJKCk1CWJlqQlM+CUJWKjFCFogmQmOdO0JceWVC6elWQsyIYEJtFQ1Cm4hIQgWjNEIeRUpC/QwkQlFgIEJMwGlC47A5QmEfS0JX/0FCQHpXQnAKb0KWaxVCozxkQmO3HUKUdE1CpLgqQgfEGkI5ACxCLUNCQuDMYkLsYSpCoCMyQngRb0L2oxdCBatNQpBaPEL0ZlFCx5YHQsiHbEIhjQBC9EVaQt+kQEKMGGJC8bj6QUHBEkIeJgtCWHs+QuW//0E8vExCe+Z0QjtQM0KESVtCZFg+QtNj+UHdNgJCsxVFQsZqEEK/xjJCe6dGQoA1PUL2eWFCU8NTQgQBR0KAFydCf5IJQjcWYkLHDO1B/PIdQt40CUKZ/ilCSiZsQsfAOUK+igFCnidaQjMLBUIFYBBCqS5RQovxYkIu/k1CAQNeQnHdNEKtSTxCqn0XQlcoCELWR2lCXWtSQtruUUKxbhhCAgZLQnmjREITojRC0acIQoX2F0JNdiBCiUNDQiSLREKyIVJCfhlHQpw1TEJ8qTxCis9RQuvUb0Iv0TVCb4lTQiFrVkJgoi1CuscAQg/0S0JysR5CzuEmQkxAOUITSllCdlRiQo9DY0IX8URCFHlHQg1RFkIBqURC7KBnQt3AAEJylWFCMyv7QUlGJ0KCuFxCy0dUQiSkLUKCQDJCSq8bQiGLXEKZSTdCqPwUQoKgE0JYJzNC+HNjQphaNkJrzARCA+FpQpfDUEJLHi9C/8w9QlQjUULx3VBCId9PQtGyBEJVhjFCicoSQv7iLUJDfxlCWhQMQpU0EEKt5WtCVggOQtt9OkKzhhtCsbpNQrVdNEJReEhCqiwKQvn6JEK5aDBC0XgJQmbZV0IG/ChCwYAEQrszYEI/ZUVCO6xoQmBFdkIEhB5CBMpNQntAV0I1KQtCJNBnQsfdJkIbBzhCIKllQuPsDULvjHBCCg8KQgToL0KdJ0lCLHMtQlMyH0I8f1lCg2wpQj9dZkLrbTxCP39HQnIZLELxZFFCzBVcQpZlYUIH9DNCxXcKQgxdLUJn72tCz8kWQrAWH0JDL1ZCewk/QhEAakKCnHRCNpYHQrmFQUKXnCxCkNc4QktgD0JWdkNC3aEnQoifY0IXQg5C14dPQrWQC0K2nz5Cm6UCQqwLGUJpjBJC0XYkQnYaHUJJcChCNVUeQv+1ZkLTyBZCCTZkQpA+IEL8ZStCsi4CQvYrIUIP5nFCz6A7Qpi//0GcLHJCvoZBQrrV/EGO+TpC7hbwQfOuBEIdKw9C23Y2QrXLSEJhekRCTlZZQib6QEJ2KlZCv1BFQi45MUJW6hdChpY6QiyZNEKjxAJCTvBSQhnWK0JFvlxC4AklQlx5SEI+dgFCpKlSQgfMIUJwjVtCx9xnQiQITkJ6i2RCnycXQq4wF0Kk5j5CBoEwQlv6PEI5ljVCgE5kQgExB0J72AhCe/4CQu1XWELIhUpCcl0CQlEGO0LbvjxC7/QmQligA0LfpjZC5yxOQur9VULTFzpC6npvQmJ7GEIlW/5B0Z5EQha8TkJ9WRJC/ylDQr6aEEK4GmxCABtuQmpvBUJMNGBCvglqQqjNK0IvGPdBkShQQhfnOkIFrmhCwvMdQvLaKUJplBdCqdxzQiCyR0JkTkZCGbMUQkZMKUI+3ChCrhI0QhGFHUIk3lJCg/82QpDqA0LeABFC06oCQhJPZUIhxBBCBMQfQgaWF0JbkDdCCklTQiBkJkJrWkBCUP4/Qgx4EUIuO1pCOW5fQn6CAEKYBiBCC9JKQsSCNEL2bhxC7Q4oQvCXQkLniSdCo+JyQv7WVkKlcSJCkb8LQmp0TEIlxU1CWZkXQsSaF0IbRWZCPgI4Qv8iEEI7VRlCayVPQoiLa0LpSiRCOaYKQs8WCkJaIUJCFSw4Qi++NkL6XyBCCtslQoYAOkIDPXJCPDsJQrhTPELKIi5CZehjQpeuaEL7rk9CzqVZQnYCOUKCUW1CwaJQQk9eQEJFWWBCrrw0QjPhQ0KnGC9CmDRHQj3kTUI+Ex5CaXhpQuF2HEL6kDBC26pnQoiaIUI0hGlCWD41QlULKEIzo1xCfHxgQnt6aEJXbCdCXk8uQsbxA0IkWyZCuA1SQpgLbEICJxVCpKprQow+b0IkIBBCwWQAQhnvTUK0pkBCAm5mQq69IEKXtnJCj3hiQtjwREInWB9CCLplQupSYkLSuChC5LBRQk9oXUJCrvBBEwlsQswBYkIC+CJCbbxDQjlQZ0Kdw/xBENdMQgC9aEI74j1CDnk9Qv8EI0L8RTVCVPM8QtMRJEJOkE5C7TJSQolK90GrxRBCylERQmxkGkK1/iRCWAdGQnxBTkLXFWRCdGMoQnrPakKr0WtCQIFGQsf7F0IyIw1CWPgRQv1xZ0JksDZCx+w7QuJSaULgyC1CAv42QpZfGUJXQiFC02MBQpbIUkIwJzxCwgwSQgRYKUKYGklCdLlDQs80PkJ10xdClT0oQgvLC0IEL2dCCMo0QubYHkIIxkNCDRM6QpEdTEI+4AZCKbUrQtnAI0K/dTVCewE4QnmfQULwLzZCI79VQnQ7UkLfL2dCWHEJQiOFN0JSux5Co/peQnzAKUIwyyxC6i83Qs9HV0IZ0WVCqUoJQqlPF0JQTDdCugwKQlhkVkKx8BhCAuprQuMjQ0LqFgpC43drQqftAkKe63FCtX8jQr47FEJkFQtCRv0pQvCbLEJ0ARxCh29XQkgA/EFgiTVCqzcfQg5jb0KxUg9CfmVeQrXzTkLLTDBCFHFsQjlhUUJxBlhC73QBQpkhaEIsa3RCrA9CQlZ8PUIYtGhCGTI+QsGwUEJc20JCc3ZDQpO1SEL22lVCEQAlQo7TJEIztGVCNzMCQgoMWkKQUmNC+wY5QmuZDULBHRhCbn0hQsVmRkKKsDxCOqROQmzHD0L+zTRC75cTQoGBC0KAMhVCkWpJQrIMIUItLQtCrwZfQkpZPULXJB1C07JJQsKiH0Kq/2RCJqwVQpv0C0JX/ydCqFNMQr5xIkJMDBxCULM5QvcuPEI8NVpCf+A0QtK/JEIwJTdCDF8XQvIxSkJQZiRCK6oPQuGIHUJtxUFCy+hiQmnzGEJO1kZCMnNPQpvsV0JEUQlCKa9VQrEUCEK2DwRChr8gQrincEKCdmVChwVbQlbXDEIoz25CE1xUQoPXVEKrhkBC/hURQudnZ0L4AHVC1S8dQqj8MELwsA5CRuANQon6/EHd/ERCiDIfQu5YM0IiewtCWp86QgkdM0In+g5CwixrQsLhQELYyCxC8yI4QoIbUkLohxZChUoeQvHfQEJX2FtCHq0RQuQmFUI2dC1CfTQYQsdVJkLoJ0xCvJwNQsPPZkICtgRCwccsQh9/VUId+S9CRoxRQjiRU0IAomdCWh5aQgTfRUKq+F5CIWtiQrWAU0KtIiBCTnr/QTwBMkKLHmBC3pxXQpn+MUK8mRdCAHENQl2lYkLIgAxCzxxPQpZ8/0EC02ZCdk4ZQh37NkLVpWhC5PRSQv48GEIAPA9CKnlNQk7LLEK+of9BxI0PQtbNPEL+QktCkaMLQisbJEIVzRJC4RwSQibFLEI41jtCls4vQqHt+UFL8Q5CTioRQh2eTkKIwhZCvsI9QstsGUJ5nfBBMeRxQuRQWkKWjgtCN5xrQmvOXUJDWO9Bx0U2QgbJD0IhfQ9CZjkKQuXGAEIRD1NC95wPQjzAHUINzSVCRZkoQttcHkLVeU5CbFFoQkg9G0JdkjVCbUAiQn/HHUINox1CYzEGQthgM0L4R2dClJYTQrGQXkIrPCFCNh8YQkKdN0LewERCfTNeQmorBkKKZydCU0USQsumKkIyPWhCNs80Qn0KEELeS1tCOrFCQn0PUkLXWzZCtBdRQtB7JUIvoUBClu5MQq0lH0L7twlCZg4dQpgPOULxOzhCS1MuQsMHc0Is8zVCyI1oQoByVUIevENCivEfQs2QSkJGhEJCi7sgQpCvHEJUfiBCfUxHQt+0U0JiqAZCUD1PQl0RMUJ3aXFCsbfwQUnSCEIPaidCjV8wQnPqJkILIgxCbIk/QnE2CUJyAAZC/jYBQmA4CUIjMwZC20djQv8WVEKoF1lCN0YpQn4pR0KTWDhCqNMWQoW/TEK6UjxCh5hoQlGlJ0KPgDtCZS9GQvXsCUKMQ3FCh0MFQoqRaEKnEGxCMg1EQvw9TUKkKU9C65xOQqGzQEL8rlxCGfhPQiTFR0Lf6UNCRsxAQpUVTUK6Af9B8jBvQqw5QUKGVlJCYgo2QozDRkIrHghCoXBwQlYDQkL7IDdCu7kiQlOTKEKrZBtCgJAPQuDBLkI9RCZChSYAQgIUD0KK1kZChrgfQkGYNEII/kZCQ85xQgKeJ0JOiy9CnXxbQt3BK0JRJSBCPdlOQqSFSUJqghtCVB9nQik9FUL65DxCVBVdQoxYBUJlAU1C4IcKQpbOb0KxEV5CruIZQpM3ckJLG15Cx8NMQnZZAkIeMm1CR+lHQpTFXkLAiihCYJJPQoXdL0I1aGlCsV9gQiPfPELmdR9C\",\"dtype\":\"float32\",\"order\":\"little\",\"shape\":[900]}},\"selected\":{\"id\":\"1443\"},\"selection_policy\":{\"id\":\"1442\"}},\"id\":\"1360\",\"type\":\"ColumnDataSource\"},{\"attributes\":{\"axis\":{\"id\":\"1377\"},\"coordinates\":null,\"dimension\":1,\"grid_line_color\":null,\"group\":null,\"ticker\":null},\"id\":\"1380\",\"type\":\"Grid\"},{\"attributes\":{},\"id\":\"1365\",\"type\":\"DataRange1d\"},{\"attributes\":{\"overlay\":{\"id\":\"1387\"}},\"id\":\"1383\",\"type\":\"BoxZoomTool\"},{\"attributes\":{\"coordinates\":null,\"formatter\":{\"id\":\"1437\"},\"group\":null,\"major_label_policy\":{\"id\":\"1438\"},\"ticker\":{\"id\":\"1378\"},\"visible\":false},\"id\":\"1377\",\"type\":\"LinearAxis\"},{\"attributes\":{},\"id\":\"1442\",\"type\":\"UnionRenderers\"},{\"attributes\":{\"axis\":{\"id\":\"1373\"},\"coordinates\":null,\"grid_line_color\":null,\"group\":null,\"ticker\":null},\"id\":\"1376\",\"type\":\"Grid\"},{\"attributes\":{},\"id\":\"1385\",\"type\":\"ResetTool\"},{\"attributes\":{},\"id\":\"1382\",\"type\":\"WheelZoomTool\"},{\"attributes\":{},\"id\":\"1371\",\"type\":\"LinearScale\"},{\"attributes\":{\"coordinates\":null,\"formatter\":{\"id\":\"1440\"},\"group\":null,\"major_label_policy\":{\"id\":\"1441\"},\"ticker\":{\"id\":\"1374\"},\"visible\":false},\"id\":\"1373\",\"type\":\"LinearAxis\"},{\"attributes\":{\"coordinates\":null,\"group\":null,\"text\":\"Word Vecs Hard News (TSNE)\"},\"id\":\"1363\",\"type\":\"Title\"},{\"attributes\":{},\"id\":\"1443\",\"type\":\"Selection\"},{\"attributes\":{},\"id\":\"1367\",\"type\":\"DataRange1d\"},{\"attributes\":{\"coordinates\":null,\"data_source\":{\"id\":\"1360\"},\"glyph\":{\"id\":\"1396\"},\"group\":null,\"hover_glyph\":{\"id\":\"1398\"},\"muted_glyph\":{\"id\":\"1399\"},\"nonselection_glyph\":{\"id\":\"1397\"},\"view\":{\"id\":\"1401\"}},\"id\":\"1400\",\"type\":\"GlyphRenderer\"},{\"attributes\":{\"fill_alpha\":{\"value\":0.1},\"fill_color\":{\"value\":\"blue\"},\"hatch_color\":{\"value\":\"blue\"},\"line_alpha\":{\"value\":0.2},\"line_color\":{\"value\":\"blue\"},\"size\":{\"value\":10},\"x\":{\"field\":\"x\"},\"y\":{\"field\":\"y\"}},\"id\":\"1396\",\"type\":\"Circle\"},{\"attributes\":{},\"id\":\"1437\",\"type\":\"BasicTickFormatter\"},{\"attributes\":{\"callback\":null,\"tooltips\":\"@word\"},\"id\":\"1361\",\"type\":\"HoverTool\"},{\"attributes\":{},\"id\":\"1369\",\"type\":\"LinearScale\"},{\"attributes\":{\"overlay\":{\"id\":\"1386\"}},\"id\":\"1384\",\"type\":\"BoxSelectTool\"},{\"attributes\":{},\"id\":\"1438\",\"type\":\"AllLabels\"},{\"attributes\":{\"fill_alpha\":{\"value\":0.2},\"fill_color\":{\"value\":\"blue\"},\"hatch_alpha\":{\"value\":0.2},\"hatch_color\":{\"value\":\"blue\"},\"line_alpha\":{\"value\":0.2},\"line_color\":{\"value\":\"blue\"},\"size\":{\"value\":10},\"x\":{\"field\":\"x\"},\"y\":{\"field\":\"y\"}},\"id\":\"1399\",\"type\":\"Circle\"},{\"attributes\":{},\"id\":\"1440\",\"type\":\"BasicTickFormatter\"},{\"attributes\":{\"bottom_units\":\"screen\",\"coordinates\":null,\"fill_alpha\":0.5,\"fill_color\":\"lightgrey\",\"group\":null,\"left_units\":\"screen\",\"level\":\"overlay\",\"line_alpha\":1.0,\"line_color\":\"black\",\"line_dash\":[4,4],\"line_width\":2,\"right_units\":\"screen\",\"syncable\":false,\"top_units\":\"screen\"},\"id\":\"1387\",\"type\":\"BoxAnnotation\"},{\"attributes\":{\"bottom_units\":\"screen\",\"coordinates\":null,\"fill_alpha\":0.5,\"fill_color\":\"lightgrey\",\"group\":null,\"left_units\":\"screen\",\"level\":\"overlay\",\"line_alpha\":1.0,\"line_color\":\"black\",\"line_dash\":[4,4],\"line_width\":2,\"right_units\":\"screen\",\"syncable\":false,\"top_units\":\"screen\"},\"id\":\"1386\",\"type\":\"BoxAnnotation\"},{\"attributes\":{\"source\":{\"id\":\"1360\"}},\"id\":\"1401\",\"type\":\"CDSView\"},{\"attributes\":{},\"id\":\"1441\",\"type\":\"AllLabels\"},{\"attributes\":{\"fill_alpha\":{\"value\":0.1},\"fill_color\":{\"value\":\"blue\"},\"hatch_color\":{\"value\":\"blue\"},\"line_alpha\":{\"value\":0.2},\"size\":{\"value\":10},\"x\":{\"field\":\"x\"},\"y\":{\"field\":\"y\"}},\"id\":\"1398\",\"type\":\"Circle\"},{\"attributes\":{},\"id\":\"1378\",\"type\":\"BasicTicker\"},{\"attributes\":{},\"id\":\"1374\",\"type\":\"BasicTicker\"},{\"attributes\":{\"fill_alpha\":{\"value\":0.1},\"fill_color\":{\"value\":\"blue\"},\"hatch_alpha\":{\"value\":0.1},\"hatch_color\":{\"value\":\"blue\"},\"line_alpha\":{\"value\":0.1},\"line_color\":{\"value\":\"blue\"},\"size\":{\"value\":10},\"x\":{\"field\":\"x\"},\"y\":{\"field\":\"y\"}},\"id\":\"1397\",\"type\":\"Circle\"},{\"attributes\":{},\"id\":\"1381\",\"type\":\"PanTool\"},{\"attributes\":{\"active_scroll\":{\"id\":\"1382\"},\"tools\":[{\"id\":\"1361\"},{\"id\":\"1381\"},{\"id\":\"1382\"},{\"id\":\"1383\"},{\"id\":\"1384\"},{\"id\":\"1385\"}]},\"id\":\"1388\",\"type\":\"Toolbar\"}],\"root_ids\":[\"1362\"]},\"title\":\"Bokeh Application\",\"version\":\"2.4.2\"}};\n",
       "  const render_items = [{\"docid\":\"3a7c6eee-7f33-4048-b3ad-ac8be839faa4\",\"root_ids\":[\"1362\"],\"roots\":{\"1362\":\"de658bdf-69d3-4e6b-8d4c-b850fbeb282c\"}}];\n",
       "  root.Bokeh.embed.embed_items_notebook(docs_json, render_items);\n",
       "\n",
       "  }\n",
       "  if (root.Bokeh !== undefined) {\n",
       "    embed_document(root);\n",
       "  } else {\n",
       "    let attempts = 0;\n",
       "    const timer = setInterval(function(root) {\n",
       "      if (root.Bokeh !== undefined) {\n",
       "        clearInterval(timer);\n",
       "        embed_document(root);\n",
       "      } else {\n",
       "        attempts++;\n",
       "        if (attempts > 100) {\n",
       "          clearInterval(timer);\n",
       "          console.log(\"Bokeh: ERROR: Unable to run BokehJS code because BokehJS library is missing\");\n",
       "        }\n",
       "      }\n",
       "    }, 10, root)\n",
       "  }\n",
       "})(window);"
      ],
      "application/vnd.bokehjs_exec.v0+json": ""
     },
     "metadata": {
      "application/vnd.bokehjs_exec.v0+json": {
       "id": "1362"
      }
     },
     "output_type": "display_data"
    }
   ],
   "source": [
    "plotTSNE(wordVecsHN, token2indexHN, 'Word Vecs Hard News (TSNE)')"
   ]
  },
  {
   "cell_type": "markdown",
   "metadata": {},
   "source": [
    "### 10. Visualização a partir de um agrupamento hierárquico das palavras"
   ]
  },
  {
   "cell_type": "markdown",
   "metadata": {},
   "source": [
    "Também podemos visualizar o resultado através de um agrupamento hierárquico de um conjunto de palavras. \n",
    "\n",
    "A hierarquia será obtida através do agrupamento aglomerativo, no qual, inicialmente, cada ponto possuirá seu próprio *cluster* e cada par de *clusters* próximos serão agrupados a medida que a hierarquia aumenta. \n",
    "\n",
    "Sejam dois agrupamentos $S$ e $T$, a distância entre os cluster será dada por $d(S,T)$. Quando $S$ e $T$ são agrupados em um único *cluster* $U$, então $S$ e $T$ serão removidos e substituídos por $U$. Ao final do algoritmo restará um único *cluster*, o qual será a raiz da hierarquia.\n",
    "\n",
    "Seja o cluster $U$ de $dim(U) = n$ formado pelos pontos $\\{u_{0}, u_{1}, ..., u_{i}, ..., u_{n-1}\\}$ e seja $V$ um outro *cluster* $V$ de $dim(V) = m$ formado pelos pontos $\\{v_{0}, v_{1}, ..., v_{j}, ..., v_{m-1}\\}$, a distância entre os *clusters* $U$ e $V$ será dada por:\n",
    "\n",
    "$$d(U,V) = \\sum_{i,j}^{n,m} \\dfrac{d(u_{i}, v_{j})}{nm}$$\n",
    "\n",
    "em que,\n",
    "\n",
    "$$d(u_{i}, v_{j}) = \\dfrac{u \\cdot v}{||u||\\ ||v||}$$\n",
    "\n",
    "Ou seja, a **distância entre os pontos** de um *cluster* será dada pela métrica de **distância cosseno**, e a **distância entre os *clusters*** será dada pela **média das distâncias entre os pontos** de um par de *clusters*. Os pares de clusters a serem agrupados serão aqueles de menor distância.\n",
    "\n",
    "Em seguida, os agrupamentos hierárquicos serão visualizados através de um dendograma."
   ]
  },
  {
   "cell_type": "code",
   "execution_count": 29,
   "metadata": {},
   "outputs": [],
   "source": [
    "from scipy.cluster.hierarchy import dendrogram, linkage\n",
    "\n",
    "# Cria um conjunto de palavras considerando as de referência juntamente com as suas n mais similares\n",
    "def sampleWords(referenceWords, wordVecs, token2index, index2token, n = 5):\n",
    "    sample = set()\n",
    "    for word in referenceWords:\n",
    "        sample.add(word)\n",
    "        similarityContextScores = wordsSimilarity(word, wordVecs, token2index, index2token, n)\n",
    "        for context, _ in similarityContextScores:\n",
    "            sample.add(context)\n",
    "            \n",
    "    return sample\n",
    "\n",
    "def plotDendogram(words, embeddings, title = None, xlabel = None, ylabel = None, figsize = (25,5)):\n",
    "    plt.figure(figsize = figsize)\n",
    "    plt.title(title)\n",
    "    plt.xlabel(xlabel)\n",
    "    plt.ylabel(ylabel)\n",
    "    \n",
    "    # clustering do tipo aglomerativo, usando como critério de agrupamento \n",
    "    # a média da distância entre os pontos de um par de cluster, usando o cosseno \n",
    "    # como métrica de distância entre os pontos\n",
    "    link = linkage(embeddings, method = 'average', metric = 'cosine')\n",
    "    \n",
    "    dendrogram(\n",
    "        link,\n",
    "        labels = words,\n",
    "        leaf_rotation=90.,  \n",
    "        leaf_font_size=10.,  \n",
    "        orientation='top',\n",
    "    )\n",
    "    \n",
    "    plt.show()"
   ]
  },
  {
   "cell_type": "code",
   "execution_count": 30,
   "metadata": {},
   "outputs": [],
   "source": [
    "def visualizeDendogram(\n",
    "    referenceWords : list, wordVecs : np.ndarray, token2index : dict, \n",
    "    index2token : dict, title = None, xlabel = None, ylabel = None, figsize = (25,5)\n",
    "):\n",
    "    sample = sampleWords(referenceWords, wordVecs, token2index, index2token)\n",
    "\n",
    "    # Obtem os respectivos Word Embeddings\n",
    "    embeddings = [wordVecs[token2index[word]] for word in sample]\n",
    "    \n",
    "    plotDendogram(list(sample), embeddings, title = 'Dendograma Agrupamento Hierárquico', \n",
    "              ylabel = 'distância', xlabel = 'token')\n",
    "    "
   ]
  },
  {
   "cell_type": "code",
   "execution_count": 31,
   "metadata": {},
   "outputs": [
    {
     "data": {
      "image/png": "[encoded data removed]",
      "text/plain": [
       "<Figure size 1800x360 with 1 Axes>"
      ]
     },
     "metadata": {
      "needs_background": "light"
     },
     "output_type": "display_data"
    }
   ],
   "source": [
    "# Escolhe as palavras que serão usadas como referência para obter uma amostra\n",
    "referenceWords = [\n",
    "    'defunto', 'brás', 'romance', 'coimbra', 'flagelos', 'alegria', 'shakespeare', 'homem', 'luxo',\n",
    "    'filósofo', 'festa', 'olhos', 'ontem', 'guerra', 'ensino', 'leitor'\n",
    "]\n",
    "visualizeDendogram(referenceWords, wordVecsBrasCubas, token2indexBrasCubas, index2tokenBrasCubas,\n",
    "                   title = 'Dendograma Agrupamento Hierárquico Brás Cubas', \n",
    "                   ylabel = 'distância', xlabel = 'token')"
   ]
  },
  {
   "cell_type": "code",
   "execution_count": 32,
   "metadata": {},
   "outputs": [
    {
     "data": {
      "image/png": "[encoded data removed]",
      "text/plain": [
       "<Figure size 1800x360 with 1 Axes>"
      ]
     },
     "metadata": {
      "needs_background": "light"
     },
     "output_type": "display_data"
    }
   ],
   "source": [
    "referenceWords = ['facebook', 'twitter', 'instagram', 'messenger', 'hack', 'security', \n",
    "          'deep', 'encryption', 'command', 'venture' , 'bitcoin', 'github', 'opensource',\n",
    "          'linux', 'microsoft', 'tensorflow', 'whatsapp', 'kernel', 'bill', 'elon', 'silicon', 'course',\n",
    "           'startup', 'blog']\n",
    "visualizeDendogram(referenceWords, wordVecsHN, token2indexHN, index2tokenHN,\n",
    "                   title = 'Dendograma Agrupamento Hierárquico Hard News',\n",
    "                   ylabel = 'distância', xlabel = 'token')"
   ]
  },
  {
   "cell_type": "markdown",
   "metadata": {},
   "source": [
    "### 11. Composição de Vetores"
   ]
  },
  {
   "cell_type": "markdown",
   "metadata": {},
   "source": [
    "Uma das propriedades semânticas do modelo está em sua capacidade de capturar analogias e relações entre palavras. Uma das formas de avaliar essa propriedade é usar o nosso modelo para resolver problemas na forma: ***a*** está para ***b***, assim como ***c*** está para ***d***. \n",
    "\n",
    "Esse tipo de problema pode ser reescrito através de uma composição de vetores como, por exemplo, \n",
    "$$\\vec{Rei} - \\vec{homem} + \\vec{mulher} = \\vec{rainha}.$$ \n",
    "Ou seja, queremos que o resultado da expressão $\\vec{Rei} - \\vec{homem} + \\vec{mulher}$ resulte em um vetor próximo de $\\vec{rainha}$, criando uma espécie de aritmética entre palavras (que, no fundo, são vetores) em que podemos relacioná-las pelo seu nível de similaridade.\n",
    "\n",
    "Note que dentre as palavras mais semelhantes em relação à composição de vetores estão aquelas palavras que a compõem, por isso será apresentado, para que seja possível avaliar o modelo, 10 palavras mais similares a uma determinada composição.   "
   ]
  },
  {
   "cell_type": "code",
   "execution_count": 33,
   "metadata": {},
   "outputs": [],
   "source": [
    "def getNearestWord(matrix, wordVec, index2token):\n",
    "    # Cálculo da similidade (similaridade de vetores por cosseno)\n",
    "    similarity = cosine_similarity(matrix, wordVec).flatten()\n",
    "    sortedIndexes = np.argsort(-similarity)\n",
    "    \n",
    "    # retorna as 10 palavras mais similares à composição\n",
    "    for index in sortedIndexes[:10]:\n",
    "        print(index2token[index], similarity[index])"
   ]
  },
  {
   "cell_type": "code",
   "execution_count": 34,
   "metadata": {},
   "outputs": [
    {
     "name": "stdout",
     "output_type": "stream",
     "text": [
      "images 0.7349638877603482\n",
      "facebook 0.7349638877603482\n",
      "instagram 0.6178229577281579\n",
      "photos 0.5661414009542866\n",
      "twitter 0.5481670513246248\n",
      "google 0.5394939097264929\n",
      "snapchat 0.534121320018376\n",
      "links 0.5340923712955467\n",
      "add 0.4915592092024758\n",
      "share 0.4424650752006188\n"
     ]
    }
   ],
   "source": [
    "composition = wordVecsHN[token2indexHN['facebook']] + wordVecsHN[token2indexHN['images']]\n",
    "getNearestWord(wordVecsHN, composition.reshape(1,-1), index2tokenHN)"
   ]
  },
  {
   "cell_type": "code",
   "execution_count": 35,
   "metadata": {},
   "outputs": [
    {
     "name": "stdout",
     "output_type": "stream",
     "text": [
      "chat 0.5021600803670023\n",
      "facebook 0.5019745003998232\n",
      "slack 0.4611275228968687\n",
      "snapchat 0.4597930899750736\n",
      "messenger 0.44733667107931463\n",
      "bot 0.4328109928484823\n",
      "bots 0.43189795566892536\n",
      "group 0.4156383894529822\n",
      "magic 0.41366987596218224\n",
      "messaging 0.41147708162670604\n"
     ]
    }
   ],
   "source": [
    "composition = wordVecsHN[token2indexHN['facebook']] - wordVecsHN[token2indexHN['ads']]\n",
    "getNearestWord(wordVecsHN, composition.reshape(1,-1), index2tokenHN)"
   ]
  },
  {
   "cell_type": "code",
   "execution_count": 36,
   "metadata": {},
   "outputs": [
    {
     "name": "stdout",
     "output_type": "stream",
     "text": [
      "machine 0.9781464123256521\n",
      "learning 0.978146412325652\n",
      "deep 0.9107303704429375\n",
      "neural 0.8329682653473313\n",
      "tensorflow 0.7701316851618643\n",
      "networks 0.7024679870902268\n",
      "recognition 0.644698343588843\n",
      "vision 0.6321929002316133\n",
      "algorithms 0.6067687229679048\n",
      "models 0.5912720839314719\n"
     ]
    }
   ],
   "source": [
    "composition = wordVecsHN[token2indexHN['machine']] + wordVecsHN[token2indexHN['learning']]\n",
    "getNearestWord(wordVecsHN, composition.reshape(1,-1), index2tokenHN)"
   ]
  },
  {
   "cell_type": "code",
   "execution_count": 37,
   "metadata": {},
   "outputs": [
    {
     "name": "stdout",
     "output_type": "stream",
     "text": [
      "open 0.7336584766984728\n",
      "windows 0.7336584766984727\n",
      "source 0.6979564794544455\n",
      "linux 0.640853431985693\n",
      "os 0.6264732964065594\n",
      "mac 0.5820401434606686\n",
      "ubuntu 0.5808467182621886\n",
      "available 0.5350539426316935\n",
      "support 0.5206642820422016\n",
      "version 0.5194837641558152\n"
     ]
    }
   ],
   "source": [
    "composition = wordVecsHN[token2indexHN['windows']] +  wordVecsHN[token2indexHN['open']] \n",
    "getNearestWord(wordVecsHN, composition.reshape(1,-1), index2tokenHN)"
   ]
  },
  {
   "cell_type": "code",
   "execution_count": 38,
   "metadata": {},
   "outputs": [
    {
     "name": "stdout",
     "output_type": "stream",
     "text": [
      "obama 0.8596812247773494\n",
      "fbi 0.8596812247773493\n",
      "nsa 0.7094734792965574\n",
      "snowden 0.6651042000962033\n",
      "isis 0.5459378249771826\n",
      "government 0.5458257803638215\n",
      "fight 0.5161956310086966\n",
      "surveillance 0.507406059199622\n",
      "encryption 0.49358208517508845\n",
      "bill 0.4922846079747778\n"
     ]
    }
   ],
   "source": [
    "composition = wordVecsHN[token2indexHN['fbi']] +  wordVecsHN[token2indexHN['obama']] \n",
    "getNearestWord(wordVecsHN, composition.reshape(1,-1), index2tokenHN)"
   ]
  },
  {
   "cell_type": "code",
   "execution_count": 39,
   "metadata": {},
   "outputs": [
    {
     "name": "stdout",
     "output_type": "stream",
     "text": [
      "rocket 0.5692131933815251\n",
      "spacex 0.44867900908580155\n",
      "flight 0.420953646973773\n",
      "launch 0.41591052021890984\n",
      "first 0.4141582674401146\n",
      "russian 0.40236910056598557\n",
      "european 0.3978449240445176\n",
      "space 0.39732086298233055\n",
      "drone 0.3863883144128891\n",
      "nasa 0.36942322670895683\n"
     ]
    }
   ],
   "source": [
    "composition = wordVecsHN[token2indexHN['spacex']] -  wordVecsHN[token2indexHN['elon']] \n",
    "getNearestWord(wordVecsHN, composition.reshape(1,-1), index2tokenHN)"
   ]
  },
  {
   "cell_type": "code",
   "execution_count": 40,
   "metadata": {},
   "outputs": [
    {
     "name": "stdout",
     "output_type": "stream",
     "text": [
      "iphone 0.7204752256471292\n",
      "company 0.720475225647129\n",
      "apple 0.6854693037109383\n",
      "samsung 0.5895844455434436\n",
      "apples 0.47031419082988196\n",
      "sales 0.4666886286089246\n",
      "fbi 0.46557170407938653\n",
      "model 0.43213309304135006\n",
      "event 0.42229678129371356\n",
      "wireless 0.4140587022130082\n"
     ]
    }
   ],
   "source": [
    "composition = wordVecsHN[token2indexHN['company']] +  wordVecsHN[token2indexHN['iphone']]\n",
    "getNearestWord(wordVecsHN, composition.reshape(1,-1), index2tokenHN)"
   ]
  },
  {
   "cell_type": "code",
   "execution_count": 41,
   "metadata": {},
   "outputs": [
    {
     "name": "stdout",
     "output_type": "stream",
     "text": [
      "html 0.9455515802667784\n",
      "css 0.9455515802667782\n",
      "javascript 0.693414785389735\n",
      "react 0.6710683419079364\n",
      "components 0.6439407318952739\n",
      "generator 0.6266565658066717\n",
      "editor 0.6044300136038571\n",
      "plugin 0.5920971655858663\n",
      "style 0.5702265366980899\n",
      "ui 0.5474698451099583\n"
     ]
    }
   ],
   "source": [
    "composition = wordVecsHN[token2indexHN['html']] +  wordVecsHN[token2indexHN['css']]\n",
    "getNearestWord(wordVecsHN, composition.reshape(1,-1), index2tokenHN)"
   ]
  },
  {
   "cell_type": "code",
   "execution_count": 42,
   "metadata": {},
   "outputs": [
    {
     "name": "stdout",
     "output_type": "stream",
     "text": [
      "apples 0.6441218193934289\n",
      "apple 0.6386434939864155\n",
      "elon 0.6269261816622035\n",
      "tesla 0.5832571512305038\n",
      "musk 0.5817753957826801\n",
      "iphone 0.4700703805230217\n",
      "samsung 0.46640328225298616\n",
      "electric 0.436506949612381\n",
      "solar 0.4206986400900926\n",
      "model 0.4060169538285376\n"
     ]
    }
   ],
   "source": [
    "composition = wordVecsHN[token2indexHN['apple']] -  wordVecsHN[token2indexHN['steve']] +  wordVecsHN[token2indexHN['elon']]\n",
    "getNearestWord(wordVecsHN, composition.reshape(1,-1), index2tokenHN)"
   ]
  },
  {
   "cell_type": "markdown",
   "metadata": {},
   "source": [
    "### Referências\n",
    "\n",
    "- SERGEI TREIL, _Linear Algebra Done Wrong_. Brown University. Encontrado em http://www.math.brown.edu/streil/papers/LADW/LADW.html.\n",
    "- MONKEYLEARN, _Topic Modeling: An Introduction_. Encontrado em https://monkeylearn.com/blog/introduction-to-topic-modeling/.\n",
    "- MIT OPENCOURSEWARE (Gilbert Strang), _Singular Value Decomposition (the SVD)_. Encontrado em https://www.youtube.com/watch?v=mBcLRGuAFUk.\n",
    "- WHITE LOTHUS, _How do computers understand words? Introduction into word2vec_. Encontrado em https://www.youtube.com/watch?v=Fzz1HIigbxg.\n",
    "- Levy, Omer et al. (2014). “Neural word embedding as implicit matrix factorization”. In: NIPS, pp. 2177–2185.\n",
    "- OMER L., YOAV G., IDO D., _Improving Distributional Similarity with Lessons Learned from Word Embeddings_. Encontrado em https://transacl.org/ojs/index.php/tacl/article/view/570.\n",
    "- STANFORD UNIVERSITY, _Chapter 6 Speech and Language Processing (3rd ed) -- Stanford University_. Encontrado em https://web.stanford.edu/~jurafsky/slp3/6.pdf."
   ]
  }
 ],
 "metadata": {
  "interpreter": {
   "hash": "916dbcbb3f70747c44a77c7bcd40155683ae19c65e1c03b4aa3499c5328201f1"
  },
  "kernelspec": {
   "display_name": "Python 3 (ipykernel)",
   "language": "python",
   "name": "python3"
  },
  "language_info": {
   "codemirror_mode": {
    "name": "ipython",
    "version": 3
   },
   "file_extension": ".py",
   "mimetype": "text/x-python",
   "name": "python",
   "nbconvert_exporter": "python",
   "pygments_lexer": "ipython3",
   "version": "3.8.10"
  }
 },
 "nbformat": 4,
 "nbformat_minor": 2
}
