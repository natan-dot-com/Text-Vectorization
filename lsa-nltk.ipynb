{
 "cells": [
  {
   "cell_type": "code",
   "metadata": {
    "tags": [],
    "cell_id": "00003-57cee989-fbe1-4bcb-90a3-43df88445b77",
    "deepnote_to_be_reexecuted": false,
    "source_hash": "c688cd3f",
    "execution_start": 1636077115410,
    "execution_millis": 1563,
    "deepnote_cell_type": "code"
   },
   "source": "import pandas as pd\nimport seaborn as sns\nimport matplotlib.pyplot as plt\nimport numpy as np\nfrom sklearn.feature_extraction.text import CountVectorizer\nfrom sklearn.decomposition import TruncatedSVD",
   "outputs": [],
   "execution_count": 1
  },
  {
   "cell_type": "code",
   "metadata": {
    "tags": [],
    "cell_id": "00001-da56e00c-22f4-4f91-855b-0b4512ef9d5f",
    "deepnote_to_be_reexecuted": false,
    "source_hash": "2a4ad9e3",
    "execution_start": 1636077116981,
    "execution_millis": 1973,
    "deepnote_cell_type": "code"
   },
   "source": "df = pd.read_csv('steam_reviews.csv')",
   "outputs": [],
   "execution_count": 2
  },
  {
   "cell_type": "code",
   "metadata": {
    "tags": [],
    "cell_id": "00009-3912e55b-151f-4744-aa06-ef9edd488c27",
    "deepnote_to_be_reexecuted": false,
    "source_hash": "951729f6",
    "execution_start": 1636077118961,
    "execution_millis": 18294,
    "deepnote_cell_type": "code"
   },
   "source": "# dataframe = df.sample(100000, random_state=42)\ndataframe = df\ndataframe['review'] = dataframe['review'].str.replace('\\d+', '') #remove digits\ndataframe['review'] = dataframe['review'].str.replace(r'(\\b\\w{1,2}\\b)', '') #remove less than 3 letters words\ndataframe['review'] = dataframe['review'].str.replace('[^\\w\\s]', '') #remove punctuations\nbody = np.array(dataframe['review'].astype(str))",
   "outputs": [
    {
     "name": "stderr",
     "text": "/shared-libs/python3.7/py-core/lib/python3.7/site-packages/ipykernel_launcher.py:3: FutureWarning: The default value of regex will change from True to False in a future version.\n  This is separate from the ipykernel package so we can avoid doing imports until\n/shared-libs/python3.7/py-core/lib/python3.7/site-packages/ipykernel_launcher.py:4: FutureWarning: The default value of regex will change from True to False in a future version.\n  after removing the cwd from sys.path.\n/shared-libs/python3.7/py-core/lib/python3.7/site-packages/ipykernel_launcher.py:5: FutureWarning: The default value of regex will change from True to False in a future version.\n  \"\"\"\n",
     "output_type": "stream"
    }
   ],
   "execution_count": 3
  },
  {
   "cell_type": "code",
   "metadata": {
    "tags": [],
    "cell_id": "00008-4f36f785-b306-4e07-a04f-62f60a368696",
    "deepnote_to_be_reexecuted": false,
    "source_hash": "c93d4411",
    "execution_start": 1636077137267,
    "execution_millis": 261648,
    "deepnote_cell_type": "code"
   },
   "source": "from nltk import word_tokenize          \nfrom nltk.stem import WordNetLemmatizer\nfrom nltk.tokenize import RegexpTokenizer \n\nclass LemmaTokenizer(object):\n    def __init__(self):\n        self.wnl = WordNetLemmatizer()\n    def __call__(self, articles):\n        return [self.wnl.lemmatize(t) for t in word_tokenize(articles)]\n\nvec = CountVectorizer(tokenizer=LemmaTokenizer(), strip_accents='ascii', stop_words='english')\nbag_of_words = vec.fit_transform(body)",
   "outputs": [
    {
     "name": "stderr",
     "text": "/shared-libs/python3.7/py/lib/python3.7/site-packages/sklearn/feature_extraction/text.py:401: UserWarning: Your stop_words may be inconsistent with your preprocessing. Tokenizing the stop words generated tokens ['ha', 'le', 'u', 'wa'] not in stop_words.\n  % sorted(inconsistent)\n",
     "output_type": "stream"
    }
   ],
   "execution_count": 4
  },
  {
   "cell_type": "code",
   "metadata": {
    "tags": [],
    "cell_id": "00010-e3479205-f8f5-433b-95ee-adb556bbda80",
    "deepnote_to_be_reexecuted": false,
    "source_hash": "7b8a2c16",
    "execution_start": 1636077398965,
    "execution_millis": 7875,
    "deepnote_cell_type": "code"
   },
   "source": "n_components = 10\nsvd = TruncatedSVD(n_components=n_components)\nlsa = svd.fit_transform(bag_of_words)",
   "outputs": [],
   "execution_count": 5
  },
  {
   "cell_type": "code",
   "metadata": {
    "tags": [],
    "cell_id": "00011-2beed5c3-da90-4b06-ba1b-92743666e321",
    "deepnote_to_be_reexecuted": false,
    "source_hash": "d2ab0d5c",
    "execution_start": 1636077406846,
    "execution_millis": 2,
    "deepnote_cell_type": "code"
   },
   "source": "columns = [f'Topic_{i}'for i in range(n_components)]\nx = ['body']\nx.extend(columns)\nx",
   "outputs": [
    {
     "output_type": "execute_result",
     "execution_count": 6,
     "data": {
      "text/plain": "['body',\n 'Topic_0',\n 'Topic_1',\n 'Topic_2',\n 'Topic_3',\n 'Topic_4',\n 'Topic_5',\n 'Topic_6',\n 'Topic_7',\n 'Topic_8',\n 'Topic_9']"
     },
     "metadata": {}
    }
   ],
   "execution_count": 6
  },
  {
   "cell_type": "code",
   "metadata": {
    "tags": [],
    "cell_id": "00011-3565d295-e682-45a6-a63b-2e84b5727f12",
    "deepnote_to_be_reexecuted": false,
    "source_hash": "35c02b50",
    "execution_start": 1636077406859,
    "execution_millis": 6,
    "deepnote_cell_type": "code"
   },
   "source": "topic_df = pd.DataFrame(lsa, columns = columns)\ntopic_df[\"body\"] = body",
   "outputs": [],
   "execution_count": 7
  },
  {
   "cell_type": "code",
   "metadata": {
    "tags": [],
    "cell_id": "00013-37b90cc5-75a7-4f73-9364-8a35548d1aa9",
    "deepnote_to_be_reexecuted": false,
    "source_hash": "3bf57ec5",
    "execution_start": 1636077407088,
    "execution_millis": 130,
    "deepnote_cell_type": "code"
   },
   "source": "dictionary = vec.get_feature_names_out()",
   "outputs": [],
   "execution_count": 8
  },
  {
   "cell_type": "code",
   "metadata": {
    "tags": [],
    "cell_id": "00014-30e01c28-05dc-4f07-9f6c-e0a82e3d15aa",
    "deepnote_to_be_reexecuted": false,
    "source_hash": "7450f2f6",
    "execution_start": 1636077407246,
    "execution_millis": 37,
    "deepnote_cell_type": "code"
   },
   "source": "enconding_matrix = pd.DataFrame(svd.components_,\n                                index=columns,\n                                columns=dictionary).T",
   "outputs": [],
   "execution_count": 9
  },
  {
   "cell_type": "code",
   "metadata": {
    "tags": [],
    "cell_id": "00015-28cba90b-4c0e-48db-b7ee-dac5486177f3",
    "deepnote_to_be_reexecuted": false,
    "source_hash": "e41de003",
    "execution_start": 1636077407295,
    "execution_millis": 37,
    "deepnote_cell_type": "code"
   },
   "source": "for topic in columns:\n    enconding_matrix[f'abs_{topic}'] = np.abs(enconding_matrix[topic])",
   "outputs": [],
   "execution_count": 10
  },
  {
   "cell_type": "code",
   "metadata": {
    "tags": [],
    "cell_id": "00018-eca777c5-ab98-48dc-a801-3bf79d2ba046",
    "deepnote_to_be_reexecuted": false,
    "source_hash": "61493f2c",
    "execution_start": 1636077407343,
    "execution_millis": 1118,
    "deepnote_cell_type": "code"
   },
   "source": "for topic in columns:\n    abs_column = f'abs_{topic}'\n    print('\\n\\n', abs_column)\n    print(enconding_matrix.sort_values(abs_column, ascending=False).head(5))",
   "outputs": [
    {
     "name": "stdout",
     "text": "\n\n abs_Topic_0\n       Topic_0   Topic_1   Topic_2   Topic_3   Topic_4   Topic_5   Topic_6  \\\ngame  0.880385 -0.071898 -0.036985 -0.012733 -0.074007 -0.005343 -0.000037   \nbad   0.255875 -0.023508 -0.014813 -0.040111 -0.285748 -0.032076 -0.005643   \njust  0.096241 -0.006920 -0.003053  0.007556  0.057866  0.006705  0.001465   \nplay  0.095117 -0.007097 -0.003071  0.006341  0.048784  0.005087  0.000872   \nlike  0.093150 -0.006698 -0.002989  0.006476  0.053850  0.006043  0.001225   \n\n       Topic_7   Topic_8   Topic_9  abs_Topic_0  abs_Topic_1  abs_Topic_2  \\\ngame -0.010643 -0.004916 -0.017098     0.880385     0.071898     0.036985   \nbad  -0.200786 -0.118365  0.691203     0.255875     0.023508     0.014813   \njust  0.041304  0.026731 -0.141512     0.096241     0.006920     0.003053   \nplay  0.035945  0.021410 -0.128346     0.095117     0.007097     0.003071   \nlike  0.035492  0.023779 -0.126311     0.093150     0.006698     0.002989   \n\n      abs_Topic_3  abs_Topic_4  abs_Topic_5  abs_Topic_6  abs_Topic_7  \\\ngame     0.012733     0.074007     0.005343     0.000037     0.010643   \nbad      0.040111     0.285748     0.032076     0.005643     0.200786   \njust     0.007556     0.057866     0.006705     0.001465     0.041304   \nplay     0.006341     0.048784     0.005087     0.000872     0.035945   \nlike     0.006476     0.053850     0.006043     0.001225     0.035492   \n\n      abs_Topic_8  abs_Topic_9  \ngame     0.004916     0.017098  \nbad      0.118365     0.691203  \njust     0.026731     0.141512  \nplay     0.021410     0.128346  \nlike     0.023779     0.126311  \n\n\n abs_Topic_1\n       Topic_0   Topic_1   Topic_2   Topic_3   Topic_4   Topic_5   Topic_6  \\\nyes   0.080919  0.996711  0.001228 -0.000239 -0.001821 -0.000190 -0.000023   \ngame  0.880385 -0.071898 -0.036985 -0.012733 -0.074007 -0.005343 -0.000037   \nbad   0.255875 -0.023508 -0.014813 -0.040111 -0.285748 -0.032076 -0.005643   \nplay  0.095117 -0.007097 -0.003071  0.006341  0.048784  0.005087  0.000872   \njust  0.096241 -0.006920 -0.003053  0.007556  0.057866  0.006705  0.001465   \n\n       Topic_7   Topic_8   Topic_9  abs_Topic_0  abs_Topic_1  abs_Topic_2  \\\nyes  -0.001025 -0.000614  0.003310     0.080919     0.996711     0.001228   \ngame -0.010643 -0.004916 -0.017098     0.880385     0.071898     0.036985   \nbad  -0.200786 -0.118365  0.691203     0.255875     0.023508     0.014813   \nplay  0.035945  0.021410 -0.128346     0.095117     0.007097     0.003071   \njust  0.041304  0.026731 -0.141512     0.096241     0.006920     0.003053   \n\n      abs_Topic_3  abs_Topic_4  abs_Topic_5  abs_Topic_6  abs_Topic_7  \\\nyes      0.000239     0.001821     0.000190     0.000023     0.001025   \ngame     0.012733     0.074007     0.005343     0.000037     0.010643   \nbad      0.040111     0.285748     0.032076     0.005643     0.200786   \nplay     0.006341     0.048784     0.005087     0.000872     0.035945   \njust     0.007556     0.057866     0.006705     0.001465     0.041304   \n\n      abs_Topic_8  abs_Topic_9  \nyes      0.000614     0.003310  \ngame     0.004916     0.017098  \nbad      0.118365     0.691203  \nplay     0.021410     0.128346  \njust     0.026731     0.141512  \n\n\n abs_Topic_2\n         Topic_0   Topic_1   Topic_2   Topic_3   Topic_4   Topic_5   Topic_6  \\\nlag     0.041217 -0.004595  0.995796 -0.000508 -0.002323 -0.000480 -0.000174   \nlaglag  0.002497 -0.000311  0.081388 -0.000112 -0.000534 -0.000116 -0.000048   \ngame    0.880385 -0.071898 -0.036985 -0.012733 -0.074007 -0.005343 -0.000037   \nbad     0.255875 -0.023508 -0.014813 -0.040111 -0.285748 -0.032076 -0.005643   \nbuy     0.080283 -0.006817 -0.004078 -0.003933 -0.030958 -0.002927  0.000831   \n\n         Topic_7   Topic_8   Topic_9  abs_Topic_0  abs_Topic_1  abs_Topic_2  \\\nlag    -0.001652 -0.001012  0.004249     0.041217     0.004595     0.995796   \nlaglag -0.000444 -0.000275  0.001222     0.002497     0.000311     0.081388   \ngame   -0.010643 -0.004916 -0.017098     0.880385     0.071898     0.036985   \nbad    -0.200786 -0.118365  0.691203     0.255875     0.023508     0.014813   \nbuy    -0.007545 -0.009850  0.012736     0.080283     0.006817     0.004078   \n\n        abs_Topic_3  abs_Topic_4  abs_Topic_5  abs_Topic_6  abs_Topic_7  \\\nlag        0.000508     0.002323     0.000480     0.000174     0.001652   \nlaglag     0.000112     0.000534     0.000116     0.000048     0.000444   \ngame       0.012733     0.074007     0.005343     0.000037     0.010643   \nbad        0.040111     0.285748     0.032076     0.005643     0.200786   \nbuy        0.003933     0.030958     0.002927     0.000831     0.007545   \n\n        abs_Topic_8  abs_Topic_9  \nlag        0.001012     0.004249  \nlaglag     0.000275     0.001222  \ngame       0.004916     0.017098  \nbad        0.118365     0.691203  \nbuy        0.009850     0.012736  \n\n\n abs_Topic_3\n              Topic_0   Topic_1   Topic_2   Topic_3   Topic_4   Topic_5  \\\nchina        0.003822 -0.000312 -0.000053  0.615954 -0.038909 -0.004506   \nlock         0.004414 -0.000349 -0.000076  0.604494 -0.038252 -0.004956   \nregion       0.004343 -0.000341 -0.000027  0.405637 -0.025250 -0.003109   \nnumber       0.004734 -0.000348 -0.000144  0.213547 -0.011355 -0.001122   \nchinaregion  0.000377 -0.000034 -0.000009  0.199053 -0.013161 -0.001863   \n\n              Topic_6   Topic_7   Topic_8   Topic_9  abs_Topic_0  abs_Topic_1  \\\nchina       -0.001646 -0.011637 -0.001852  0.014668     0.003822     0.000312   \nlock         0.000510 -0.012218 -0.002471  0.016453     0.004414     0.000349   \nregion       0.000016 -0.006924 -0.001564  0.009339     0.004343     0.000341   \nnumber      -0.001552 -0.002231  0.000776 -0.001145     0.004734     0.000348   \nchinaregion  0.000495 -0.005105 -0.001115  0.007176     0.000377     0.000034   \n\n             abs_Topic_2  abs_Topic_3  abs_Topic_4  abs_Topic_5  abs_Topic_6  \\\nchina           0.000053     0.615954     0.038909     0.004506     0.001646   \nlock            0.000076     0.604494     0.038252     0.004956     0.000510   \nregion          0.000027     0.405637     0.025250     0.003109     0.000016   \nnumber          0.000144     0.213547     0.011355     0.001122     0.001552   \nchinaregion     0.000009     0.199053     0.013161     0.001863     0.000495   \n\n             abs_Topic_7  abs_Topic_8  abs_Topic_9  \nchina           0.011637     0.001852     0.014668  \nlock            0.012218     0.002471     0.016453  \nregion          0.006924     0.001564     0.009339  \nnumber          0.002231     0.000776     0.001145  \nchinaregion     0.005105     0.001115     0.007176  \n\n\n abs_Topic_4\n         Topic_0   Topic_1   Topic_2   Topic_3   Topic_4   Topic_5   Topic_6  \\\nreally  0.069269 -0.005234 -0.002498  0.044475  0.908346 -0.228602 -0.002941   \nbad     0.255875 -0.023508 -0.014813 -0.040111 -0.285748 -0.032076 -0.005643   \nshot    0.014004 -0.001074 -0.000222  0.011607  0.140276  0.694411 -0.001385   \nnice    0.014350 -0.001070 -0.000480  0.010776  0.138072  0.679975 -0.001477   \ngame    0.880385 -0.071898 -0.036985 -0.012733 -0.074007 -0.005343 -0.000037   \n\n         Topic_7   Topic_8   Topic_9  abs_Topic_0  abs_Topic_1  abs_Topic_2  \\\nreally -0.131415 -0.077754  0.298978     0.069269     0.005234     0.002498   \nbad    -0.200786 -0.118365  0.691203     0.255875     0.023508     0.014813   \nshot   -0.038883 -0.025735  0.071038     0.014004     0.001074     0.000222   \nnice   -0.040023 -0.027375  0.071129     0.014350     0.001070     0.000480   \ngame   -0.010643 -0.004916 -0.017098     0.880385     0.071898     0.036985   \n\n        abs_Topic_3  abs_Topic_4  abs_Topic_5  abs_Topic_6  abs_Topic_7  \\\nreally     0.044475     0.908346     0.228602     0.002941     0.131415   \nbad        0.040111     0.285748     0.032076     0.005643     0.200786   \nshot       0.011607     0.140276     0.694411     0.001385     0.038883   \nnice       0.010776     0.138072     0.679975     0.001477     0.040023   \ngame       0.012733     0.074007     0.005343     0.000037     0.010643   \n\n        abs_Topic_8  abs_Topic_9  \nreally     0.077754     0.298978  \nbad        0.118365     0.691203  \nshot       0.025735     0.071038  \nnice       0.027375     0.071129  \ngame       0.004916     0.017098  \n\n\n abs_Topic_5\n         Topic_0   Topic_1   Topic_2   Topic_3   Topic_4   Topic_5   Topic_6  \\\nshot    0.014004 -0.001074 -0.000222  0.011607  0.140276  0.694411 -0.001385   \nnice    0.014350 -0.001070 -0.000480  0.010776  0.138072  0.679975 -0.001477   \nreally  0.069269 -0.005234 -0.002498  0.044475  0.908346 -0.228602 -0.002941   \nbad     0.255875 -0.023508 -0.014813 -0.040111 -0.285748 -0.032076 -0.005643   \nhacker  0.020482 -0.001494 -0.000493  0.006217  0.013121  0.021355  0.000499   \n\n         Topic_7   Topic_8   Topic_9  abs_Topic_0  abs_Topic_1  abs_Topic_2  \\\nshot   -0.038883 -0.025735  0.071038     0.014004     0.001074     0.000222   \nnice   -0.040023 -0.027375  0.071129     0.014350     0.001070     0.000480   \nreally -0.131415 -0.077754  0.298978     0.069269     0.005234     0.002498   \nbad    -0.200786 -0.118365  0.691203     0.255875     0.023508     0.014813   \nhacker  0.007777  0.003163 -0.025103     0.020482     0.001494     0.000493   \n\n        abs_Topic_3  abs_Topic_4  abs_Topic_5  abs_Topic_6  abs_Topic_7  \\\nshot       0.011607     0.140276     0.694411     0.001385     0.038883   \nnice       0.010776     0.138072     0.679975     0.001477     0.040023   \nreally     0.044475     0.908346     0.228602     0.002941     0.131415   \nbad        0.040111     0.285748     0.032076     0.005643     0.200786   \nhacker     0.006217     0.013121     0.021355     0.000499     0.007777   \n\n        abs_Topic_8  abs_Topic_9  \nshot       0.025735     0.071038  \nnice       0.027375     0.071129  \nreally     0.077754     0.298978  \nbad        0.118365     0.691203  \nhacker     0.003163     0.025103  \n\n\n abs_Topic_6\n                                 Topic_0       Topic_1   Topic_2   Topic_3  \\\nregionlockchina                 0.000228 -2.120621e-05  0.000126  0.000622   \nregionlockchinaregionlockchina  0.000003 -3.436198e-07  0.000029  0.000020   \ncheater                         0.012944 -9.966166e-04 -0.000271  0.012299   \nhit                             0.015209 -1.165742e-03 -0.000216  0.005916   \nbad                             0.255875 -2.350772e-02 -0.014813 -0.040111   \n\n                                 Topic_4   Topic_5   Topic_6   Topic_7  \\\nregionlockchina                 0.000247  0.000815  0.999097 -0.014441   \nregionlockchinaregionlockchina  0.000007  0.000028  0.036956 -0.000537   \ncheater                         0.027858  0.007851  0.011147  0.879510   \nhit                             0.041115  0.017987  0.007034  0.376216   \nbad                            -0.285748 -0.032076 -0.005643 -0.200786   \n\n                                 Topic_8   Topic_9  abs_Topic_0   abs_Topic_1  \\\nregionlockchina                -0.002590  0.002459     0.000228  2.120621e-05   \nregionlockchinaregionlockchina -0.000097  0.000100     0.000003  3.436198e-07   \ncheater                        -0.435445  0.187609     0.012944  9.966166e-04   \nhit                             0.882996  0.275179     0.015209  1.165742e-03   \nbad                            -0.118365  0.691203     0.255875  2.350772e-02   \n\n                                abs_Topic_2  abs_Topic_3  abs_Topic_4  \\\nregionlockchina                    0.000126     0.000622     0.000247   \nregionlockchinaregionlockchina     0.000029     0.000020     0.000007   \ncheater                            0.000271     0.012299     0.027858   \nhit                                0.000216     0.005916     0.041115   \nbad                                0.014813     0.040111     0.285748   \n\n                                abs_Topic_5  abs_Topic_6  abs_Topic_7  \\\nregionlockchina                    0.000815     0.999097     0.014441   \nregionlockchinaregionlockchina     0.000028     0.036956     0.000537   \ncheater                            0.007851     0.011147     0.879510   \nhit                                0.017987     0.007034     0.376216   \nbad                                0.032076     0.005643     0.200786   \n\n                                abs_Topic_8  abs_Topic_9  \nregionlockchina                    0.002590     0.002459  \nregionlockchinaregionlockchina     0.000097     0.000100  \ncheater                            0.435445     0.187609  \nhit                                0.882996     0.275179  \nbad                                0.118365     0.691203  \n\n\n abs_Topic_7\n          Topic_0   Topic_1   Topic_2   Topic_3   Topic_4   Topic_5   Topic_6  \\\ncheater  0.012944 -0.000997 -0.000271  0.012299  0.027858  0.007851  0.011147   \nhit      0.015209 -0.001166 -0.000216  0.005916  0.041115  0.017987  0.007034   \nbad      0.255875 -0.023508 -0.014813 -0.040111 -0.285748 -0.032076 -0.005643   \nreally   0.069269 -0.005234 -0.002498  0.044475  0.908346 -0.228602 -0.002941   \njust     0.096241 -0.006920 -0.003053  0.007556  0.057866  0.006705  0.001465   \n\n          Topic_7   Topic_8   Topic_9  abs_Topic_0  abs_Topic_1  abs_Topic_2  \\\ncheater  0.879510 -0.435445  0.187609     0.012944     0.000997     0.000271   \nhit      0.376216  0.882996  0.275179     0.015209     0.001166     0.000216   \nbad     -0.200786 -0.118365  0.691203     0.255875     0.023508     0.014813   \nreally  -0.131415 -0.077754  0.298978     0.069269     0.005234     0.002498   \njust     0.041304  0.026731 -0.141512     0.096241     0.006920     0.003053   \n\n         abs_Topic_3  abs_Topic_4  abs_Topic_5  abs_Topic_6  abs_Topic_7  \\\ncheater     0.012299     0.027858     0.007851     0.011147     0.879510   \nhit         0.005916     0.041115     0.017987     0.007034     0.376216   \nbad         0.040111     0.285748     0.032076     0.005643     0.200786   \nreally      0.044475     0.908346     0.228602     0.002941     0.131415   \njust        0.007556     0.057866     0.006705     0.001465     0.041304   \n\n         abs_Topic_8  abs_Topic_9  \ncheater     0.435445     0.187609  \nhit         0.882996     0.275179  \nbad         0.118365     0.691203  \nreally      0.077754     0.298978  \njust        0.026731     0.141512  \n\n\n abs_Topic_8\n          Topic_0   Topic_1   Topic_2   Topic_3   Topic_4   Topic_5   Topic_6  \\\nhit      0.015209 -0.001166 -0.000216  0.005916  0.041115  0.017987  0.007034   \ncheater  0.012944 -0.000997 -0.000271  0.012299  0.027858  0.007851  0.011147   \nbad      0.255875 -0.023508 -0.014813 -0.040111 -0.285748 -0.032076 -0.005643   \nreally   0.069269 -0.005234 -0.002498  0.044475  0.908346 -0.228602 -0.002941   \nnice     0.014350 -0.001070 -0.000480  0.010776  0.138072  0.679975 -0.001477   \n\n          Topic_7   Topic_8   Topic_9  abs_Topic_0  abs_Topic_1  abs_Topic_2  \\\nhit      0.376216  0.882996  0.275179     0.015209     0.001166     0.000216   \ncheater  0.879510 -0.435445  0.187609     0.012944     0.000997     0.000271   \nbad     -0.200786 -0.118365  0.691203     0.255875     0.023508     0.014813   \nreally  -0.131415 -0.077754  0.298978     0.069269     0.005234     0.002498   \nnice    -0.040023 -0.027375  0.071129     0.014350     0.001070     0.000480   \n\n         abs_Topic_3  abs_Topic_4  abs_Topic_5  abs_Topic_6  abs_Topic_7  \\\nhit         0.005916     0.041115     0.017987     0.007034     0.376216   \ncheater     0.012299     0.027858     0.007851     0.011147     0.879510   \nbad         0.040111     0.285748     0.032076     0.005643     0.200786   \nreally      0.044475     0.908346     0.228602     0.002941     0.131415   \nnice        0.010776     0.138072     0.679975     0.001477     0.040023   \n\n         abs_Topic_8  abs_Topic_9  \nhit         0.882996     0.275179  \ncheater     0.435445     0.187609  \nbad         0.118365     0.691203  \nreally      0.077754     0.298978  \nnice        0.027375     0.071129  \n\n\n abs_Topic_9\n          Topic_0   Topic_1   Topic_2   Topic_3   Topic_4   Topic_5   Topic_6  \\\nbad      0.255875 -0.023508 -0.014813 -0.040111 -0.285748 -0.032076 -0.005643   \nreally   0.069269 -0.005234 -0.002498  0.044475  0.908346 -0.228602 -0.002941   \nhit      0.015209 -0.001166 -0.000216  0.005916  0.041115  0.017987  0.007034   \ncheater  0.012944 -0.000997 -0.000271  0.012299  0.027858  0.007851  0.011147   \njust     0.096241 -0.006920 -0.003053  0.007556  0.057866  0.006705  0.001465   \n\n          Topic_7   Topic_8   Topic_9  abs_Topic_0  abs_Topic_1  abs_Topic_2  \\\nbad     -0.200786 -0.118365  0.691203     0.255875     0.023508     0.014813   \nreally  -0.131415 -0.077754  0.298978     0.069269     0.005234     0.002498   \nhit      0.376216  0.882996  0.275179     0.015209     0.001166     0.000216   \ncheater  0.879510 -0.435445  0.187609     0.012944     0.000997     0.000271   \njust     0.041304  0.026731 -0.141512     0.096241     0.006920     0.003053   \n\n         abs_Topic_3  abs_Topic_4  abs_Topic_5  abs_Topic_6  abs_Topic_7  \\\nbad         0.040111     0.285748     0.032076     0.005643     0.200786   \nreally      0.044475     0.908346     0.228602     0.002941     0.131415   \nhit         0.005916     0.041115     0.017987     0.007034     0.376216   \ncheater     0.012299     0.027858     0.007851     0.011147     0.879510   \njust        0.007556     0.057866     0.006705     0.001465     0.041304   \n\n         abs_Topic_8  abs_Topic_9  \nbad         0.118365     0.691203  \nreally      0.077754     0.298978  \nhit         0.882996     0.275179  \ncheater     0.435445     0.187609  \njust        0.026731     0.141512  \n",
     "output_type": "stream"
    }
   ],
   "execution_count": 11
  },
  {
   "cell_type": "code",
   "metadata": {
    "tags": [],
    "cell_id": "00019-a6262830-8fc8-4b96-91b9-119ec13027c4",
    "deepnote_to_be_reexecuted": false,
    "source_hash": "b623e53d",
    "execution_start": 1636077408465,
    "execution_millis": 693831,
    "deepnote_cell_type": "code"
   },
   "source": "",
   "outputs": [],
   "execution_count": 11
  },
  {
   "cell_type": "markdown",
   "source": "<a style='text-decoration:none;line-height:16px;display:flex;color:#5B5B62;padding:10px;justify-content:end;' href='https://deepnote.com?utm_source=created-in-deepnote-cell&projectId=e9ccb6fc-0232-4ed6-9cf8-093a8252a6f1' target=\"_blank\">\n<img alt='Created in deepnote.com' style='display:inline;max-height:16px;margin:0px;margin-right:7.5px;' src='data:image/svg+xml;base64,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' > </img>\nCreated in <span style='font-weight:600;margin-left:4px;'>Deepnote</span></a>",
   "metadata": {
    "tags": [],
    "created_in_deepnote_cell": true,
    "deepnote_cell_type": "markdown"
   }
  }
 ],
 "nbformat": 4,
 "nbformat_minor": 2,
 "metadata": {
  "deepnoteSessionId": "dea8a0f5-35e3-4468-94eb-804ff5fc7baa",
  "kernelspec": {
   "display_name": "Python 3",
   "language": "python",
   "name": "python3"
  },
  "language_info": {
   "codemirror_mode": {
    "name": "ipython",
    "version": 3
   },
   "file_extension": ".py",
   "mimetype": "text/x-python",
   "name": "python",
   "nbconvert_exporter": "python",
   "pygments_lexer": "ipython3",
   "version": "3.7.5"
  },
  "deepnote_execution_queue": [],
  "deepnote_notebook_id": "0f460af1-1872-4aa4-804e-36716dbf15fd",
  "deepnote": {}
 }
}