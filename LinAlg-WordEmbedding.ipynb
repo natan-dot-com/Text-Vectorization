{
 "cells": [
  {
   "cell_type": "markdown",
   "metadata": {},
   "source": [
    "## Projeto Final - Álgebra Linear e Aplicações (SME0142)\n",
    "Projeto confeccionado por Natan Sanches (11795680) e Álvaro José Lopes (10873365).\n",
    "\n",
    "- **Objetivo e tematização:** A temática utilizada para confecção do projeto foi a de construção de um _pipeline_ dentro do contexto de Processamento de Linguagem Natural. Um texto bruto pôde ser analisado, permitindo um estudo sobre cada palavra individualmente e sua relação com os contextos em sua vizinhança; técnica usualmente chamada de _Word Embedding_. A partir desse estudo, é possível vetorizar palavras e utilizar técnicas de Álgebra Linear para manipulá-las."
   ]
  },
  {
   "cell_type": "code",
   "execution_count": 1,
   "metadata": {},
   "outputs": [],
   "source": [
    "import warnings\n",
    "warnings.simplefilter(action='ignore', category=FutureWarning)\n",
    "from string import punctuation\n",
    "from nltk.corpus import stopwords\n",
    "from collections import Counter\n",
    "from scipy import sparse\n",
    "import numpy as np\n",
    "import pandas as pd\n",
    "import matplotlib.pyplot as plt"
   ]
  },
  {
   "cell_type": "markdown",
   "metadata": {},
   "source": [
    "### 1. Leitura do texto central\n",
    "Neste exemplo, utilizamos a romance Memórias Póstumas de Brás Cubas (clássico de Machado de Assis). O texto foi carregado a partir de um arquivo em disco, criando um _corpus_ (lista) de parágrafos disponíveis para manipulação."
   ]
  },
  {
   "cell_type": "code",
   "execution_count": 2,
   "metadata": {},
   "outputs": [],
   "source": [
    "# inputFile = \"data/memorias-postumas-bras-cubas.txt\"\n",
    "# language = 'portuguese'\n",
    "# with open(inputFile) as f:\n",
    "#     corpus = f.readlines()\n",
    "#     corpus = [paragraph.rstrip() for paragraph in corpus if paragraph != '\\n']"
   ]
  },
  {
   "cell_type": "code",
   "execution_count": 3,
   "metadata": {
    "scrolled": false
   },
   "outputs": [],
   "source": [
    "inputFile = \"data/memorias-postumas-bras-cubas.txt\"\n",
    "language = 'portuguese'\n",
    "with open(inputFile) as f:\n",
    "    corpus = f.readlines()\n",
    "    \n",
    "cleanedCorpus = []\n",
    "fullSentence = ''\n",
    "for sentence in corpus:\n",
    "    if sentence == '\\n':\n",
    "        if 'CAPÍTULO' not in fullSentence:\n",
    "            cleanedCorpus.append(fullSentence.replace('\\n', ''))\n",
    "        fullSentence = ''\n",
    "    \n",
    "    fullSentence += ' ' + sentence\n",
    "corpus = cleanedCorpus"
   ]
  },
  {
   "cell_type": "markdown",
   "metadata": {},
   "source": [
    "### 2. Pré-processamento do texto"
   ]
  },
  {
   "cell_type": "markdown",
   "metadata": {},
   "source": [
    "Como em todo projeto envolvendo processamento de língua natural, é necessário que seja feito um pré-processamento que permite consistência na hora da análise textual. Dentre as técnicas de processamento realizadas, estão:\n",
    "\n",
    "- Eliminação de conflitos case-sensitive, isto é, transformando todas as letras maiúsculas em minúsculas.\n",
    "- Eliminação de caracteres não UTF-8, como uma maneira de preservar a consistência do texto.\n",
    "- Eliminação de pontuações e objetos textuais de sinalização, uma vez que estes não serão importantes para a análise.\n",
    "- Eliminação de _stop words_, ou palavras de parada (preposições, conjunções, etc), que não possuem contexto isolado."
   ]
  },
  {
   "cell_type": "code",
   "execution_count": 4,
   "metadata": {},
   "outputs": [],
   "source": [
    "punctranslation = str.maketrans(dict.fromkeys(punctuation))\n",
    "setStopwords = set(stopwords.words(language))\n",
    "\n",
    "\n",
    "# Realiza a tokenização e tratamento dos parágrafos do texto\n",
    "def tokenize(corpus: str) -> list:\n",
    "    corpusTokenized = []\n",
    "    for paragraph in corpus:\n",
    "        paragraph = paragraph.lower()                                       # Tratamento de case-sensitive\n",
    "        paragraph = paragraph.encode('utf8', 'ignore').decode()             # Eliminação de caracteres fora de UTF-8\n",
    "        paragraph = paragraph.translate(punctranslation)                    # Eliminação de pontuações\n",
    "        tokens = [token for token in paragraph.split()                      # Eliminação de stopwords\n",
    "                  if token not in setStopwords and token != '']\n",
    "        corpusTokenized.append(list(filter(None, tokens)))\n",
    "        \n",
    "    return corpusTokenized\n",
    "    \n",
    "corpusTokenized = tokenize(corpus)"
   ]
  },
  {
   "cell_type": "markdown",
   "metadata": {},
   "source": [
    "### 3. Contagem de unigramas do texto"
   ]
  },
  {
   "cell_type": "markdown",
   "metadata": {},
   "source": [
    "Realiza, para cada parágrafo, a contagem de frequência de cada _token_ do texto."
   ]
  },
  {
   "cell_type": "code",
   "execution_count": 8,
   "metadata": {},
   "outputs": [],
   "source": [
    "unigrams = Counter()\n",
    "for paragraph in corpusTokenized:\n",
    "    for token in paragraph:\n",
    "        unigrams[token] += 1\n",
    "\n",
    "# Mapeamento de acesso (Token <-> Índice representativo)\n",
    "token2index = {token: index for index, token in enumerate(unigrams.keys())}\n",
    "index2token = {index: token for token, index in token2index.items()}"
   ]
  },
  {
   "cell_type": "code",
   "execution_count": 9,
   "metadata": {},
   "outputs": [
    {
     "data": {
      "text/plain": [
       "10081"
      ]
     },
     "execution_count": 9,
     "metadata": {},
     "output_type": "execute_result"
    }
   ],
   "source": [
    "len(token2index)"
   ]
  },
  {
   "cell_type": "markdown",
   "metadata": {},
   "source": [
    "### 4. Contagem de bigramas do texto"
   ]
  },
  {
   "cell_type": "markdown",
   "metadata": {},
   "source": [
    "Realiza, para cada parágrafo, a contagem dos bigramas presentes. Um bigrama representa a ocorrência de um par palavra-contexto, de maneira com que o contexto esteja dentro da janela de contexto. Nesse caso, o _range_ da janela de contexto foi de três palavras (para frente e para trás)."
   ]
  },
  {
   "cell_type": "code",
   "execution_count": 10,
   "metadata": {},
   "outputs": [
    {
     "data": {
      "text/plain": [
       "[('quincas', 'borba', 66),\n",
       " ('borba', 'quincas', 66),\n",
       " ('d', 'plácida', 60),\n",
       " ('plácida', 'd', 60),\n",
       " ('alguma', 'coisa', 55),\n",
       " ('coisa', 'alguma', 55),\n",
       " ('lobo', 'neves', 51),\n",
       " ('neves', 'lobo', 51),\n",
       " ('tão', 'tão', 38),\n",
       " ('brás', 'cubas', 28)]"
      ]
     },
     "execution_count": 10,
     "metadata": {},
     "output_type": "execute_result"
    }
   ],
   "source": [
    "# Contador de bigramas, considerando uma determinada janela de contexto (nesse caso, 'gap'\n",
    "# palavras antes e 'gap' palavras depois)\n",
    "skipgrams = Counter()\n",
    "gap = 5\n",
    "\n",
    "for paragraph in corpusTokenized:\n",
    "    tokens = [token2index[tok] for tok in paragraph]\n",
    "    \n",
    "    # Para cada palavra no parágrafo, realiza a análise dos contextos da vizinhança\n",
    "    for indexWord, word in enumerate(paragraph):\n",
    "        indexContextMin = max(0, indexWord - gap)\n",
    "        indexContextMax = min(len(paragraph)-1, indexWord + gap)\n",
    "\n",
    "        # Para cada contexto da vizinhança, crie um bigrama com a palavra central\n",
    "        indexContexts = [index for index in range(indexContextMin, indexContextMax + 1) if index != indexWord]\n",
    "        for indexContext in indexContexts:\n",
    "            skipgram = (tokens[indexWord], tokens[indexContext])\n",
    "            skipgrams[skipgram] += 1\n",
    "\n",
    "# Exibição dos 10 bigramas mais comuns presentes no texto, considerando a janela de contexto estipulada\n",
    "mostCommon = [(index2token[skipgram[0][0]], index2token[skipgram[0][1]], skipgram[1]) \n",
    "               for skipgram in skipgrams.most_common(10)]\n",
    "mostCommon"
   ]
  },
  {
   "cell_type": "markdown",
   "metadata": {},
   "source": [
    "### 5. Criação da matriz de frequência termo-a-termo"
   ]
  },
  {
   "cell_type": "markdown",
   "metadata": {},
   "source": [
    "Criação da matriz que relaciona dois _tokens_ (um bigrama) ao seu devido número de ocorrências."
   ]
  },
  {
   "cell_type": "code",
   "execution_count": 15,
   "metadata": {},
   "outputs": [
    {
     "data": {
      "text/plain": [
       "<10081x10081 sparse matrix of type '<class 'numpy.int64'>'\n",
       "\twith 264457 stored elements in Compressed Sparse Row format>"
      ]
     },
     "execution_count": 15,
     "metadata": {},
     "output_type": "execute_result"
    }
   ],
   "source": [
    "# Mapeamento das entradas da matriz esparça de frequência entre os bigramas do texto\n",
    "rowsMatrix = []\n",
    "columnsMatrix = []\n",
    "dataMatrix = []\n",
    "\n",
    "for (token1, token2), skipgramCount in skipgrams.items():\n",
    "    rowsMatrix.append(token1)\n",
    "    columnsMatrix.append(token2)\n",
    "    dataMatrix.append(skipgramCount)\n",
    "\n",
    "wwMatrix = sparse.csr_matrix((dataMatrix, (rowsMatrix, columnsMatrix)))\n",
    "wwMatrix"
   ]
  },
  {
   "cell_type": "markdown",
   "metadata": {},
   "source": [
    "### 6. Criação da matriz PPMI"
   ]
  },
  {
   "cell_type": "markdown",
   "metadata": {},
   "source": [
    "O PMI (Pointwise Mutual Information) é uma métrica que relaciona a probabilidade de ocorrência de uma palavra em conjunto com certo contexto, quando comparada à ocorrência de ambos isolados. Dessa forma, para uma palavra $w$ relacionada a um contexto $c$, o PMI dentre elas é dado pela relação\n",
    "\n",
    "$$pmi(w, c) = \\log{\\left(\\dfrac{P(w, c)}{P(w)P(c)}\\right)}$$\n",
    "\n",
    "onde $P(w, c)$ representa a probabilidade de ocorrência de determinada palavra em determinado contexto, $P(w)$ representa a probabilidade de ocorrência de determinada palavra no texto e $P(c)$ representa a probabilidade de ocorrência de determinado contexto no texto. Munidos dessa informação, podemos eliminar a possibilidade de $pmi(w, c)$ assumir valores negativos utilizando sua variação denominada de PPMI (Positive Pointwise Mutual Information), dada por\n",
    "\n",
    "$$ppmi(w,c) = \\textrm{max}(0,\\ pmi(w, c)).$$\n",
    "\n",
    "A matriz PPMI $[M]_{n \\times n}$ é uma matriz quadrada que relaciona uma palavra $w$ e um contexto $c$ ao seu valor PPMI, de tal forma que $M(w, c) = ppmi(w, c)$."
   ]
  },
  {
   "cell_type": "code",
   "execution_count": 16,
   "metadata": {},
   "outputs": [
    {
     "data": {
      "text/plain": [
       "<10081x10081 sparse matrix of type '<class 'numpy.float64'>'\n",
       "\twith 264457 stored elements in Compressed Sparse Row format>"
      ]
     },
     "execution_count": 16,
     "metadata": {},
     "output_type": "execute_result"
    }
   ],
   "source": [
    "# Número total de bigramas presente na matriz de frequência\n",
    "numSkipgrams = wwMatrix.sum()\n",
    "\n",
    "# Mapeamento das entradas da matriz PPMI\n",
    "rowsIndex = []\n",
    "columnsIndex = []\n",
    "ppmiData = []\n",
    "\n",
    "# Vetor de frequência total de cada palavra em todos os possíveis contextos\n",
    "sumWords = np.array(wwMatrix.sum(axis=0)).flatten()\n",
    "\n",
    "# Vetor de frequência total de cada contexto para todas as possíveis palavras\n",
    "sumContexts = np.array(wwMatrix.sum(axis=1)).flatten()\n",
    "\n",
    "for (tokenWord, tokenContext), skipgramCount in skipgrams.items():\n",
    "\n",
    "    # Frequência de determinada palavra em determinado contexto\n",
    "    # [#(w,c)]\n",
    "    freqWordContext = skipgramCount\n",
    "\n",
    "    # Frequência de determinada palavra em todos os contextos possíveis\n",
    "    # [#(w)]\n",
    "    freqWord = sumContexts[tokenWord]\n",
    "    \n",
    "    # Frequência de determinado contexto para todas as palavras possíveis\n",
    "    # [#(c)]\n",
    "    freqContext = sumWords[tokenContext]\n",
    "\n",
    "    # Probabilidade de ocorrência de determinada palavra em determinado contexto\n",
    "    # [P(w,c)]\n",
    "    probWordContext = freqWordContext / numSkipgrams\n",
    "\n",
    "    # Probabilidade de ocorrência de determinada palavra individualmente\n",
    "    # [P(w)]\n",
    "    probWord = freqWord / numSkipgrams\n",
    "\n",
    "    # Probabilidade de ocorrência de determinado contexto individualmente\n",
    "    # [P(c)]\n",
    "    probContext = freqContext / numSkipgrams\n",
    "\n",
    "    # Cálculo PPMI (Positive Pointwise Mutual Information)\n",
    "    # [PPMI = max(0, log( P(w,c)/(P(w)P(c)) ))]\n",
    "    PPMI = max(np.log2(probWordContext / (probWord * probContext)), 0)\n",
    "\n",
    "    rowsIndex.append(tokenWord)\n",
    "    columnsIndex.append(tokenContext)\n",
    "    ppmiData.append(PPMI)\n",
    "\n",
    "ppmiMatrix = sparse.csr_matrix((ppmiData, (rowsIndex, columnsIndex)))\n",
    "ppmiMatrix"
   ]
  },
  {
   "cell_type": "code",
   "execution_count": 17,
   "metadata": {},
   "outputs": [],
   "source": [
    "# # Número total de bigramas presente na matriz de frequência\n",
    "# numSkipgrams = wwMatrix.sum()\n",
    "\n",
    "# # Mapeamento das entradas da matriz PPMI\n",
    "# rowsIndex = []\n",
    "# columnsIndex = []\n",
    "# ppmiData = []\n",
    "# sppmiData = []\n",
    "\n",
    "# # Vetor de frequência total de cada palavra em todos os possíveis contextos\n",
    "# sumWords = np.array(wwMatrix.sum(axis=0)).flatten()\n",
    "\n",
    "# # Vetor de frequência total de cada contexto para todas as possíveis palavras\n",
    "# sumContexts = np.array(wwMatrix.sum(axis=1)).flatten()\n",
    "\n",
    "# #smoothing\n",
    "# alpha = 0.75\n",
    "# sumOverWordsAlpha = sumWords**alpha\n",
    "# sumAllWordsAlpha = np.sum(sumOverWordsAlpha)\n",
    "\n",
    "\n",
    "\n",
    "\n",
    "# for (tokenWord, tokenContext), skipgramCount in skipgrams.items():\n",
    "\n",
    "#     # Frequência de determinada palavra em determinado contexto\n",
    "#     # [#(w,c)]\n",
    "#     freqWordContext = skipgramCount\n",
    "\n",
    "#     # Frequência de determinada palavra em todos os contextos possíveis\n",
    "#     # [#(w)]\n",
    "#     freqWord = sumContexts[tokenWord]\n",
    "    \n",
    "#     # Frequência de determinado contexto para todas as palavras possíveis\n",
    "#     # [#(c)]\n",
    "#     freqContext = sumWords[tokenContext]\n",
    "\n",
    "#     # Probabilidade de ocorrência de determinada palavra em determinado contexto\n",
    "#     # [P(w,c)]\n",
    "#     probWordContext = freqWordContext / numSkipgrams\n",
    "\n",
    "#     # Probabilidade de ocorrência de determinada palavra individualmente\n",
    "#     # [P(w)]\n",
    "#     probWord = freqWord / numSkipgrams\n",
    "\n",
    "#     # Probabilidade de ocorrência de determinado contexto individualmente\n",
    "#     # [P(c)]\n",
    "#     probContext = freqContext / numSkipgrams\n",
    "    \n",
    "#     nca = sumOverWordsAlpha[tokenContext]\n",
    "#     Pca = nca/sumAllWordsAlpha\n",
    "\n",
    "#     # Cálculo PPMI (Positive Pointwise Mutual Information)\n",
    "#     # [PPMI = max(0, log( P(w,c)/(P(w)P(c)) ))]\n",
    "#     PPMI = max(np.log2(probWordContext / (probWord * probContext)), 0)\n",
    "#     SPPMI = max(np.log2(probWordContext/ (probWord * Pca)), 0)\n",
    "\n",
    "#     rowsIndex.append(tokenWord)\n",
    "#     columnsIndex.append(tokenContext)\n",
    "#     ppmiData.append(PPMI)\n",
    "#     sppmiData.append(SPPMI)\n",
    "\n",
    "# ppmiMatrix = sparse.csr_matrix((sppmiData, (rowsIndex, columnsIndex)))\n"
   ]
  },
  {
   "cell_type": "markdown",
   "metadata": {},
   "source": [
    "### 7. Fatoração matricial usando SVD (Singular Value Decomposition)"
   ]
  },
  {
   "cell_type": "markdown",
   "metadata": {},
   "source": [
    "A Decomposição por Valor Singular (SVD) é uma maneira possível de fatorarmos a matriz esparça de PPMI, de maneira que possamos deixá-la mais densa. Uma matriz $[M]_{m \\times n}$ pode ser fatorada da forma\n",
    "\n",
    "$$M = U \\Sigma V^*$$\n",
    "\n",
    "onde $[U]_{m \\times m}$ é uma matriz unitária, $[\\Sigma]_{m \\times n}$ é uma matriz retangular diagonal e $[V^*]_{n \\times n}$ é uma matriz unitária (dita conjugada transposta de $V$). As entradas diagonais de $\\Sigma$ são os ditos valores singulares de $M$, enquanto o espaço-coluna de $U$ e $V$ contém os ditos vetores singulares à esquerda e à direita de $M$, respectivamente. "
   ]
  },
  {
   "cell_type": "code",
   "execution_count": 18,
   "metadata": {},
   "outputs": [],
   "source": [
    "from scipy.sparse.linalg import svds as SVD\n",
    "\n",
    "# Dimensão proposta da matriz de valores singulares produzida pelo SVD\n",
    "# [Hiperparâmetro]\n",
    "embeddingSize = 50\n",
    "\n",
    "U, D, V = SVD(ppmiMatrix, embeddingSize)\n",
    "\n",
    "# Normalização das matrizes de vetores singulares produzidas pelo SVD\n",
    "Unorm = U / np.sqrt(np.sum(U*U, axis=1, keepdims=True))\n",
    "Vnorm = V / np.sqrt(np.sum(V*V, axis=1, keepdims=True))\n",
    "\n",
    "wordVecs = Unorm"
   ]
  },
  {
   "cell_type": "markdown",
   "metadata": {},
   "source": [
    "### 8. Visualização de palavras similares por similaridade por cosseno"
   ]
  },
  {
   "cell_type": "markdown",
   "metadata": {},
   "source": [
    "A similaridade por cosseno é uma métrica de similaridade entre vetores que consiste em comparar o ângulo entre eles. Para dois vetores $u$ e $v$, a similaridade por cosseno pode ser descrita pela relação\n",
    "\n",
    "$$cos(\\theta) = \\dfrac{u \\cdot v}{||u||\\ ||v||} = \\dfrac{\\sum_{i=1}^n u_i v_i}{\\sqrt{\\sum_{i=1}^n u_i^{\\ 2}}\\ \\sqrt{\\sum_{i=1}^n v_i^{\\ 2}}}$$\n",
    "\n",
    "de tal forma que $\\theta$ descreve o ângulo entre esses vetores e $u \\cdot v$ é o produto escalar entre eles. Essa métrica de similiadade pode ser utilizada, em palavras vetorizadas, para medir o índice de relação entre uma palavra e um contexto.\n"
   ]
  },
  {
   "cell_type": "code",
   "execution_count": 19,
   "metadata": {},
   "outputs": [],
   "source": [
    "from sklearn.metrics.pairwise import cosine_similarity\n",
    "\n",
    "# Cálculo dos 10 contextos mais similares a dada palavra utilizando a matriz de Word Embedding\n",
    "def wordsSimilarity(word, matrix, n):\n",
    "    wordIndex = token2index[word]\n",
    "\n",
    "    # Resgate do vetor representante de determinada palavra\n",
    "    if isinstance(matrix, sparse.csr_matrix):\n",
    "        wordVec = matrix.getrow(wordIndex)\n",
    "    else:\n",
    "        wordVec = matrix[wordIndex:wordIndex+1, :]\n",
    "\n",
    "    # Cálculo da similidade (similaridade de vetores por cosseno)\n",
    "    similarity = cosine_similarity(matrix, wordVec).flatten()\n",
    "    sortedIndexes = np.argsort(-similarity)\n",
    "\n",
    "    # Retorno dos n contextos mais similares a dada palavra\n",
    "    similarityContextScores = [(index2token[sortedIndex], similarity[sortedIndex]) \n",
    "                                for sortedIndex in sortedIndexes[:n+1] \n",
    "                                if index2token[sortedIndex] != word]\n",
    "\n",
    "    return similarityContextScores\n",
    "\n",
    "def wordSimilarityReport(word, matrix, n=5):\n",
    "    print(f'\\'{word}\\'\\t Frequência total: {unigrams[word]}', end='\\n\\t')\n",
    "\n",
    "    similarityContextScores = wordsSimilarity(word, matrix, n)\n",
    "    for context, similarity in similarityContextScores:\n",
    "        print(f'(\\'{context}\\', {similarity})', end='\\t')\n",
    "    "
   ]
  },
  {
   "cell_type": "code",
   "execution_count": 20,
   "metadata": {},
   "outputs": [
    {
     "data": {
      "text/plain": [
       "144"
      ]
     },
     "execution_count": 20,
     "metadata": {},
     "output_type": "execute_result"
    }
   ],
   "source": [
    "token2index['defunto']"
   ]
  },
  {
   "cell_type": "code",
   "execution_count": 21,
   "metadata": {},
   "outputs": [
    {
     "name": "stdout",
     "output_type": "stream",
     "text": [
      "'defunto'\t Frequência total: 6\n",
      "\t('advirta', 0.676682234927071)\t('lorpa', 0.6308017421431621)\t('cainho', 0.6180469665573761)\t('campa', 0.6132712023548362)\t('autor', 0.6039702310183456)\t\n",
      "------------------------------------------------------------\n",
      "'autor'\t Frequência total: 6\n",
      "\t('campa', 0.8015306670497718)\t('consular', 0.6682211057473031)\t('oração', 0.6616975498015217)\t('cxxix', 0.658982017618673)\t('segunda', 0.6581954536921043)\t\n",
      "------------------------------------------------------------\n",
      "'brás'\t Frequência total: 30\n",
      "\t('cubas', 0.9590249110840328)\t('cumprimenta', 0.9334752781622581)\t('conhece', 0.9327818045344284)\t('fundou', 0.9317088514677981)\t('palerma', 0.9306099526251349)\t\n",
      "------------------------------------------------------------\n",
      "'coimbra'\t Frequência total: 5\n",
      "\t('esperavame', 0.7756773427023416)\t('primou', 0.7733086889708405)\t('desembarquei', 0.7597868505173543)\t('matérias', 0.7549887768954255)\t('estudou', 0.7524382032022116)\t\n",
      "------------------------------------------------------------\n",
      "'flagelos'\t Frequência total: 3\n",
      "\t('supostos', 0.7874067334236053)\t('radicalmente', 0.7820357237968668)\t('impediria', 0.7701535188964591)\t('doenças', 0.7526848276006253)\t('falso', 0.7292829606868466)\t\n",
      "------------------------------------------------------------\n",
      "'alegria'\t Frequência total: 15\n",
      "\t('paciente', 0.7641306883934303)\t('desabrochavam', 0.7599811253473377)\t('miravase', 0.7415056178703195)\t('pompa', 0.7343767854618477)\t('sistemática', 0.7258052728115307)\t\n",
      "------------------------------------------------------------\n",
      "'shakespeare'\t Frequência total: 3\n",
      "\t('retalhinho', 0.7519145780660247)\t('trágica', 0.6854360369129535)\t('cala', 0.6852666441352084)\t('garatujado', 0.6703352850134082)\t('orelha', 0.6537007408708456)\t\n",
      "------------------------------------------------------------\n",
      "'homem'\t Frequência total: 106\n",
      "\t('vestiase', 0.7251562336998595)\t('desarmado', 0.7185027088277822)\t('armavase', 0.7008606031568901)\t('construía', 0.6977993122661443)\t('contará', 0.6948188769958265)\t\n",
      "------------------------------------------------------------\n",
      "'luxo'\t Frequência total: 1\n",
      "\t('clássico', 0.9993410755278876)\t('vastas', 0.9644052959753237)\t('arandelas', 0.9507138761592899)\t('castiçais', 0.9244272907765616)\t('todos', 0.8472735726471659)\t\n",
      "------------------------------------------------------------\n",
      "'filósofo'\t Frequência total: 14\n",
      "\t('menores', 0.7605512835476482)\t('internos', 0.7461485652047988)\t('equivalia', 0.7074651215502396)\t('desacato', 0.7055695104136488)\t('condão', 0.69468044135661)\t\n",
      "------------------------------------------------------------\n",
      "'festa'\t Frequência total: 5\n",
      "\t('altares', 0.664404147729124)\t('acender', 0.6485135321571678)\t('pisoulhe', 0.6282922742122748)\t('amanhecer', 0.6232050393266337)\t('acercaramse', 0.604014612521216)\t\n",
      "------------------------------------------------------------\n",
      "'olhos'\t Frequência total: 138\n",
      "\t('pupilas', 0.8065212008624899)\t('órbitas', 0.7988063995648338)\t('fundas', 0.7924207522034645)\t('rolavam', 0.7835958475886758)\t('moles', 0.7782871297976398)\t\n",
      "------------------------------------------------------------\n",
      "'guerra'\t Frequência total: 5\n",
      "\t('eliminadas', 0.7800219969037802)\t('insurreição', 0.761228591830888)\t('murro', 0.6992413643790217)\t('derramado', 0.6679577268533144)\t('facada', 0.6657232585535423)\t\n",
      "------------------------------------------------------------\n",
      "'ensino'\t Frequência total: 1\n",
      "\t('emenda', 0.9810633549533306)\t('liberdade', 0.8423927182528758)\t('aplicava', 0.8358374664470536)\t('reparos', 0.7830032255611731)\t('irmão', 0.7650950479199408)\t\n",
      "------------------------------------------------------------\n",
      "'borba'\t Frequência total: 70\n",
      "\t('quincas', 0.9980051539838984)\t('vazia', 0.8952528701710389)\t('censura', 0.8849761487819283)\t('rejeitoua', 0.8583688368650183)\t('parapeito', 0.8546011990098115)\t\n",
      "------------------------------------------------------------\n",
      "'autor'\t Frequência total: 6\n",
      "\t('campa', 0.8015306670497718)\t('consular', 0.6682211057473031)\t('oração', 0.6616975498015217)\t('cxxix', 0.658982017618673)\t('segunda', 0.6581954536921043)\t\n",
      "------------------------------------------------------------\n",
      "'leitor'\t Frequência total: 38\n",
      "\t('desatentos', 0.8091117180151522)\t('enegreceu', 0.7958279138086997)\t('danoso', 0.7866456596290679)\t('padeceria', 0.7822012678430944)\t('espante', 0.762477699702517)\t\n",
      "------------------------------------------------------------\n"
     ]
    }
   ],
   "source": [
    "examples = ['defunto', 'autor', 'brás', 'coimbra', 'flagelos', 'alegria', 'shakespeare', 'homem', 'luxo',\n",
    "    'filósofo', 'festa', 'olhos', 'guerra', 'ensino', 'borba', 'autor', 'leitor']\n",
    "for word in examples:\n",
    "    wordSimilarityReport(word, wordVecs)\n",
    "    print('\\n'+'---'*20)"
   ]
  },
  {
   "cell_type": "code",
   "execution_count": 22,
   "metadata": {},
   "outputs": [
    {
     "name": "stdout",
     "output_type": "stream",
     "text": [
      "'defunto'\t Frequência total: 6\n",
      "\t('advirta', 0.676682234927071)\t('lorpa', 0.6308017421431621)\t('cainho', 0.6180469665573761)\t('campa', 0.6132712023548362)\t('autor', 0.6039702310183456)\t\n",
      "------------------------------------------------------------\n",
      "'brás'\t Frequência total: 30\n",
      "\t('cubas', 0.9590249110840328)\t('cumprimenta', 0.9334752781622581)\t('conhece', 0.9327818045344284)\t('fundou', 0.9317088514677981)\t('palerma', 0.9306099526251349)\t\n",
      "------------------------------------------------------------\n",
      "'coimbra'\t Frequência total: 5\n",
      "\t('esperavame', 0.7756773427023416)\t('primou', 0.7733086889708405)\t('desembarquei', 0.7597868505173543)\t('matérias', 0.7549887768954255)\t('estudou', 0.7524382032022116)\t\n",
      "------------------------------------------------------------\n",
      "'flagelo'\t Frequência total: 3\n",
      "\t('estigmada', 0.8522191638632841)\t('devastara', 0.8448597592831705)\t('inimiga', 0.7325149479572063)\t('apareciame', 0.710344563037053)\t('travessos', 0.7041247266396246)\t\n",
      "------------------------------------------------------------\n",
      "'alegria'\t Frequência total: 15\n",
      "\t('paciente', 0.7641306883934303)\t('desabrochavam', 0.7599811253473377)\t('miravase', 0.7415056178703195)\t('pompa', 0.7343767854618477)\t('sistemática', 0.7258052728115307)\t\n",
      "------------------------------------------------------------\n",
      "'shakespeare'\t Frequência total: 3\n",
      "\t('retalhinho', 0.7519145780660247)\t('trágica', 0.6854360369129535)\t('cala', 0.6852666441352084)\t('garatujado', 0.6703352850134082)\t('orelha', 0.6537007408708456)\t\n",
      "------------------------------------------------------------\n",
      "'homem'\t Frequência total: 106\n",
      "\t('vestiase', 0.7251562336998595)\t('desarmado', 0.7185027088277822)\t('armavase', 0.7008606031568901)\t('construía', 0.6977993122661443)\t('contará', 0.6948188769958265)\t\n",
      "------------------------------------------------------------\n",
      "'filósofo'\t Frequência total: 14\n",
      "\t('menores', 0.7605512835476482)\t('internos', 0.7461485652047988)\t('equivalia', 0.7074651215502396)\t('desacato', 0.7055695104136488)\t('condão', 0.69468044135661)\t\n",
      "------------------------------------------------------------\n",
      "'festa'\t Frequência total: 5\n",
      "\t('altares', 0.664404147729124)\t('acender', 0.6485135321571678)\t('pisoulhe', 0.6282922742122748)\t('amanhecer', 0.6232050393266337)\t('acercaramse', 0.604014612521216)\t\n",
      "------------------------------------------------------------\n",
      "'olho'\t Frequência total: 4\n",
      "\t('trave', 0.7639273611924601)\t('cavour', 0.7528757904216197)\t('argueiro', 0.7355253080825582)\t('fitálo', 0.7312682607858936)\t('esporão', 0.7080028405745319)\t\n",
      "------------------------------------------------------------\n",
      "'guerra'\t Frequência total: 5\n",
      "\t('eliminadas', 0.7800219969037802)\t('insurreição', 0.761228591830888)\t('murro', 0.6992413643790217)\t('derramado', 0.6679577268533144)\t('facada', 0.6657232585535423)\t\n",
      "------------------------------------------------------------\n",
      "'faculdade'\t Frequência total: 2\n",
      "\t('pertence', 0.7987001274409956)\t('excelso', 0.7599612673314443)\t('faquir', 0.7494357206942662)\t('embelezase', 0.7294103362044064)\t('aprende', 0.7170387378380981)\t\n",
      "------------------------------------------------------------\n",
      "'borba'\t Frequência total: 70\n",
      "\t('quincas', 0.9980051539838984)\t('vazia', 0.8952528701710389)\t('censura', 0.8849761487819283)\t('rejeitoua', 0.8583688368650183)\t('parapeito', 0.8546011990098115)\t\n",
      "------------------------------------------------------------\n",
      "'leitor'\t Frequência total: 38\n",
      "\t('desatentos', 0.8091117180151522)\t('enegreceu', 0.7958279138086997)\t('danoso', 0.7866456596290679)\t('padeceria', 0.7822012678430944)\t('espante', 0.762477699702517)\t\n",
      "------------------------------------------------------------\n"
     ]
    }
   ],
   "source": [
    "# Com lemmatização\n",
    "examples = ['defunto', 'brás', 'coimbra', 'flagelo', 'alegria', 'shakespeare', 'homem',\n",
    "    'filósofo', 'festa', 'olho', 'guerra', 'faculdade', 'borba', 'leitor']\n",
    "for word in examples:\n",
    "    wordSimilarityReport(word, wordVecs)\n",
    "    print('\\n'+'---'*20)"
   ]
  },
  {
   "cell_type": "markdown",
   "metadata": {},
   "source": [
    "### 9. Visualizando as palavras através de um ScatterPlot interativo"
   ]
  },
  {
   "cell_type": "markdown",
   "metadata": {},
   "source": [
    "Para que seja possível plotar as palavras é preciso realizar uma redução de dimensionalidade nos dados, uma vez que a dimensão dos vetores de *embedding* é maior do que dois.\n",
    "\n",
    "Serão testados dois métodos de redução de dimensionalidade:\n",
    "* PCA (*Principal Component Analysis*): Promove uma transformação linear ortogonal nos dados, projetando-os em uma nova base que preserva o máximo possível da variância dos dados. Dessa forma, ao longo da primeira coordenada (primeira componente) tem-se a maior variância e, analogamente, ao longo da segunda coordenada (segunda componente) tem-se a segunda maior variância.\n",
    "\n",
    "* t-SNE (*T-distributed Stochastic Neighbor Embedding*): Método estatístico que estabelece uma distribuição de probabilidade para todos os pares de pontos de tal forma que para pontos similares (pontos próximos a partir de uma dada métrica) serão atribuídas uma alta probabilidade, enquanto para pontos dissimilares (pontos distantes) serão atribuídas uma baixa probabilidade. A métrica escolhida será o cosseno.\n",
    "\n",
    "Após a redução de dimensionalidade será possível plotar as palavras em um espaço euclideano de duas dimensões, em que cada ponto representa uma palavra."
   ]
  },
  {
   "cell_type": "code",
   "execution_count": 23,
   "metadata": {},
   "outputs": [],
   "source": [
    "def createWordVecsDataFrame(reducedWordVecs, token2index):\n",
    "    # Criando um dicionário para cada palavra e seu respectivo vetor após redução de dimensionalidade\n",
    "    dictReducedWordVecs = {}\n",
    "    for word, index in token2index.items():\n",
    "        dictReducedWordVecs[word] = reducedWordVecs[index]\n",
    "\n",
    "    # Instanciando o dataframe a partir do dicionario criado acima\n",
    "    dfWordVecs = pd.DataFrame.from_dict(\n",
    "        data = dictReducedWordVecs,\n",
    "        orient = 'index',\n",
    "        columns = ['x', 'y']\n",
    "    )\n",
    "    dfWordVecs['word'] = dfWordVecs.index\n",
    "    \n",
    "    return dfWordVecs"
   ]
  },
  {
   "cell_type": "code",
   "execution_count": 24,
   "metadata": {},
   "outputs": [
    {
     "data": {
      "text/html": [
       "\n",
       "    <div class=\"bk-root\">\n",
       "        <a href=\"https://bokeh.org\" target=\"_blank\" class=\"bk-logo bk-logo-small bk-logo-notebook\"></a>\n",
       "        <span id=\"1002\">Loading BokehJS ...</span>\n",
       "    </div>"
      ]
     },
     "metadata": {},
     "output_type": "display_data"
    },
    {
     "data": {
      "application/javascript": [
       "\n",
       "(function(root) {\n",
       "  function now() {\n",
       "    return new Date();\n",
       "  }\n",
       "\n",
       "  const force = true;\n",
       "\n",
       "  if (typeof root._bokeh_onload_callbacks === \"undefined\" || force === true) {\n",
       "    root._bokeh_onload_callbacks = [];\n",
       "    root._bokeh_is_loading = undefined;\n",
       "  }\n",
       "\n",
       "  const JS_MIME_TYPE = 'application/javascript';\n",
       "  const HTML_MIME_TYPE = 'text/html';\n",
       "  const EXEC_MIME_TYPE = 'application/vnd.bokehjs_exec.v0+json';\n",
       "  const CLASS_NAME = 'output_bokeh rendered_html';\n",
       "\n",
       "  /**\n",
       "   * Render data to the DOM node\n",
       "   */\n",
       "  function render(props, node) {\n",
       "    const script = document.createElement(\"script\");\n",
       "    node.appendChild(script);\n",
       "  }\n",
       "\n",
       "  /**\n",
       "   * Handle when an output is cleared or removed\n",
       "   */\n",
       "  function handleClearOutput(event, handle) {\n",
       "    const cell = handle.cell;\n",
       "\n",
       "    const id = cell.output_area._bokeh_element_id;\n",
       "    const server_id = cell.output_area._bokeh_server_id;\n",
       "    // Clean up Bokeh references\n",
       "    if (id != null && id in Bokeh.index) {\n",
       "      Bokeh.index[id].model.document.clear();\n",
       "      delete Bokeh.index[id];\n",
       "    }\n",
       "\n",
       "    if (server_id !== undefined) {\n",
       "      // Clean up Bokeh references\n",
       "      const cmd_clean = \"from bokeh.io.state import curstate; print(curstate().uuid_to_server['\" + server_id + \"'].get_sessions()[0].document.roots[0]._id)\";\n",
       "      cell.notebook.kernel.execute(cmd_clean, {\n",
       "        iopub: {\n",
       "          output: function(msg) {\n",
       "            const id = msg.content.text.trim();\n",
       "            if (id in Bokeh.index) {\n",
       "              Bokeh.index[id].model.document.clear();\n",
       "              delete Bokeh.index[id];\n",
       "            }\n",
       "          }\n",
       "        }\n",
       "      });\n",
       "      // Destroy server and session\n",
       "      const cmd_destroy = \"import bokeh.io.notebook as ion; ion.destroy_server('\" + server_id + \"')\";\n",
       "      cell.notebook.kernel.execute(cmd_destroy);\n",
       "    }\n",
       "  }\n",
       "\n",
       "  /**\n",
       "   * Handle when a new output is added\n",
       "   */\n",
       "  function handleAddOutput(event, handle) {\n",
       "    const output_area = handle.output_area;\n",
       "    const output = handle.output;\n",
       "\n",
       "    // limit handleAddOutput to display_data with EXEC_MIME_TYPE content only\n",
       "    if ((output.output_type != \"display_data\") || (!Object.prototype.hasOwnProperty.call(output.data, EXEC_MIME_TYPE))) {\n",
       "      return\n",
       "    }\n",
       "\n",
       "    const toinsert = output_area.element.find(\".\" + CLASS_NAME.split(' ')[0]);\n",
       "\n",
       "    if (output.metadata[EXEC_MIME_TYPE][\"id\"] !== undefined) {\n",
       "      toinsert[toinsert.length - 1].firstChild.textContent = output.data[JS_MIME_TYPE];\n",
       "      // store reference to embed id on output_area\n",
       "      output_area._bokeh_element_id = output.metadata[EXEC_MIME_TYPE][\"id\"];\n",
       "    }\n",
       "    if (output.metadata[EXEC_MIME_TYPE][\"server_id\"] !== undefined) {\n",
       "      const bk_div = document.createElement(\"div\");\n",
       "      bk_div.innerHTML = output.data[HTML_MIME_TYPE];\n",
       "      const script_attrs = bk_div.children[0].attributes;\n",
       "      for (let i = 0; i < script_attrs.length; i++) {\n",
       "        toinsert[toinsert.length - 1].firstChild.setAttribute(script_attrs[i].name, script_attrs[i].value);\n",
       "        toinsert[toinsert.length - 1].firstChild.textContent = bk_div.children[0].textContent\n",
       "      }\n",
       "      // store reference to server id on output_area\n",
       "      output_area._bokeh_server_id = output.metadata[EXEC_MIME_TYPE][\"server_id\"];\n",
       "    }\n",
       "  }\n",
       "\n",
       "  function register_renderer(events, OutputArea) {\n",
       "\n",
       "    function append_mime(data, metadata, element) {\n",
       "      // create a DOM node to render to\n",
       "      const toinsert = this.create_output_subarea(\n",
       "        metadata,\n",
       "        CLASS_NAME,\n",
       "        EXEC_MIME_TYPE\n",
       "      );\n",
       "      this.keyboard_manager.register_events(toinsert);\n",
       "      // Render to node\n",
       "      const props = {data: data, metadata: metadata[EXEC_MIME_TYPE]};\n",
       "      render(props, toinsert[toinsert.length - 1]);\n",
       "      element.append(toinsert);\n",
       "      return toinsert\n",
       "    }\n",
       "\n",
       "    /* Handle when an output is cleared or removed */\n",
       "    events.on('clear_output.CodeCell', handleClearOutput);\n",
       "    events.on('delete.Cell', handleClearOutput);\n",
       "\n",
       "    /* Handle when a new output is added */\n",
       "    events.on('output_added.OutputArea', handleAddOutput);\n",
       "\n",
       "    /**\n",
       "     * Register the mime type and append_mime function with output_area\n",
       "     */\n",
       "    OutputArea.prototype.register_mime_type(EXEC_MIME_TYPE, append_mime, {\n",
       "      /* Is output safe? */\n",
       "      safe: true,\n",
       "      /* Index of renderer in `output_area.display_order` */\n",
       "      index: 0\n",
       "    });\n",
       "  }\n",
       "\n",
       "  // register the mime type if in Jupyter Notebook environment and previously unregistered\n",
       "  if (root.Jupyter !== undefined) {\n",
       "    const events = require('base/js/events');\n",
       "    const OutputArea = require('notebook/js/outputarea').OutputArea;\n",
       "\n",
       "    if (OutputArea.prototype.mime_types().indexOf(EXEC_MIME_TYPE) == -1) {\n",
       "      register_renderer(events, OutputArea);\n",
       "    }\n",
       "  }\n",
       "\n",
       "  \n",
       "  if (typeof (root._bokeh_timeout) === \"undefined\" || force === true) {\n",
       "    root._bokeh_timeout = Date.now() + 5000;\n",
       "    root._bokeh_failed_load = false;\n",
       "  }\n",
       "\n",
       "  const NB_LOAD_WARNING = {'data': {'text/html':\n",
       "     \"<div style='background-color: #fdd'>\\n\"+\n",
       "     \"<p>\\n\"+\n",
       "     \"BokehJS does not appear to have successfully loaded. If loading BokehJS from CDN, this \\n\"+\n",
       "     \"may be due to a slow or bad network connection. Possible fixes:\\n\"+\n",
       "     \"</p>\\n\"+\n",
       "     \"<ul>\\n\"+\n",
       "     \"<li>re-rerun `output_notebook()` to attempt to load from CDN again, or</li>\\n\"+\n",
       "     \"<li>use INLINE resources instead, as so:</li>\\n\"+\n",
       "     \"</ul>\\n\"+\n",
       "     \"<code>\\n\"+\n",
       "     \"from bokeh.resources import INLINE\\n\"+\n",
       "     \"output_notebook(resources=INLINE)\\n\"+\n",
       "     \"</code>\\n\"+\n",
       "     \"</div>\"}};\n",
       "\n",
       "  function display_loaded() {\n",
       "    const el = document.getElementById(\"1002\");\n",
       "    if (el != null) {\n",
       "      el.textContent = \"BokehJS is loading...\";\n",
       "    }\n",
       "    if (root.Bokeh !== undefined) {\n",
       "      if (el != null) {\n",
       "        el.textContent = \"BokehJS \" + root.Bokeh.version + \" successfully loaded.\";\n",
       "      }\n",
       "    } else if (Date.now() < root._bokeh_timeout) {\n",
       "      setTimeout(display_loaded, 100)\n",
       "    }\n",
       "  }\n",
       "\n",
       "\n",
       "  function run_callbacks() {\n",
       "    try {\n",
       "      root._bokeh_onload_callbacks.forEach(function(callback) {\n",
       "        if (callback != null)\n",
       "          callback();\n",
       "      });\n",
       "    } finally {\n",
       "      delete root._bokeh_onload_callbacks\n",
       "    }\n",
       "    console.debug(\"Bokeh: all callbacks have finished\");\n",
       "  }\n",
       "\n",
       "  function load_libs(css_urls, js_urls, callback) {\n",
       "    if (css_urls == null) css_urls = [];\n",
       "    if (js_urls == null) js_urls = [];\n",
       "\n",
       "    root._bokeh_onload_callbacks.push(callback);\n",
       "    if (root._bokeh_is_loading > 0) {\n",
       "      console.debug(\"Bokeh: BokehJS is being loaded, scheduling callback at\", now());\n",
       "      return null;\n",
       "    }\n",
       "    if (js_urls == null || js_urls.length === 0) {\n",
       "      run_callbacks();\n",
       "      return null;\n",
       "    }\n",
       "    console.debug(\"Bokeh: BokehJS not loaded, scheduling load and callback at\", now());\n",
       "    root._bokeh_is_loading = css_urls.length + js_urls.length;\n",
       "\n",
       "    function on_load() {\n",
       "      root._bokeh_is_loading--;\n",
       "      if (root._bokeh_is_loading === 0) {\n",
       "        console.debug(\"Bokeh: all BokehJS libraries/stylesheets loaded\");\n",
       "        run_callbacks()\n",
       "      }\n",
       "    }\n",
       "\n",
       "    function on_error(url) {\n",
       "      console.error(\"failed to load \" + url);\n",
       "    }\n",
       "\n",
       "    for (let i = 0; i < css_urls.length; i++) {\n",
       "      const url = css_urls[i];\n",
       "      const element = document.createElement(\"link\");\n",
       "      element.onload = on_load;\n",
       "      element.onerror = on_error.bind(null, url);\n",
       "      element.rel = \"stylesheet\";\n",
       "      element.type = \"text/css\";\n",
       "      element.href = url;\n",
       "      console.debug(\"Bokeh: injecting link tag for BokehJS stylesheet: \", url);\n",
       "      document.body.appendChild(element);\n",
       "    }\n",
       "\n",
       "    for (let i = 0; i < js_urls.length; i++) {\n",
       "      const url = js_urls[i];\n",
       "      const element = document.createElement('script');\n",
       "      element.onload = on_load;\n",
       "      element.onerror = on_error.bind(null, url);\n",
       "      element.async = false;\n",
       "      element.src = url;\n",
       "      console.debug(\"Bokeh: injecting script tag for BokehJS library: \", url);\n",
       "      document.head.appendChild(element);\n",
       "    }\n",
       "  };\n",
       "\n",
       "  function inject_raw_css(css) {\n",
       "    const element = document.createElement(\"style\");\n",
       "    element.appendChild(document.createTextNode(css));\n",
       "    document.body.appendChild(element);\n",
       "  }\n",
       "\n",
       "  \n",
       "  const js_urls = [\"https://cdn.bokeh.org/bokeh/release/bokeh-2.4.2.min.js\", \"https://cdn.bokeh.org/bokeh/release/bokeh-gl-2.4.2.min.js\", \"https://cdn.bokeh.org/bokeh/release/bokeh-widgets-2.4.2.min.js\", \"https://cdn.bokeh.org/bokeh/release/bokeh-tables-2.4.2.min.js\", \"https://cdn.bokeh.org/bokeh/release/bokeh-mathjax-2.4.2.min.js\"];\n",
       "  const css_urls = [];\n",
       "  \n",
       "\n",
       "  const inline_js = [\n",
       "    function(Bokeh) {\n",
       "      Bokeh.set_log_level(\"info\");\n",
       "    },\n",
       "    function(Bokeh) {\n",
       "    \n",
       "    \n",
       "    }\n",
       "  ];\n",
       "\n",
       "  function run_inline_js() {\n",
       "    \n",
       "    if (root.Bokeh !== undefined || force === true) {\n",
       "      \n",
       "    for (let i = 0; i < inline_js.length; i++) {\n",
       "      inline_js[i].call(root, root.Bokeh);\n",
       "    }\n",
       "    if (force === true) {\n",
       "        display_loaded();\n",
       "      }} else if (Date.now() < root._bokeh_timeout) {\n",
       "      setTimeout(run_inline_js, 100);\n",
       "    } else if (!root._bokeh_failed_load) {\n",
       "      console.log(\"Bokeh: BokehJS failed to load within specified timeout.\");\n",
       "      root._bokeh_failed_load = true;\n",
       "    } else if (force !== true) {\n",
       "      const cell = $(document.getElementById(\"1002\")).parents('.cell').data().cell;\n",
       "      cell.output_area.append_execute_result(NB_LOAD_WARNING)\n",
       "    }\n",
       "\n",
       "  }\n",
       "\n",
       "  if (root._bokeh_is_loading === 0) {\n",
       "    console.debug(\"Bokeh: BokehJS loaded, going straight to plotting\");\n",
       "    run_inline_js();\n",
       "  } else {\n",
       "    load_libs(css_urls, js_urls, function() {\n",
       "      console.debug(\"Bokeh: BokehJS plotting callback run at\", now());\n",
       "      run_inline_js();\n",
       "    });\n",
       "  }\n",
       "}(window));"
      ],
      "application/vnd.bokehjs_load.v0+json": "\n(function(root) {\n  function now() {\n    return new Date();\n  }\n\n  const force = true;\n\n  if (typeof root._bokeh_onload_callbacks === \"undefined\" || force === true) {\n    root._bokeh_onload_callbacks = [];\n    root._bokeh_is_loading = undefined;\n  }\n\n  \n\n  \n  if (typeof (root._bokeh_timeout) === \"undefined\" || force === true) {\n    root._bokeh_timeout = Date.now() + 5000;\n    root._bokeh_failed_load = false;\n  }\n\n  const NB_LOAD_WARNING = {'data': {'text/html':\n     \"<div style='background-color: #fdd'>\\n\"+\n     \"<p>\\n\"+\n     \"BokehJS does not appear to have successfully loaded. If loading BokehJS from CDN, this \\n\"+\n     \"may be due to a slow or bad network connection. Possible fixes:\\n\"+\n     \"</p>\\n\"+\n     \"<ul>\\n\"+\n     \"<li>re-rerun `output_notebook()` to attempt to load from CDN again, or</li>\\n\"+\n     \"<li>use INLINE resources instead, as so:</li>\\n\"+\n     \"</ul>\\n\"+\n     \"<code>\\n\"+\n     \"from bokeh.resources import INLINE\\n\"+\n     \"output_notebook(resources=INLINE)\\n\"+\n     \"</code>\\n\"+\n     \"</div>\"}};\n\n  function display_loaded() {\n    const el = document.getElementById(\"1002\");\n    if (el != null) {\n      el.textContent = \"BokehJS is loading...\";\n    }\n    if (root.Bokeh !== undefined) {\n      if (el != null) {\n        el.textContent = \"BokehJS \" + root.Bokeh.version + \" successfully loaded.\";\n      }\n    } else if (Date.now() < root._bokeh_timeout) {\n      setTimeout(display_loaded, 100)\n    }\n  }\n\n\n  function run_callbacks() {\n    try {\n      root._bokeh_onload_callbacks.forEach(function(callback) {\n        if (callback != null)\n          callback();\n      });\n    } finally {\n      delete root._bokeh_onload_callbacks\n    }\n    console.debug(\"Bokeh: all callbacks have finished\");\n  }\n\n  function load_libs(css_urls, js_urls, callback) {\n    if (css_urls == null) css_urls = [];\n    if (js_urls == null) js_urls = [];\n\n    root._bokeh_onload_callbacks.push(callback);\n    if (root._bokeh_is_loading > 0) {\n      console.debug(\"Bokeh: BokehJS is being loaded, scheduling callback at\", now());\n      return null;\n    }\n    if (js_urls == null || js_urls.length === 0) {\n      run_callbacks();\n      return null;\n    }\n    console.debug(\"Bokeh: BokehJS not loaded, scheduling load and callback at\", now());\n    root._bokeh_is_loading = css_urls.length + js_urls.length;\n\n    function on_load() {\n      root._bokeh_is_loading--;\n      if (root._bokeh_is_loading === 0) {\n        console.debug(\"Bokeh: all BokehJS libraries/stylesheets loaded\");\n        run_callbacks()\n      }\n    }\n\n    function on_error(url) {\n      console.error(\"failed to load \" + url);\n    }\n\n    for (let i = 0; i < css_urls.length; i++) {\n      const url = css_urls[i];\n      const element = document.createElement(\"link\");\n      element.onload = on_load;\n      element.onerror = on_error.bind(null, url);\n      element.rel = \"stylesheet\";\n      element.type = \"text/css\";\n      element.href = url;\n      console.debug(\"Bokeh: injecting link tag for BokehJS stylesheet: \", url);\n      document.body.appendChild(element);\n    }\n\n    for (let i = 0; i < js_urls.length; i++) {\n      const url = js_urls[i];\n      const element = document.createElement('script');\n      element.onload = on_load;\n      element.onerror = on_error.bind(null, url);\n      element.async = false;\n      element.src = url;\n      console.debug(\"Bokeh: injecting script tag for BokehJS library: \", url);\n      document.head.appendChild(element);\n    }\n  };\n\n  function inject_raw_css(css) {\n    const element = document.createElement(\"style\");\n    element.appendChild(document.createTextNode(css));\n    document.body.appendChild(element);\n  }\n\n  \n  const js_urls = [\"https://cdn.bokeh.org/bokeh/release/bokeh-2.4.2.min.js\", \"https://cdn.bokeh.org/bokeh/release/bokeh-gl-2.4.2.min.js\", \"https://cdn.bokeh.org/bokeh/release/bokeh-widgets-2.4.2.min.js\", \"https://cdn.bokeh.org/bokeh/release/bokeh-tables-2.4.2.min.js\", \"https://cdn.bokeh.org/bokeh/release/bokeh-mathjax-2.4.2.min.js\"];\n  const css_urls = [];\n  \n\n  const inline_js = [\n    function(Bokeh) {\n      Bokeh.set_log_level(\"info\");\n    },\n    function(Bokeh) {\n    \n    \n    }\n  ];\n\n  function run_inline_js() {\n    \n    if (root.Bokeh !== undefined || force === true) {\n      \n    for (let i = 0; i < inline_js.length; i++) {\n      inline_js[i].call(root, root.Bokeh);\n    }\n    if (force === true) {\n        display_loaded();\n      }} else if (Date.now() < root._bokeh_timeout) {\n      setTimeout(run_inline_js, 100);\n    } else if (!root._bokeh_failed_load) {\n      console.log(\"Bokeh: BokehJS failed to load within specified timeout.\");\n      root._bokeh_failed_load = true;\n    } else if (force !== true) {\n      const cell = $(document.getElementById(\"1002\")).parents('.cell').data().cell;\n      cell.output_area.append_execute_result(NB_LOAD_WARNING)\n    }\n\n  }\n\n  if (root._bokeh_is_loading === 0) {\n    console.debug(\"Bokeh: BokehJS loaded, going straight to plotting\");\n    run_inline_js();\n  } else {\n    load_libs(css_urls, js_urls, function() {\n      console.debug(\"Bokeh: BokehJS plotting callback run at\", now());\n      run_inline_js();\n    });\n  }\n}(window));"
     },
     "metadata": {},
     "output_type": "display_data"
    }
   ],
   "source": [
    "# Configurando a ferramenta interativa com o notebook\n",
    "from bokeh.plotting import figure, show, output_notebook\n",
    "from bokeh.models import HoverTool, ColumnDataSource, value\n",
    "\n",
    "output_notebook()\n",
    "\n",
    "\n",
    "def interativePlot(df, title = None, xlabel = None, ylabel = None):\n",
    "    # Instancia uma ColumnDAtaSource do Bokeh usando o dataframe\n",
    "    data = ColumnDataSource(df)\n",
    "\n",
    "    # Cria o plot e configura:\n",
    "    # título, dimensões e ferramentas interativas\n",
    "    plot = figure(\n",
    "        title= title,\n",
    "        plot_width=800,\n",
    "        plot_height=800,\n",
    "        tools=(\n",
    "            'pan, wheel_zoom, box_zoom,'\n",
    "            'box_select, reset',\n",
    "            HoverTool(tooltips = '@word')\n",
    "            ),\n",
    "        active_scroll='wheel_zoom',\n",
    "        x_axis_label = xlabel,\n",
    "        y_axis_label = ylabel\n",
    "        )\n",
    "\n",
    "    # Desenha os circulos representado as palavras\n",
    "    plot.circle(\n",
    "        'x',\n",
    "        'y',\n",
    "        source=data,\n",
    "        color='blue',\n",
    "        line_alpha=0.2,\n",
    "        fill_alpha=0.1,\n",
    "        size=10,\n",
    "        hover_line_color='black'\n",
    "        )\n",
    "\n",
    "    # Configuração de outros detalhes visuais\n",
    "    plot.xaxis.visible = False\n",
    "    plot.yaxis.visible = False\n",
    "    plot.grid.grid_line_color = None\n",
    "    plot.outline_line_color = None\n",
    "\n",
    "\n",
    "    show(plot);\n"
   ]
  },
  {
   "cell_type": "code",
   "execution_count": 25,
   "metadata": {},
   "outputs": [
    {
     "name": "stdout",
     "output_type": "stream",
     "text": [
      "[0.02281797 0.02260608]\n"
     ]
    },
    {
     "data": {
      "text/html": [
       "\n",
       "\n",
       "\n",
       "\n",
       "\n",
       "\n",
       "  <div class=\"bk-root\" id=\"18b0f601-da86-434a-91ec-bc7af627f822\" data-root-id=\"1005\"></div>\n"
      ]
     },
     "metadata": {},
     "output_type": "display_data"
    },
    {
     "data": {
      "application/javascript": [
       "(function(root) {\n",
       "  function embed_document(root) {\n",
       "    \n",
       "  const docs_json = {\"a23e1ba4-dee8-48b6-a08e-d5bb58149587\":{\"defs\":[],\"roots\":{\"references\":[{\"attributes\":{\"below\":[{\"id\":\"1016\"}],\"center\":[{\"id\":\"1019\"},{\"id\":\"1023\"}],\"height\":800,\"left\":[{\"id\":\"1020\"}],\"outline_line_color\":null,\"renderers\":[{\"id\":\"1043\"}],\"title\":{\"id\":\"1006\"},\"toolbar\":{\"id\":\"1031\"},\"width\":800,\"x_range\":{\"id\":\"1008\"},\"x_scale\":{\"id\":\"1012\"},\"y_range\":{\"id\":\"1010\"},\"y_scale\":{\"id\":\"1014\"}},\"id\":\"1005\",\"subtype\":\"Figure\",\"type\":\"Plot\"},{\"attributes\":{\"fill_alpha\":{\"value\":0.1},\"fill_color\":{\"value\":\"blue\"},\"hatch_color\":{\"value\":\"blue\"},\"line_alpha\":{\"value\":0.2},\"size\":{\"value\":10},\"x\":{\"field\":\"x\"},\"y\":{\"field\":\"y\"}},\"id\":\"1041\",\"type\":\"Circle\"},{\"attributes\":{},\"id\":\"1052\",\"type\":\"UnionRenderers\"},{\"attributes\":{},\"id\":\"1053\",\"type\":\"Selection\"},{\"attributes\":{},\"id\":\"1012\",\"type\":\"LinearScale\"},{\"attributes\":{\"data\":{\"index\":[\"reclus\\u00e3o\",\"conde\",\"habilidade\",\"cidades\",\"en\\u00e9rgica\",\"complica\",\"papel\",\"procurei\",\"doceira\",\"por\\u00e9m\",\"selei\",\"essencial\",\"narizes\",\"condicional\",\"madeixas\",\"agradar\",\"comer\",\"condenado\",\"zangada\",\"despeitado\",\"culta\",\"metime\",\"umas\",\"ateniense\",\"desencanto\",\"dom\\u00e9sticas\",\"algo\",\"tom\\u00e1s\",\"v\\u00ea\",\"perdidaouves\",\"nenhuma\",\"s\\u00e9rios\",\"dissesse\",\"impassibilidade\",\"enxada\",\"tarda\",\"pr\\u00eamio\",\"afastandome\",\"mist\\u00e9rio\",\"hebreus\",\"surda\",\"galhos\",\"oposicionistas\",\"fustigueio\",\"praias\",\"biliosos\",\"joelho\",\"c\\u00e1\",\"vertiginosa\",\"rec\\u00edprocas\",\"contemplei\",\"propriamente\",\"ver\",\"signor\",\"apertar\",\"pedindo\",\"quietinhos\",\"olhavame\",\"dist\\u00farbio\",\"belicosos\",\"dessa\",\"expirava\",\"guardeio\",\"gloriosos\",\"singularidade\",\"chegaram\",\"iamme\",\"assuntos\",\"tirar\",\"acontecimentos\",\"renhidas\",\"assistir\",\"frutas\",\"compare\",\"seguinte\",\"aceitaria\",\"esperar\",\"acontecia\",\"priva\\u00e7\\u00e3o\",\"ajustar\",\"avareza\",\"resumia\",\"maior\",\"ezequiel\",\"mon\\u00f3tona\",\"pusme\",\"compenetre\",\"her\\u00f3i\",\"rota\\u00e7\\u00e3o\",\"multiplic\\u00e1lo\",\"ca\\u00e7ar\",\"cisne\",\"polidamente\",\"maravilha\",\"puras\",\"encurvadas\",\"torvo\",\"bola\",\"procurava\",\"atalhou\",\"homem\",\"reflexivo\",\"cansada\",\"pediu\",\"cast\\u00edssimo\",\"piparote\",\"feito\",\"obstar\",\"souo\",\"garcez\",\"descobrirse\",\"repugna\",\"perscrutava\",\"entendeu\",\"envergo\",\"lembrame\",\"rel\\u00f3gio\",\"giros\",\"achandolhe\",\"anjinho\",\"indiv\\u00edduo\",\"combinando\",\"sargentomor\",\"manuscrito\",\"bater\",\"verselhe\",\"derrota\",\"certa\",\"verlhe\",\"inflex\\u00edvel\",\"paquetes\",\"abanou\",\"invernos\",\"mofino\",\"entendi\",\"violento\",\"tachava\",\"extremo\",\"sutilmente\",\"nababo\",\"imagin\\u00e1ria\",\"bandeiras\",\"lacera\",\"invadira\",\"vergonha\",\"borboleta\",\"comido\",\"cont\\u00e1las\",\"destino\",\"un\\u00e7\\u00e3o\",\"coletor\",\"holanda\",\"despeitozinho\",\"jurote\",\"tratado\",\"deixado\",\"m\\u00ednima\",\"colocarme\",\"abastada\",\"comprido\",\"matandome\",\"carta\",\"repouso\",\"refresco\",\"suspeita\",\"principalmente\",\"esbelto\",\"gasto\",\"travo\",\"abrila\",\"padrinho\",\"pal\\u00e1cio\",\"discurso\",\"gargalham\",\"pe\\u00e7o\",\"examinar\",\"verduras\",\"disputar\",\"apesar\",\"ninhos\",\"apresentou\",\"atinaram\",\"desengon\\u00e7a\",\"deixavame\",\"trambolh\\u00e3o\",\"disparei\",\"interrompio\",\"levandome\",\"moral\",\"gregos\",\"resistem\",\"desconfiaria\",\"produ\\u00e7\\u00e3o\",\"enfaixado\",\"assembl\\u00e9ia\",\"bem\",\"atirouse\",\"tedeum\",\"orgulhosa\",\"rudimentos\",\"chiquito\",\"jardins\",\"levantouo\",\"caseira\",\"americanas\",\"continha\",\"adquirir\",\"deume\",\"abriulhes\",\"retinha\",\"t\\u00e3o\",\"acomodate\",\"madama\",\"constituirse\",\"inclinei\",\"traziam\",\"reato\",\"salta\",\"do\\u00edalhe\",\"const\\u00e2ncia\",\"juvenil\",\"adiantemos\",\"companheiro\",\"charadas\",\"dizerse\",\"golpear\",\"advirta\",\"personagens\",\"r\\u00f3i\",\"venda\",\"caminhar\",\"seguroume\",\"ui\",\"leveilhe\",\"celebridade\",\"tio\",\"atra\\u00e7\\u00e3o\",\"alcan\\u00e7a\",\"entroume\",\"devagar\",\"percebeste\",\"imitandolhe\",\"conforme\",\"cani\\u00e7o\",\"derreava\",\"fr\\u00e1gil\",\"interveio\",\"dubitativa\",\"andam\",\"pruridos\",\"entr\\u00e1vamos\",\"salva\\u00e7\\u00e3o\",\"retrato\",\"imenso\",\"conta\",\"conhecimento\",\"imaginar\\u00e1\",\"dali\",\"resgatavame\",\"juizdefora\",\"botim\",\"pulhas\",\"fogo\",\"romance\",\"duvidava\",\"irm\\u00e3mente\",\"pisoulhe\",\"vivia\",\"deilho\",\"perfeito\",\"tocam\",\"veremos\",\"circunst\\u00e2ncia\",\"folg\\u00e1vamos\",\"ousar\",\"tendo\",\"particulares\",\"transpira\\u00e7\\u00e3o\",\"saberem\",\"molesta\",\"f\\u00farias\",\"rico\",\"concludente\",\"podias\",\"fazme\",\"extremamente\",\"conversar\",\"exclusivamente\",\"conveni\\u00eancias\",\"peralta\",\"verdadeiras\",\"motes\",\"comentar\",\"internos\",\"ouv\\u00edamos\",\"acho\",\"tantos\",\"te\\u00f3rico\",\"estreita\",\"formosura\",\"encostados\",\"espet\\u00e1culo\",\"p\\u00e3o\",\"hem\",\"fun\\u00e7\\u00e3o\",\"exponha\",\"migalhas\",\"bar\\u00e3o\",\"agitava\",\"dizemos\",\"ganhamos\",\"bra\\u00e7o\",\"v\\u00e9u\",\"tirei\",\"enfadar\",\"ins\\u00e2nia\",\"parecem\",\"treme\",\"descendiam\",\"quebrar\",\"sensaboria\",\"abanava\",\"evaristo\",\"chamam\",\"coment\\u00e1las\",\"sexos\",\"horaciana\",\"lancha\",\"beijoua\",\"doente\",\"bradava\",\"faina\",\"escumar\",\"ficou\",\"freq\\u00fcentar\",\"envelhecer\",\"parecida\",\"turbas\",\"elevado\",\"sucede\",\"visto\",\"imaginem\",\"sobrevieram\",\"foguete\",\"dom\",\"cocheiro\",\"aquiesc\\u00eancia\",\"empurravame\",\"energicamente\",\"palmo\",\"s\\u00f4fregas\",\"leis\",\"personagem\",\"dever\",\"fronteiro\",\"1\\u00b0\",\"senhora\",\"publicidade\",\"c\\u00f3leras\",\"cansa\\u00e7o\",\"engenhosa\",\"esbarrar\",\"fure\",\"tesouro\",\"sucesso\",\"marquesa\",\"zangavame\",\"deixese\",\"beleza\",\"ma\\u00e7ada\",\"cantarolou\",\"dezesseis\",\"rei\",\"ponto\",\"c\\u00e9sares\",\"ambos\",\"desacanhou\",\"reclinada\",\"confiss\\u00e3o\",\"conseguia\",\"anedota\",\"est\\u00e1tua\",\"cidad\\u00e3os\",\"denunciasse\",\"torn\\u00e1vamos\",\"ix\",\"velavam\",\"abusos\",\"ostentava\",\"dirlheia\",\"car\\u00e1ter\",\"havia\",\"rutilantes\",\"granjear\",\"ch\\u00e3s\",\"obedecer\",\"folgara\",\"concei\\u00e7\\u00e3o\",\"s\\u00e1bio\",\"dila\\u00e7\\u00e3o\",\"cochilando\",\"embargo\",\"secos\",\"caracteres\",\"apurar\",\"positivamente\",\"problemas\",\"saturada\",\"golpes\",\"desenhavase\",\"perspic\\u00e1cia\",\"del\\u00edcia\",\"darlhe\",\"faz\",\"emagreceu\",\"met\\u00eala\",\"queda\",\"desconjuntados\",\"amea\\u00e7andoo\",\"novidade\",\"ignor\\u00e2ncia\",\"bondade\",\"liaas\",\"prudhon\",\"extremos\",\"reat\\u00e1vamos\",\"arqueadas\",\"raro\",\"entende\",\"sufocada\",\"indu\\u00e7\\u00f5es\",\"fino\",\"apertadas\",\"b\\u00e1lsamo\",\"entusiasmo\",\"costurando\",\"chamoume\",\"preocupa\\u00e7\\u00e3o\",\"enganase\",\"resistiam\",\"merecida\",\"imperador\",\"cravar\",\"v\\u00edtima\",\"reparei\",\"sombria\",\"jardim\",\"donzelona\",\"tola\",\"reuni\",\"susto\",\"cortejamonos\",\"obliterada\",\"treze\",\"anunciarlhe\",\"diabruras\",\"opera\\u00e7\\u00e3o\",\"anjocantor\",\"cumprialhe\",\"adormece\",\"arrastavam\",\"comprazia\",\"palmada\",\"dividir\",\"reparar\",\"empuxava\",\"jardineiro\",\"advertir\",\"mois\\u00e9s\",\"dissolvese\",\"prendessem\",\"loucura\",\"galgar\",\"inesperadamente\",\"ralado\",\"metidos\",\"rasg\\u00f5es\",\"gordas\",\"estragues\",\"p\\u00e9rapado\",\"estar\\u00e1s\",\"orador\",\"desgra\\u00e7ado\",\"damasceno\",\"aroma\",\"pilh\\u00e9rias\",\"respeitos\",\"leitura\",\"\\u00faltima\",\"mentir\",\"feitio\",\"ferindo\",\"assobiar\",\"deduzir\",\"lampejantes\",\"moscas\",\"denunciandolhe\",\"discursos\",\"imp\\u00e9rios\",\"mouriscas\",\"remoques\",\"respondilhe\",\"obriga\\u00e7\\u00e3o\",\"subentendiase\",\"fechando\",\"catre\",\"saiba\",\"crescendo\",\"legislativo\",\"perna\",\"cromwell\",\"dada\",\"prontamente\",\"terrestre\",\"moveu\",\"redarg\\u00fci\",\"viuvez\",\"serias\",\"dem\\u00eancia\",\"padecia\",\"destas\",\"fundamentalmente\",\"apanh\\u00e1lo\",\"diminuiria\",\"d\\u00edvida\",\"on\\u00e7a\",\"farto\",\"escondiaa\",\"sepulcro\",\"fant\\u00e1stica\",\"glosarmos\",\"fizera\",\"mescla\",\"camarotes\",\"ajudando\",\"lastimar\",\"trepadeira\",\"torna\",\"aben\\u00e7oado\",\"despotismo\",\"arrebatando\",\"malestar\",\"espelhos\",\"urge\",\"baronesas\",\"tomar\",\"desconcertou\",\"c\\u00e3es\",\"sombras\",\"impor\",\"sujeito\",\"record\\u00e1lo\",\"incomodado\",\"escr\\u00fapulos\",\"examinarme\",\"beco\",\"chave\",\"superiormente\",\"edi\\u00e7\\u00e3o\",\"chispava\",\"pessoais\",\"enxovalhar\",\"afagos\",\"postos\",\"ensang\\u00fcentada\",\"azougue\",\"damascena\",\"farrapo\",\"rimonos\",\"eug\\u00eania\",\"coloniza\\u00e7\\u00e3o\",\"repeti\",\"tocarme\",\"persuadindose\",\"querem\",\"romualdos\",\"antes\",\"concubina\",\"perdemse\",\"ranger\",\"encareceu\",\"pr\\u00f3xima\",\"ocorreme\",\"perfeitos\",\"pegavamme\",\"leito\",\"bismarck\",\"lavo\",\"admiro\",\"contemplassem\",\"pateta\",\"fascina\\u00e7\\u00e3o\",\"desesperada\",\"desdenhosa\",\"ach\\u00e1ssemos\",\"rodrigues\",\"valsa\",\"\\u00f4nus\",\"cond\\u00e3o\",\"alternativas\",\"correta\",\"consentiria\",\"engolia\",\"rirme\",\"substitu\\u00edla\",\"tiroume\",\"ventriloquismo\",\"efetivamente\",\"bule\",\"verter\",\"disseme\",\"arrependime\",\"carecia\",\"foge\",\"transmitindoas\",\"armavase\",\"trateada\",\"cessava\",\"ganhos\",\"sultana\",\"p\\u00e2ntano\",\"respeito\",\"limites\",\"janela\",\"merecem\",\"fitava\",\"conjuga\",\"aproximou\",\"seguiramse\",\"vibrante\",\"violenta\",\"horrores\",\"agrada\",\"professor\",\"parte\",\"elogio\",\"costume\",\"amara\",\"lange\",\"met\\u00e1fora\",\"saltaremlhe\",\"efus\\u00e3o\",\"cal\\u00e7ada\",\"quarto\",\"tanta\",\"princ\\u00edpio\",\"aleijadinha\",\"biogr\\u00e1fico\",\"sobe\",\"prognosticava\",\"d\\u00e3o\",\"tabaco\",\"scheherazade\",\"repreender\",\"remontar\",\"encadernada\",\"vencido\",\"p\\u00fablicos\",\"sequid\\u00e3o\",\"ruiva\",\"espante\",\"s\\u00edlaba\",\"relate\",\"faltavalhe\",\"fatias\",\"juventude\",\"filos\\u00f3fica\",\"neg\\u00e1lo\",\"s\\u00edlabas\",\"ialhe\",\"bateram\",\"descem\",\"legado\",\"bizarro\",\"curar\",\"obras\",\"leva\",\"come\\u00e7o\",\"calejara\",\"constitu\\u00edlo\",\"adv\\u00e9rbio\",\"assentamos\",\"baixos\",\"stendhal\",\"achase\",\"salvou\",\"avivar\",\"poderiam\",\"confid\\u00eancia\",\"magn\\u00edfico\",\"demonstra\\u00e7\\u00f5es\",\"primeiro\",\"ignoro\",\"pardo\",\"galopava\",\"iamse\",\"titubear\",\"fortezinho\",\"suspeitoso\",\"fases\",\"ostentasse\",\"adulta\",\"martelo\",\"tratoume\",\"sendo\",\"respira\\u00e7\\u00e3o\",\"preparouse\",\"cedia\",\"borracha\",\"restituirlho\",\"pr\\u00edncipe\",\"afinco\",\"bot\\u00f5es\",\"parapeito\",\"gastou\",\"faz\\u00ealo\",\"zangarse\",\"soubesse\",\"maus\",\"fechou\",\"guerras\",\"bradeilhe\",\"ma\\u00e7adas\",\"matavame\",\"acham\",\"peste\",\"heran\\u00e7a\",\"fraquinha\",\"desmentisse\",\"complicada\",\"nascimento\",\"\\u00f3ssea\",\"sopa\",\"quadrava\",\"lobrigava\",\"gravidade\",\"esc\\u00e2ndalo\",\"biogr\\u00e1fica\",\"abas\",\"importado\",\"pista\",\"oratoriozinho\",\"admir\\u00e1veis\",\"exponho\",\"intermitente\",\"c\\u00f4modo\",\"nh\\u00e3lol\\u00f3\",\"jureilhe\",\"batiamme\",\"dizianos\",\"mem\\u00f3rias\",\"bernardes\",\"encosta\",\"parecer\",\"brotou\",\"apanhava\",\"esperan\\u00e7a\",\"passar\",\"celestial\",\"\\u00famidos\",\"vira\",\"consultasse\",\"eleva\\u00e7\\u00e3o\",\"embalou\",\"temperado\",\"reflex\\u00f5es\",\"cumpre\",\"chega\",\"devo\",\"vida\",\"visit\\u00e1los\",\"inoportuna\",\"deperini\",\"digereme\",\"declara\\u00e7\\u00e3o\",\"esp\\u00e9cie\",\"fragilidade\",\"torpe\",\"risonha\",\"irem\",\"bordo\",\"nessa\",\"corrompiamme\",\"feminil\",\"polca\",\"l\\u00edrio\",\"\\u00faltimas\",\"pasmo\",\"garoto\",\"arguto\",\"n\\u00b0\",\"volumes\",\"temse\",\"temperar\",\"ia\",\"aceite\",\"farisa\\u00edsmo\",\"base\",\"disselhes\",\"poento\",\"devedor\",\"ligando\",\"humildes\",\"boceta\",\"sabeo\",\"fatal\",\"meio\",\"abra\\u00e7os\",\"faziame\",\"insinueilhe\",\"dois\",\"padeci\",\"peti\\u00e7\\u00e3o\",\"apagar\",\"locais\",\"ufanarse\",\"obtuso\",\"simpl\\u00f3rio\",\"repugnante\",\"ingratid\\u00e3o\",\"extensos\",\"sege\",\"cantinho\",\"s\\u00edmbolo\",\"liga\\u00e7\\u00e3o\",\"conv\\u00e9m\",\"propriet\\u00e1rios\",\"requinte\",\"len\\u00e7os\",\"escreverlhe\",\"incapacidade\",\"ler\",\"ro\\u00eddas\",\"entendas\",\"deixes\",\"cima\",\"mis\\u00e9rias\",\"suspeitei\",\"temer\\u00e1rio\",\"sentindose\",\"prendas\",\"paisana\",\"atado\",\"refletiu\",\"enigm\\u00e1tico\",\"preferia\",\"viria\",\"transportou\",\"fechar\",\"qualidade\",\"sugeriulhe\",\"emendou\",\"bebeu\",\"creia\",\"cobi\\u00e7osos\",\"contr\\u00e1rias\",\"indicar\",\"digo\",\"repetilhe\",\"relanceei\",\"estupefa\\u00e7\\u00e3o\",\"fecharase\",\"guardavaa\",\"vacilante\",\"apaziguoua\",\"prostrado\",\"t\\u00eanues\",\"palavra\",\"or\\u00e7amentos\",\"cedendo\",\"menino\",\"aparecia\",\"olhoua\",\"mordida\",\"infame\",\"espanto\",\"ensai\\u00e1la\",\"temente\",\"afirma\\u00e7\\u00e3o\",\"consertar\",\"debru\\u00e7ara\",\"busquei\",\"desfilar\",\"reprodu\\u00e7\\u00e3o\",\"herdara\",\"batalha\",\"tornara\",\"afoitos\",\"convidarme\",\"faceira\",\"apertoume\",\"acabaria\",\"amanhecera\",\"virumque\",\"soberbo\",\"tanga\",\"debatia\",\"apalparme\",\"piano\",\"devaneio\",\"tremes\",\"volta\",\"absoluto\",\"parceria\",\"pungido\",\"ponte\",\"sacudirme\",\"sabor\",\"for\\u00e7as\",\"giravam\",\"tornemos\",\"destruir\",\"veracidade\",\"vidra\\u00e7as\",\"dirigi\",\"buscada\",\"fulva\",\"imaginava\",\"nervos\",\"brisa\",\"distantes\",\"quebra\",\"alameda\",\"pagavame\",\"partira\",\"consci\\u00eancia\",\"cordial\",\"confesseilhe\",\"organismo\",\"fen\\u00f4meno\",\"vestirme\",\"chufas\",\"sa\\u00ed\",\"cachorrinhos\",\"roda\",\"rendeu\",\"verdejavam\",\"verniz\",\"f\\u00e9retro\",\"borba\",\"embora\",\"ali\\u00e1s\",\"poderes\",\"demos\",\"canap\\u00e9\",\"pondera\\u00e7\\u00e3o\",\"amorpr\\u00f3prio\",\"criancice\",\"passada\",\"cadaval\",\"psicologia\",\"plano\",\"separarmos\",\"remoque\",\"cantos\",\"nome\",\"surpresa\",\"instantes\",\"planos\",\"ampararia\",\"soerguendo\",\"constou\",\"fech\\u00e1lo\",\"comedimento\",\"ossos\",\"tinhalhe\",\"nirvana\",\"replicava\",\"prov\\u00e1vel\",\"pensando\",\"entenderei\",\"tirou\",\"cadeias\",\"tratandose\",\"beneficiado\",\"encantar\",\"morava\",\"id\\u00e9ia\",\"man\\u00edaco\",\"re\\u00fana\",\"lera\",\"deselegantes\",\"baixou\",\"gastaram\",\"clamando\",\"obsequiador\",\"paganismo\",\"legitimamente\",\"recuei\",\"oportuna\",\"desfiar\",\"romantismo\",\"definitivo\",\"descia\",\"lentamente\",\"compensavaa\",\"excelente\",\"apostolado\",\"passamos\",\"preju\\u00edzo\",\"tirando\",\"glosas\",\"casas\",\"amargo\",\"ganhase\",\"flex\\u00edvel\",\"palerma\",\"vulgaridade\",\"contornos\",\"pareciam\",\"ouvira\",\"hortel\\u00e3o\",\"cocheiros\",\"port\\u00e3o\",\"prolongar\",\"z\\u00e9firo\",\"indireta\",\"mundo\",\"repetirem\",\"digas\",\"teologia\",\"floresceu\",\"demoro\",\"segura\",\"ostentamse\",\"compostura\",\"l\\u00e1stima\",\"bocejos\",\"aconcheava\",\"mascarar\",\"desci\",\"vizinhos\",\"lembravos\",\"unamos\",\"constitu\\u00edrase\",\"vi\\u00e7o\",\"desornava\",\"entendendo\",\"fraternidade\",\"entram\",\"desiguais\",\"marmelo\",\"soubesses\",\"tempora\",\"dispersas\",\"ouvindo\",\"valsara\",\"vadias\",\"insinuativa\",\"pegueilhe\",\"instintivo\",\"perseveran\\u00e7a\",\"levo\",\"estacado\",\"asno\",\"beijandoa\",\"italiana\",\"atroava\",\"francisco\",\"programa\",\"triunfos\",\"nesses\",\"explicar\\u00edamos\",\"meigo\",\"inteiro\",\"miser\\u00e1vel\",\"igrejas\",\"devendo\",\"outros\",\"murmurando\",\"empregar\",\"souberam\",\"desataviouse\",\"almo\\u00e7ado\",\"devia\",\"perde\",\"brejeiro\",\"embaciasse\",\"africanos\",\"estigmada\",\"destoava\",\"vantagem\",\"dose\",\"nebulosa\",\"m\\u00f3veis\",\"devorado\",\"entenderte\",\"deleitavame\",\"aspecto\",\"olhavamno\",\"explique\",\"vais\",\"barba\",\"mandaralhe\",\"enfado\",\"laemmert\",\"acordo\",\"angariar\",\"convencendome\",\"paulo\",\"apuparam\",\"superior\",\"restrinjome\",\"volto\",\"abafados\",\"enviei\",\"mis\\u00e9rrimas\",\"constiparse\",\"receia\",\"descal\\u00e7aste\",\"si\",\"falta\",\"recebera\",\"escorregando\",\"trope\\u00e7\\u00e3o\",\"executados\",\"pescador\",\"melancolia\",\"esquina\",\"entrara\",\"fita\",\"bateu\",\"passa\",\"invadiaos\",\"engraxar\",\"digoo\",\"momo\",\"trago\",\"musa\",\"ascetismo\",\"continuar\",\"suportei\",\"rapado\",\"incoerc\\u00edvel\",\"almanaque\",\"parou\",\"irritava\",\"estrume\",\"ilustre\",\"ou\\u00e7am\",\"im\\u00f3vel\",\"perece\",\"mostravam\",\"cogitasse\",\"respeita\",\"disfar\\u00e7ar\",\"abrirme\",\"branca\",\"\\u00famida\",\"vergalhada\",\"necessitados\",\"mortifica\",\"orquestra\",\"cedo\",\"chasco\",\"capit\\u00e3omor\",\"recebiaa\",\"fizlhe\",\"circunspecto\",\"ap\\u00e1tico\",\"justeza\",\"ajuda\",\"entusiasmado\",\"tratouo\",\"casca\",\"aqui\",\"derramada\",\"destru\\u00eddo\",\"r\\u00edgida\",\"enche\",\"arranjadinho\",\"desfizemolo\",\"direi\",\"deixavase\",\"\\u00edndias\",\"dolente\",\"suponhamos\",\"alcanceia\",\"varia\\u00e7\\u00f5es\",\"qu\\u00edmicos\",\"regido\",\"neve\",\"estima\",\"irmandades\",\"largo\",\"tanoaria\",\"vermes\",\"retivea\",\"n\\u00edtida\",\"esperas\",\"molharemselhe\",\"berlindas\",\"perdera\",\"libertou\",\"julguei\",\"admitirme\",\"atribu\\u00ed\",\"bairro\",\"necessariamente\",\"interrogando\",\"pausado\",\"trabalhasse\",\"hipocrisia\",\"morro\",\"orgulhoso\",\"crian\\u00e7as\",\"irritado\",\"recatado\",\"ego\\u00edsta\",\"pensar\",\"desvencilheime\",\"contentava\",\"prego\",\"neves\",\"alfaias\",\"cano\",\"estenda\",\"olhai\",\"satisfazer\",\"enganavame\",\"tanoeiro\",\"fundamento\",\"fregueses\",\"infantaria\",\"cort\\u00eas\",\"modific\\u00e1vel\",\"arrufada\",\"restitu\\u00eddo\",\"m\\u00edngua\",\"disposto\",\"inventara\",\"excitada\",\"aleive\",\"broqu\\u00e9is\",\"desculpavase\",\"encolerizasse\",\"crep\\u00fasculo\",\"madri\",\"rid\\u00edculo\",\"daqui\",\"folhas\",\"ju\\u00edzo\",\"governo\",\"respons\\u00e1vel\",\"sutil\",\"indiscreto\",\"segueme\",\"pegandolhe\",\"indiscretas\",\"bicos\",\"tempos\",\"em\\u00e9rito\",\"inimiga\",\"matrim\\u00f4nio\",\"confeitos\",\"estr\\u00f3ina\",\"reconhecia\",\"gravatas\",\"porte\",\"larguezas\",\"faziam\",\"decididamente\",\"enfermo\",\"desmentio\",\"autoridade\",\"insinuei\",\"males\",\"mondego\",\"fruto\",\"mar\\u00e7o\",\"encaminheime\",\"esque\\u00e7as\",\"temporariamente\",\"animais\",\"levadas\",\"in\\u00e9rcia\",\"\\u00faltimo\",\"recurso\",\"manteiga\",\"quebrouo\",\"pousar\",\"levandoa\",\"grunhir\",\"achei\",\"ganhar\",\"singular\",\"cont\\u00ednua\",\"duras\",\"vinho\",\"modelo\",\"voltaria\",\"singularmente\",\"reconheci\",\"despojo\",\"imp\\u00e9rio\",\"probo\",\"fujamos\",\"espada\",\"claros\",\"atribuirme\",\"procureme\",\"correeiros\",\"fins\",\"epit\\u00e1fios\",\"g\\u00f4ndola\",\"realmente\",\"larga\",\"sacrif\\u00edcio\",\"repares\",\"afinidade\",\"locu\\u00e7\\u00f5es\",\"maio\",\"d\\u00f3i\",\"atir\\u00e1los\",\"polegada\",\"entendesteme\",\"hav\\u00eala\",\"babil\\u00f4nia\",\"metendo\",\"deixou\",\"sult\\u00e3o\",\"visitava\",\"ergueuse\",\"consci\\u00eancias\",\"chegavam\",\"dissemo\",\"v\\u00e3os\",\"certeza\",\"arru\\u00eddo\",\"engomada\",\"repliquei\",\"travesso\",\"ret\\u00eala\",\"ignorantona\",\"faltalhe\",\"bichinho\",\"levantarme\",\"leituras\",\"luxo\",\"tornarame\",\"estireime\",\"fitei\",\"creiamme\",\"devolver\",\"gulliver\",\"desertos\",\"nasciam\",\"enterravaseme\",\"bot\\u00e2nica\",\"fechei\",\"sentimento\",\"florida\",\"dif\\u00edcil\",\"uni\",\"afrouxa\",\"estaria\",\"molestes\",\"vers\\u00edculo\",\"limitome\",\"apanhasse\",\"servi\\u00e7o\",\"ficais\",\"calmosas\",\"ocorre\",\"arroubos\",\"gaiato\",\"vite\",\"arruar\",\"gamboa\",\"marulhosas\",\"espor\\u00e3o\",\"efic\\u00e1cia\",\"opini\\u00f5es\",\"experimentada\",\"fitoume\",\"matronas\",\"ateimei\",\"literatura\",\"no\\u00e7\\u00e3o\",\"indicada\",\"infinita\",\"detenha\",\"rebuscadas\",\"preservativa\",\"subjetivo\",\"insinuoulhe\",\"ficate\",\"criatura\",\"caem\",\"torcia\",\"acaba\",\"rua\",\"ouvilo\",\"espingarda\",\"algum\",\"camisa\",\"citados\",\"marcada\",\"lineamentos\",\"escapado\",\"cinco\",\"beijava\",\"colhe\",\"poder\",\"protestar\",\"deixaralhe\",\"colo\",\"debru\\u00e7adas\",\"malogro\",\"sobrinho\",\"redu\\u00e7\\u00e3o\",\"epis\\u00f3dio\",\"r\\u00e9plica\",\"ap\\u00f3s\",\"namoravame\",\"carpinteiro\",\"ossudo\",\"lacuna\",\"criaturinha\",\"cativou\",\"decreto\",\"salvarame\",\"donosa\",\"quieto\",\"sobrevivem\",\"pe\\u00e7olhe\",\"exceto\",\"x\",\"acontecer\",\"passeava\",\"m\\u00e1gico\",\"infligiram\",\"faria\",\"esperan\\u00e7ado\",\"peri\\u00f3dica\",\"opus\",\"chameime\",\"galera\",\"darvosia\",\"tiram\",\"lisboa\",\"enfiara\",\"cova\",\"freguesia\",\"v\\u00e1rias\",\"podiam\",\"morte\",\"incredulidade\",\"cintilantes\",\"poucas\",\"respirou\",\"ficar\",\"eclesi\\u00e1stico\",\"aceitouas\",\"cenas\",\"arg\\u00fcir\",\"concep\\u00e7\\u00e3o\",\"cria\",\"evangelhos\",\"espantoso\",\"regi\\u00e3o\",\"doces\",\"garatujado\",\"despediuo\",\"requeria\",\"perderamse\",\"vertigem\",\"concentrei\",\"assomos\",\"remirase\",\"cal\\u00e7\\u00e3o\",\"pre\\u00e7os\",\"meses\",\"fica\",\"quieta\\u00e7\\u00e3o\",\"desaten\\u00e7\\u00e3o\",\"prociss\\u00f5es\",\"desfilavam\",\"dissimulava\",\"ser\\u00e1s\",\"circunst\\u00e2ncias\",\"admitia\",\"vexame\",\"ast\\u00farias\",\"sobreaviso\",\"qu\\u00ea\",\"avistar\",\"ornara\",\"figuras\",\"sussurrou\",\"assisti\",\"dias\",\"abra\\u00e7oume\",\"abatimento\",\"importante\",\"viveria\",\"efeito\",\"vestiase\",\"pagome\",\"riuse\"],\"word\":[\"reclus\\u00e3o\",\"conde\",\"habilidade\",\"cidades\",\"en\\u00e9rgica\",\"complica\",\"papel\",\"procurei\",\"doceira\",\"por\\u00e9m\",\"selei\",\"essencial\",\"narizes\",\"condicional\",\"madeixas\",\"agradar\",\"comer\",\"condenado\",\"zangada\",\"despeitado\",\"culta\",\"metime\",\"umas\",\"ateniense\",\"desencanto\",\"dom\\u00e9sticas\",\"algo\",\"tom\\u00e1s\",\"v\\u00ea\",\"perdidaouves\",\"nenhuma\",\"s\\u00e9rios\",\"dissesse\",\"impassibilidade\",\"enxada\",\"tarda\",\"pr\\u00eamio\",\"afastandome\",\"mist\\u00e9rio\",\"hebreus\",\"surda\",\"galhos\",\"oposicionistas\",\"fustigueio\",\"praias\",\"biliosos\",\"joelho\",\"c\\u00e1\",\"vertiginosa\",\"rec\\u00edprocas\",\"contemplei\",\"propriamente\",\"ver\",\"signor\",\"apertar\",\"pedindo\",\"quietinhos\",\"olhavame\",\"dist\\u00farbio\",\"belicosos\",\"dessa\",\"expirava\",\"guardeio\",\"gloriosos\",\"singularidade\",\"chegaram\",\"iamme\",\"assuntos\",\"tirar\",\"acontecimentos\",\"renhidas\",\"assistir\",\"frutas\",\"compare\",\"seguinte\",\"aceitaria\",\"esperar\",\"acontecia\",\"priva\\u00e7\\u00e3o\",\"ajustar\",\"avareza\",\"resumia\",\"maior\",\"ezequiel\",\"mon\\u00f3tona\",\"pusme\",\"compenetre\",\"her\\u00f3i\",\"rota\\u00e7\\u00e3o\",\"multiplic\\u00e1lo\",\"ca\\u00e7ar\",\"cisne\",\"polidamente\",\"maravilha\",\"puras\",\"encurvadas\",\"torvo\",\"bola\",\"procurava\",\"atalhou\",\"homem\",\"reflexivo\",\"cansada\",\"pediu\",\"cast\\u00edssimo\",\"piparote\",\"feito\",\"obstar\",\"souo\",\"garcez\",\"descobrirse\",\"repugna\",\"perscrutava\",\"entendeu\",\"envergo\",\"lembrame\",\"rel\\u00f3gio\",\"giros\",\"achandolhe\",\"anjinho\",\"indiv\\u00edduo\",\"combinando\",\"sargentomor\",\"manuscrito\",\"bater\",\"verselhe\",\"derrota\",\"certa\",\"verlhe\",\"inflex\\u00edvel\",\"paquetes\",\"abanou\",\"invernos\",\"mofino\",\"entendi\",\"violento\",\"tachava\",\"extremo\",\"sutilmente\",\"nababo\",\"imagin\\u00e1ria\",\"bandeiras\",\"lacera\",\"invadira\",\"vergonha\",\"borboleta\",\"comido\",\"cont\\u00e1las\",\"destino\",\"un\\u00e7\\u00e3o\",\"coletor\",\"holanda\",\"despeitozinho\",\"jurote\",\"tratado\",\"deixado\",\"m\\u00ednima\",\"colocarme\",\"abastada\",\"comprido\",\"matandome\",\"carta\",\"repouso\",\"refresco\",\"suspeita\",\"principalmente\",\"esbelto\",\"gasto\",\"travo\",\"abrila\",\"padrinho\",\"pal\\u00e1cio\",\"discurso\",\"gargalham\",\"pe\\u00e7o\",\"examinar\",\"verduras\",\"disputar\",\"apesar\",\"ninhos\",\"apresentou\",\"atinaram\",\"desengon\\u00e7a\",\"deixavame\",\"trambolh\\u00e3o\",\"disparei\",\"interrompio\",\"levandome\",\"moral\",\"gregos\",\"resistem\",\"desconfiaria\",\"produ\\u00e7\\u00e3o\",\"enfaixado\",\"assembl\\u00e9ia\",\"bem\",\"atirouse\",\"tedeum\",\"orgulhosa\",\"rudimentos\",\"chiquito\",\"jardins\",\"levantouo\",\"caseira\",\"americanas\",\"continha\",\"adquirir\",\"deume\",\"abriulhes\",\"retinha\",\"t\\u00e3o\",\"acomodate\",\"madama\",\"constituirse\",\"inclinei\",\"traziam\",\"reato\",\"salta\",\"do\\u00edalhe\",\"const\\u00e2ncia\",\"juvenil\",\"adiantemos\",\"companheiro\",\"charadas\",\"dizerse\",\"golpear\",\"advirta\",\"personagens\",\"r\\u00f3i\",\"venda\",\"caminhar\",\"seguroume\",\"ui\",\"leveilhe\",\"celebridade\",\"tio\",\"atra\\u00e7\\u00e3o\",\"alcan\\u00e7a\",\"entroume\",\"devagar\",\"percebeste\",\"imitandolhe\",\"conforme\",\"cani\\u00e7o\",\"derreava\",\"fr\\u00e1gil\",\"interveio\",\"dubitativa\",\"andam\",\"pruridos\",\"entr\\u00e1vamos\",\"salva\\u00e7\\u00e3o\",\"retrato\",\"imenso\",\"conta\",\"conhecimento\",\"imaginar\\u00e1\",\"dali\",\"resgatavame\",\"juizdefora\",\"botim\",\"pulhas\",\"fogo\",\"romance\",\"duvidava\",\"irm\\u00e3mente\",\"pisoulhe\",\"vivia\",\"deilho\",\"perfeito\",\"tocam\",\"veremos\",\"circunst\\u00e2ncia\",\"folg\\u00e1vamos\",\"ousar\",\"tendo\",\"particulares\",\"transpira\\u00e7\\u00e3o\",\"saberem\",\"molesta\",\"f\\u00farias\",\"rico\",\"concludente\",\"podias\",\"fazme\",\"extremamente\",\"conversar\",\"exclusivamente\",\"conveni\\u00eancias\",\"peralta\",\"verdadeiras\",\"motes\",\"comentar\",\"internos\",\"ouv\\u00edamos\",\"acho\",\"tantos\",\"te\\u00f3rico\",\"estreita\",\"formosura\",\"encostados\",\"espet\\u00e1culo\",\"p\\u00e3o\",\"hem\",\"fun\\u00e7\\u00e3o\",\"exponha\",\"migalhas\",\"bar\\u00e3o\",\"agitava\",\"dizemos\",\"ganhamos\",\"bra\\u00e7o\",\"v\\u00e9u\",\"tirei\",\"enfadar\",\"ins\\u00e2nia\",\"parecem\",\"treme\",\"descendiam\",\"quebrar\",\"sensaboria\",\"abanava\",\"evaristo\",\"chamam\",\"coment\\u00e1las\",\"sexos\",\"horaciana\",\"lancha\",\"beijoua\",\"doente\",\"bradava\",\"faina\",\"escumar\",\"ficou\",\"freq\\u00fcentar\",\"envelhecer\",\"parecida\",\"turbas\",\"elevado\",\"sucede\",\"visto\",\"imaginem\",\"sobrevieram\",\"foguete\",\"dom\",\"cocheiro\",\"aquiesc\\u00eancia\",\"empurravame\",\"energicamente\",\"palmo\",\"s\\u00f4fregas\",\"leis\",\"personagem\",\"dever\",\"fronteiro\",\"1\\u00b0\",\"senhora\",\"publicidade\",\"c\\u00f3leras\",\"cansa\\u00e7o\",\"engenhosa\",\"esbarrar\",\"fure\",\"tesouro\",\"sucesso\",\"marquesa\",\"zangavame\",\"deixese\",\"beleza\",\"ma\\u00e7ada\",\"cantarolou\",\"dezesseis\",\"rei\",\"ponto\",\"c\\u00e9sares\",\"ambos\",\"desacanhou\",\"reclinada\",\"confiss\\u00e3o\",\"conseguia\",\"anedota\",\"est\\u00e1tua\",\"cidad\\u00e3os\",\"denunciasse\",\"torn\\u00e1vamos\",\"ix\",\"velavam\",\"abusos\",\"ostentava\",\"dirlheia\",\"car\\u00e1ter\",\"havia\",\"rutilantes\",\"granjear\",\"ch\\u00e3s\",\"obedecer\",\"folgara\",\"concei\\u00e7\\u00e3o\",\"s\\u00e1bio\",\"dila\\u00e7\\u00e3o\",\"cochilando\",\"embargo\",\"secos\",\"caracteres\",\"apurar\",\"positivamente\",\"problemas\",\"saturada\",\"golpes\",\"desenhavase\",\"perspic\\u00e1cia\",\"del\\u00edcia\",\"darlhe\",\"faz\",\"emagreceu\",\"met\\u00eala\",\"queda\",\"desconjuntados\",\"amea\\u00e7andoo\",\"novidade\",\"ignor\\u00e2ncia\",\"bondade\",\"liaas\",\"prudhon\",\"extremos\",\"reat\\u00e1vamos\",\"arqueadas\",\"raro\",\"entende\",\"sufocada\",\"indu\\u00e7\\u00f5es\",\"fino\",\"apertadas\",\"b\\u00e1lsamo\",\"entusiasmo\",\"costurando\",\"chamoume\",\"preocupa\\u00e7\\u00e3o\",\"enganase\",\"resistiam\",\"merecida\",\"imperador\",\"cravar\",\"v\\u00edtima\",\"reparei\",\"sombria\",\"jardim\",\"donzelona\",\"tola\",\"reuni\",\"susto\",\"cortejamonos\",\"obliterada\",\"treze\",\"anunciarlhe\",\"diabruras\",\"opera\\u00e7\\u00e3o\",\"anjocantor\",\"cumprialhe\",\"adormece\",\"arrastavam\",\"comprazia\",\"palmada\",\"dividir\",\"reparar\",\"empuxava\",\"jardineiro\",\"advertir\",\"mois\\u00e9s\",\"dissolvese\",\"prendessem\",\"loucura\",\"galgar\",\"inesperadamente\",\"ralado\",\"metidos\",\"rasg\\u00f5es\",\"gordas\",\"estragues\",\"p\\u00e9rapado\",\"estar\\u00e1s\",\"orador\",\"desgra\\u00e7ado\",\"damasceno\",\"aroma\",\"pilh\\u00e9rias\",\"respeitos\",\"leitura\",\"\\u00faltima\",\"mentir\",\"feitio\",\"ferindo\",\"assobiar\",\"deduzir\",\"lampejantes\",\"moscas\",\"denunciandolhe\",\"discursos\",\"imp\\u00e9rios\",\"mouriscas\",\"remoques\",\"respondilhe\",\"obriga\\u00e7\\u00e3o\",\"subentendiase\",\"fechando\",\"catre\",\"saiba\",\"crescendo\",\"legislativo\",\"perna\",\"cromwell\",\"dada\",\"prontamente\",\"terrestre\",\"moveu\",\"redarg\\u00fci\",\"viuvez\",\"serias\",\"dem\\u00eancia\",\"padecia\",\"destas\",\"fundamentalmente\",\"apanh\\u00e1lo\",\"diminuiria\",\"d\\u00edvida\",\"on\\u00e7a\",\"farto\",\"escondiaa\",\"sepulcro\",\"fant\\u00e1stica\",\"glosarmos\",\"fizera\",\"mescla\",\"camarotes\",\"ajudando\",\"lastimar\",\"trepadeira\",\"torna\",\"aben\\u00e7oado\",\"despotismo\",\"arrebatando\",\"malestar\",\"espelhos\",\"urge\",\"baronesas\",\"tomar\",\"desconcertou\",\"c\\u00e3es\",\"sombras\",\"impor\",\"sujeito\",\"record\\u00e1lo\",\"incomodado\",\"escr\\u00fapulos\",\"examinarme\",\"beco\",\"chave\",\"superiormente\",\"edi\\u00e7\\u00e3o\",\"chispava\",\"pessoais\",\"enxovalhar\",\"afagos\",\"postos\",\"ensang\\u00fcentada\",\"azougue\",\"damascena\",\"farrapo\",\"rimonos\",\"eug\\u00eania\",\"coloniza\\u00e7\\u00e3o\",\"repeti\",\"tocarme\",\"persuadindose\",\"querem\",\"romualdos\",\"antes\",\"concubina\",\"perdemse\",\"ranger\",\"encareceu\",\"pr\\u00f3xima\",\"ocorreme\",\"perfeitos\",\"pegavamme\",\"leito\",\"bismarck\",\"lavo\",\"admiro\",\"contemplassem\",\"pateta\",\"fascina\\u00e7\\u00e3o\",\"desesperada\",\"desdenhosa\",\"ach\\u00e1ssemos\",\"rodrigues\",\"valsa\",\"\\u00f4nus\",\"cond\\u00e3o\",\"alternativas\",\"correta\",\"consentiria\",\"engolia\",\"rirme\",\"substitu\\u00edla\",\"tiroume\",\"ventriloquismo\",\"efetivamente\",\"bule\",\"verter\",\"disseme\",\"arrependime\",\"carecia\",\"foge\",\"transmitindoas\",\"armavase\",\"trateada\",\"cessava\",\"ganhos\",\"sultana\",\"p\\u00e2ntano\",\"respeito\",\"limites\",\"janela\",\"merecem\",\"fitava\",\"conjuga\",\"aproximou\",\"seguiramse\",\"vibrante\",\"violenta\",\"horrores\",\"agrada\",\"professor\",\"parte\",\"elogio\",\"costume\",\"amara\",\"lange\",\"met\\u00e1fora\",\"saltaremlhe\",\"efus\\u00e3o\",\"cal\\u00e7ada\",\"quarto\",\"tanta\",\"princ\\u00edpio\",\"aleijadinha\",\"biogr\\u00e1fico\",\"sobe\",\"prognosticava\",\"d\\u00e3o\",\"tabaco\",\"scheherazade\",\"repreender\",\"remontar\",\"encadernada\",\"vencido\",\"p\\u00fablicos\",\"sequid\\u00e3o\",\"ruiva\",\"espante\",\"s\\u00edlaba\",\"relate\",\"faltavalhe\",\"fatias\",\"juventude\",\"filos\\u00f3fica\",\"neg\\u00e1lo\",\"s\\u00edlabas\",\"ialhe\",\"bateram\",\"descem\",\"legado\",\"bizarro\",\"curar\",\"obras\",\"leva\",\"come\\u00e7o\",\"calejara\",\"constitu\\u00edlo\",\"adv\\u00e9rbio\",\"assentamos\",\"baixos\",\"stendhal\",\"achase\",\"salvou\",\"avivar\",\"poderiam\",\"confid\\u00eancia\",\"magn\\u00edfico\",\"demonstra\\u00e7\\u00f5es\",\"primeiro\",\"ignoro\",\"pardo\",\"galopava\",\"iamse\",\"titubear\",\"fortezinho\",\"suspeitoso\",\"fases\",\"ostentasse\",\"adulta\",\"martelo\",\"tratoume\",\"sendo\",\"respira\\u00e7\\u00e3o\",\"preparouse\",\"cedia\",\"borracha\",\"restituirlho\",\"pr\\u00edncipe\",\"afinco\",\"bot\\u00f5es\",\"parapeito\",\"gastou\",\"faz\\u00ealo\",\"zangarse\",\"soubesse\",\"maus\",\"fechou\",\"guerras\",\"bradeilhe\",\"ma\\u00e7adas\",\"matavame\",\"acham\",\"peste\",\"heran\\u00e7a\",\"fraquinha\",\"desmentisse\",\"complicada\",\"nascimento\",\"\\u00f3ssea\",\"sopa\",\"quadrava\",\"lobrigava\",\"gravidade\",\"esc\\u00e2ndalo\",\"biogr\\u00e1fica\",\"abas\",\"importado\",\"pista\",\"oratoriozinho\",\"admir\\u00e1veis\",\"exponho\",\"intermitente\",\"c\\u00f4modo\",\"nh\\u00e3lol\\u00f3\",\"jureilhe\",\"batiamme\",\"dizianos\",\"mem\\u00f3rias\",\"bernardes\",\"encosta\",\"parecer\",\"brotou\",\"apanhava\",\"esperan\\u00e7a\",\"passar\",\"celestial\",\"\\u00famidos\",\"vira\",\"consultasse\",\"eleva\\u00e7\\u00e3o\",\"embalou\",\"temperado\",\"reflex\\u00f5es\",\"cumpre\",\"chega\",\"devo\",\"vida\",\"visit\\u00e1los\",\"inoportuna\",\"deperini\",\"digereme\",\"declara\\u00e7\\u00e3o\",\"esp\\u00e9cie\",\"fragilidade\",\"torpe\",\"risonha\",\"irem\",\"bordo\",\"nessa\",\"corrompiamme\",\"feminil\",\"polca\",\"l\\u00edrio\",\"\\u00faltimas\",\"pasmo\",\"garoto\",\"arguto\",\"n\\u00b0\",\"volumes\",\"temse\",\"temperar\",\"ia\",\"aceite\",\"farisa\\u00edsmo\",\"base\",\"disselhes\",\"poento\",\"devedor\",\"ligando\",\"humildes\",\"boceta\",\"sabeo\",\"fatal\",\"meio\",\"abra\\u00e7os\",\"faziame\",\"insinueilhe\",\"dois\",\"padeci\",\"peti\\u00e7\\u00e3o\",\"apagar\",\"locais\",\"ufanarse\",\"obtuso\",\"simpl\\u00f3rio\",\"repugnante\",\"ingratid\\u00e3o\",\"extensos\",\"sege\",\"cantinho\",\"s\\u00edmbolo\",\"liga\\u00e7\\u00e3o\",\"conv\\u00e9m\",\"propriet\\u00e1rios\",\"requinte\",\"len\\u00e7os\",\"escreverlhe\",\"incapacidade\",\"ler\",\"ro\\u00eddas\",\"entendas\",\"deixes\",\"cima\",\"mis\\u00e9rias\",\"suspeitei\",\"temer\\u00e1rio\",\"sentindose\",\"prendas\",\"paisana\",\"atado\",\"refletiu\",\"enigm\\u00e1tico\",\"preferia\",\"viria\",\"transportou\",\"fechar\",\"qualidade\",\"sugeriulhe\",\"emendou\",\"bebeu\",\"creia\",\"cobi\\u00e7osos\",\"contr\\u00e1rias\",\"indicar\",\"digo\",\"repetilhe\",\"relanceei\",\"estupefa\\u00e7\\u00e3o\",\"fecharase\",\"guardavaa\",\"vacilante\",\"apaziguoua\",\"prostrado\",\"t\\u00eanues\",\"palavra\",\"or\\u00e7amentos\",\"cedendo\",\"menino\",\"aparecia\",\"olhoua\",\"mordida\",\"infame\",\"espanto\",\"ensai\\u00e1la\",\"temente\",\"afirma\\u00e7\\u00e3o\",\"consertar\",\"debru\\u00e7ara\",\"busquei\",\"desfilar\",\"reprodu\\u00e7\\u00e3o\",\"herdara\",\"batalha\",\"tornara\",\"afoitos\",\"convidarme\",\"faceira\",\"apertoume\",\"acabaria\",\"amanhecera\",\"virumque\",\"soberbo\",\"tanga\",\"debatia\",\"apalparme\",\"piano\",\"devaneio\",\"tremes\",\"volta\",\"absoluto\",\"parceria\",\"pungido\",\"ponte\",\"sacudirme\",\"sabor\",\"for\\u00e7as\",\"giravam\",\"tornemos\",\"destruir\",\"veracidade\",\"vidra\\u00e7as\",\"dirigi\",\"buscada\",\"fulva\",\"imaginava\",\"nervos\",\"brisa\",\"distantes\",\"quebra\",\"alameda\",\"pagavame\",\"partira\",\"consci\\u00eancia\",\"cordial\",\"confesseilhe\",\"organismo\",\"fen\\u00f4meno\",\"vestirme\",\"chufas\",\"sa\\u00ed\",\"cachorrinhos\",\"roda\",\"rendeu\",\"verdejavam\",\"verniz\",\"f\\u00e9retro\",\"borba\",\"embora\",\"ali\\u00e1s\",\"poderes\",\"demos\",\"canap\\u00e9\",\"pondera\\u00e7\\u00e3o\",\"amorpr\\u00f3prio\",\"criancice\",\"passada\",\"cadaval\",\"psicologia\",\"plano\",\"separarmos\",\"remoque\",\"cantos\",\"nome\",\"surpresa\",\"instantes\",\"planos\",\"ampararia\",\"soerguendo\",\"constou\",\"fech\\u00e1lo\",\"comedimento\",\"ossos\",\"tinhalhe\",\"nirvana\",\"replicava\",\"prov\\u00e1vel\",\"pensando\",\"entenderei\",\"tirou\",\"cadeias\",\"tratandose\",\"beneficiado\",\"encantar\",\"morava\",\"id\\u00e9ia\",\"man\\u00edaco\",\"re\\u00fana\",\"lera\",\"deselegantes\",\"baixou\",\"gastaram\",\"clamando\",\"obsequiador\",\"paganismo\",\"legitimamente\",\"recuei\",\"oportuna\",\"desfiar\",\"romantismo\",\"definitivo\",\"descia\",\"lentamente\",\"compensavaa\",\"excelente\",\"apostolado\",\"passamos\",\"preju\\u00edzo\",\"tirando\",\"glosas\",\"casas\",\"amargo\",\"ganhase\",\"flex\\u00edvel\",\"palerma\",\"vulgaridade\",\"contornos\",\"pareciam\",\"ouvira\",\"hortel\\u00e3o\",\"cocheiros\",\"port\\u00e3o\",\"prolongar\",\"z\\u00e9firo\",\"indireta\",\"mundo\",\"repetirem\",\"digas\",\"teologia\",\"floresceu\",\"demoro\",\"segura\",\"ostentamse\",\"compostura\",\"l\\u00e1stima\",\"bocejos\",\"aconcheava\",\"mascarar\",\"desci\",\"vizinhos\",\"lembravos\",\"unamos\",\"constitu\\u00edrase\",\"vi\\u00e7o\",\"desornava\",\"entendendo\",\"fraternidade\",\"entram\",\"desiguais\",\"marmelo\",\"soubesses\",\"tempora\",\"dispersas\",\"ouvindo\",\"valsara\",\"vadias\",\"insinuativa\",\"pegueilhe\",\"instintivo\",\"perseveran\\u00e7a\",\"levo\",\"estacado\",\"asno\",\"beijandoa\",\"italiana\",\"atroava\",\"francisco\",\"programa\",\"triunfos\",\"nesses\",\"explicar\\u00edamos\",\"meigo\",\"inteiro\",\"miser\\u00e1vel\",\"igrejas\",\"devendo\",\"outros\",\"murmurando\",\"empregar\",\"souberam\",\"desataviouse\",\"almo\\u00e7ado\",\"devia\",\"perde\",\"brejeiro\",\"embaciasse\",\"africanos\",\"estigmada\",\"destoava\",\"vantagem\",\"dose\",\"nebulosa\",\"m\\u00f3veis\",\"devorado\",\"entenderte\",\"deleitavame\",\"aspecto\",\"olhavamno\",\"explique\",\"vais\",\"barba\",\"mandaralhe\",\"enfado\",\"laemmert\",\"acordo\",\"angariar\",\"convencendome\",\"paulo\",\"apuparam\",\"superior\",\"restrinjome\",\"volto\",\"abafados\",\"enviei\",\"mis\\u00e9rrimas\",\"constiparse\",\"receia\",\"descal\\u00e7aste\",\"si\",\"falta\",\"recebera\",\"escorregando\",\"trope\\u00e7\\u00e3o\",\"executados\",\"pescador\",\"melancolia\",\"esquina\",\"entrara\",\"fita\",\"bateu\",\"passa\",\"invadiaos\",\"engraxar\",\"digoo\",\"momo\",\"trago\",\"musa\",\"ascetismo\",\"continuar\",\"suportei\",\"rapado\",\"incoerc\\u00edvel\",\"almanaque\",\"parou\",\"irritava\",\"estrume\",\"ilustre\",\"ou\\u00e7am\",\"im\\u00f3vel\",\"perece\",\"mostravam\",\"cogitasse\",\"respeita\",\"disfar\\u00e7ar\",\"abrirme\",\"branca\",\"\\u00famida\",\"vergalhada\",\"necessitados\",\"mortifica\",\"orquestra\",\"cedo\",\"chasco\",\"capit\\u00e3omor\",\"recebiaa\",\"fizlhe\",\"circunspecto\",\"ap\\u00e1tico\",\"justeza\",\"ajuda\",\"entusiasmado\",\"tratouo\",\"casca\",\"aqui\",\"derramada\",\"destru\\u00eddo\",\"r\\u00edgida\",\"enche\",\"arranjadinho\",\"desfizemolo\",\"direi\",\"deixavase\",\"\\u00edndias\",\"dolente\",\"suponhamos\",\"alcanceia\",\"varia\\u00e7\\u00f5es\",\"qu\\u00edmicos\",\"regido\",\"neve\",\"estima\",\"irmandades\",\"largo\",\"tanoaria\",\"vermes\",\"retivea\",\"n\\u00edtida\",\"esperas\",\"molharemselhe\",\"berlindas\",\"perdera\",\"libertou\",\"julguei\",\"admitirme\",\"atribu\\u00ed\",\"bairro\",\"necessariamente\",\"interrogando\",\"pausado\",\"trabalhasse\",\"hipocrisia\",\"morro\",\"orgulhoso\",\"crian\\u00e7as\",\"irritado\",\"recatado\",\"ego\\u00edsta\",\"pensar\",\"desvencilheime\",\"contentava\",\"prego\",\"neves\",\"alfaias\",\"cano\",\"estenda\",\"olhai\",\"satisfazer\",\"enganavame\",\"tanoeiro\",\"fundamento\",\"fregueses\",\"infantaria\",\"cort\\u00eas\",\"modific\\u00e1vel\",\"arrufada\",\"restitu\\u00eddo\",\"m\\u00edngua\",\"disposto\",\"inventara\",\"excitada\",\"aleive\",\"broqu\\u00e9is\",\"desculpavase\",\"encolerizasse\",\"crep\\u00fasculo\",\"madri\",\"rid\\u00edculo\",\"daqui\",\"folhas\",\"ju\\u00edzo\",\"governo\",\"respons\\u00e1vel\",\"sutil\",\"indiscreto\",\"segueme\",\"pegandolhe\",\"indiscretas\",\"bicos\",\"tempos\",\"em\\u00e9rito\",\"inimiga\",\"matrim\\u00f4nio\",\"confeitos\",\"estr\\u00f3ina\",\"reconhecia\",\"gravatas\",\"porte\",\"larguezas\",\"faziam\",\"decididamente\",\"enfermo\",\"desmentio\",\"autoridade\",\"insinuei\",\"males\",\"mondego\",\"fruto\",\"mar\\u00e7o\",\"encaminheime\",\"esque\\u00e7as\",\"temporariamente\",\"animais\",\"levadas\",\"in\\u00e9rcia\",\"\\u00faltimo\",\"recurso\",\"manteiga\",\"quebrouo\",\"pousar\",\"levandoa\",\"grunhir\",\"achei\",\"ganhar\",\"singular\",\"cont\\u00ednua\",\"duras\",\"vinho\",\"modelo\",\"voltaria\",\"singularmente\",\"reconheci\",\"despojo\",\"imp\\u00e9rio\",\"probo\",\"fujamos\",\"espada\",\"claros\",\"atribuirme\",\"procureme\",\"correeiros\",\"fins\",\"epit\\u00e1fios\",\"g\\u00f4ndola\",\"realmente\",\"larga\",\"sacrif\\u00edcio\",\"repares\",\"afinidade\",\"locu\\u00e7\\u00f5es\",\"maio\",\"d\\u00f3i\",\"atir\\u00e1los\",\"polegada\",\"entendesteme\",\"hav\\u00eala\",\"babil\\u00f4nia\",\"metendo\",\"deixou\",\"sult\\u00e3o\",\"visitava\",\"ergueuse\",\"consci\\u00eancias\",\"chegavam\",\"dissemo\",\"v\\u00e3os\",\"certeza\",\"arru\\u00eddo\",\"engomada\",\"repliquei\",\"travesso\",\"ret\\u00eala\",\"ignorantona\",\"faltalhe\",\"bichinho\",\"levantarme\",\"leituras\",\"luxo\",\"tornarame\",\"estireime\",\"fitei\",\"creiamme\",\"devolver\",\"gulliver\",\"desertos\",\"nasciam\",\"enterravaseme\",\"bot\\u00e2nica\",\"fechei\",\"sentimento\",\"florida\",\"dif\\u00edcil\",\"uni\",\"afrouxa\",\"estaria\",\"molestes\",\"vers\\u00edculo\",\"limitome\",\"apanhasse\",\"servi\\u00e7o\",\"ficais\",\"calmosas\",\"ocorre\",\"arroubos\",\"gaiato\",\"vite\",\"arruar\",\"gamboa\",\"marulhosas\",\"espor\\u00e3o\",\"efic\\u00e1cia\",\"opini\\u00f5es\",\"experimentada\",\"fitoume\",\"matronas\",\"ateimei\",\"literatura\",\"no\\u00e7\\u00e3o\",\"indicada\",\"infinita\",\"detenha\",\"rebuscadas\",\"preservativa\",\"subjetivo\",\"insinuoulhe\",\"ficate\",\"criatura\",\"caem\",\"torcia\",\"acaba\",\"rua\",\"ouvilo\",\"espingarda\",\"algum\",\"camisa\",\"citados\",\"marcada\",\"lineamentos\",\"escapado\",\"cinco\",\"beijava\",\"colhe\",\"poder\",\"protestar\",\"deixaralhe\",\"colo\",\"debru\\u00e7adas\",\"malogro\",\"sobrinho\",\"redu\\u00e7\\u00e3o\",\"epis\\u00f3dio\",\"r\\u00e9plica\",\"ap\\u00f3s\",\"namoravame\",\"carpinteiro\",\"ossudo\",\"lacuna\",\"criaturinha\",\"cativou\",\"decreto\",\"salvarame\",\"donosa\",\"quieto\",\"sobrevivem\",\"pe\\u00e7olhe\",\"exceto\",\"x\",\"acontecer\",\"passeava\",\"m\\u00e1gico\",\"infligiram\",\"faria\",\"esperan\\u00e7ado\",\"peri\\u00f3dica\",\"opus\",\"chameime\",\"galera\",\"darvosia\",\"tiram\",\"lisboa\",\"enfiara\",\"cova\",\"freguesia\",\"v\\u00e1rias\",\"podiam\",\"morte\",\"incredulidade\",\"cintilantes\",\"poucas\",\"respirou\",\"ficar\",\"eclesi\\u00e1stico\",\"aceitouas\",\"cenas\",\"arg\\u00fcir\",\"concep\\u00e7\\u00e3o\",\"cria\",\"evangelhos\",\"espantoso\",\"regi\\u00e3o\",\"doces\",\"garatujado\",\"despediuo\",\"requeria\",\"perderamse\",\"vertigem\",\"concentrei\",\"assomos\",\"remirase\",\"cal\\u00e7\\u00e3o\",\"pre\\u00e7os\",\"meses\",\"fica\",\"quieta\\u00e7\\u00e3o\",\"desaten\\u00e7\\u00e3o\",\"prociss\\u00f5es\",\"desfilavam\",\"dissimulava\",\"ser\\u00e1s\",\"circunst\\u00e2ncias\",\"admitia\",\"vexame\",\"ast\\u00farias\",\"sobreaviso\",\"qu\\u00ea\",\"avistar\",\"ornara\",\"figuras\",\"sussurrou\",\"assisti\",\"dias\",\"abra\\u00e7oume\",\"abatimento\",\"importante\",\"viveria\",\"efeito\",\"vestiase\",\"pagome\",\"riuse\"],\"x\":{\"__ndarray__\":\"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\",\"dtype\":\"float64\",\"order\":\"little\",\"shape\":[1500]},\"y\":{\"__ndarray__\":\"d1h1cmdRv7/wmm5dYwTVPyIER0JkqnU/xkkVVkzNqr8FyQ839bPPPzlhYzS6NLW/wUn2wyQsw7+5Qa4FC4vAPwTYwrHZosO/fLRKjFZhnT+2OS75NCl0vxENl3lE0aq/k4uPlKkNe7+Va/F291fFv3Mwyn5Cuqu/F2WZmI3Lyz8e3GK1xeyWv0sPV1HB58+/LYWLYsoxwz/fbsK7UoK/vxA1uaKSj5a/4XZTdUolxD/0PmSLSfp6PyNS9zkNx9K/wpe/GJRxs7+gVXjJKgq3P4XpMebeILi/KqUCywHqqb9vwchTJ0qwvyZXAboDQMy/3qXlHxlPmj+VIWJAAke0P7U077EvFb2/m2DbL28CsT/rrjlUlAbCvx5+hUgd6bG/oxeaaoOqvj/RMRZ9p2fNv7/FiW2Yxrg/GazEHv9RoL8CQylwEPWGvwNuGgGi46W/c9ZkmyXFwT9QqUZCKMqzvyHFg7QKBsS/PuNqRzIYuj86z0loNzrRP58tMxbItmk/93xwVmeTt7+agTNa3afDv+bATGq9/7k/qY9+hNJ5sb9VKMQ8Vzu3P9vRlahDbsK/hFlU0QFsqr+dPJf1JmnHv3QgAfOpl6I/oSgd6Ijdor9hncxhrH7TP0iG02/5Orw/s8KVzmPdm78bTeT94W2zP7iD5ri4vLc/XE/GyNiPtD8dYUv1xUDMPwyWnePlO7Q/GUMhlzNzt78ReGF47gnLP7LS3aI94Mk/+q6iRHw/uT+qQuTmMePEP8EsUld2nbi/EL5D3zPCsz8Pqo23Jb66v+n7Q+nc97S/Q0QXtrjdgz/Eg1EmaDzFPzs34FdchcK/tnbewTvorD9jlrsxHXLEP1jH8sr2T8U/vTKAszgEuL9OcAwrXIalv0kHjWr/O5C/qxIoKVp5nr/ggRBP+CSUP6yoYY0GLKi/PonSQ+XUuj+dIuCDX5i6v8Jj7vW6kb6/vwmtGFdZx7/vtW20/bmoP+8Yr761csS/I1fsfMLOvT8t5YVdg87Jv0wSBPM6sc4/M/erAMkY0T9lSGTmB4KkP0YSFBiZMG2/XnmQUHagtb8rVIGBJIPEvxDrhye6h8Q//Wplnkctsr8cjegqEkzav4m44vWL8VG/opFUKIcepb9K5DcXUnfTv0pKECl/ga6/PxCcORJCub/6ivMq+uHNP0rJmERLec6/N26jzFuMlb/YtXdawv6ev8a9S4qLs9M/AoC4B5dboD+NOd6vKcvVv0ZZeGTp62U/X0b8SXuaxT/Mh2fQ3lg1v6N6UxdDR6W/ywyx/2yOwT+nyEx50jzBv25sxo+c4bE/SOH+YwKgkD/JPYcsPaimP+pDbBVAJNC/vnFecBP5kz9tNpnk7+2jPxWHT46ZSsm/ax8LN0zMpb8iqaSP0rjWv1WHPHq7i4m/jOPNgzVrtT87Ajnajji7P9QSfSwZaUq/AxpUGgqRpr9fXW7uULvDP4o0uKp22dI/W2He/+dxxz/kLuOTe3u5v++Qn/Ne5MS/iTxwqnJNor+Wkzhfzca/v2EYzre82MA/AxHbUFQBwj/XodJg5oyxP6TWBCCuJsW/+5G+Rpk+pz87EQe1IILAv5uEBdtgYLO/iVkxQuKGtT+8wYvKSMTQPytgkXcJ1L0/zedv6OiIuj/hiE28A7WGP8mEr4VxKLq/EzUm45IOuL91SnVnLtewPw8cFaP8Trg/IafOlrgT0L+54yzKNejCv6Z4g6NLvL4/uhuXujOksb/P/bS8BPHFvwDVQEc4MMA/tYwFS3R5rb+U8ZpF1wTKv1tLUIzbOsu/uMIC0xYorr/J5CcIQiimvyC+5UIGkbs/N31zYRway79JSriCz1XSv8ukwrKO2sY/TIkAm0f9zL9zDNNjTSywPwr6eNk9LMi/JMDLpdgsu7+8BTi36vzGPxE04SoKaMu/P68GqMsLyT9XGK6Qf3C+v6J58cSAmM4/9TuFw92jhr8gLTA7FoCrv3zRtkmy5cg/CiQJ5A6bpL/0gWuT6qawP6pTD9aEMLw/GR5h5ot9wr+yDjI/ZHu7v4aF3QWYPnW/05/pVdHQyD8plwL7v7+wP78NHLLlXci/JHqc6/r4079WJFrIOz/IP2825FVqW8o/blqUtCCIwb+rusbVoRyZPwbSFZCRxbE/ExTyZ+gqq799Md4/PQ5hPwthrLuVHNI/PSvPMkjZwD94JzAaCGXLv+AjDeBaEqE/R7R5VBXcmD+H6qF115+yP9a3tWo0guC/LHjQVtO4nD96aa3mWwyRvzLj91KlMdC/RaFDCplPjb8Mhw13Lna5P7e8cBGWV48/jnYmM2SWuj+oGjR3jirYvxu6DPTRRMY/O+zwsEuutL+12V0Q3kXGvyiODcmna82/xAdHeZ7Upj+PapgLn1jAPxm5m3971am/y368E0cKwb9ylgWWu+DKP19dh16WvL8/XLuganfIm78IoyML48eFv2lTfKGhfay/T4m2ypGQ0L8juQ9Kk4W4v9/mFZEUh4C/PBTy1wTTzD91j1aj51hjP+G08ElnP7K/0csAZOtevz+JWjTGtVHPP4HOldKlQbs/yQzuCBlO0z/sS3mJgpLFP02U/aujoYs//tQhIJUzyb8NIccN1gelv2ex10SEILM/wxSro7K3xj8U2iMueB3Hv19BObAAysA/ldPhgOUjvL9OBM3pS9HRv3MQI7aQ6p0/XXpuANfdtT/4HhnTEq+vPzBX6cq39be/9qXoemHfvL8fezocl8KWv9W24dpLHrc/IQDo5Iks3D/Z1xAM2VaQv+OvVDMVB5m/5coMLmSjr796lh2jV6zCPzW/hmvXnLK/iITw7j1Otz8rtOZHmdHBv5ToXsYSTtO/jjPBACNixr/fpdY2spvBP7dDXEpXe88/HPW0HJNKt789dxj1m2fHPwV40VHQRZe/uCOI7+bQp79M7/5NilacP0l4EYk1PrY/HERabQfdt7/kSOD6iQeqvzTW0K7+as+/FM/SreiqlT+z+Ai5a4Owv+pQOkLLLp+/X9+l+ULboz/pB3VJEiLCP/OHBRXvjLw/WrHugJlIwj+nzaAWOVaMP0wYUw5hqqS/8G+o41MtkT+dySrx3HLHv2FyAOsm9MM/fl/Oy28yyL/6GHft18TPP1tDy8cR/q0/lwluWjYHsT9Vjp8a2VS0vxLfvxpBnsu/vbHAgT23sz9nYT5YEtq0v88h2n0xZLq/P8X05l9Hqz/dUdOrlNvJv35Hepsc6dC/FQNoEEdyob+DkmBd5la2PzvbQ+9PIMc/ftKX/BdyzT+SEw22FknOP9Up1cHk9qK/cMqtvyhDrr8E7PGa74iFP4yQKZKTjMm/WARRfhACqr/K/Ksm3Xl5vyVjlWjALHe/bInFN+HEyj8Raw1DRTaQP8IgxyFal7O/3MIyy80otT+B6jeESQq9v4uhGEL3G78/0cIbMK1er7/Lk7BZLrvLP3mfVzC1VL8/r7D417NBoT/72GOrPdfBv9Px5WZYCLu/0WL3o1p8vb/enXX0OjHAPwd9XSZnErC/G9sbChDFub8UCpKf2hmUv+2P3vW70rQ/iu+vOqxeuD+MFSQaCo6iv5xcsoNifbo/yrkEfZGwmr+9Penn1ry6P3fwl7r/rpQ/G3fWItHwsD+Fgf7KtfS5P/AQNX+tv8a//VVBkzZNuz8dJoAhAKO2P6QjCpGR4Lc/bCOTdgmrxj9D8Yk5fxbVPz9F0lMgL7m/Kqr48loTtz+By4uV/AHCP8f0/IGpWNC/a789Gi3ssr/yJ0RZWiC4vyBhe07BjLM/kfNjhqRbzD+kndF6Y/e+P0kTKfMmfr8/a6T/J2NCtL/9yJ8QR27Dv39R/2G2IKW/0Au6tYrpy7/qDvXN2jfFP8c6j+f3+se/8EnU4SlOwL81yHiNw/K6P67nYo+j5L4/BZi4AtYp0L/R5G+CkEFzv7eSEQ+9Ir6/4Kc7ku/4vj9146YXXwfXv+eruU6fWru/RwlucFkEmj8NsDD8D47EP/ZzgNHHytS/CgCOMfzhxD+eeRvJYPqUv1WdS9FFh8o/XKNVrKhYwj/xOjrLceHKv7rWpEvTlLI/hD92U8oLlb9xhiekI4bFPwh1fZI5LpC/EdLmRphyx79fPAFW5GfKP+01kAdYAsG/H9Gm0hTIrb++TyDD02nKPxSHXCoih7K/eXn4CIf4or+FFNcMJMOvP76dQgALG7+/hoxH6rBxqr8uyj4ToRDIv6o7IDM65KA/aBS1hRS8ub+KBMqPiJ7Qv5M2o2D4Z8G/i1zOgkJCwr/eIFsuLtqXP+nggzGZg6s/y8MO6ehdtz93QMrYieLNv8h9u2uaDac/GpAQDRU+0z9AWuenRi1qP4NC9f12q7m/pSH8dpErzb/1s+LHvAqRPwn1Pi8FJtk/bnlzdPZ2xD9ZVgvTwy7Ev8gZG1dZ1Mq/xcYSdcu7oz9qXwhY0JShP01fASuFNMw/Numgzniqsb+mGjR3jirYv7XPtR8i8Kq/gJH3QgDWxb9HdQd9gLiwv2Ujbs+MD8i/EgI6YEeG0D/wd3ftxJzAv2oezI8MKLs/kb1l/LyDwD+zPYbjCT6kP0vS0KfvIq4/jhoNKl5Irr8rhEGMw7C1v/YGpJ4+T6M/xqfdv+hYzb8Kpux3hcvEv8LJsOs3urW/7EyzMPzhuL+DBo41NTGxPzAK00fYsKu/dEVFp9o4xL/aC4Vl9JCwv7TbBohdYrE/cguyY2Amkz84kJ/B1dGJv5ZkI+64PcI/T6CIjjT7o7/5LS5j5IbHP8ThLFM3esS/pXFj5N0euD/ZoZiUaCzSP90yhAefwaA//edYAsEG0T/74JIt4s/RP7thTpcfQMC/OUl5zDcVnD9Ei/t42qbTv0No7fsAdby/FmqPElKYv79HYOHiuy6QPywTPrxpPLY/ccEo3sL5mL8/HhpbsYepP3LWjDDY3Lu/GMfBmQNVwz+/evSI1Si8v1NB2he/QrG/kA41azl40j/ALp9xWfukP3/3+kWUBNC/aMDKWyXQxr9gZuZ8cHiGv8fKhamX0NA/J6q2ctJpjj9VwywHQL2gPyeowiGWDs0/5y598IAOxb+u83/SGY+rv1FvFfSQqZ4/peixLlwu0b9wXcwkqZBgvzYLoSxVca2/jW2iP3bi0L/ra7pr8T3AvxClGYMXONC/maLCjpB0tb/FwHgQ9ZWwPxeC5IBuwaA/g7zjWOoNwD+wsHjVG7qUvxkuTpbMX66/J/xHs9kUwL8aUQViiRBbvzN9jY/j9nG/8nPscC3AvD8tfckd26qCv7TraxHvP8M/tzLkuXuSuz8oo/RzPBPXv8SHD1QpIsi/SAQWyZEIwb/ltATu+fLGv7e4DnqYY7y/Xf858fff0L9on4EZWMaWP48Sz5/fPtC/wYoenls00z8Q7W3pDsS1v5kO2ddM8rE/uSeKEh8Sxz81F4/PM6iwP4Rm50AEOL2/IFF3LfLIpb+YE/tFTKyZPwkRRBQPn5o/uLYdUZgGs79jHzt0a7OzP+nPr7f938G/5S6mrNsjwT9MSXuiZIaiv3ROEX1/7NG/TFJWipDlwT8OtpXpnAjJP1Iasj2ubKA/p/sHvv6suT8SEvANTdPFv4yVzEu+ZMG/4eKZOC/eeD+biR1H0+XCv7d/FSSuFr8/wxI6H5NGvz/ox9El7kHBv8XhZcpglMS/F6wn4zDzl7+3AEG1nwHBv96uaqDev8E/I2au+kPj1r+Sv/9OSbmFv6KMBP/f1rK/ILgFQ14KhT9Ed8wYSgXTv2ZAjNkAYsQ/7qcSDSKFqr8TvGR43vNUv34eCZj3A8C/xhHbKuyj07+fSlpqRfm9P4BRm79mV7a/pybpBQeFzD/4PE9UDRWoP18W6cbpCbW/pB69A4KXwr855/XCl0iTv6fjBpXdYsE/Apwhh1fcyz8NlftoH7POPwgoVmlR2MG/MP+0Uqhnvz+cd4Y5ph2mv0EjjeCvlMC/+T2xW2OynT8gPXaBcN7GP2dhhg7JUKG/P4pZuyiBwb/kpalcIymXv2LUZVUolrI/H6/1c3UuvD9F/c2uJ4KoP6Tr7ZJBwqg/r0jAY2xRmD9gWA3zwey4v3zcZ828scM/BSgMLGOyyj+TpG5TjyfCPwre0C5r5aW/DQSaC9byvj8KLx+i25y1v2M/oG0Mn8c/lcgtbNQVvL9LcB+Ryv+3P7UQB5fol8G/JnzbhXv2wz+KAUQgNYbRv3EGmpmxQqW/vNmvzBqbwL+lxmOETcbAvzr0iTl/69W/i7u457Wgtr+EkJd9CKXDv7bRzdHzGMO/tD1l+2qdtb9RJu1G8nWZv5QAE6D1r8O/hlO46s5CwT/v4x/U43Suv9IfJRB4D64/d4g8UO3CuD+1o1jIDr+jv+P4PHVK/rm/TWxoSgsAwD9UxSVz25+wP2MjGeOOT9I/avpKx92x0T9E08oOlg+1Px00IAXbd8G/j6RuU48nwj97D7VxmwuyP7FOOb1pPMc/JHTeIdXmtL/9cQIo/Fa5v30SJQ9OX6m/kWQOppyhSL9HjMDOrf0uv+R2ngk/wJe/4a+PIfFEsr+Vj8b3GQeqv22i4H6iIcY/pQ5ZABDR0b94PCKnlO3Tv0ZjR+AUgag/6x3bYTSTpT9EVijbjMmkvxJwykpbc72/XcZfCh+cwT+W0yhGjErYvxq3He3VrL0/qaDYs5Ekv7+vLYRtOd7IPxynczwSb60//6r8Lk4Yyz8pt4oneJ6wv6VEsBCtZas/wLVFV/AmsT8hEEHRVWayP4XfaV6DPoM/oSMzfbUS0b9YXckur0+5P1VnUMBhlsE/fdUrUbEHxD9bFNzvdQ5sv4ngBb2MELo/0Q14JPf60r/jBnGZcWqxvwlQVIDGpsU/jTuwnQkpxz9BdTzKmqTTv+x8dfMxdou/DFwJy39Fsz8KN1NCbmmiv6E1iavpPqu/Jo6Sn2ZK1D9Ssd7DtJTEPzFuADK2YMm/kQZ2i1u5sT/TjvCZL1ihv1FKhy+y1Kc/lF2CbhwXjD9nrYt/mYW5v1uLsfHpZMo/hvTUUL7Zuj+0aA9GJCeyv3hQg+1AYsO/I+uS1nMCzD+SfVjSFHrHPxWYPyXPj8E/btCxv05rej/axrtBm0SxP7gMb48iDr8/wnIkFL5Ctj9JYDZuhkDAP0bcGtuelp0/rpHREU7fz7+BJSO7Gi/RP3LFKCNHxXm/6LVc3eJLwj/4U4SI7pe/v3CnjQNF56Y/pAeUd7U4kD+wOKZHMpLHv4Rnce+I8sA/uWICTut1vj/GHyVknn/EP5Gip+cHQMm/o8E+2xzSwD/5losE3Nqgv5F96oV2Mrc/5TH8nZJ0kb+pPF3ubrKzP69MRDqlosK/mSZtDR7Utb+eFFtUKa2cP4D8iJhsmLO/pjmttnaPxj8Y5i4D219Yv6Yfg3H1kKi/EoZ5u2RPp7+wAPLDmJijPydJDPgDOKU/ZgVs1gzumD81A7EKf+bYvz2iyPlxLtW/yCf9604yuD9lBacUonKyv6t9J2BYj76/bXkW9Ngtvr/jA7jgQu+5P7Szc1x6/6a/ebjZTQz4qr98xKYQqz6oP20rIPrUkb+/dhe7H1E5xj97UWhk2zvEP1PLIrRCpdy/0UeuVa6Uqj/k0AQAOS2lPx8TwLepS62/HnkiOsCuuz8AKIaHIxi+v2UCPcB4Pre/vi1SDYDHtT+U6pd9/zvHvwk5WJ35s8k/jXSlxMTgu783Px/IBjq2PyCG9U1BeSE//wwhKBs2sz9W0cIf8FzQP9eYUsyQMZ8/hGDdq6Y0uz9Vm35Quoe8v3iNCSh2FM6/f7IltlgPw78RPjsor0akv7cQFvivP6K/qG43r6c1k7+fZcDzadrCP6yu6KCjOsk/59cQtSKJxr/yWaIoZJ3CP7vykzHEVqG/f2NdBMSXqr/BWr95xjPBP6B30R4R7K2/L4/aSX7xhz/bCjOejIKcP3IgcSqyJs0/lBB+SXg/vL9nKIsJcAnEv19Rx0squ7E/1ky267r1tb8YEjGZdniiv6CZcTs3rKk/mLBCaaatzT/Ut+uHZZa3v/tEIURuSn0/mxT+0ppqxr/bg+QTL7S6P37MXvX+Lsk/jkdOEmvCf79H3diOrc5avzDffz9aLbi/Wh39Dp1ooj/Xu9BQ7ymrP07uxQA+98U/MVWT2WyF0L8SpwzXFbPRP0I+dNkjwsc/CX5WnJHDlj8t5IJONCrYv4N+dPOlhY+/T8F4ovH+xb+cF3D6QT24v13XRaxXfcM/VdXMCYtHuL9upjdFLq7Qv4v7O4SHGsi/PREeYjpOrL++M03vkG6Rv1gyv0tNh8k/6sAGknMpwb+e90t69uTAP6eaOsAevNA/s59JdXniwT/noOQBcKaUP2TGIhjFQWo/4rOcLAO+wT+AYrLfMM7QP59rKyQz0MY/fh33f6S4q7/kDnrNoluov+73627zmbs/6ODucOFemz9NN3hk9wyzP7fyz6S8Y6m/DpWl4rENt79bNd76S9OoPzqVlBRJKLC/0dCtzlKPxb/ezHZ+AdbCP4TRq8QYL6u/wbAkMSiy3L/rX/oIvga+Pzl/shcsKcY/ZOc9UxhKtL8LnwC1S1FBv5xSy3ZDjIa/03/b+onZyr9WumRqw/aovxp72L03ucS/wXhFnBn6vT/RSmAul3agv3uBZphVg9Y/bR2IUMdirb9+4pUhfMm5vxtpsEN78tS/AKSq75Ahrj+0m6OTxma6P1VSz3f0kbQ/F8eVkaEi1D+VgMMLscbQv8pxCsaQadI/qMhfVeTLcj9M7TaiVx7GP3p5Z0dAhcQ/g56qj5VXtT+QCOSrZFLCPzI57ykJh7c/jrS08MCkuj/fsYHnqTXOPzA/lNKqAaI/Qby4gdbswb/5ns85g821vwKsPs1XAbi/tJCd1BOHuL/kv4hgggDCvxjxUJNWWba//d9A96a0x79Nw6vFCXKQv28h4bZN3MS/jhIMku500D+B1Bf+AAnIv40K/cyR9q2/k3qzfOjusT9Lh23hlp/VPxAgaK3kPcS/XGHdBoyfs7/BTBErPr29P4/js0AS4bW/nzF4CK0Qxr9dD8ec5DbEv3K6rD2T+a4/7zfbxGtHjT+3oZYajqCUP3gDtfGotJ6/LZVHoJ0o0T+5n/7uFb2rvzZgWKA6/8W/TwNf5kmFs7+p15fLWxiwv2wLdvrOVYS/dmlSqieZpb+DlLgOsJPSv1APEMS0OLY/Hs2DqpXB17+K/uggFie4v6fu0EN227i/YRjN4ilcyD8DwmIlsZHCP1UiQRzR+Lu/H2Af2NwMtj/yRrKjwQLQP7PJ0PDJ2qw/SF4EK4wlv78mBHvC6j3QP1OxageBmKa/HgpYyLVO07/l/wFEzAmfPzQLpt5DOsU/q9rkanHQzj89UzOVmfGXP12u8OPEmqM/a1XNzTThur/AJbL6REmXP1p9VFEUzce/dH3YZCzDk7/ZaVqDfjG3vwS9ImOlg8s/v4D45rnyuj9m2ZCWW5TBP34Cd9fGuLI/zdrtBK5VzT/HIWg2P4rMPxBL3LH3LdW/h9qtps6SwT8V/aEXCfzAv4G94+ieG6u/vgP/VzSouz9tbNQMJsXPP6Mpazqpt7i/ZvVNyQ0mpj+yRbZhV/nWP9KaroOS/L0/7xg1IOgWmj+JMO5RYfy/v11PzP0kc7K/oeHj/26UzD99dvQrhz6qv3KNq6UAFbU/flttj0/9wL9X5Tvm5DanvzsXTnUAiWK/RT4tiASPtD/CaOBG7jeivyKP1iLL0qa/GYcZmyExtD+bBlJTmD+xv1DyxynkhL4/+AJ6UQQqyT9rQR0Q5A/Kv7taskaknsi/ZrXWCEI6wb/Hc91zkQiMvyM8mHdF88Q/bE54ajyAkL/EYutNJH+yv3wcmPwduak/gYMqoKAypj9aGd9KMZKqP6eKbgnYXqu/Xca2QwGsyT/5+XfFLZ+yP/eqfvXHGre/UxOvCHskxL80HG6KGx+dv0Q7aiROfNG/GG5TrWRVlz+UczlF3BDJv17/AuURetC/rBf8rurQZb/oWfjoLIm4P6Qa9sxD+aO/clCwHFCopT/4NstNTJjHP+HLwsIrjcQ/eawtSDgslT/XkUXe0OGmv8FUYDnIhrY/7h4DTofUs79pLhHhHHe7P10xk3DWX6Q/H2kBejIDoT/AALOKPsu3P4HrgLZvUMU/zmTbH2kExz/R0RnRujO2vyY9gDe+bdQ/Fb1JdcQkqL9I67rh0WOMv9zeF0Toqby/JrFhVuQSqD+jNpYmiOK7P+0+WxIG7sa/mYryst2JxT9d56ZEDp3Mv2/X4EblgdC/PrYWLAFN1L/8uoDov6S1vzywybBB3sy/WyD7p8/fwT9aRiqP+Qedv0n4bcR/8cI/31iVhAcb1r/VsPBPaJ/SP+tLagd/kZE/eyufwbP5uD/V1pWqy46yP8KSxh84LLK/YgxpSqRNrj/+8UeaaSbBv8O5gBtWEaG/wBxpqcT7wr+DflsHw0DGP/LyHUDy8aC/rx7J1PtEzL+5ZBmWRTm2P2mS1HoVsbE/WFz0Rq3i4T8TdOV0xMGiv77h9tgpbb8/wSv+SQorvj8l1zVJi1jAPwja8oqMzoa/vBiQE7LJyL/DH9ntGdu7P4r06d84lLe/Uvj+Z0tCpz8Er3HCgNrLPwE97IiDR7U/hsEyeJcty78lTQZ8gdW8v9tbVn5CTqy//ElNn2+2vD+VabQikZzBP+FSSUBnDLU/ikEZl0Qvrz/VR+sjh5vLP9VP+mD+/qK/VShVMF8vsr/cgQOIGUefP5yh7iHrwsi/dH1vopxblr8miqA60IqWP+T4WKc+hZ2/XuGuVAL9iD/El2q6Y77Jvx24Dgcr3Km/hD8yhLdGy7/ZtrkLA1bOvzwz/doLdaa/CULI07vkxz9FyaDfe/axP3+Nfpr2Sp8/a0ugP652mz8llrON3te2P90+ABY8a7o/G0J2SrJ2hT9cYssrcp6yv42BrBu0FKo/ur33IihCor9newX8Oty+v/XLARYNY8I/zI12664hwz8Y6pA4eXK5v0+GW44ZAYm/2MSS0rInrD9FQc5wIezLv4lwNQxAC6w/9Jq+Cktjw7+FIrVGwKvIv7mUghJVhaO/a4y5qsWcuD+n9C3e+4iFP66MUfa6kre/GAaCFRVOrb9W7eDpohCUv4WulDm26MS/gm/oF8fyhL+o65yzrk+Kv5apSZiv/6+/Q9QJ+uO+qr+Fva43nA3Qv51ZFA9dRNO/kMT1pB2ag783DBKuLi/JvzoB/Pk5CcM/lzyLzpDxvj/A03WvyNTMPwDzfxPM4Nq/zO+21AT4xD9c2TlqF/eqv5jm6CjWRLY/gC7WLrlnwL9Gu357pj7TP4r4jxcc+cg/w22/6U/Svb8bh0/cP+7MPx9UyMnv3Ku/7NJyWl4Hur/6xXQ1vmXGv7EW3TtA3Ma/zJ6/YmRxrb8YzlZDf7vHP34o+LEDK8I/GHrBKpigsT9uvkjq43WxP5yo7zO0UJo/AcnC4iD2rb8k13CSFna+P8j5/8VV8My/91IgQhHdwb8rTYTpzeXAPx3jbvmvGLu/iQpttS4MwT/YA66UdSu/vynXwimCkaG/C+JrPCA8vz+Tb9jX9+bBv5H2hO/4Aba/pSgMJVLewb/RcV8EAirSv6mBcoYsWaQ/grQXZCDlor+MAfOB1OLNv67KPa3DGsC/5JcTP1BmmL9nmPC81uDEP2kuqQft2sm/WmadPWYHor8jc4gERRmIP3W5oHgCc7Y/IQXJ9mWGnL8sbTQ0w4mrP3WL1y48h7+/ycylxINRwz/BfnGtsYS0v2oPmQ5gYc0/oyYeZ5zcur9cQgPWWOCVvwIhgmpddk8/aYv46/7Dsb+2q5WwXh27v3jieP/mpqu/Kv+KmrkE0T+9XpQ9teGzPzNBDIQUBKi/TBlnJG6WsL8JZbW36U/Uv34UqnPYkMS/dSixigp/uz8V3gxvPQXIvx0yCtc7gcQ/B/FwOGzt07/4reAQau/LP4TDKIlj0cg/YfoYGX8eyz/U3D3nYwWuP7zlwdWjfbi/VOs1QJZ4nT/mNRDLBlvFPxcehIfcWrW/J/ukZFK/xr80MdPHp8Wuv5ESk4uSAb+/yjS4SNaY0T+nAz8ueNOSv/++ENwL4K0/lRDPi8A2l78zRh1lkwW+Pwlfl0XVb8s/0WIcpA2zrb8skTBonWV+Pyi762Wuk7Y/cyK833cYkz+JfKXpKT7PPz8AwIt15a+//lU44+cHt7+Z4Abi0CXCPwlLm5ESpbQ/foy4kov30L8QKzQPxui4P+gHYH8Ji7E/timfeGFmyr+AnItKN+R7P5Xgq6fIw9C/zgqVomiTwz9JMXKI7IrRv1oQIdDzPdU/2ujYbyxplr/huu1JKFeqv0gFJu179MI/6fQpQxy5xD/Z0Gyag/7Sv658z53qPbg/luFXsuqeqb9oZTbURczHv40+07Ltr4y/dQ536dnll79YZjLRfmO0Pzf+tyuRSdE/g2y8NlzpxD8eBgO2ZMe5v4mKmhav07m/WNCNSZpdzT/r/2QuUl60PxTP7/f/RdE/jw254Z/By7+7PJt0VN/MPyuoUoHMwNK/v6a6q4Fvuj/Mh/Tsa0jLP3/mVhShVKQ/qFcYpvZ9nr+kyLf8FjHGv5wKX6llMbw/3K095HQ3sr8/U3p92ha8PyysoJ+Q/4g/7q3eb4H3ZL8VWDIefM7Hv5/bc8uK1ck/Zbxo5rh6xb+vWKZnGHnNP8UKlqi8wLE/mOLsghYoxT+Zuzs8SHRyP1LDBkX0fqo/tzyHAAJyxr99UyjPl+GyvxRSeUXNnbK/0SWjreGSxj9CGkxOdpWHP2sWkG9BpLS/cukvi+tF3L//TQCLlQ6qP+NvAiGVZH6/lih5YeDY0r/uAG51BvrJP2Y1bDQa4aY/O4VsPsXbir9seoOWQNnGPxn9YdCBSas/fDO2843dyj+0l0UAj0CyP2emRF+QS8q/SoHDmCl0iz9Jyz1SR4GOv2qZ0dVl0Y+/0lTL7MD5p790X1d+J+d9P+JhhOOC8sm/hEuqz7RHxj/mejhW12LEP19oYAwChbM/3bzdf33wxD+xr7fBdWyMP+HZBVjQFaI/+824NsBKzz9y0lE+LLvBv8ZpcZhrKLi//zOYoj4boD+pPsgtnMi+vxMu656czLo/A0s1pQhEvL+4YznPeZ7DPwt8iIomaqw/TaefyGH60L9DkEcDut/VP5t8H+sXJNi/IKqgl6xf3b8xoaFYZL/AP6sa+xwIWMe/UoHTxScVtz8THUWAiHajPwRGIuqLqJW/DUBA38P+hD96BnT1KBrTv4l+v4EA0qi/IgPkWxW7mz8zJRbQlFrGv/smriz0dcC/3xkGCu/Nvb8sLb1i8cvJP13i65NIMrU/3O4mnJKMub+2nhGCaYnHv9WfNnK7I74/ydO9F+plIz+SwTyxvPegv/z33kDEkck/hdGcPaT/0L9OCaw2ppSwP5Bf2RsPoY0/Js9YNzzAmD+34cmG45nSP6UKxdnDsLE/EYWnkNZOrL/0+vxszvNyP4vUTAuCb9I/G9eneqnAuz9hoVfBi9jEPwigs2jTXp4/7Jiju0mjt78nW6Km62C0v4Q60W9sibM/6QAwmJBIsT/BQ1CP1t25Pw4V20to9ZE/I81w3pdAg78fInwNwlu9P2SBixZb67S/sob2IRLYiD8KXBW2ZyXXP4si0z6SDbO/Ewi7rdmkk7/FEgvqC0HIP18sbqtsnba/vQ3Ub4/yVb+SV7Y63m+3PylkaSb8p8G/+oYPWtny0z+wH0pYEH+zP/yDfbQo4ag/nhqQapKJy782l2Y7Kh7Hv5H8B1q3gcA/6mTSR61Hxz9616cu5xG/vzr+O76yYbW/RzuLQZah0r9hM8UqAIWwP0Wu6o011rW/A2RQnSEqdb/kDf+1c8vSvwLWIWD4tb8/fI22GpNg2T+sPcqlD7eWPxPHLIHQe6s/YvYhaKIn0j/R7PcVeh++v4b2pKH1j6w/Ri3hVDqHvr9elufH3STHv/Ha7LfE4K2/bIqFNxvGqL/k/qPdSDjGP9JCyrw42ag/kL4UCgr0wj+lW9gzYhuvv3KJ0afxwam/xwloiCestb/bD/Cj31LAP3ZBzJRcTLq/NF6T+dBLsb+TGJ+3FJizP5LHvXSYRsa/X11AOqbuwL8qIAo/FBK9P5qeqo9+brc/EOgvME3OxL/TuJ9CWda9P4NxJWaysYO/BygJT9AJhD/9rJArFIq9P7eN8ZtcZ8C/ZagyNMY/y7+njTrmqjHJv2EcL23hz7a/Yy66R2LDxr9cX05fm1fUvzWXexmLb4y/okAkz1PCzj/b/nNmRAmTP4n/NJbQasS/vmTDraBkqz+1FNqEMiWHv+D0AlYzTLi/Pui7aPeftT/B03PVn63Hv6NCKkHsWbk/9EOFpYq20L8Rmo/gZW3EP6ZoTw1/2oa/FX8oJBrJrT9vU2v3Ek+WP4DiM0efOLg/L0xENjDlwr/mlueZAx+/v41ma/0qAHK/Up+jl3bSsr8cCrYlOv2IPxzk41dHy56/CyHW4q460j8HXxHpcLqnPyhfpJ9hwrK/AOxxYt4ckT8MbMCeTD3IP7Miqn14U62/7h+0e94UwT86ZocpFEK3P1jFtQK//s6/Y3sxG54Qjj/2h2tJC6vMv6YQu4xGgKg/rIHODllmvb/A5ec6eFeeP2+LnDrd9Y8/t08OyHaLuT+n6wzG7463v+rVOL4VGaQ/AEFHPIllx7/+KEiRcOjDv2N2HdMuE8W/MySZ1P71yD9ZC10oyeDIP+33M6uOLKy/8vSbzCaNkb+IJpq7tKXTP8cFgWoY5s0/3L3T/kxuoz+Y5qehZAOwP2bFm9YDKsE/4jkKVXEBlL8FjNajJl+6v4rFvXTSG32/dVe3GB6Js7+wBtt+sBbSv4GVllePl8U/T8b0Ash7sL8BZ6YDpNq9v7Fi3eVuyNS/eu/aWI7Gu79vEGS/SQ6jv+5XZE6DU7Q/ksMuxhuUxL+hzFeSI+9Sv7kRD5NotKi/L8mQw+PGyr/MtAQ/EIOpP9tvzPiRVss/KAxeJjzAyT+nK6VhjbPBP5fvIxzuVsA/ntDHdln9nb9CcfkjZKGyP41laO1nccC/dJOXlt5H1794MTX0gJydv23HbPykEYI/5HIt6I5n1D+WSmB4Ewe6v4jhJakqDLG/XDPuqfLowL86kxlCzB27vz2PPVatqaS/poH5RHA2tL/BuWivGA2pvx9uREtZAK0/80ueDPFBlT87jkJ5alnKP9OBSTqvRai/X/YhsYt7wD/nCAMsWEjNvyAxS3YAEL2/9du+p5SSwL+pSyWezIOiP9J4xIcZrq4/XV0G268Jx78Y8AWwGRmyP7aGGzAeDdA/EkNkfZyxvT9DbxZlXnfEvxOfREGBCLO/yGqOAyVez78ztf6u0He8PwhDlf5P7rK/HvDOpaMLqz9oIJ9niASwP833bFvvc72/JCV5uUVev799n2ML40qgv/h9XnoUabK/+dju+eVhvz/w63ymrbdKv/VQMRt8zcG/ETBSTAH7jr/CZ6vvAQO2v8gL6cZofsw/sP2yBy02zz9nrQcrjga4P3BxCQ48NLq/bn0KhSxk0j9+aoZI8vG7vwrQMyhq2LY/ftR5igBFtL+vk+L+Ng3HvxEnyOKFhJ4/G3BhotXdbb+NYI0r5JWDP2tifQyZpKG/gfLHk6QMlj+Uq4K3NXirv3C3Yb3ywcG/rpxFfs1VoD/UGotxQ4fUv+MO5Vu4DHe/GG7QpB/uvb+p2ymR1sbOvzHgC+FWerK/jL/um4opoz+TWRVlVlCmv1BJf7wBfKY/lHDQDlpurb9pWfkpvZixv/BO6Vm0aJO/7AsqFfIeuT/lZo0CiJO4P4LdaJRaP8e/hd61UVtVoz+Y4hv2vqGjP254SvE2x4C/ApFlYyR/mb8T02WakEDCPyvfwy/nNMU/dGcPV+vpoL9/QiRrIn2wP1pJSoeorMS/WfLhN7Henb9BnqU0wx6sP5syy2JVt6I/h4zx0YM50r8kQdwEa2fBP9TpREtmqLa/\",\"dtype\":\"float64\",\"order\":\"little\",\"shape\":[1500]}},\"selected\":{\"id\":\"1053\"},\"selection_policy\":{\"id\":\"1052\"}},\"id\":\"1003\",\"type\":\"ColumnDataSource\"},{\"attributes\":{\"coordinates\":null,\"data_source\":{\"id\":\"1003\"},\"glyph\":{\"id\":\"1039\"},\"group\":null,\"hover_glyph\":{\"id\":\"1041\"},\"muted_glyph\":{\"id\":\"1042\"},\"nonselection_glyph\":{\"id\":\"1040\"},\"view\":{\"id\":\"1044\"}},\"id\":\"1043\",\"type\":\"GlyphRenderer\"},{\"attributes\":{\"callback\":null,\"tooltips\":\"@word\"},\"id\":\"1004\",\"type\":\"HoverTool\"},{\"attributes\":{\"active_scroll\":{\"id\":\"1025\"},\"tools\":[{\"id\":\"1004\"},{\"id\":\"1024\"},{\"id\":\"1025\"},{\"id\":\"1026\"},{\"id\":\"1027\"},{\"id\":\"1028\"}]},\"id\":\"1031\",\"type\":\"Toolbar\"},{\"attributes\":{\"source\":{\"id\":\"1003\"}},\"id\":\"1044\",\"type\":\"CDSView\"},{\"attributes\":{},\"id\":\"1024\",\"type\":\"PanTool\"},{\"attributes\":{\"fill_alpha\":{\"value\":0.1},\"fill_color\":{\"value\":\"blue\"},\"hatch_color\":{\"value\":\"blue\"},\"line_alpha\":{\"value\":0.2},\"line_color\":{\"value\":\"blue\"},\"size\":{\"value\":10},\"x\":{\"field\":\"x\"},\"y\":{\"field\":\"y\"}},\"id\":\"1039\",\"type\":\"Circle\"},{\"attributes\":{\"overlay\":{\"id\":\"1030\"}},\"id\":\"1026\",\"type\":\"BoxZoomTool\"},{\"attributes\":{\"overlay\":{\"id\":\"1029\"}},\"id\":\"1027\",\"type\":\"BoxSelectTool\"},{\"attributes\":{},\"id\":\"1021\",\"type\":\"BasicTicker\"},{\"attributes\":{},\"id\":\"1050\",\"type\":\"BasicTickFormatter\"},{\"attributes\":{},\"id\":\"1010\",\"type\":\"DataRange1d\"},{\"attributes\":{\"coordinates\":null,\"group\":null,\"text\":\"Word Vecs (PCA)\"},\"id\":\"1006\",\"type\":\"Title\"},{\"attributes\":{},\"id\":\"1028\",\"type\":\"ResetTool\"},{\"attributes\":{\"bottom_units\":\"screen\",\"coordinates\":null,\"fill_alpha\":0.5,\"fill_color\":\"lightgrey\",\"group\":null,\"left_units\":\"screen\",\"level\":\"overlay\",\"line_alpha\":1.0,\"line_color\":\"black\",\"line_dash\":[4,4],\"line_width\":2,\"right_units\":\"screen\",\"syncable\":false,\"top_units\":\"screen\"},\"id\":\"1029\",\"type\":\"BoxAnnotation\"},{\"attributes\":{\"bottom_units\":\"screen\",\"coordinates\":null,\"fill_alpha\":0.5,\"fill_color\":\"lightgrey\",\"group\":null,\"left_units\":\"screen\",\"level\":\"overlay\",\"line_alpha\":1.0,\"line_color\":\"black\",\"line_dash\":[4,4],\"line_width\":2,\"right_units\":\"screen\",\"syncable\":false,\"top_units\":\"screen\"},\"id\":\"1030\",\"type\":\"BoxAnnotation\"},{\"attributes\":{},\"id\":\"1025\",\"type\":\"WheelZoomTool\"},{\"attributes\":{},\"id\":\"1047\",\"type\":\"BasicTickFormatter\"},{\"attributes\":{\"fill_alpha\":{\"value\":0.2},\"fill_color\":{\"value\":\"blue\"},\"hatch_alpha\":{\"value\":0.2},\"hatch_color\":{\"value\":\"blue\"},\"line_alpha\":{\"value\":0.2},\"line_color\":{\"value\":\"blue\"},\"size\":{\"value\":10},\"x\":{\"field\":\"x\"},\"y\":{\"field\":\"y\"}},\"id\":\"1042\",\"type\":\"Circle\"},{\"attributes\":{\"axis\":{\"id\":\"1020\"},\"coordinates\":null,\"dimension\":1,\"grid_line_color\":null,\"group\":null,\"ticker\":null},\"id\":\"1023\",\"type\":\"Grid\"},{\"attributes\":{\"axis\":{\"id\":\"1016\"},\"coordinates\":null,\"grid_line_color\":null,\"group\":null,\"ticker\":null},\"id\":\"1019\",\"type\":\"Grid\"},{\"attributes\":{},\"id\":\"1014\",\"type\":\"LinearScale\"},{\"attributes\":{},\"id\":\"1048\",\"type\":\"AllLabels\"},{\"attributes\":{\"coordinates\":null,\"formatter\":{\"id\":\"1047\"},\"group\":null,\"major_label_policy\":{\"id\":\"1048\"},\"ticker\":{\"id\":\"1021\"},\"visible\":false},\"id\":\"1020\",\"type\":\"LinearAxis\"},{\"attributes\":{},\"id\":\"1051\",\"type\":\"AllLabels\"},{\"attributes\":{\"coordinates\":null,\"formatter\":{\"id\":\"1050\"},\"group\":null,\"major_label_policy\":{\"id\":\"1051\"},\"ticker\":{\"id\":\"1017\"},\"visible\":false},\"id\":\"1016\",\"type\":\"LinearAxis\"},{\"attributes\":{\"fill_alpha\":{\"value\":0.1},\"fill_color\":{\"value\":\"blue\"},\"hatch_alpha\":{\"value\":0.1},\"hatch_color\":{\"value\":\"blue\"},\"line_alpha\":{\"value\":0.1},\"line_color\":{\"value\":\"blue\"},\"size\":{\"value\":10},\"x\":{\"field\":\"x\"},\"y\":{\"field\":\"y\"}},\"id\":\"1040\",\"type\":\"Circle\"},{\"attributes\":{},\"id\":\"1017\",\"type\":\"BasicTicker\"},{\"attributes\":{},\"id\":\"1008\",\"type\":\"DataRange1d\"}],\"root_ids\":[\"1005\"]},\"title\":\"Bokeh Application\",\"version\":\"2.4.2\"}};\n",
       "  const render_items = [{\"docid\":\"a23e1ba4-dee8-48b6-a08e-d5bb58149587\",\"root_ids\":[\"1005\"],\"roots\":{\"1005\":\"18b0f601-da86-434a-91ec-bc7af627f822\"}}];\n",
       "  root.Bokeh.embed.embed_items_notebook(docs_json, render_items);\n",
       "\n",
       "  }\n",
       "  if (root.Bokeh !== undefined) {\n",
       "    embed_document(root);\n",
       "  } else {\n",
       "    let attempts = 0;\n",
       "    const timer = setInterval(function(root) {\n",
       "      if (root.Bokeh !== undefined) {\n",
       "        clearInterval(timer);\n",
       "        embed_document(root);\n",
       "      } else {\n",
       "        attempts++;\n",
       "        if (attempts > 100) {\n",
       "          clearInterval(timer);\n",
       "          console.log(\"Bokeh: ERROR: Unable to run BokehJS code because BokehJS library is missing\");\n",
       "        }\n",
       "      }\n",
       "    }, 10, root)\n",
       "  }\n",
       "})(window);"
      ],
      "application/vnd.bokehjs_exec.v0+json": ""
     },
     "metadata": {
      "application/vnd.bokehjs_exec.v0+json": {
       "id": "1005"
      }
     },
     "output_type": "display_data"
    }
   ],
   "source": [
    "from sklearn.decomposition import PCA\n",
    "\n",
    "# Realizando redução de dimensão com PCA\n",
    "pca = PCA(n_components = 2)\n",
    "reducedWordVecs = pca.fit_transform(wordVecs)\n",
    "print(pca.explained_variance_)\n",
    "\n",
    "dfWordVecs = createWordVecsDataFrame(reducedWordVecs, token2index)\n",
    "interativePlot(dfWordVecs.sample(1500), title = 'Word Vecs (PCA)')"
   ]
  },
  {
   "cell_type": "code",
   "execution_count": 26,
   "metadata": {
    "scrolled": false
   },
   "outputs": [
    {
     "data": {
      "text/html": [
       "\n",
       "\n",
       "\n",
       "\n",
       "\n",
       "\n",
       "  <div class=\"bk-root\" id=\"6ac0bd11-5321-404f-aab4-b2e78137445d\" data-root-id=\"1113\"></div>\n"
      ]
     },
     "metadata": {},
     "output_type": "display_data"
    },
    {
     "data": {
      "application/javascript": [
       "(function(root) {\n",
       "  function embed_document(root) {\n",
       "    \n",
       "  const docs_json = {\"e18b748e-eafd-4dc1-aea7-d63881d602b7\":{\"defs\":[],\"roots\":{\"references\":[{\"attributes\":{\"below\":[{\"id\":\"1124\"}],\"center\":[{\"id\":\"1127\"},{\"id\":\"1131\"}],\"height\":800,\"left\":[{\"id\":\"1128\"}],\"outline_line_color\":null,\"renderers\":[{\"id\":\"1151\"}],\"title\":{\"id\":\"1114\"},\"toolbar\":{\"id\":\"1139\"},\"width\":800,\"x_range\":{\"id\":\"1116\"},\"x_scale\":{\"id\":\"1120\"},\"y_range\":{\"id\":\"1118\"},\"y_scale\":{\"id\":\"1122\"}},\"id\":\"1113\",\"subtype\":\"Figure\",\"type\":\"Plot\"},{\"attributes\":{\"source\":{\"id\":\"1111\"}},\"id\":\"1152\",\"type\":\"CDSView\"},{\"attributes\":{},\"id\":\"1120\",\"type\":\"LinearScale\"},{\"attributes\":{\"coordinates\":null,\"formatter\":{\"id\":\"1166\"},\"group\":null,\"major_label_policy\":{\"id\":\"1167\"},\"ticker\":{\"id\":\"1129\"},\"visible\":false},\"id\":\"1128\",\"type\":\"LinearAxis\"},{\"attributes\":{\"coordinates\":null,\"formatter\":{\"id\":\"1169\"},\"group\":null,\"major_label_policy\":{\"id\":\"1170\"},\"ticker\":{\"id\":\"1125\"},\"visible\":false},\"id\":\"1124\",\"type\":\"LinearAxis\"},{\"attributes\":{},\"id\":\"1125\",\"type\":\"BasicTicker\"},{\"attributes\":{\"axis\":{\"id\":\"1124\"},\"coordinates\":null,\"grid_line_color\":null,\"group\":null,\"ticker\":null},\"id\":\"1127\",\"type\":\"Grid\"},{\"attributes\":{\"active_scroll\":{\"id\":\"1133\"},\"tools\":[{\"id\":\"1112\"},{\"id\":\"1132\"},{\"id\":\"1133\"},{\"id\":\"1134\"},{\"id\":\"1135\"},{\"id\":\"1136\"}]},\"id\":\"1139\",\"type\":\"Toolbar\"},{\"attributes\":{\"fill_alpha\":{\"value\":0.1},\"fill_color\":{\"value\":\"blue\"},\"hatch_color\":{\"value\":\"blue\"},\"line_alpha\":{\"value\":0.2},\"line_color\":{\"value\":\"blue\"},\"size\":{\"value\":10},\"x\":{\"field\":\"x\"},\"y\":{\"field\":\"y\"}},\"id\":\"1147\",\"type\":\"Circle\"},{\"attributes\":{\"bottom_units\":\"screen\",\"coordinates\":null,\"fill_alpha\":0.5,\"fill_color\":\"lightgrey\",\"group\":null,\"left_units\":\"screen\",\"level\":\"overlay\",\"line_alpha\":1.0,\"line_color\":\"black\",\"line_dash\":[4,4],\"line_width\":2,\"right_units\":\"screen\",\"syncable\":false,\"top_units\":\"screen\"},\"id\":\"1138\",\"type\":\"BoxAnnotation\"},{\"attributes\":{},\"id\":\"1166\",\"type\":\"BasicTickFormatter\"},{\"attributes\":{\"fill_alpha\":{\"value\":0.2},\"fill_color\":{\"value\":\"blue\"},\"hatch_alpha\":{\"value\":0.2},\"hatch_color\":{\"value\":\"blue\"},\"line_alpha\":{\"value\":0.2},\"line_color\":{\"value\":\"blue\"},\"size\":{\"value\":10},\"x\":{\"field\":\"x\"},\"y\":{\"field\":\"y\"}},\"id\":\"1150\",\"type\":\"Circle\"},{\"attributes\":{},\"id\":\"1167\",\"type\":\"AllLabels\"},{\"attributes\":{\"bottom_units\":\"screen\",\"coordinates\":null,\"fill_alpha\":0.5,\"fill_color\":\"lightgrey\",\"group\":null,\"left_units\":\"screen\",\"level\":\"overlay\",\"line_alpha\":1.0,\"line_color\":\"black\",\"line_dash\":[4,4],\"line_width\":2,\"right_units\":\"screen\",\"syncable\":false,\"top_units\":\"screen\"},\"id\":\"1137\",\"type\":\"BoxAnnotation\"},{\"attributes\":{},\"id\":\"1118\",\"type\":\"DataRange1d\"},{\"attributes\":{\"overlay\":{\"id\":\"1138\"}},\"id\":\"1134\",\"type\":\"BoxZoomTool\"},{\"attributes\":{},\"id\":\"1133\",\"type\":\"WheelZoomTool\"},{\"attributes\":{},\"id\":\"1169\",\"type\":\"BasicTickFormatter\"},{\"attributes\":{\"overlay\":{\"id\":\"1137\"}},\"id\":\"1135\",\"type\":\"BoxSelectTool\"},{\"attributes\":{},\"id\":\"1136\",\"type\":\"ResetTool\"},{\"attributes\":{},\"id\":\"1132\",\"type\":\"PanTool\"},{\"attributes\":{\"fill_alpha\":{\"value\":0.1},\"fill_color\":{\"value\":\"blue\"},\"hatch_color\":{\"value\":\"blue\"},\"line_alpha\":{\"value\":0.2},\"size\":{\"value\":10},\"x\":{\"field\":\"x\"},\"y\":{\"field\":\"y\"}},\"id\":\"1149\",\"type\":\"Circle\"},{\"attributes\":{},\"id\":\"1170\",\"type\":\"AllLabels\"},{\"attributes\":{},\"id\":\"1129\",\"type\":\"BasicTicker\"},{\"attributes\":{\"coordinates\":null,\"data_source\":{\"id\":\"1111\"},\"glyph\":{\"id\":\"1147\"},\"group\":null,\"hover_glyph\":{\"id\":\"1149\"},\"muted_glyph\":{\"id\":\"1150\"},\"nonselection_glyph\":{\"id\":\"1148\"},\"view\":{\"id\":\"1152\"}},\"id\":\"1151\",\"type\":\"GlyphRenderer\"},{\"attributes\":{\"fill_alpha\":{\"value\":0.1},\"fill_color\":{\"value\":\"blue\"},\"hatch_alpha\":{\"value\":0.1},\"hatch_color\":{\"value\":\"blue\"},\"line_alpha\":{\"value\":0.1},\"line_color\":{\"value\":\"blue\"},\"size\":{\"value\":10},\"x\":{\"field\":\"x\"},\"y\":{\"field\":\"y\"}},\"id\":\"1148\",\"type\":\"Circle\"},{\"attributes\":{\"callback\":null,\"tooltips\":\"@word\"},\"id\":\"1112\",\"type\":\"HoverTool\"},{\"attributes\":{\"axis\":{\"id\":\"1128\"},\"coordinates\":null,\"dimension\":1,\"grid_line_color\":null,\"group\":null,\"ticker\":null},\"id\":\"1131\",\"type\":\"Grid\"},{\"attributes\":{},\"id\":\"1122\",\"type\":\"LinearScale\"},{\"attributes\":{},\"id\":\"1116\",\"type\":\"DataRange1d\"},{\"attributes\":{\"data\":{\"index\":[\"fugi\",\"contempor\\u00e2nea\",\"mostroulhe\",\"contava\",\"castiga\",\"suposta\",\"hem\",\"biografavam\",\"arranjemos\",\"arrependida\",\"leg\\u00edtimo\",\"reclinada\",\"amarguras\",\"outoni\\u00e7a\",\"pleno\",\"parente\",\"vinces\",\"entendendo\",\"repreender\",\"vendido\",\"arraigado\",\"pol\\u00edtica\",\"tento\",\"corcel\",\"l\\u00eaem\",\"cabos\",\"exemplar\",\"viegas\",\"supunhamos\",\"melhores\",\"indolente\",\"vagas\",\"moribundo\",\"sociais\",\"constrangido\",\"disse\",\"referiase\",\"colhi\",\"capricho\",\"destru\\u00edlo\",\"lanceime\",\"gelos\",\"abaixeime\",\"acholhe\",\"gravatas\",\"medita\",\"vergonha\",\"jardins\",\"valesse\",\"aparecesse\",\"exagera\\u00e7\\u00e3o\",\"italiana\",\"embolsei\",\"jantava\",\"fezse\",\"envergo\",\"imprensa\",\"afagoume\",\"sorriam\",\"apare\\u00e7a\",\"desesperada\",\"corte\",\"aturdido\",\"opostas\",\"bra\\u00e7as\",\"silogismo\",\"significava\",\"perguntas\",\"temporal\",\"trinta\",\"paragens\",\"capitula\\u00e7\\u00f5es\",\"teceram\",\"corredor\",\"negativo\",\"procureme\",\"mam\\u00e3e\",\"bruxelas\",\"fun\\u00e7\\u00e3o\",\"explica\",\"giogo\",\"dubitativa\",\"pupila\",\"interior\",\"sonhando\",\"espertar\",\"sacudisse\",\"radical\",\"nutriuse\",\"desmancha\",\"esquivas\",\"contempor\\u00e2neas\",\"tossir\",\"perigos\",\"comparasse\",\"coxa\",\"parecelhe\",\"perdoava\",\"ensinado\",\"jurisprud\\u00eancia\",\"examinar\",\"tempestade\",\"len\\u00e7o\",\"escutas\",\"preemin\\u00eancias\",\"laplace\",\"vinhetas\",\"sobrecasaca\",\"veracidade\",\"encostarme\",\"chuva\",\"quantas\",\"apresentandome\",\"argolas\",\"ocasi\\u00f5es\",\"cessou\",\"espalmava\",\"fitou\",\"perscrutava\",\"batizeime\",\"m\\u00e1s\",\"corrigida\",\"repetia\",\"sensaboria\",\"excessivo\",\"perspic\\u00e1cia\",\"toalha\",\"protestar\",\"coligiria\",\"chocha\",\"ii\",\"tomaram\",\"comia\",\"citavaos\",\"bastavame\",\"tratarmeia\",\"derradeiro\",\"ol\\u00e1\",\"curta\",\"recreio\",\"sucediamse\",\"damas\",\"rafadas\",\"rindo\",\"entreguemola\",\"ialhe\",\"amasse\",\"inebriante\",\"movimento\",\"airosa\",\"abra\\u00e3o\",\"grave\",\"iam\",\"correspondente\",\"famosos\",\"percorriam\",\"alvor\",\"seren\\u00edssima\",\"inspetor\",\"jurariam\",\"vosmec\\u00ea\",\"irritados\",\"bichinho\",\"ru\\u00eddo\",\"absorver\",\"corda\",\"daria\",\"farpinhas\",\"babil\\u00f4nia\",\"vi\\u00fava\",\"maior\",\"suponhase\",\"trag\\u00e9dia\",\"lantejoulas\",\"pesavame\",\"buscados\",\"arrependo\",\"complicavase\",\"camisas\",\"amote\",\"insist\\u00eancia\",\"escada\",\"peri\\u00f3dica\",\"cadav\\u00e9rica\",\"censura\",\"estiva\",\"elegeu\",\"pretens\\u00e3o\",\"pol\\u00edticos\",\"remo\\u00e7ar\",\"contasse\",\"barata\",\"disput\\u00e1la\",\"tamborila\",\"voz\",\"acompanhou\",\"violento\",\"alienado\",\"circunspecto\",\"levemente\",\"ru\\u00edna\",\"brito\",\"ando\",\"av\\u00f3s\",\"papel\",\"desapontada\",\"narizes\",\"desconhecida\",\"apetites\",\"dei\",\"brisa\",\"oportunidade\",\"deixeio\",\"letra\",\"lineamentos\",\"ter\\u00e7a\",\"obscura\",\"doulhe\",\"rebuscado\",\"enganara\",\"for\\u00e7a\",\"dominou\",\"chamava\",\"aconteceu\",\"fitinhas\",\"cassino\",\"pueril\",\"desesperado\",\"alteza\",\"exprimindo\",\"cheguei\",\"constiparse\",\"irrita\\u00e7\\u00e3o\",\"falando\",\"amimado\",\"baixa\",\"patusca\",\"dom\",\"human\\u00edstica\",\"demonstrei\",\"disser\",\"opus\",\"compotas\",\"faziaseme\",\"farejavame\",\"palerma\",\"cingir\",\"expliquei\",\"retivea\",\"feudal\",\"defeitos\",\"jaez\",\"faz\\u00eala\",\"mouriscas\",\"puxeia\",\"pendurada\",\"paneg\\u00edrico\",\"leuma\",\"mo\\u00e7os\",\"entendi\",\"ostentasse\",\"polido\",\"mucama\",\"vagavam\",\"m\\u00e3o\",\"excelentes\",\"contempl\\u00e1la\",\"ponderarlhe\",\"regala\",\"diplom\\u00e1tica\",\"arrebatamentos\",\"folgares\",\"passeia\",\"vede\",\"compara\",\"deveras\",\"ousei\",\"citou\",\"ruivas\",\"formid\\u00e1vel\",\"afirmo\",\"meneios\",\"nomea\\u00e7\\u00e3o\",\"estudavase\",\"doen\\u00e7as\",\"chameilhe\",\"rufar\",\"consultar\",\"desequilibravame\",\"gra\\u00e7olas\",\"magan\\u00e3o\",\"met\\u00eala\",\"sucessos\",\"seleta\",\"solo\",\"materna\",\"risos\",\"cheiro\",\"beneficiador\",\"vistosa\",\"acheilhe\",\"saibam\",\"iguais\",\"dram\\u00e1tica\",\"poderes\",\"surgiume\",\"cisne\",\"ostentamse\",\"encosta\",\"botouos\",\"reuni\\u00f5es\",\"hip\\u00f3tese\",\"s\\u00faplices\",\"s\\u00f3s\",\"franqueza\",\"tristeza\",\"usura\",\"importuna\",\"punha\",\"lisamente\",\"vila\\u00e7a\",\"virei\",\"sintaxe\",\"flores\",\"distribui\\u00e7\\u00e3o\",\"profiss\\u00e3o\",\"bruxa\",\"capacidades\",\"entrame\",\"vala\",\"prop\\u00f4s\",\"dividia\",\"cria\",\"alfim\",\"cortar\",\"entenderte\",\"contemplei\",\"horror\",\"loureira\",\"gostaria\",\"casos\",\"pequenino\",\"escrevo\",\"conjeturas\",\"revivendo\",\"despesas\",\"ang\\u00e9lica\",\"descende\",\"parecida\",\"fa\\u00e7a\",\"v\\u00edcio\",\"salvou\",\"esper\\u00e1vamos\",\"tomouo\",\"fixamente\",\"determinou\",\"hasteiam\",\"livro\",\"adivinhais\",\"observ\\u00e2ncia\",\"escabroso\",\"espasmo\",\"podia\",\"caracter\\u00edstica\",\"atirar\",\"conforto\",\"r\\u00fasticas\",\"transportar\",\"captas\",\"agradecerlhe\",\"malcriados\",\"falasse\",\"santa\",\"brigar\",\"it\\u00e1lia\",\"contente\",\"borracha\",\"iamseme\",\"opera\\u00e7\\u00e3o\",\"fitava\",\"ai\",\"metaf\\u00edsicos\",\"demos\",\"trato\",\"eleg\\u00e2ncia\",\"enfadar\",\"cara\",\"executa\",\"afrouxa\",\"cuidados\",\"ou\\u00e7am\",\"crepe\",\"baixei\",\"cruzado\",\"cadeiras\",\"cegonhas\",\"cessava\",\"comiss\\u00e3o\",\"furto\",\"valsar\",\"animais\",\"tanoeiro\",\"comida\",\"preta\",\"meias\",\"amparasse\",\"preferisse\",\"igrejas\",\"inventivo\",\"gostara\",\"rapada\",\"pulha\",\"derrota\",\"intervalado\",\"anca\",\"marido\",\"recebeuos\",\"desconsolado\",\"melado\",\"cumpriment\\u00e1la\",\"choravao\",\"rumor\",\"boquejava\",\"formigas\",\"ocupa\",\"duelo\",\"admirou\",\"batiam\",\"dente\",\"acabo\",\"roto\",\"outrossim\",\"tran\\u00e7as\",\"cast\\u00edssimo\",\"nacional\",\"mon\\u00f3logo\",\"escorregam\",\"espor\\u00e3o\",\"aceiteios\",\"cobi\\u00e7ar\",\"temperamento\",\"su\\u00ed\\u00e7as\",\"tanga\",\"galanteio\",\"delito\",\"d\\u00e3o\",\"fecharase\",\"apressese\",\"alternadamente\",\"serem\",\"planeta\",\"nababo\",\"achar\",\"observa\\u00e7\\u00e3o\",\"maternal\",\"prometesse\",\"inven\\u00e7\\u00f5es\",\"encaminheime\",\"avistar\",\"explicado\",\"exclamava\",\"lan\\u00e7as\",\"mira\",\"navalha\",\"jesus\",\"preliminares\",\"atual\",\"trouxenos\",\"bin\\u00f3culo\",\"cort\\u00eas\",\"vingan\\u00e7a\",\"girar\",\"fecha\",\"levasse\",\"confirmou\",\"surpresa\",\"moles\",\"cirurgi\\u00e3o\",\"estilo\",\"afeta\\u00e7\\u00e3o\",\"adotar\",\"pod\\u00edamos\",\"falou\",\"trote\",\"desinteressado\",\"espiando\",\"sulcavam\",\"desfilavam\",\"esterilizava\",\"vest\\u00edgios\",\"espl\\u00eandida\",\"respirar\",\"lucro\",\"sobejo\",\"servi\\u00e7os\",\"aparentemente\",\"desculpa\",\"desancavao\",\"buda\",\"ganhava\",\"lousa\",\"apertado\",\"corre\",\"teoria\",\"estrangulavaos\",\"ignorantona\",\"disso\",\"receia\",\"pol\\u00edcia\",\"restitu\\u00edra\",\"lampejantes\",\"metido\",\"altamente\",\"esque\\u00e7ome\",\"pl\\u00e1cida\",\"sacudir\",\"estarmos\",\"dissimula\\u00e7\\u00e3o\",\"senso\",\"murmurou\",\"raios\",\"insto\",\"insistisse\",\"abastado\",\"tristes\",\"arma\",\"atireime\",\"alegremente\",\"estranho\",\"produziu\",\"estreme\\u00e7\\u00f5es\",\"ferro\",\"substituir\",\"paris\",\"achou\",\"bandeira\",\"ardia\",\"soubesses\",\"perdoemme\",\"altares\",\"adotam\",\"explicoume\",\"consol\\u00e1la\",\"s\\u00f3t\\u00e3os\",\"edi\\u00e7\\u00f5es\",\"bisav\\u00f4\",\"afinco\",\"estendeume\",\"refugiarme\",\"intuito\",\"f\\u00edgaro\",\"segundafeira\",\"an\\u00fancio\",\"alcunha\",\"notas\",\"ensinava\",\"espertarlhe\",\"cunha\",\"estendendome\",\"catecismo\",\"pr\\u00f3ximo\",\"advirta\",\"redarg\\u00fcindo\",\"resid\\u00eancia\",\"ol\\u00e9\",\"extinguiase\",\"falei\",\"deixemos\",\"galanteara\",\"simp\\u00e1tico\",\"expelia\",\"pastilhas\",\"suspeitei\",\"esgotamos\",\"dama\",\"passatempo\",\"pios\",\"quebrando\",\"romper\",\"muro\",\"ornamenta\\u00e7\\u00e3o\",\"despedir\",\"raz\\u00e3o\",\"saltitavam\",\"devagar\",\"dedica\\u00e7\\u00e3o\",\"atrevia\",\"tratei\",\"despedirse\",\"gemia\",\"m\\u00e3os\",\"tost\\u00f5es\",\"galinha\",\"espirituais\",\"lembravos\",\"explicasses\",\"ministros\",\"graciosa\",\"fr\\u00eamito\",\"farm\\u00e1cia\",\"suponho\",\"pesco\\u00e7o\",\"pontual\",\"latinista\",\"esqueleto\",\"ruga\",\"referisse\",\"pr\\u00f3pria\",\"cordialmente\",\"discuss\\u00e3o\",\"paquetes\",\"morre\",\"apanh\\u00e1lo\",\"l\\u00e9pidos\",\"efic\\u00e1cia\",\"afei\\u00e7\\u00e3o\",\"eclesi\\u00e1stico\",\"tug\\u00fario\",\"lembrouse\",\"apertandome\",\"estampas\",\"lumin\\u00e1rias\",\"declaroume\",\"positivo\",\"qua\",\"altera\",\"conclu\\u00eda\",\"p\\u00e3o\",\"borba\",\"fechadura\",\"maciez\",\"bala\\u00e3o\",\"legitimamente\",\"atra\\u00edaa\",\"parentas\",\"negociava\",\"escadas\",\"descuidos\",\"apeeime\",\"baronesa\",\"pretas\",\"imitava\",\"assinatura\",\"editor\",\"tirara\",\"crian\\u00e7as\",\"lembrava\",\"golpear\",\"labutava\",\"pecado\",\"glacial\",\"enfadonhas\",\"sentado\",\"deixes\",\"externo\",\"escarlate\",\"resigna\\u00e7\\u00e3o\",\"nego\",\"travesso\",\"medalhas\",\"id\\u00f4nea\",\"mastigava\",\"param\",\"entrou\",\"mimos\",\"desembargador\",\"deliciosos\",\"guardaa\",\"\\u00edntimos\",\"queijo\",\"ouvi\",\"descobrir\",\"descreveu\",\"transmitida\",\"arte\",\"turbilh\\u00e3o\",\"c\\u00f3s\",\"apaziguoua\",\"refrescava\",\"j\\u00f3ias\",\"dificuldades\",\"leveios\",\"aperfei\\u00e7oava\",\"insinuativo\",\"cumpria\",\"licen\\u00e7a\",\"molas\",\"irritado\",\"amuavase\",\"jarras\",\"corso\",\"mo\\u00e7o\",\"dist\\u00farbio\",\"calos\",\"vagarosas\",\"poderei\",\"enxovalhar\",\"deixame\",\"ter\\u00e7o\",\"examine\",\"anjinho\",\"imp\\u00e9rio\",\"corteja\",\"aplauso\",\"canse\",\"fique\",\"despedindose\",\"bra\\u00e7o\",\"complexa\",\"com\\u00e9rcio\",\"in\",\"secret\\u00e1ria\",\"gentileza\",\"avaro\",\"contendas\",\"achar\\u00e1\",\"impaci\\u00eancia\",\"formular\",\"crist\\u00f3v\\u00e3o\",\"milhares\",\"risonho\",\"propostas\",\"deleitosa\",\"talhadas\",\"sobra\\u00e7ada\",\"amei\",\"respondeume\",\"desenlace\",\"norma\",\"perguntou\",\"aumentava\",\"parava\",\"criador\",\"prote\\u00e7\\u00e3o\",\"pr\\u00f3prio\",\"dan\\u00e7ara\",\"puxar\",\"desfez\",\"banquinha\",\"dir\\u00e1s\",\"fama\",\"vidas\",\"ruidosa\",\"risota\",\"pe\\u00e7olhe\",\"olho\",\"dist\\u00e2ncia\",\"empacha\",\"\\u00edntima\",\"farsa\",\"serpente\",\"beijarme\",\"tantos\",\"c\\u00e2mara\",\"imaculadas\",\"divertida\",\"arriscar\",\"bat\\u00ealas\",\"abre\",\"encontr\\u00e1lo\",\"libertou\",\"jura\",\"despediuo\",\"acordo\",\"afeto\",\"tend\\u00eancia\",\"sugestivo\",\"\\u00eanfase\",\"animaramse\",\"metera\",\"andar\\u00e1s\",\"di\\u00e1logo\",\"militares\",\"voltava\",\"acho\",\"\\u00e1rvore\",\"t\\u00eanues\",\"devo\\u00e7\\u00e3o\",\"excepcional\",\"ressoavamme\",\"di\\u00e1rio\",\"cima\",\"disputar\",\"manh\\u00e3s\",\"vaguear\",\"linha\",\"aplausos\",\"escadinhas\",\"longos\",\"necessariamente\",\"noventa\",\"despente\\u00e1la\",\"suprimo\",\"droga\",\"rodomoinha\",\"pupilas\",\"precisamente\",\"dom\\u00e9sticas\",\"infolio\",\"lavo\",\"lan\\u00e7ado\",\"desvairadamente\",\"varia\\u00e7\\u00f5es\",\"pent\\u00e9lico\",\"devera\",\"lembrares\",\"erguendose\",\"maistre\",\"tartaruga\",\"lavrador\",\"enganarse\",\"l\\u00e1grimas\",\"tem\\u00edamos\",\"usado\",\"permeio\",\"deitei\",\"solda\",\"suportase\",\"tra\\u00e7adas\",\"pegoume\",\"eternos\",\"evito\",\"pruridos\",\"atribu\\u00ed\",\"calome\",\"perdoasse\",\"bicho\",\"abotoouse\",\"desfor\\u00e7o\",\"homens\",\"desfeita\",\"chamoume\",\"corcovos\",\"ach\\u00e1lo\",\"enleva\",\"correm\",\"esquerdo\",\"pateta\",\"obedecerlhe\",\"instabilidade\",\"louvaramme\",\"passarinho\",\"demonstra\\u00e7\\u00f5es\",\"mordiamse\",\"sarcasticamente\",\"seiva\",\"lerme\",\"redonda\",\"natal\",\"atr\\u00e1s\",\"dire\\u00e7\\u00e3o\",\"irei\",\"lan\\u00e7ou\",\"erasmo\",\"retorquiu\",\"pintada\",\"inclinei\",\"parece\",\"chispas\",\"pireu\",\"senteia\",\"nimiamente\",\"formosura\",\"valsamos\",\"preju\\u00edzo\",\"conserva\\u00e7\\u00e3o\",\"malogro\",\"rua\",\"padres\",\"serafim\",\"custa\",\"tiroume\",\"madrugada\",\"antihigi\\u00eanicas\",\"repugnante\",\"gerais\",\"tumultu\\u00e1rio\",\"restituir\",\"vastid\\u00e3o\",\"seguida\",\"advers\\u00e1rio\",\"tub\\u00e9rculos\",\"supersti\\u00e7\\u00e3o\",\"d\\u0092\\u00e1gua\",\"ahn\",\"senhor\",\"moita\",\"modernos\",\"rosnou\",\"esperto\",\"atestou\",\"horrores\",\"baixela\",\"desaten\\u00e7\\u00e3o\",\"humanitismo\",\"decoroso\",\"caro\",\"prud\\u00eancios\",\"torre\",\"reproduzir\",\"lua\",\"chamastes\",\"beca\",\"ralado\",\"colunas\",\"acomodate\",\"cortasteme\",\"douta\",\"considera\\u00e7\\u00f5es\",\"r\\u00edgido\",\"vulgar\",\"chamarme\",\"canteiro\",\"fatalidade\",\"atividade\",\"remoques\",\"devaneio\",\"absoluto\",\"mant\\u00e9u\",\"detenha\",\"coaduna\",\"tolhesse\",\"ach\\u00e1los\",\"conter\",\"direitas\",\"manga\",\"concentrado\",\"desceu\",\"ca\\u00ed\",\"arranjarlhe\",\"garganta\",\"negar\\u00e1\",\"dantes\",\"universal\",\"dessas\",\"fr\\u00edvola\",\"meiodia\",\"reputa\\u00e7\\u00e3o\",\"pedem\",\"colossal\",\"receio\",\"cede\",\"misterioso\",\"deixo\",\"l\\u00f3gico\",\"viriam\",\"tratame\",\"alvoro\\u00e7ado\",\"eus\\u00e9bia\",\"lanceilhe\",\"ab\\u00f3bora\",\"saturno\",\"torn\\u00e1la\",\"buscava\",\"diz\",\"aceitaria\",\"celebridade\",\"desejo\",\"efl\\u00favio\",\"decifrar\",\"salvas\",\"desmentio\",\"tenderia\",\"desesperan\\u00e7a\",\"sugest\\u00e3o\",\"fizera\",\"alumiado\",\"tireia\",\"derammo\",\"vai\",\"ach\\u00e1vamonos\",\"tonta\",\"mordeume\",\"tranq\\u00fcilos\",\"decoro\",\"mastigando\",\"crina\",\"queira\",\"alegar\",\"buoi\",\"arlequim\",\"influir\",\"livros\",\"antecipemos\",\"meditaste\",\"conhe\\u00e7o\",\"trabalhava\",\"seres\",\"clandestina\",\"pamonha\",\"levantar\",\"aterrado\",\"ossudas\",\"receber\\u00e1\",\"finados\",\"aben\\u00e7oadas\",\"cabeleira\",\"cavalgando\",\"par\\u00f3quia\",\"fazerlhe\",\"lavasse\",\"orgulhoso\",\"mergulhado\",\"bord\\u00e3o\",\"soalho\",\"bemaventuran\\u00e7a\",\"dizia\",\"triunfo\",\"diana\",\"universidade\",\"polida\",\"garatujado\",\"siga\",\"freq\\u00fc\\u00eancia\",\"novela\",\"coragem\",\"salutares\",\"acrescentando\",\"piscava\",\"mandeime\",\"consolou\",\"disparou\",\"verdadeiro\",\"despedi\",\"erame\",\"dissimular\",\"incoerc\\u00edvel\",\"madres\",\"eternamente\",\"simp\\u00e1tica\",\"corrige\",\"verdes\",\"borboletas\",\"sacolejarme\",\"saiba\",\"zelo\",\"pura\",\"seguiramse\",\"imposs\\u00edvel\",\"perdiase\",\"afortunado\",\"estalido\",\"inquietas\",\"exercesse\",\"estr\\u00f3ina\",\"xxvii\",\"cont\\u00e1lo\",\"desmentiu\",\"farto\",\"rirse\",\"arcebispos\",\"descobria\",\"prop\\u00edcios\",\"v\\u00e9spera\",\"viase\",\"quarenta\",\"conquanto\",\"oculto\",\"custavame\",\"apagou\",\"civilizada\",\"reprodu\\u00e7\\u00e3o\",\"embalaram\",\"baladas\",\"levar\",\"sabeis\",\"cortesanices\",\"reconciliouse\",\"pondera\\u00e7\\u00e3o\",\"machucara\",\"patacas\",\"pintor\",\"exuberante\",\"lady\",\"juvenilmente\",\"fores\",\"contanto\",\"causas\",\"mendigo\",\"destro\",\"frugalidade\",\"qualquer\",\"mod\\u00e9stia\",\"ambiciosos\",\"digalhe\",\"espadim\",\"desacordo\",\"asseio\",\"nudez\",\"casto\",\"sup\\u00f4s\",\"trevas\",\"recuar\",\"debru\\u00e7ado\",\"carta\",\"foguete\",\"primeiramente\",\"inacess\\u00edvel\",\"pulo\",\"condensa\\u00e7\\u00e3o\",\"gole\",\"necessidade\",\"juiz\",\"apostadores\",\"franziu\",\"epidemias\",\"restitu\\u00eda\",\"doer\",\"miolo\",\"ana\",\"respeitava\",\"praguejada\",\"sociedades\",\"dinheiro\",\"lacrimosa\",\"apetec\\u00edveis\",\"signo\",\"reuni\\u00e3o\",\"afetuosas\",\"expirar\",\"pedro\",\"comunicou\",\"sacudilo\",\"atenas\",\"cuides\",\"freio\",\"virginal\",\"c\\u00f3cegas\",\"expirava\",\"tartufice\",\"hesitei\",\"aberra\\u00e7\\u00f5es\",\"narra\\u00e7\\u00e3o\",\"arvoredo\",\"estante\",\"libr\\u00e9\",\"sinh\\u00e1\",\"car\\u00f5es\",\"acr\\u00e9scimo\",\"sacrificar\",\"baratos\",\"acompanhavame\",\"desconcertou\",\"ins\\u00edgnias\",\"est\\u00e1tuas\",\"apressado\",\"estupefa\\u00e7\\u00e3o\",\"convulsa\",\"promete\",\"ereta\",\"abriulhes\",\"jurei\",\"obsequiador\",\"perdera\",\"p\\u00f4de\",\"baronesas\",\"pardieiro\",\"jumento\",\"contempl\\u00e1lo\",\"fundamental\",\"conhecimento\",\"diferente\",\"oferecime\",\"rapidez\",\"quest\\u00f5es\",\"considerar\",\"desastres\",\"remireio\",\"induz\",\"pregui\\u00e7osamente\",\"perdoeme\",\"punhado\",\"tornava\",\"tavares\",\"experimentei\",\"acontecia\",\"desanim\\u00e1lo\",\"dolente\",\"deitou\",\"b\\u00e1lsamo\",\"pasmados\",\"obrigados\",\"broche\",\"frouxid\\u00e3o\",\"celebrar\",\"aparecer\",\"evidente\",\"ix\",\"fizesse\",\"liter\\u00e1rias\",\"necess\\u00e1rio\",\"a\\u00e7ucareiro\",\"passado\",\"escancarada\",\"lepidez\",\"exprimila\",\"levantam\",\"glosarmos\",\"sonoridade\",\"ouvido\",\"redarg\\u00fciu\",\"estreitas\",\"davalhe\",\"evangelho\",\"fundar\",\"classe\",\"trateios\",\"valor\",\"beij\\u00e1lo\",\"igrejinha\",\"vem\",\"tinhor\\u00e3o\",\"record\\u00e1lo\",\"carrancuda\",\"funda\",\"esfregaas\",\"bals\\u00e2mico\",\"injusto\",\"desafeitarse\",\"levarme\",\"ostensiva\",\"solu\\u00e7\\u00e3o\",\"inflama\",\"fragilidade\",\"vig\\u00edlia\",\"subscri\\u00e7\\u00e3o\",\"mandara\",\"cortado\",\"purificou\",\"encontravase\",\"beijeilhe\",\"explorei\",\"obterlhe\",\"bicos\",\"frescura\",\"sof\\u00e1\",\"agarrarme\",\"mortifica\",\"fitavamme\",\"caras\",\"gr\\u00e3o\",\"faina\",\"descendia\",\"travessuras\",\"descrev\\u00eala\",\"alvoradas\",\"fa\\u00e7amos\",\"arranc\\u00e1lo\",\"dan\\u00e7ar\",\"naqueles\",\"derramando\",\"enegreceu\",\"jungidos\",\"chamavame\",\"vaidades\",\"ignor\\u00e2ncias\",\"especiaria\",\"filos\\u00f3ficas\",\"glosador\",\"sa\\u00ed\",\"corredores\",\"tremas\",\"gemeu\",\"engolir\",\"rid\\u00edcula\",\"cosas\",\"rezar\",\"indiferente\",\"porque\",\"momentos\",\"rasos\",\"sentar\",\"imenso\",\"nessa\",\"atribuir\",\"venha\",\"humanidade\",\"buriladas\",\"referia\",\"costuras\",\"desculpas\",\"grupos\",\"contempla\",\"biogr\\u00e1fica\",\"moeda\",\"gostasse\",\"seculares\",\"lan\\u00e7ando\",\"europa\",\"asna\",\"pensados\",\"parapeito\",\"respondiame\",\"percebeu\",\"rochedo\",\"obra\",\"queimara\",\"calafrio\",\"contra\\u00e7\\u00e3o\",\"confidente\",\"fixa\",\"quadros\",\"jaqueta\",\"caiu\",\"c\\u00e1lidas\",\"vingava\",\"obrigam\",\"len\\u00e7ol\",\"cumprimenta\",\"inventou\",\"balc\\u00e3o\",\"caime\",\"dose\",\"desembarque\",\"repetilhe\",\"volteime\",\"carrancudo\",\"delicadeza\",\"trabalhando\",\"abriaas\",\"brim\",\"encaminhei\",\"reduzido\",\"cemit\\u00e9rio\",\"f\\u00e2mulos\",\"trocouse\",\"sentimento\",\"ler\",\"forcejou\",\"bocejos\",\"compreens\\u00e3o\",\"quer\",\"pingando\",\"lxxv\",\"repetio\",\"distrairme\",\"aspectos\",\"lembrame\",\"colegas\",\"vivamos\",\"baba\",\"\\u00edndias\",\"esque\\u00e7ame\",\"espelhos\",\"mateme\",\"esgaravatou\",\"sacudia\",\"adivinhe\",\"fei\\u00e7\\u00e3o\",\"induzia\",\"taxa\",\"chegue\",\"\\u00e1tila\",\"reg\\u00edmen\",\"p\\u00e9rola\",\"sa\\u00edste\",\"peste\",\"obedecia\",\"express\\u00f5es\",\"vir\\u00e3o\",\"s\\u00e9\",\"explico\",\"clara\",\"vinham\",\"humildes\",\"engenhosa\",\"arruar\",\"ilustr\\u00e1lo\",\"desv\\u00e3o\",\"indicado\",\"frouxo\",\"restituirlho\",\"atulhada\",\"viveu\",\"aparente\",\"s\\u00e1bio\",\"dobrado\",\"capit\\u00e3o\",\"cachorrinhos\",\"prataria\",\"diriam\",\"vespasiano\",\"gar\\u00e7\\u00e3o\",\"lembre\",\"chega\",\"colete\",\"empalideceu\",\"certamente\",\"subst\\u00e2ncia\",\"intrare\",\"admirava\",\"for\\u00e7as\",\"retifica\",\"origens\",\"circunflex\\u00f5es\",\"responsabilidade\",\"justamente\",\"retrato\",\"fitei\",\"intimativa\",\"finas\",\"m\\u00e1rmore\",\"li\\u00e7\\u00e3o\",\"rapaz\",\"disselhe\",\"bufar\",\"p\\u00f3lvora\",\"estender\",\"rigorosamente\",\"arqueadas\",\"folha\",\"m\\u00e1ximas\",\"vinte\",\"espantada\",\"desafrontado\",\"esvae\\u00e7a\",\"inculcam\",\"amorpr\\u00f3prio\",\"deit\\u00e1lo\",\"minava\",\"guardei\",\"ovante\",\"liberalismo\",\"arregalava\",\"deplor\\u00e1vel\",\"podiam\",\"cantinho\",\"precisa\",\"carnes\",\"ensinalhe\",\"intervindo\",\"sobrevieram\",\"mate\",\"esqueciame\",\"passar\",\"destinasse\",\"digno\",\"ordenado\",\"mar\\u00edtima\",\"emprego\",\"lavaramse\",\"jureilhe\",\"estendendolhe\",\"pegar\",\"perna\",\"an\\u00fancios\",\"pangloss\",\"pratic\\u00e1lo\",\"ainda\",\"sara\",\"anunciarlhe\",\"matavame\",\"disserase\",\"ostentou\",\"agitarme\",\"quanto\",\"deixavamme\",\"quimera\",\"cantarolou\",\"preconceitos\",\"carruagem\",\"baterme\",\"enganase\",\"capad\\u00f3cios\",\"suor\",\"ardiloso\",\"pr\\u00f3xima\",\"passear\",\"tiravalhe\",\"simples\",\"dissimulava\",\"agradecer\\u00e1\",\"entende\",\"obter\",\"pr\\u00f3speros\",\"valsa\",\"devolverme\",\"passos\",\"rec\\u00e9mnascido\",\"metade\",\"ter\\u00e1s\",\"separarmos\",\"obrigada\",\"baldadas\",\"prendas\",\"enxada\",\"pat\\u00e9tica\",\"acaso\",\"20\",\"lembrarse\",\"pediame\",\"faz\",\"oficial\",\"sum\\u00e1rio\",\"compensavaa\",\"cristal\",\"perversos\",\"cintilantes\",\"tivoli\",\"\\u00faltimo\"],\"word\":[\"fugi\",\"contempor\\u00e2nea\",\"mostroulhe\",\"contava\",\"castiga\",\"suposta\",\"hem\",\"biografavam\",\"arranjemos\",\"arrependida\",\"leg\\u00edtimo\",\"reclinada\",\"amarguras\",\"outoni\\u00e7a\",\"pleno\",\"parente\",\"vinces\",\"entendendo\",\"repreender\",\"vendido\",\"arraigado\",\"pol\\u00edtica\",\"tento\",\"corcel\",\"l\\u00eaem\",\"cabos\",\"exemplar\",\"viegas\",\"supunhamos\",\"melhores\",\"indolente\",\"vagas\",\"moribundo\",\"sociais\",\"constrangido\",\"disse\",\"referiase\",\"colhi\",\"capricho\",\"destru\\u00edlo\",\"lanceime\",\"gelos\",\"abaixeime\",\"acholhe\",\"gravatas\",\"medita\",\"vergonha\",\"jardins\",\"valesse\",\"aparecesse\",\"exagera\\u00e7\\u00e3o\",\"italiana\",\"embolsei\",\"jantava\",\"fezse\",\"envergo\",\"imprensa\",\"afagoume\",\"sorriam\",\"apare\\u00e7a\",\"desesperada\",\"corte\",\"aturdido\",\"opostas\",\"bra\\u00e7as\",\"silogismo\",\"significava\",\"perguntas\",\"temporal\",\"trinta\",\"paragens\",\"capitula\\u00e7\\u00f5es\",\"teceram\",\"corredor\",\"negativo\",\"procureme\",\"mam\\u00e3e\",\"bruxelas\",\"fun\\u00e7\\u00e3o\",\"explica\",\"giogo\",\"dubitativa\",\"pupila\",\"interior\",\"sonhando\",\"espertar\",\"sacudisse\",\"radical\",\"nutriuse\",\"desmancha\",\"esquivas\",\"contempor\\u00e2neas\",\"tossir\",\"perigos\",\"comparasse\",\"coxa\",\"parecelhe\",\"perdoava\",\"ensinado\",\"jurisprud\\u00eancia\",\"examinar\",\"tempestade\",\"len\\u00e7o\",\"escutas\",\"preemin\\u00eancias\",\"laplace\",\"vinhetas\",\"sobrecasaca\",\"veracidade\",\"encostarme\",\"chuva\",\"quantas\",\"apresentandome\",\"argolas\",\"ocasi\\u00f5es\",\"cessou\",\"espalmava\",\"fitou\",\"perscrutava\",\"batizeime\",\"m\\u00e1s\",\"corrigida\",\"repetia\",\"sensaboria\",\"excessivo\",\"perspic\\u00e1cia\",\"toalha\",\"protestar\",\"coligiria\",\"chocha\",\"ii\",\"tomaram\",\"comia\",\"citavaos\",\"bastavame\",\"tratarmeia\",\"derradeiro\",\"ol\\u00e1\",\"curta\",\"recreio\",\"sucediamse\",\"damas\",\"rafadas\",\"rindo\",\"entreguemola\",\"ialhe\",\"amasse\",\"inebriante\",\"movimento\",\"airosa\",\"abra\\u00e3o\",\"grave\",\"iam\",\"correspondente\",\"famosos\",\"percorriam\",\"alvor\",\"seren\\u00edssima\",\"inspetor\",\"jurariam\",\"vosmec\\u00ea\",\"irritados\",\"bichinho\",\"ru\\u00eddo\",\"absorver\",\"corda\",\"daria\",\"farpinhas\",\"babil\\u00f4nia\",\"vi\\u00fava\",\"maior\",\"suponhase\",\"trag\\u00e9dia\",\"lantejoulas\",\"pesavame\",\"buscados\",\"arrependo\",\"complicavase\",\"camisas\",\"amote\",\"insist\\u00eancia\",\"escada\",\"peri\\u00f3dica\",\"cadav\\u00e9rica\",\"censura\",\"estiva\",\"elegeu\",\"pretens\\u00e3o\",\"pol\\u00edticos\",\"remo\\u00e7ar\",\"contasse\",\"barata\",\"disput\\u00e1la\",\"tamborila\",\"voz\",\"acompanhou\",\"violento\",\"alienado\",\"circunspecto\",\"levemente\",\"ru\\u00edna\",\"brito\",\"ando\",\"av\\u00f3s\",\"papel\",\"desapontada\",\"narizes\",\"desconhecida\",\"apetites\",\"dei\",\"brisa\",\"oportunidade\",\"deixeio\",\"letra\",\"lineamentos\",\"ter\\u00e7a\",\"obscura\",\"doulhe\",\"rebuscado\",\"enganara\",\"for\\u00e7a\",\"dominou\",\"chamava\",\"aconteceu\",\"fitinhas\",\"cassino\",\"pueril\",\"desesperado\",\"alteza\",\"exprimindo\",\"cheguei\",\"constiparse\",\"irrita\\u00e7\\u00e3o\",\"falando\",\"amimado\",\"baixa\",\"patusca\",\"dom\",\"human\\u00edstica\",\"demonstrei\",\"disser\",\"opus\",\"compotas\",\"faziaseme\",\"farejavame\",\"palerma\",\"cingir\",\"expliquei\",\"retivea\",\"feudal\",\"defeitos\",\"jaez\",\"faz\\u00eala\",\"mouriscas\",\"puxeia\",\"pendurada\",\"paneg\\u00edrico\",\"leuma\",\"mo\\u00e7os\",\"entendi\",\"ostentasse\",\"polido\",\"mucama\",\"vagavam\",\"m\\u00e3o\",\"excelentes\",\"contempl\\u00e1la\",\"ponderarlhe\",\"regala\",\"diplom\\u00e1tica\",\"arrebatamentos\",\"folgares\",\"passeia\",\"vede\",\"compara\",\"deveras\",\"ousei\",\"citou\",\"ruivas\",\"formid\\u00e1vel\",\"afirmo\",\"meneios\",\"nomea\\u00e7\\u00e3o\",\"estudavase\",\"doen\\u00e7as\",\"chameilhe\",\"rufar\",\"consultar\",\"desequilibravame\",\"gra\\u00e7olas\",\"magan\\u00e3o\",\"met\\u00eala\",\"sucessos\",\"seleta\",\"solo\",\"materna\",\"risos\",\"cheiro\",\"beneficiador\",\"vistosa\",\"acheilhe\",\"saibam\",\"iguais\",\"dram\\u00e1tica\",\"poderes\",\"surgiume\",\"cisne\",\"ostentamse\",\"encosta\",\"botouos\",\"reuni\\u00f5es\",\"hip\\u00f3tese\",\"s\\u00faplices\",\"s\\u00f3s\",\"franqueza\",\"tristeza\",\"usura\",\"importuna\",\"punha\",\"lisamente\",\"vila\\u00e7a\",\"virei\",\"sintaxe\",\"flores\",\"distribui\\u00e7\\u00e3o\",\"profiss\\u00e3o\",\"bruxa\",\"capacidades\",\"entrame\",\"vala\",\"prop\\u00f4s\",\"dividia\",\"cria\",\"alfim\",\"cortar\",\"entenderte\",\"contemplei\",\"horror\",\"loureira\",\"gostaria\",\"casos\",\"pequenino\",\"escrevo\",\"conjeturas\",\"revivendo\",\"despesas\",\"ang\\u00e9lica\",\"descende\",\"parecida\",\"fa\\u00e7a\",\"v\\u00edcio\",\"salvou\",\"esper\\u00e1vamos\",\"tomouo\",\"fixamente\",\"determinou\",\"hasteiam\",\"livro\",\"adivinhais\",\"observ\\u00e2ncia\",\"escabroso\",\"espasmo\",\"podia\",\"caracter\\u00edstica\",\"atirar\",\"conforto\",\"r\\u00fasticas\",\"transportar\",\"captas\",\"agradecerlhe\",\"malcriados\",\"falasse\",\"santa\",\"brigar\",\"it\\u00e1lia\",\"contente\",\"borracha\",\"iamseme\",\"opera\\u00e7\\u00e3o\",\"fitava\",\"ai\",\"metaf\\u00edsicos\",\"demos\",\"trato\",\"eleg\\u00e2ncia\",\"enfadar\",\"cara\",\"executa\",\"afrouxa\",\"cuidados\",\"ou\\u00e7am\",\"crepe\",\"baixei\",\"cruzado\",\"cadeiras\",\"cegonhas\",\"cessava\",\"comiss\\u00e3o\",\"furto\",\"valsar\",\"animais\",\"tanoeiro\",\"comida\",\"preta\",\"meias\",\"amparasse\",\"preferisse\",\"igrejas\",\"inventivo\",\"gostara\",\"rapada\",\"pulha\",\"derrota\",\"intervalado\",\"anca\",\"marido\",\"recebeuos\",\"desconsolado\",\"melado\",\"cumpriment\\u00e1la\",\"choravao\",\"rumor\",\"boquejava\",\"formigas\",\"ocupa\",\"duelo\",\"admirou\",\"batiam\",\"dente\",\"acabo\",\"roto\",\"outrossim\",\"tran\\u00e7as\",\"cast\\u00edssimo\",\"nacional\",\"mon\\u00f3logo\",\"escorregam\",\"espor\\u00e3o\",\"aceiteios\",\"cobi\\u00e7ar\",\"temperamento\",\"su\\u00ed\\u00e7as\",\"tanga\",\"galanteio\",\"delito\",\"d\\u00e3o\",\"fecharase\",\"apressese\",\"alternadamente\",\"serem\",\"planeta\",\"nababo\",\"achar\",\"observa\\u00e7\\u00e3o\",\"maternal\",\"prometesse\",\"inven\\u00e7\\u00f5es\",\"encaminheime\",\"avistar\",\"explicado\",\"exclamava\",\"lan\\u00e7as\",\"mira\",\"navalha\",\"jesus\",\"preliminares\",\"atual\",\"trouxenos\",\"bin\\u00f3culo\",\"cort\\u00eas\",\"vingan\\u00e7a\",\"girar\",\"fecha\",\"levasse\",\"confirmou\",\"surpresa\",\"moles\",\"cirurgi\\u00e3o\",\"estilo\",\"afeta\\u00e7\\u00e3o\",\"adotar\",\"pod\\u00edamos\",\"falou\",\"trote\",\"desinteressado\",\"espiando\",\"sulcavam\",\"desfilavam\",\"esterilizava\",\"vest\\u00edgios\",\"espl\\u00eandida\",\"respirar\",\"lucro\",\"sobejo\",\"servi\\u00e7os\",\"aparentemente\",\"desculpa\",\"desancavao\",\"buda\",\"ganhava\",\"lousa\",\"apertado\",\"corre\",\"teoria\",\"estrangulavaos\",\"ignorantona\",\"disso\",\"receia\",\"pol\\u00edcia\",\"restitu\\u00edra\",\"lampejantes\",\"metido\",\"altamente\",\"esque\\u00e7ome\",\"pl\\u00e1cida\",\"sacudir\",\"estarmos\",\"dissimula\\u00e7\\u00e3o\",\"senso\",\"murmurou\",\"raios\",\"insto\",\"insistisse\",\"abastado\",\"tristes\",\"arma\",\"atireime\",\"alegremente\",\"estranho\",\"produziu\",\"estreme\\u00e7\\u00f5es\",\"ferro\",\"substituir\",\"paris\",\"achou\",\"bandeira\",\"ardia\",\"soubesses\",\"perdoemme\",\"altares\",\"adotam\",\"explicoume\",\"consol\\u00e1la\",\"s\\u00f3t\\u00e3os\",\"edi\\u00e7\\u00f5es\",\"bisav\\u00f4\",\"afinco\",\"estendeume\",\"refugiarme\",\"intuito\",\"f\\u00edgaro\",\"segundafeira\",\"an\\u00fancio\",\"alcunha\",\"notas\",\"ensinava\",\"espertarlhe\",\"cunha\",\"estendendome\",\"catecismo\",\"pr\\u00f3ximo\",\"advirta\",\"redarg\\u00fcindo\",\"resid\\u00eancia\",\"ol\\u00e9\",\"extinguiase\",\"falei\",\"deixemos\",\"galanteara\",\"simp\\u00e1tico\",\"expelia\",\"pastilhas\",\"suspeitei\",\"esgotamos\",\"dama\",\"passatempo\",\"pios\",\"quebrando\",\"romper\",\"muro\",\"ornamenta\\u00e7\\u00e3o\",\"despedir\",\"raz\\u00e3o\",\"saltitavam\",\"devagar\",\"dedica\\u00e7\\u00e3o\",\"atrevia\",\"tratei\",\"despedirse\",\"gemia\",\"m\\u00e3os\",\"tost\\u00f5es\",\"galinha\",\"espirituais\",\"lembravos\",\"explicasses\",\"ministros\",\"graciosa\",\"fr\\u00eamito\",\"farm\\u00e1cia\",\"suponho\",\"pesco\\u00e7o\",\"pontual\",\"latinista\",\"esqueleto\",\"ruga\",\"referisse\",\"pr\\u00f3pria\",\"cordialmente\",\"discuss\\u00e3o\",\"paquetes\",\"morre\",\"apanh\\u00e1lo\",\"l\\u00e9pidos\",\"efic\\u00e1cia\",\"afei\\u00e7\\u00e3o\",\"eclesi\\u00e1stico\",\"tug\\u00fario\",\"lembrouse\",\"apertandome\",\"estampas\",\"lumin\\u00e1rias\",\"declaroume\",\"positivo\",\"qua\",\"altera\",\"conclu\\u00eda\",\"p\\u00e3o\",\"borba\",\"fechadura\",\"maciez\",\"bala\\u00e3o\",\"legitimamente\",\"atra\\u00edaa\",\"parentas\",\"negociava\",\"escadas\",\"descuidos\",\"apeeime\",\"baronesa\",\"pretas\",\"imitava\",\"assinatura\",\"editor\",\"tirara\",\"crian\\u00e7as\",\"lembrava\",\"golpear\",\"labutava\",\"pecado\",\"glacial\",\"enfadonhas\",\"sentado\",\"deixes\",\"externo\",\"escarlate\",\"resigna\\u00e7\\u00e3o\",\"nego\",\"travesso\",\"medalhas\",\"id\\u00f4nea\",\"mastigava\",\"param\",\"entrou\",\"mimos\",\"desembargador\",\"deliciosos\",\"guardaa\",\"\\u00edntimos\",\"queijo\",\"ouvi\",\"descobrir\",\"descreveu\",\"transmitida\",\"arte\",\"turbilh\\u00e3o\",\"c\\u00f3s\",\"apaziguoua\",\"refrescava\",\"j\\u00f3ias\",\"dificuldades\",\"leveios\",\"aperfei\\u00e7oava\",\"insinuativo\",\"cumpria\",\"licen\\u00e7a\",\"molas\",\"irritado\",\"amuavase\",\"jarras\",\"corso\",\"mo\\u00e7o\",\"dist\\u00farbio\",\"calos\",\"vagarosas\",\"poderei\",\"enxovalhar\",\"deixame\",\"ter\\u00e7o\",\"examine\",\"anjinho\",\"imp\\u00e9rio\",\"corteja\",\"aplauso\",\"canse\",\"fique\",\"despedindose\",\"bra\\u00e7o\",\"complexa\",\"com\\u00e9rcio\",\"in\",\"secret\\u00e1ria\",\"gentileza\",\"avaro\",\"contendas\",\"achar\\u00e1\",\"impaci\\u00eancia\",\"formular\",\"crist\\u00f3v\\u00e3o\",\"milhares\",\"risonho\",\"propostas\",\"deleitosa\",\"talhadas\",\"sobra\\u00e7ada\",\"amei\",\"respondeume\",\"desenlace\",\"norma\",\"perguntou\",\"aumentava\",\"parava\",\"criador\",\"prote\\u00e7\\u00e3o\",\"pr\\u00f3prio\",\"dan\\u00e7ara\",\"puxar\",\"desfez\",\"banquinha\",\"dir\\u00e1s\",\"fama\",\"vidas\",\"ruidosa\",\"risota\",\"pe\\u00e7olhe\",\"olho\",\"dist\\u00e2ncia\",\"empacha\",\"\\u00edntima\",\"farsa\",\"serpente\",\"beijarme\",\"tantos\",\"c\\u00e2mara\",\"imaculadas\",\"divertida\",\"arriscar\",\"bat\\u00ealas\",\"abre\",\"encontr\\u00e1lo\",\"libertou\",\"jura\",\"despediuo\",\"acordo\",\"afeto\",\"tend\\u00eancia\",\"sugestivo\",\"\\u00eanfase\",\"animaramse\",\"metera\",\"andar\\u00e1s\",\"di\\u00e1logo\",\"militares\",\"voltava\",\"acho\",\"\\u00e1rvore\",\"t\\u00eanues\",\"devo\\u00e7\\u00e3o\",\"excepcional\",\"ressoavamme\",\"di\\u00e1rio\",\"cima\",\"disputar\",\"manh\\u00e3s\",\"vaguear\",\"linha\",\"aplausos\",\"escadinhas\",\"longos\",\"necessariamente\",\"noventa\",\"despente\\u00e1la\",\"suprimo\",\"droga\",\"rodomoinha\",\"pupilas\",\"precisamente\",\"dom\\u00e9sticas\",\"infolio\",\"lavo\",\"lan\\u00e7ado\",\"desvairadamente\",\"varia\\u00e7\\u00f5es\",\"pent\\u00e9lico\",\"devera\",\"lembrares\",\"erguendose\",\"maistre\",\"tartaruga\",\"lavrador\",\"enganarse\",\"l\\u00e1grimas\",\"tem\\u00edamos\",\"usado\",\"permeio\",\"deitei\",\"solda\",\"suportase\",\"tra\\u00e7adas\",\"pegoume\",\"eternos\",\"evito\",\"pruridos\",\"atribu\\u00ed\",\"calome\",\"perdoasse\",\"bicho\",\"abotoouse\",\"desfor\\u00e7o\",\"homens\",\"desfeita\",\"chamoume\",\"corcovos\",\"ach\\u00e1lo\",\"enleva\",\"correm\",\"esquerdo\",\"pateta\",\"obedecerlhe\",\"instabilidade\",\"louvaramme\",\"passarinho\",\"demonstra\\u00e7\\u00f5es\",\"mordiamse\",\"sarcasticamente\",\"seiva\",\"lerme\",\"redonda\",\"natal\",\"atr\\u00e1s\",\"dire\\u00e7\\u00e3o\",\"irei\",\"lan\\u00e7ou\",\"erasmo\",\"retorquiu\",\"pintada\",\"inclinei\",\"parece\",\"chispas\",\"pireu\",\"senteia\",\"nimiamente\",\"formosura\",\"valsamos\",\"preju\\u00edzo\",\"conserva\\u00e7\\u00e3o\",\"malogro\",\"rua\",\"padres\",\"serafim\",\"custa\",\"tiroume\",\"madrugada\",\"antihigi\\u00eanicas\",\"repugnante\",\"gerais\",\"tumultu\\u00e1rio\",\"restituir\",\"vastid\\u00e3o\",\"seguida\",\"advers\\u00e1rio\",\"tub\\u00e9rculos\",\"supersti\\u00e7\\u00e3o\",\"d\\u0092\\u00e1gua\",\"ahn\",\"senhor\",\"moita\",\"modernos\",\"rosnou\",\"esperto\",\"atestou\",\"horrores\",\"baixela\",\"desaten\\u00e7\\u00e3o\",\"humanitismo\",\"decoroso\",\"caro\",\"prud\\u00eancios\",\"torre\",\"reproduzir\",\"lua\",\"chamastes\",\"beca\",\"ralado\",\"colunas\",\"acomodate\",\"cortasteme\",\"douta\",\"considera\\u00e7\\u00f5es\",\"r\\u00edgido\",\"vulgar\",\"chamarme\",\"canteiro\",\"fatalidade\",\"atividade\",\"remoques\",\"devaneio\",\"absoluto\",\"mant\\u00e9u\",\"detenha\",\"coaduna\",\"tolhesse\",\"ach\\u00e1los\",\"conter\",\"direitas\",\"manga\",\"concentrado\",\"desceu\",\"ca\\u00ed\",\"arranjarlhe\",\"garganta\",\"negar\\u00e1\",\"dantes\",\"universal\",\"dessas\",\"fr\\u00edvola\",\"meiodia\",\"reputa\\u00e7\\u00e3o\",\"pedem\",\"colossal\",\"receio\",\"cede\",\"misterioso\",\"deixo\",\"l\\u00f3gico\",\"viriam\",\"tratame\",\"alvoro\\u00e7ado\",\"eus\\u00e9bia\",\"lanceilhe\",\"ab\\u00f3bora\",\"saturno\",\"torn\\u00e1la\",\"buscava\",\"diz\",\"aceitaria\",\"celebridade\",\"desejo\",\"efl\\u00favio\",\"decifrar\",\"salvas\",\"desmentio\",\"tenderia\",\"desesperan\\u00e7a\",\"sugest\\u00e3o\",\"fizera\",\"alumiado\",\"tireia\",\"derammo\",\"vai\",\"ach\\u00e1vamonos\",\"tonta\",\"mordeume\",\"tranq\\u00fcilos\",\"decoro\",\"mastigando\",\"crina\",\"queira\",\"alegar\",\"buoi\",\"arlequim\",\"influir\",\"livros\",\"antecipemos\",\"meditaste\",\"conhe\\u00e7o\",\"trabalhava\",\"seres\",\"clandestina\",\"pamonha\",\"levantar\",\"aterrado\",\"ossudas\",\"receber\\u00e1\",\"finados\",\"aben\\u00e7oadas\",\"cabeleira\",\"cavalgando\",\"par\\u00f3quia\",\"fazerlhe\",\"lavasse\",\"orgulhoso\",\"mergulhado\",\"bord\\u00e3o\",\"soalho\",\"bemaventuran\\u00e7a\",\"dizia\",\"triunfo\",\"diana\",\"universidade\",\"polida\",\"garatujado\",\"siga\",\"freq\\u00fc\\u00eancia\",\"novela\",\"coragem\",\"salutares\",\"acrescentando\",\"piscava\",\"mandeime\",\"consolou\",\"disparou\",\"verdadeiro\",\"despedi\",\"erame\",\"dissimular\",\"incoerc\\u00edvel\",\"madres\",\"eternamente\",\"simp\\u00e1tica\",\"corrige\",\"verdes\",\"borboletas\",\"sacolejarme\",\"saiba\",\"zelo\",\"pura\",\"seguiramse\",\"imposs\\u00edvel\",\"perdiase\",\"afortunado\",\"estalido\",\"inquietas\",\"exercesse\",\"estr\\u00f3ina\",\"xxvii\",\"cont\\u00e1lo\",\"desmentiu\",\"farto\",\"rirse\",\"arcebispos\",\"descobria\",\"prop\\u00edcios\",\"v\\u00e9spera\",\"viase\",\"quarenta\",\"conquanto\",\"oculto\",\"custavame\",\"apagou\",\"civilizada\",\"reprodu\\u00e7\\u00e3o\",\"embalaram\",\"baladas\",\"levar\",\"sabeis\",\"cortesanices\",\"reconciliouse\",\"pondera\\u00e7\\u00e3o\",\"machucara\",\"patacas\",\"pintor\",\"exuberante\",\"lady\",\"juvenilmente\",\"fores\",\"contanto\",\"causas\",\"mendigo\",\"destro\",\"frugalidade\",\"qualquer\",\"mod\\u00e9stia\",\"ambiciosos\",\"digalhe\",\"espadim\",\"desacordo\",\"asseio\",\"nudez\",\"casto\",\"sup\\u00f4s\",\"trevas\",\"recuar\",\"debru\\u00e7ado\",\"carta\",\"foguete\",\"primeiramente\",\"inacess\\u00edvel\",\"pulo\",\"condensa\\u00e7\\u00e3o\",\"gole\",\"necessidade\",\"juiz\",\"apostadores\",\"franziu\",\"epidemias\",\"restitu\\u00eda\",\"doer\",\"miolo\",\"ana\",\"respeitava\",\"praguejada\",\"sociedades\",\"dinheiro\",\"lacrimosa\",\"apetec\\u00edveis\",\"signo\",\"reuni\\u00e3o\",\"afetuosas\",\"expirar\",\"pedro\",\"comunicou\",\"sacudilo\",\"atenas\",\"cuides\",\"freio\",\"virginal\",\"c\\u00f3cegas\",\"expirava\",\"tartufice\",\"hesitei\",\"aberra\\u00e7\\u00f5es\",\"narra\\u00e7\\u00e3o\",\"arvoredo\",\"estante\",\"libr\\u00e9\",\"sinh\\u00e1\",\"car\\u00f5es\",\"acr\\u00e9scimo\",\"sacrificar\",\"baratos\",\"acompanhavame\",\"desconcertou\",\"ins\\u00edgnias\",\"est\\u00e1tuas\",\"apressado\",\"estupefa\\u00e7\\u00e3o\",\"convulsa\",\"promete\",\"ereta\",\"abriulhes\",\"jurei\",\"obsequiador\",\"perdera\",\"p\\u00f4de\",\"baronesas\",\"pardieiro\",\"jumento\",\"contempl\\u00e1lo\",\"fundamental\",\"conhecimento\",\"diferente\",\"oferecime\",\"rapidez\",\"quest\\u00f5es\",\"considerar\",\"desastres\",\"remireio\",\"induz\",\"pregui\\u00e7osamente\",\"perdoeme\",\"punhado\",\"tornava\",\"tavares\",\"experimentei\",\"acontecia\",\"desanim\\u00e1lo\",\"dolente\",\"deitou\",\"b\\u00e1lsamo\",\"pasmados\",\"obrigados\",\"broche\",\"frouxid\\u00e3o\",\"celebrar\",\"aparecer\",\"evidente\",\"ix\",\"fizesse\",\"liter\\u00e1rias\",\"necess\\u00e1rio\",\"a\\u00e7ucareiro\",\"passado\",\"escancarada\",\"lepidez\",\"exprimila\",\"levantam\",\"glosarmos\",\"sonoridade\",\"ouvido\",\"redarg\\u00fciu\",\"estreitas\",\"davalhe\",\"evangelho\",\"fundar\",\"classe\",\"trateios\",\"valor\",\"beij\\u00e1lo\",\"igrejinha\",\"vem\",\"tinhor\\u00e3o\",\"record\\u00e1lo\",\"carrancuda\",\"funda\",\"esfregaas\",\"bals\\u00e2mico\",\"injusto\",\"desafeitarse\",\"levarme\",\"ostensiva\",\"solu\\u00e7\\u00e3o\",\"inflama\",\"fragilidade\",\"vig\\u00edlia\",\"subscri\\u00e7\\u00e3o\",\"mandara\",\"cortado\",\"purificou\",\"encontravase\",\"beijeilhe\",\"explorei\",\"obterlhe\",\"bicos\",\"frescura\",\"sof\\u00e1\",\"agarrarme\",\"mortifica\",\"fitavamme\",\"caras\",\"gr\\u00e3o\",\"faina\",\"descendia\",\"travessuras\",\"descrev\\u00eala\",\"alvoradas\",\"fa\\u00e7amos\",\"arranc\\u00e1lo\",\"dan\\u00e7ar\",\"naqueles\",\"derramando\",\"enegreceu\",\"jungidos\",\"chamavame\",\"vaidades\",\"ignor\\u00e2ncias\",\"especiaria\",\"filos\\u00f3ficas\",\"glosador\",\"sa\\u00ed\",\"corredores\",\"tremas\",\"gemeu\",\"engolir\",\"rid\\u00edcula\",\"cosas\",\"rezar\",\"indiferente\",\"porque\",\"momentos\",\"rasos\",\"sentar\",\"imenso\",\"nessa\",\"atribuir\",\"venha\",\"humanidade\",\"buriladas\",\"referia\",\"costuras\",\"desculpas\",\"grupos\",\"contempla\",\"biogr\\u00e1fica\",\"moeda\",\"gostasse\",\"seculares\",\"lan\\u00e7ando\",\"europa\",\"asna\",\"pensados\",\"parapeito\",\"respondiame\",\"percebeu\",\"rochedo\",\"obra\",\"queimara\",\"calafrio\",\"contra\\u00e7\\u00e3o\",\"confidente\",\"fixa\",\"quadros\",\"jaqueta\",\"caiu\",\"c\\u00e1lidas\",\"vingava\",\"obrigam\",\"len\\u00e7ol\",\"cumprimenta\",\"inventou\",\"balc\\u00e3o\",\"caime\",\"dose\",\"desembarque\",\"repetilhe\",\"volteime\",\"carrancudo\",\"delicadeza\",\"trabalhando\",\"abriaas\",\"brim\",\"encaminhei\",\"reduzido\",\"cemit\\u00e9rio\",\"f\\u00e2mulos\",\"trocouse\",\"sentimento\",\"ler\",\"forcejou\",\"bocejos\",\"compreens\\u00e3o\",\"quer\",\"pingando\",\"lxxv\",\"repetio\",\"distrairme\",\"aspectos\",\"lembrame\",\"colegas\",\"vivamos\",\"baba\",\"\\u00edndias\",\"esque\\u00e7ame\",\"espelhos\",\"mateme\",\"esgaravatou\",\"sacudia\",\"adivinhe\",\"fei\\u00e7\\u00e3o\",\"induzia\",\"taxa\",\"chegue\",\"\\u00e1tila\",\"reg\\u00edmen\",\"p\\u00e9rola\",\"sa\\u00edste\",\"peste\",\"obedecia\",\"express\\u00f5es\",\"vir\\u00e3o\",\"s\\u00e9\",\"explico\",\"clara\",\"vinham\",\"humildes\",\"engenhosa\",\"arruar\",\"ilustr\\u00e1lo\",\"desv\\u00e3o\",\"indicado\",\"frouxo\",\"restituirlho\",\"atulhada\",\"viveu\",\"aparente\",\"s\\u00e1bio\",\"dobrado\",\"capit\\u00e3o\",\"cachorrinhos\",\"prataria\",\"diriam\",\"vespasiano\",\"gar\\u00e7\\u00e3o\",\"lembre\",\"chega\",\"colete\",\"empalideceu\",\"certamente\",\"subst\\u00e2ncia\",\"intrare\",\"admirava\",\"for\\u00e7as\",\"retifica\",\"origens\",\"circunflex\\u00f5es\",\"responsabilidade\",\"justamente\",\"retrato\",\"fitei\",\"intimativa\",\"finas\",\"m\\u00e1rmore\",\"li\\u00e7\\u00e3o\",\"rapaz\",\"disselhe\",\"bufar\",\"p\\u00f3lvora\",\"estender\",\"rigorosamente\",\"arqueadas\",\"folha\",\"m\\u00e1ximas\",\"vinte\",\"espantada\",\"desafrontado\",\"esvae\\u00e7a\",\"inculcam\",\"amorpr\\u00f3prio\",\"deit\\u00e1lo\",\"minava\",\"guardei\",\"ovante\",\"liberalismo\",\"arregalava\",\"deplor\\u00e1vel\",\"podiam\",\"cantinho\",\"precisa\",\"carnes\",\"ensinalhe\",\"intervindo\",\"sobrevieram\",\"mate\",\"esqueciame\",\"passar\",\"destinasse\",\"digno\",\"ordenado\",\"mar\\u00edtima\",\"emprego\",\"lavaramse\",\"jureilhe\",\"estendendolhe\",\"pegar\",\"perna\",\"an\\u00fancios\",\"pangloss\",\"pratic\\u00e1lo\",\"ainda\",\"sara\",\"anunciarlhe\",\"matavame\",\"disserase\",\"ostentou\",\"agitarme\",\"quanto\",\"deixavamme\",\"quimera\",\"cantarolou\",\"preconceitos\",\"carruagem\",\"baterme\",\"enganase\",\"capad\\u00f3cios\",\"suor\",\"ardiloso\",\"pr\\u00f3xima\",\"passear\",\"tiravalhe\",\"simples\",\"dissimulava\",\"agradecer\\u00e1\",\"entende\",\"obter\",\"pr\\u00f3speros\",\"valsa\",\"devolverme\",\"passos\",\"rec\\u00e9mnascido\",\"metade\",\"ter\\u00e1s\",\"separarmos\",\"obrigada\",\"baldadas\",\"prendas\",\"enxada\",\"pat\\u00e9tica\",\"acaso\",\"20\",\"lembrarse\",\"pediame\",\"faz\",\"oficial\",\"sum\\u00e1rio\",\"compensavaa\",\"cristal\",\"perversos\",\"cintilantes\",\"tivoli\",\"\\u00faltimo\"],\"x\":{\"__ndarray__\":\"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\",\"dtype\":\"float32\",\"order\":\"little\",\"shape\":[1500]},\"y\":{\"__ndarray__\":\"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\",\"dtype\":\"float32\",\"order\":\"little\",\"shape\":[1500]}},\"selected\":{\"id\":\"1172\"},\"selection_policy\":{\"id\":\"1171\"}},\"id\":\"1111\",\"type\":\"ColumnDataSource\"},{\"attributes\":{},\"id\":\"1171\",\"type\":\"UnionRenderers\"},{\"attributes\":{},\"id\":\"1172\",\"type\":\"Selection\"},{\"attributes\":{\"coordinates\":null,\"group\":null,\"text\":\"Word Vecs (TSNE)\"},\"id\":\"1114\",\"type\":\"Title\"}],\"root_ids\":[\"1113\"]},\"title\":\"Bokeh Application\",\"version\":\"2.4.2\"}};\n",
       "  const render_items = [{\"docid\":\"e18b748e-eafd-4dc1-aea7-d63881d602b7\",\"root_ids\":[\"1113\"],\"roots\":{\"1113\":\"6ac0bd11-5321-404f-aab4-b2e78137445d\"}}];\n",
       "  root.Bokeh.embed.embed_items_notebook(docs_json, render_items);\n",
       "\n",
       "  }\n",
       "  if (root.Bokeh !== undefined) {\n",
       "    embed_document(root);\n",
       "  } else {\n",
       "    let attempts = 0;\n",
       "    const timer = setInterval(function(root) {\n",
       "      if (root.Bokeh !== undefined) {\n",
       "        clearInterval(timer);\n",
       "        embed_document(root);\n",
       "      } else {\n",
       "        attempts++;\n",
       "        if (attempts > 100) {\n",
       "          clearInterval(timer);\n",
       "          console.log(\"Bokeh: ERROR: Unable to run BokehJS code because BokehJS library is missing\");\n",
       "        }\n",
       "      }\n",
       "    }, 10, root)\n",
       "  }\n",
       "})(window);"
      ],
      "application/vnd.bokehjs_exec.v0+json": ""
     },
     "metadata": {
      "application/vnd.bokehjs_exec.v0+json": {
       "id": "1113"
      }
     },
     "output_type": "display_data"
    }
   ],
   "source": [
    "from sklearn.manifold import TSNE\n",
    "tsne = TSNE(metric = 'cosine')\n",
    "reducedWordVecs = tsne.fit_transform(wordVecs)\n",
    "\n",
    "dfWordVecs = createWordVecsDataFrame(reducedWordVecs, token2index)\n",
    "interativePlot(dfWordVecs.sample(1500), title = 'Word Vecs (TSNE)')"
   ]
  },
  {
   "cell_type": "markdown",
   "metadata": {},
   "source": [
    "### 10. Visualização a partir de um agrupamento hierárquico das palavras"
   ]
  },
  {
   "cell_type": "markdown",
   "metadata": {},
   "source": [
    "Também podemos visualizar o resultado através de um agrupamento hierárquico de um conjunto de palavras. \n",
    "\n",
    "A hierarquia será obtida através do agrupamento aglomerativo, no qual, inicialmente, cada ponto possuirá seu próprio *cluster* e cada par de *clusters* próximos serão agrupados a medida que a hierarquia aumenta. \n",
    "\n",
    "Sejam dois agrupamentos $S$ e $T$, a distância entre os cluster será dada por $d(S,T)$. Quando $S$ e $T$ são agrupados em um único cluster $U$, então $S$ e $T$ serão removidos e substituídos por $U$. Ao final do algoritmo restará um único cluster, o qual será a raiz da hierarquia.\n",
    "\n",
    "Seja o cluster $U$ de $dim(U) = n$ formado pelos pontos $\\{u_{0}, u_{1}, ..., u_{i}, ..., u_{n-1}\\}$ e seja $V$ um outro *cluster* $V$ de $dim(V) = m$ formado pelos pontos $\\{v_{0}, v_{1}, ..., v_{j}, ..., v_{m-1}\\}$, a distância entre os clusters $U$ e $V$ será dada por:\n",
    "\n",
    "$$d(U,V) = \\sum_{i,j}^{n,m} \\dfrac{d(u_{i}, v_{j})}{n*m}$$\n",
    "\n",
    "em que,\n",
    "\n",
    "$$d(u_{i}, v_{j}) = \\dfrac{u \\cdot v}{||u||\\ ||v||}$$\n",
    "\n",
    "Ou seja, a distância entre os pontos de um cluster será dada pela métrica de distância cosseno e a distância entre os cluster será dada pela média das distâncias entre os pontos de um par de *clusters*. Os pares de clusters a serem agrupados serão aqueles de menor distância.\n",
    "\n",
    "Em seguida, os agrupamentos hierárquicos serão visualizado através de um dendograma."
   ]
  },
  {
   "cell_type": "code",
   "execution_count": 27,
   "metadata": {},
   "outputs": [],
   "source": [
    "# Cria um conjunto de palavras considerando as de referência juntamente com as suas n mais similares\n",
    "def sampleWords(referenceWords, wordVecs, n = 5):\n",
    "    sample = set()\n",
    "    for word in referenceWords:\n",
    "        sample.add(word)\n",
    "        similarityContextScores = wordsSimilarity(word, wordVecs, n)\n",
    "        for context, _ in similarityContextScores:\n",
    "            sample.add(context)\n",
    "            \n",
    "    return sample"
   ]
  },
  {
   "cell_type": "code",
   "execution_count": 28,
   "metadata": {},
   "outputs": [],
   "source": [
    "# Escolhe as palavras que serão usadas como referência para obter uma amostra\n",
    "referenceWords = [\n",
    "    'defunto', 'brás', 'romance', 'coimbra', 'flagelos', 'alegria', 'shakespeare', 'homem', 'luxo',\n",
    "    'filósofo', 'festa', 'olhos', 'ontem', 'guerra', 'ensino', 'leitor'\n",
    "]\n",
    "\n",
    "sample = sampleWords(referenceWords, wordVecs)\n",
    "\n",
    "# Obtem os respectivos Word Embeddings\n",
    "embeddings = [wordVecs[token2index[word]] for word in sample]"
   ]
  },
  {
   "cell_type": "code",
   "execution_count": 29,
   "metadata": {},
   "outputs": [],
   "source": [
    "# # Escolhe as palavras que serão usadas como referência para obter uma amostra\n",
    "# referenceWords = [\n",
    "#     'defunto', 'brás', 'romance', 'coimbra', 'flagelo', 'alegria', 'shakespeare', 'homem',\n",
    "#     'filósofo', 'festa', 'olho', 'ontem', 'guerra', 'faculdade'\n",
    "# ]\n",
    "\n",
    "# sample = sampleWords(referenceWords, wordVecs)\n",
    "\n",
    "# # Obtem os respectivos Word Embeddings\n",
    "# embeddings = [wordVecs[token2index[word]] for word in sample]"
   ]
  },
  {
   "cell_type": "code",
   "execution_count": 30,
   "metadata": {},
   "outputs": [],
   "source": [
    "from scipy.cluster.hierarchy import dendrogram, linkage\n",
    "def plotDendogram(words, embeddings, title = None, xlabel = None, ylabel = None, figsize = (25,5)):\n",
    "    plt.figure(figsize = figsize)\n",
    "    plt.title(title)\n",
    "    plt.xlabel(xlabel)\n",
    "    plt.ylabel(ylabel)\n",
    "    \n",
    "    # clustering do tipo aglomerativo, usando como critério de agrupamento \n",
    "    # a média da distância entre os pontos de um par de cluster, usando o cosseno \n",
    "    # como métrica de distância entre os pontos\n",
    "    link = linkage(embeddings, method = 'average', metric = 'cosine')\n",
    "    \n",
    "    dendrogram(\n",
    "        link,\n",
    "        labels = words,\n",
    "        leaf_rotation=90.,  \n",
    "        leaf_font_size=10.,  \n",
    "        orientation='top',\n",
    "    )\n",
    "    \n",
    "    plt.show()\n",
    "    "
   ]
  },
  {
   "cell_type": "code",
   "execution_count": 31,
   "metadata": {},
   "outputs": [
    {
     "data": {
      "image/png": "[encoded data removed]",
      "text/plain": [
       "<Figure size 1800x360 with 1 Axes>"
      ]
     },
     "metadata": {
      "needs_background": "light"
     },
     "output_type": "display_data"
    }
   ],
   "source": [
    "plotDendogram(list(sample), embeddings, title = 'Dendograma Agrupamento Hierárquico', \n",
    "              ylabel = 'distância', xlabel = 'token')"
   ]
  },
  {
   "cell_type": "code",
   "execution_count": 32,
   "metadata": {},
   "outputs": [
    {
     "data": {
      "text/plain": [
       "10081"
      ]
     },
     "execution_count": 32,
     "metadata": {},
     "output_type": "execute_result"
    }
   ],
   "source": [
    "len(token2index)"
   ]
  }
 ],
 "metadata": {
  "interpreter": {
   "hash": "916dbcbb3f70747c44a77c7bcd40155683ae19c65e1c03b4aa3499c5328201f1"
  },
  "kernelspec": {
   "display_name": "Python 3 (ipykernel)",
   "language": "python",
   "name": "python3"
  },
  "language_info": {
   "codemirror_mode": {
    "name": "ipython",
    "version": 3
   },
   "file_extension": ".py",
   "mimetype": "text/x-python",
   "name": "python",
   "nbconvert_exporter": "python",
   "pygments_lexer": "ipython3",
   "version": "3.8.10"
  }
 },
 "nbformat": 4,
 "nbformat_minor": 2
}
